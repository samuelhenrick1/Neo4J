{
  "nbformat": 4,
  "nbformat_minor": 0,
  "metadata": {
    "colab": {
      "provenance": [],
      "authorship_tag": "ABX9TyNlxTiCoWCJmuYN+hg4nqmv",
      "include_colab_link": true
    },
    "kernelspec": {
      "name": "python3",
      "display_name": "Python 3"
    },
    "language_info": {
      "name": "python"
    }
  },
  "cells": [
    {
      "cell_type": "markdown",
      "metadata": {
        "id": "view-in-github",
        "colab_type": "text"
      },
      "source": [
        "<a href=\"https://colab.research.google.com/github/samuelhenrick1/Neo4J/blob/main/Untitled10.ipynb\" target=\"_parent\"><img src=\"https://colab.research.google.com/assets/colab-badge.svg\" alt=\"Open In Colab\"/></a>"
      ]
    },
    {
      "cell_type": "markdown",
      "source": [
        "Instalando a package da Neo4J:"
      ],
      "metadata": {
        "id": "Geb-YtUb7cwd"
      }
    },
    {
      "cell_type": "code",
      "execution_count": 560,
      "metadata": {
        "colab": {
          "base_uri": "https://localhost:8080/"
        },
        "id": "oE1gYzqyHzyy",
        "outputId": "669818c5-267d-4e52-b1d7-6b59f044e40c"
      },
      "outputs": [
        {
          "output_type": "stream",
          "name": "stdout",
          "text": [
            "Requirement already satisfied: neo4j in /usr/local/lib/python3.10/dist-packages (5.14.1)\n",
            "Requirement already satisfied: pytz in /usr/local/lib/python3.10/dist-packages (from neo4j) (2023.3.post1)\n"
          ]
        }
      ],
      "source": [
        "pip install neo4j"
      ]
    },
    {
      "cell_type": "markdown",
      "source": [
        "Importando a biblioteca GraphDatabase da biuld Neo4J:"
      ],
      "metadata": {
        "id": "8DEbYbwX7jid"
      }
    },
    {
      "cell_type": "code",
      "source": [
        "from neo4j import GraphDatabase"
      ],
      "metadata": {
        "id": "FALCfnfq7i5v"
      },
      "execution_count": 561,
      "outputs": []
    },
    {
      "cell_type": "markdown",
      "source": [
        "Criando a conexão do Neo4J com o Google Collab"
      ],
      "metadata": {
        "id": "rlCmc7YY7wn-"
      }
    },
    {
      "cell_type": "code",
      "source": [
        "uri = \"neo4j+s://01358d2e.databases.neo4j.io\"  # Substitua pelo endereço do seu servidor Neo4j\n",
        "user = \"neo4j\"  # Seu nome de usuário\n",
        "password = \"JDuvJBvbt46T-D9YOSGLBS-asSlZrF1jhmmkWfteueI\"  # Sua senha\n",
        "\n",
        "driver = GraphDatabase.driver(uri, auth=(user, password))\n"
      ],
      "metadata": {
        "id": "9LfBDOdwH13Q"
      },
      "execution_count": 562,
      "outputs": []
    },
    {
      "cell_type": "markdown",
      "source": [
        "Os comandos a seguir:\n",
        "\n",
        "1.   :server status\n",
        "2.   :play start\n",
        "3.   :help\n",
        "4.   :help cypher\n",
        "5.   :server connect\n",
        "6.   :server disconnect\n",
        "7.   :sysinfo\n",
        "8.   :queries\n",
        "\n",
        "É um comando específico do shell de comandos interativos do Neo4j para obter informações de sistema sobre o servidor Neo4j, logo não faz parte da linguagem de consulta Cypher"
      ],
      "metadata": {
        "id": "VZ-02LBz8tN1"
      }
    },
    {
      "cell_type": "markdown",
      "source": [
        "Iniciando nossas consultas comm a linguagem Cypher"
      ],
      "metadata": {
        "id": "bzUWBTqFAiCM"
      }
    },
    {
      "cell_type": "markdown",
      "source": [
        "Aquecimento"
      ],
      "metadata": {
        "id": "bSzrELF3_N7m"
      }
    },
    {
      "cell_type": "markdown",
      "source": [
        "- Verificando o banco de dados"
      ],
      "metadata": {
        "id": "QZo-RTQMnqQw"
      }
    },
    {
      "cell_type": "code",
      "source": [
        "q1 = \"MATCH (x) RETURN x\"\n",
        "\n",
        "# Abrir uma sessão e executar a consulta\n",
        "with driver.session() as session:\n",
        "    result = session.run(q1)\n",
        "\n",
        "    # Processar os resultados\n",
        "    for record in result:\n",
        "        node = record[\"x\"]\n",
        "        print(node)"
      ],
      "metadata": {
        "id": "EpUD3AXxnpIi",
        "colab": {
          "base_uri": "https://localhost:8080/"
        },
        "outputId": "ce9197f6-3235-44dd-9b81-ea396e2334fc"
      },
      "execution_count": 563,
      "outputs": [
        {
          "output_type": "stream",
          "name": "stdout",
          "text": [
            "<Node element_id='4:b53598fd-bb34-4ae1-b7e7-9aeddd5be881:0' labels=frozenset({'Selecao'}) properties={'cores': ['Azul', 'Vermelho', 'Branco'], 'nome': 'Estados Unidos'}>\n",
            "<Node element_id='4:b53598fd-bb34-4ae1-b7e7-9aeddd5be881:1' labels=frozenset({'Selecao'}) properties={'cores': ['Vermelho', 'Branco'], 'nome': 'Japao'}>\n",
            "<Node element_id='4:b53598fd-bb34-4ae1-b7e7-9aeddd5be881:2' labels=frozenset({'Selecao'}) properties={'cores': ['Verde', 'Branco'], 'nome': 'Nigeria'}>\n",
            "<Node element_id='4:b53598fd-bb34-4ae1-b7e7-9aeddd5be881:3' labels=frozenset({'Selecao'}) properties={'cores': ['Vermelho', 'Branco'], 'nome': 'Canada'}>\n",
            "<Node element_id='4:b53598fd-bb34-4ae1-b7e7-9aeddd5be881:4' labels=frozenset({'Selecao'}) properties={'cores': ['Amarelo', 'Vermelho', 'Azul'], 'nome': 'Colombia'}>\n",
            "<Node element_id='4:b53598fd-bb34-4ae1-b7e7-9aeddd5be881:5' labels=frozenset({'Continente'}) properties={'nome': 'America do Sul'}>\n",
            "<Node element_id='4:b53598fd-bb34-4ae1-b7e7-9aeddd5be881:6' labels=frozenset({'Continente'}) properties={'nome': 'America do Norte'}>\n",
            "<Node element_id='4:b53598fd-bb34-4ae1-b7e7-9aeddd5be881:8' labels=frozenset({'Continente'}) properties={'nome': 'Europa'}>\n",
            "<Node element_id='4:b53598fd-bb34-4ae1-b7e7-9aeddd5be881:9' labels=frozenset({'Continente'}) properties={'nome': 'Africa'}>\n",
            "<Node element_id='4:b53598fd-bb34-4ae1-b7e7-9aeddd5be881:10' labels=frozenset({'Continente'}) properties={'nome': 'Asia'}>\n",
            "<Node element_id='4:b53598fd-bb34-4ae1-b7e7-9aeddd5be881:11' labels=frozenset({'Terra'}) properties={'nome': 'Terra'}>\n",
            "<Node element_id='4:b53598fd-bb34-4ae1-b7e7-9aeddd5be881:13' labels=frozenset({'Selecao'}) properties={'cores': ['Verde, Vermelho', 'Amarelo', 'Branco', 'Azul'], 'nome': ' Portugal'}>\n",
            "<Node element_id='4:b53598fd-bb34-4ae1-b7e7-9aeddd5be881:15' labels=frozenset({'Selecao'}) properties={'cores': ['Azul', 'Branco', 'Vermelho'], 'nome': 'Franca'}>\n",
            "<Node element_id='4:b53598fd-bb34-4ae1-b7e7-9aeddd5be881:16' labels=frozenset({'Selecao'}) properties={'cores': ['Azul', 'Branco'], 'nome': 'Argentina'}>\n",
            "<Node element_id='4:b53598fd-bb34-4ae1-b7e7-9aeddd5be881:17' labels=frozenset({'Selecao'}) properties={'cores': ['Vermelho', 'Branco'], 'nome': 'Inglaterra'}>\n",
            "<Node element_id='4:b53598fd-bb34-4ae1-b7e7-9aeddd5be881:18' labels=frozenset({'Selecao'}) properties={'cores': ['Verde', 'Amarelo'], 'nome': 'Brasil'}>\n",
            "<Node element_id='4:b53598fd-bb34-4ae1-b7e7-9aeddd5be881:19' labels=frozenset({'Selecao'}) properties={'cores': ['Verde', 'Vermelho', 'Branco'], 'nome': 'Italia'}>\n",
            "<Node element_id='4:b53598fd-bb34-4ae1-b7e7-9aeddd5be881:20' labels=frozenset({'Selecao'}) properties={'cores': ['Azul', 'Branco'], 'nome': 'Uruguai'}>\n",
            "<Node element_id='4:b53598fd-bb34-4ae1-b7e7-9aeddd5be881:25' labels=frozenset({'Selecao'}) properties={'cores': ['Amarelo', 'Vermelho'], 'nome': 'Espanha'}>\n",
            "<Node element_id='4:b53598fd-bb34-4ae1-b7e7-9aeddd5be881:26' labels=frozenset({'Selecao'}) properties={'cores': ['Amarelo', 'Vermelho', 'Preto'], 'nome': 'Alemanha'}>\n"
          ]
        }
      ]
    },
    {
      "cell_type": "markdown",
      "source": [
        "- Criando um nó chamado \"Person\" com propriedade chave/valor {\"Nome\":\"Alice\"}\n",
        "\n"
      ],
      "metadata": {
        "id": "t4Wzy9gek4Du"
      }
    },
    {
      "cell_type": "code",
      "source": [
        "with driver.session() as session:\n",
        "    session.write_transaction(lambda tx: tx.run(\"CREATE (a:Person {name: 'Alice'})\"))"
      ],
      "metadata": {
        "colab": {
          "base_uri": "https://localhost:8080/"
        },
        "id": "h_9yabUaIUJt",
        "outputId": "18c43925-389e-41b7-f614-0582f79c91c1"
      },
      "execution_count": 564,
      "outputs": [
        {
          "output_type": "stream",
          "name": "stderr",
          "text": [
            "<ipython-input-564-ab132aefd9ab>:2: DeprecationWarning: write_transaction has been renamed to execute_write\n",
            "  session.write_transaction(lambda tx: tx.run(\"CREATE (a:Person {name: 'Alice'})\"))\n"
          ]
        }
      ]
    },
    {
      "cell_type": "markdown",
      "source": [
        "- Verificando o banco de dados"
      ],
      "metadata": {
        "id": "2MvQzObtnuHS"
      }
    },
    {
      "cell_type": "code",
      "source": [
        "q1 = \"MATCH (x) RETURN x\"\n",
        "\n",
        "# Abrir uma sessão e executar a consulta\n",
        "with driver.session() as session:\n",
        "    result = session.run(q1)\n",
        "\n",
        "    # Processar os resultados\n",
        "    for record in result:\n",
        "        node = record[\"x\"]\n",
        "        print(node)"
      ],
      "metadata": {
        "colab": {
          "base_uri": "https://localhost:8080/"
        },
        "id": "bMId4_pqnv52",
        "outputId": "3772c4b5-0f2f-44cb-853a-ec423922fa4a"
      },
      "execution_count": 565,
      "outputs": [
        {
          "output_type": "stream",
          "name": "stdout",
          "text": [
            "<Node element_id='4:b53598fd-bb34-4ae1-b7e7-9aeddd5be881:0' labels=frozenset({'Selecao'}) properties={'cores': ['Azul', 'Vermelho', 'Branco'], 'nome': 'Estados Unidos'}>\n",
            "<Node element_id='4:b53598fd-bb34-4ae1-b7e7-9aeddd5be881:1' labels=frozenset({'Selecao'}) properties={'cores': ['Vermelho', 'Branco'], 'nome': 'Japao'}>\n",
            "<Node element_id='4:b53598fd-bb34-4ae1-b7e7-9aeddd5be881:2' labels=frozenset({'Selecao'}) properties={'cores': ['Verde', 'Branco'], 'nome': 'Nigeria'}>\n",
            "<Node element_id='4:b53598fd-bb34-4ae1-b7e7-9aeddd5be881:3' labels=frozenset({'Selecao'}) properties={'cores': ['Vermelho', 'Branco'], 'nome': 'Canada'}>\n",
            "<Node element_id='4:b53598fd-bb34-4ae1-b7e7-9aeddd5be881:4' labels=frozenset({'Selecao'}) properties={'cores': ['Amarelo', 'Vermelho', 'Azul'], 'nome': 'Colombia'}>\n",
            "<Node element_id='4:b53598fd-bb34-4ae1-b7e7-9aeddd5be881:5' labels=frozenset({'Continente'}) properties={'nome': 'America do Sul'}>\n",
            "<Node element_id='4:b53598fd-bb34-4ae1-b7e7-9aeddd5be881:6' labels=frozenset({'Continente'}) properties={'nome': 'America do Norte'}>\n",
            "<Node element_id='4:b53598fd-bb34-4ae1-b7e7-9aeddd5be881:8' labels=frozenset({'Continente'}) properties={'nome': 'Europa'}>\n",
            "<Node element_id='4:b53598fd-bb34-4ae1-b7e7-9aeddd5be881:9' labels=frozenset({'Continente'}) properties={'nome': 'Africa'}>\n",
            "<Node element_id='4:b53598fd-bb34-4ae1-b7e7-9aeddd5be881:10' labels=frozenset({'Continente'}) properties={'nome': 'Asia'}>\n",
            "<Node element_id='4:b53598fd-bb34-4ae1-b7e7-9aeddd5be881:11' labels=frozenset({'Terra'}) properties={'nome': 'Terra'}>\n",
            "<Node element_id='4:b53598fd-bb34-4ae1-b7e7-9aeddd5be881:12' labels=frozenset({'Person'}) properties={'name': 'Alice'}>\n",
            "<Node element_id='4:b53598fd-bb34-4ae1-b7e7-9aeddd5be881:13' labels=frozenset({'Selecao'}) properties={'cores': ['Verde, Vermelho', 'Amarelo', 'Branco', 'Azul'], 'nome': ' Portugal'}>\n",
            "<Node element_id='4:b53598fd-bb34-4ae1-b7e7-9aeddd5be881:15' labels=frozenset({'Selecao'}) properties={'cores': ['Azul', 'Branco', 'Vermelho'], 'nome': 'Franca'}>\n",
            "<Node element_id='4:b53598fd-bb34-4ae1-b7e7-9aeddd5be881:16' labels=frozenset({'Selecao'}) properties={'cores': ['Azul', 'Branco'], 'nome': 'Argentina'}>\n",
            "<Node element_id='4:b53598fd-bb34-4ae1-b7e7-9aeddd5be881:17' labels=frozenset({'Selecao'}) properties={'cores': ['Vermelho', 'Branco'], 'nome': 'Inglaterra'}>\n",
            "<Node element_id='4:b53598fd-bb34-4ae1-b7e7-9aeddd5be881:18' labels=frozenset({'Selecao'}) properties={'cores': ['Verde', 'Amarelo'], 'nome': 'Brasil'}>\n",
            "<Node element_id='4:b53598fd-bb34-4ae1-b7e7-9aeddd5be881:19' labels=frozenset({'Selecao'}) properties={'cores': ['Verde', 'Vermelho', 'Branco'], 'nome': 'Italia'}>\n",
            "<Node element_id='4:b53598fd-bb34-4ae1-b7e7-9aeddd5be881:20' labels=frozenset({'Selecao'}) properties={'cores': ['Azul', 'Branco'], 'nome': 'Uruguai'}>\n",
            "<Node element_id='4:b53598fd-bb34-4ae1-b7e7-9aeddd5be881:25' labels=frozenset({'Selecao'}) properties={'cores': ['Amarelo', 'Vermelho'], 'nome': 'Espanha'}>\n",
            "<Node element_id='4:b53598fd-bb34-4ae1-b7e7-9aeddd5be881:26' labels=frozenset({'Selecao'}) properties={'cores': ['Amarelo', 'Vermelho', 'Preto'], 'nome': 'Alemanha'}>\n"
          ]
        }
      ]
    },
    {
      "cell_type": "markdown",
      "source": [
        "- Criando no mesmo nó chamado \"Person\" com outra propriedade chave/valor \"Nome\":\"Bob\""
      ],
      "metadata": {
        "id": "8AdR9htsleZl"
      }
    },
    {
      "cell_type": "code",
      "source": [
        "with driver.session() as session:\n",
        "  session.write_transaction(lambda tx: tx.run(\"CREATE (b:Person {name: 'Bob'})\"))"
      ],
      "metadata": {
        "colab": {
          "base_uri": "https://localhost:8080/"
        },
        "id": "ixSKepLa7N5A",
        "outputId": "82912451-a538-468b-ac14-c7fc511ace2e"
      },
      "execution_count": 566,
      "outputs": [
        {
          "output_type": "stream",
          "name": "stderr",
          "text": [
            "<ipython-input-566-174717c5fb03>:2: DeprecationWarning: write_transaction has been renamed to execute_write\n",
            "  session.write_transaction(lambda tx: tx.run(\"CREATE (b:Person {name: 'Bob'})\"))\n"
          ]
        }
      ]
    },
    {
      "cell_type": "markdown",
      "source": [
        "- Verificando o banco de dados"
      ],
      "metadata": {
        "id": "XcEetASgnzuG"
      }
    },
    {
      "cell_type": "code",
      "source": [
        "q1 = \"MATCH (x) RETURN x\"\n",
        "\n",
        "# Abrir uma sessão e executar a consulta\n",
        "with driver.session() as session:\n",
        "    result = session.run(q1)\n",
        "\n",
        "    # Processar os resultados\n",
        "    for record in result:\n",
        "        node = record[\"x\"]\n",
        "        print(node)"
      ],
      "metadata": {
        "colab": {
          "base_uri": "https://localhost:8080/"
        },
        "id": "MuY3hLPAn12r",
        "outputId": "8e537305-5901-43ef-b4b8-b9a06a69ddc3"
      },
      "execution_count": 567,
      "outputs": [
        {
          "output_type": "stream",
          "name": "stdout",
          "text": [
            "<Node element_id='4:b53598fd-bb34-4ae1-b7e7-9aeddd5be881:0' labels=frozenset({'Selecao'}) properties={'cores': ['Azul', 'Vermelho', 'Branco'], 'nome': 'Estados Unidos'}>\n",
            "<Node element_id='4:b53598fd-bb34-4ae1-b7e7-9aeddd5be881:1' labels=frozenset({'Selecao'}) properties={'cores': ['Vermelho', 'Branco'], 'nome': 'Japao'}>\n",
            "<Node element_id='4:b53598fd-bb34-4ae1-b7e7-9aeddd5be881:2' labels=frozenset({'Selecao'}) properties={'cores': ['Verde', 'Branco'], 'nome': 'Nigeria'}>\n",
            "<Node element_id='4:b53598fd-bb34-4ae1-b7e7-9aeddd5be881:3' labels=frozenset({'Selecao'}) properties={'cores': ['Vermelho', 'Branco'], 'nome': 'Canada'}>\n",
            "<Node element_id='4:b53598fd-bb34-4ae1-b7e7-9aeddd5be881:4' labels=frozenset({'Selecao'}) properties={'cores': ['Amarelo', 'Vermelho', 'Azul'], 'nome': 'Colombia'}>\n",
            "<Node element_id='4:b53598fd-bb34-4ae1-b7e7-9aeddd5be881:5' labels=frozenset({'Continente'}) properties={'nome': 'America do Sul'}>\n",
            "<Node element_id='4:b53598fd-bb34-4ae1-b7e7-9aeddd5be881:6' labels=frozenset({'Continente'}) properties={'nome': 'America do Norte'}>\n",
            "<Node element_id='4:b53598fd-bb34-4ae1-b7e7-9aeddd5be881:8' labels=frozenset({'Continente'}) properties={'nome': 'Europa'}>\n",
            "<Node element_id='4:b53598fd-bb34-4ae1-b7e7-9aeddd5be881:9' labels=frozenset({'Continente'}) properties={'nome': 'Africa'}>\n",
            "<Node element_id='4:b53598fd-bb34-4ae1-b7e7-9aeddd5be881:10' labels=frozenset({'Continente'}) properties={'nome': 'Asia'}>\n",
            "<Node element_id='4:b53598fd-bb34-4ae1-b7e7-9aeddd5be881:11' labels=frozenset({'Terra'}) properties={'nome': 'Terra'}>\n",
            "<Node element_id='4:b53598fd-bb34-4ae1-b7e7-9aeddd5be881:12' labels=frozenset({'Person'}) properties={'name': 'Alice'}>\n",
            "<Node element_id='4:b53598fd-bb34-4ae1-b7e7-9aeddd5be881:13' labels=frozenset({'Selecao'}) properties={'cores': ['Verde, Vermelho', 'Amarelo', 'Branco', 'Azul'], 'nome': ' Portugal'}>\n",
            "<Node element_id='4:b53598fd-bb34-4ae1-b7e7-9aeddd5be881:15' labels=frozenset({'Selecao'}) properties={'cores': ['Azul', 'Branco', 'Vermelho'], 'nome': 'Franca'}>\n",
            "<Node element_id='4:b53598fd-bb34-4ae1-b7e7-9aeddd5be881:16' labels=frozenset({'Selecao'}) properties={'cores': ['Azul', 'Branco'], 'nome': 'Argentina'}>\n",
            "<Node element_id='4:b53598fd-bb34-4ae1-b7e7-9aeddd5be881:17' labels=frozenset({'Selecao'}) properties={'cores': ['Vermelho', 'Branco'], 'nome': 'Inglaterra'}>\n",
            "<Node element_id='4:b53598fd-bb34-4ae1-b7e7-9aeddd5be881:18' labels=frozenset({'Selecao'}) properties={'cores': ['Verde', 'Amarelo'], 'nome': 'Brasil'}>\n",
            "<Node element_id='4:b53598fd-bb34-4ae1-b7e7-9aeddd5be881:19' labels=frozenset({'Selecao'}) properties={'cores': ['Verde', 'Vermelho', 'Branco'], 'nome': 'Italia'}>\n",
            "<Node element_id='4:b53598fd-bb34-4ae1-b7e7-9aeddd5be881:20' labels=frozenset({'Selecao'}) properties={'cores': ['Azul', 'Branco'], 'nome': 'Uruguai'}>\n",
            "<Node element_id='4:b53598fd-bb34-4ae1-b7e7-9aeddd5be881:23' labels=frozenset({'Person'}) properties={'name': 'Bob'}>\n",
            "<Node element_id='4:b53598fd-bb34-4ae1-b7e7-9aeddd5be881:25' labels=frozenset({'Selecao'}) properties={'cores': ['Amarelo', 'Vermelho'], 'nome': 'Espanha'}>\n",
            "<Node element_id='4:b53598fd-bb34-4ae1-b7e7-9aeddd5be881:26' labels=frozenset({'Selecao'}) properties={'cores': ['Amarelo', 'Vermelho', 'Preto'], 'nome': 'Alemanha'}>\n"
          ]
        }
      ]
    },
    {
      "cell_type": "markdown",
      "source": [
        "- Criando uma relação baseado no nó \"Person\" que informa que \"Alice\" conheçe \"Bob\""
      ],
      "metadata": {
        "id": "k7LnGmVUl5zz"
      }
    },
    {
      "cell_type": "code",
      "source": [
        "with driver.session() as session:\n",
        "    session.write_transaction(lambda tx: tx.run(\"MATCH (a:Person {name: 'Alice'}), (b:Person {name: 'Bob'}) CREATE (a)-[:KNOWS]->(b)\"))"
      ],
      "metadata": {
        "colab": {
          "base_uri": "https://localhost:8080/"
        },
        "id": "6XE4jz_h7O5U",
        "outputId": "08bef416-ba88-4711-b9fa-5cbe8f55f2ae"
      },
      "execution_count": 568,
      "outputs": [
        {
          "output_type": "stream",
          "name": "stderr",
          "text": [
            "<ipython-input-568-5bc5fb7b816a>:2: DeprecationWarning: write_transaction has been renamed to execute_write\n",
            "  session.write_transaction(lambda tx: tx.run(\"MATCH (a:Person {name: 'Alice'}), (b:Person {name: 'Bob'}) CREATE (a)-[:KNOWS]->(b)\"))\n"
          ]
        }
      ]
    },
    {
      "cell_type": "markdown",
      "source": [
        "- Verificando o banco de dados"
      ],
      "metadata": {
        "id": "HVrcnwKPn6L0"
      }
    },
    {
      "cell_type": "code",
      "source": [
        "q1 = \"MATCH (x) RETURN x\"\n",
        "\n",
        "# Abrir uma sessão e executar a consulta\n",
        "with driver.session() as session:\n",
        "    result = session.run(q1)\n",
        "\n",
        "    # Processar os resultados\n",
        "    for record in result:\n",
        "        node = record[\"x\"]\n",
        "        print(node)"
      ],
      "metadata": {
        "colab": {
          "base_uri": "https://localhost:8080/"
        },
        "id": "i7ZrX9Q1n7oT",
        "outputId": "0d83bbac-dfbe-4897-f204-4a8cfd486f6a"
      },
      "execution_count": 569,
      "outputs": [
        {
          "output_type": "stream",
          "name": "stdout",
          "text": [
            "<Node element_id='4:b53598fd-bb34-4ae1-b7e7-9aeddd5be881:0' labels=frozenset({'Selecao'}) properties={'cores': ['Azul', 'Vermelho', 'Branco'], 'nome': 'Estados Unidos'}>\n",
            "<Node element_id='4:b53598fd-bb34-4ae1-b7e7-9aeddd5be881:1' labels=frozenset({'Selecao'}) properties={'cores': ['Vermelho', 'Branco'], 'nome': 'Japao'}>\n",
            "<Node element_id='4:b53598fd-bb34-4ae1-b7e7-9aeddd5be881:2' labels=frozenset({'Selecao'}) properties={'cores': ['Verde', 'Branco'], 'nome': 'Nigeria'}>\n",
            "<Node element_id='4:b53598fd-bb34-4ae1-b7e7-9aeddd5be881:3' labels=frozenset({'Selecao'}) properties={'cores': ['Vermelho', 'Branco'], 'nome': 'Canada'}>\n",
            "<Node element_id='4:b53598fd-bb34-4ae1-b7e7-9aeddd5be881:4' labels=frozenset({'Selecao'}) properties={'cores': ['Amarelo', 'Vermelho', 'Azul'], 'nome': 'Colombia'}>\n",
            "<Node element_id='4:b53598fd-bb34-4ae1-b7e7-9aeddd5be881:5' labels=frozenset({'Continente'}) properties={'nome': 'America do Sul'}>\n",
            "<Node element_id='4:b53598fd-bb34-4ae1-b7e7-9aeddd5be881:6' labels=frozenset({'Continente'}) properties={'nome': 'America do Norte'}>\n",
            "<Node element_id='4:b53598fd-bb34-4ae1-b7e7-9aeddd5be881:8' labels=frozenset({'Continente'}) properties={'nome': 'Europa'}>\n",
            "<Node element_id='4:b53598fd-bb34-4ae1-b7e7-9aeddd5be881:9' labels=frozenset({'Continente'}) properties={'nome': 'Africa'}>\n",
            "<Node element_id='4:b53598fd-bb34-4ae1-b7e7-9aeddd5be881:10' labels=frozenset({'Continente'}) properties={'nome': 'Asia'}>\n",
            "<Node element_id='4:b53598fd-bb34-4ae1-b7e7-9aeddd5be881:11' labels=frozenset({'Terra'}) properties={'nome': 'Terra'}>\n",
            "<Node element_id='4:b53598fd-bb34-4ae1-b7e7-9aeddd5be881:12' labels=frozenset({'Person'}) properties={'name': 'Alice'}>\n",
            "<Node element_id='4:b53598fd-bb34-4ae1-b7e7-9aeddd5be881:13' labels=frozenset({'Selecao'}) properties={'cores': ['Verde, Vermelho', 'Amarelo', 'Branco', 'Azul'], 'nome': ' Portugal'}>\n",
            "<Node element_id='4:b53598fd-bb34-4ae1-b7e7-9aeddd5be881:15' labels=frozenset({'Selecao'}) properties={'cores': ['Azul', 'Branco', 'Vermelho'], 'nome': 'Franca'}>\n",
            "<Node element_id='4:b53598fd-bb34-4ae1-b7e7-9aeddd5be881:16' labels=frozenset({'Selecao'}) properties={'cores': ['Azul', 'Branco'], 'nome': 'Argentina'}>\n",
            "<Node element_id='4:b53598fd-bb34-4ae1-b7e7-9aeddd5be881:17' labels=frozenset({'Selecao'}) properties={'cores': ['Vermelho', 'Branco'], 'nome': 'Inglaterra'}>\n",
            "<Node element_id='4:b53598fd-bb34-4ae1-b7e7-9aeddd5be881:18' labels=frozenset({'Selecao'}) properties={'cores': ['Verde', 'Amarelo'], 'nome': 'Brasil'}>\n",
            "<Node element_id='4:b53598fd-bb34-4ae1-b7e7-9aeddd5be881:19' labels=frozenset({'Selecao'}) properties={'cores': ['Verde', 'Vermelho', 'Branco'], 'nome': 'Italia'}>\n",
            "<Node element_id='4:b53598fd-bb34-4ae1-b7e7-9aeddd5be881:20' labels=frozenset({'Selecao'}) properties={'cores': ['Azul', 'Branco'], 'nome': 'Uruguai'}>\n",
            "<Node element_id='4:b53598fd-bb34-4ae1-b7e7-9aeddd5be881:23' labels=frozenset({'Person'}) properties={'name': 'Bob'}>\n",
            "<Node element_id='4:b53598fd-bb34-4ae1-b7e7-9aeddd5be881:25' labels=frozenset({'Selecao'}) properties={'cores': ['Amarelo', 'Vermelho'], 'nome': 'Espanha'}>\n",
            "<Node element_id='4:b53598fd-bb34-4ae1-b7e7-9aeddd5be881:26' labels=frozenset({'Selecao'}) properties={'cores': ['Amarelo', 'Vermelho', 'Preto'], 'nome': 'Alemanha'}>\n"
          ]
        }
      ]
    },
    {
      "cell_type": "markdown",
      "source": [
        "- Verificando as relações"
      ],
      "metadata": {
        "id": "_GSyYUtBoFLX"
      }
    },
    {
      "cell_type": "code",
      "source": [
        "q1 = \"MATCH (x)-[r]->() RETURN x, r\"\n",
        "\n",
        "# Abrir uma sessão e executar a consulta\n",
        "with driver.session() as session:\n",
        "    result = session.run(q1)\n",
        "\n",
        "    # Processar os resultados\n",
        "    for record in result:\n",
        "        node = record[\"x\"]\n",
        "        relationship = record[\"r\"]\n",
        "        print(f\"Node: {node}, Relationship: {relationship}\")\n"
      ],
      "metadata": {
        "colab": {
          "base_uri": "https://localhost:8080/"
        },
        "id": "lyjjVQayoB1I",
        "outputId": "c872a8c6-d93b-4289-e5be-97cd23abe7ac"
      },
      "execution_count": 570,
      "outputs": [
        {
          "output_type": "stream",
          "name": "stdout",
          "text": [
            "Node: <Node element_id='4:b53598fd-bb34-4ae1-b7e7-9aeddd5be881:0' labels=frozenset({'Selecao'}) properties={'cores': ['Azul', 'Vermelho', 'Branco'], 'nome': 'Estados Unidos'}>, Relationship: <Relationship element_id='5:b53598fd-bb34-4ae1-b7e7-9aeddd5be881:1152922604118474752' nodes=(<Node element_id='4:b53598fd-bb34-4ae1-b7e7-9aeddd5be881:0' labels=frozenset({'Selecao'}) properties={'cores': ['Azul', 'Vermelho', 'Branco'], 'nome': 'Estados Unidos'}>, <Node element_id='4:b53598fd-bb34-4ae1-b7e7-9aeddd5be881:6' labels=frozenset() properties={}>) type='Pertence' properties={}>\n",
            "Node: <Node element_id='4:b53598fd-bb34-4ae1-b7e7-9aeddd5be881:1' labels=frozenset({'Selecao'}) properties={'cores': ['Vermelho', 'Branco'], 'nome': 'Japao'}>, Relationship: <Relationship element_id='5:b53598fd-bb34-4ae1-b7e7-9aeddd5be881:1152922604118474753' nodes=(<Node element_id='4:b53598fd-bb34-4ae1-b7e7-9aeddd5be881:1' labels=frozenset({'Selecao'}) properties={'cores': ['Vermelho', 'Branco'], 'nome': 'Japao'}>, <Node element_id='4:b53598fd-bb34-4ae1-b7e7-9aeddd5be881:10' labels=frozenset() properties={}>) type='Pertence' properties={}>\n",
            "Node: <Node element_id='4:b53598fd-bb34-4ae1-b7e7-9aeddd5be881:2' labels=frozenset({'Selecao'}) properties={'cores': ['Verde', 'Branco'], 'nome': 'Nigeria'}>, Relationship: <Relationship element_id='5:b53598fd-bb34-4ae1-b7e7-9aeddd5be881:1152922604118474754' nodes=(<Node element_id='4:b53598fd-bb34-4ae1-b7e7-9aeddd5be881:2' labels=frozenset({'Selecao'}) properties={'cores': ['Verde', 'Branco'], 'nome': 'Nigeria'}>, <Node element_id='4:b53598fd-bb34-4ae1-b7e7-9aeddd5be881:9' labels=frozenset() properties={}>) type='Pertence' properties={}>\n",
            "Node: <Node element_id='4:b53598fd-bb34-4ae1-b7e7-9aeddd5be881:3' labels=frozenset({'Selecao'}) properties={'cores': ['Vermelho', 'Branco'], 'nome': 'Canada'}>, Relationship: <Relationship element_id='5:b53598fd-bb34-4ae1-b7e7-9aeddd5be881:1152922604118474755' nodes=(<Node element_id='4:b53598fd-bb34-4ae1-b7e7-9aeddd5be881:3' labels=frozenset({'Selecao'}) properties={'cores': ['Vermelho', 'Branco'], 'nome': 'Canada'}>, <Node element_id='4:b53598fd-bb34-4ae1-b7e7-9aeddd5be881:6' labels=frozenset() properties={}>) type='Pertence' properties={}>\n",
            "Node: <Node element_id='4:b53598fd-bb34-4ae1-b7e7-9aeddd5be881:4' labels=frozenset({'Selecao'}) properties={'cores': ['Amarelo', 'Vermelho', 'Azul'], 'nome': 'Colombia'}>, Relationship: <Relationship element_id='5:b53598fd-bb34-4ae1-b7e7-9aeddd5be881:1152922604118474756' nodes=(<Node element_id='4:b53598fd-bb34-4ae1-b7e7-9aeddd5be881:4' labels=frozenset({'Selecao'}) properties={'cores': ['Amarelo', 'Vermelho', 'Azul'], 'nome': 'Colombia'}>, <Node element_id='4:b53598fd-bb34-4ae1-b7e7-9aeddd5be881:5' labels=frozenset() properties={}>) type='Pertence' properties={}>\n",
            "Node: <Node element_id='4:b53598fd-bb34-4ae1-b7e7-9aeddd5be881:5' labels=frozenset({'Continente'}) properties={'nome': 'America do Sul'}>, Relationship: <Relationship element_id='5:b53598fd-bb34-4ae1-b7e7-9aeddd5be881:1152923703630102533' nodes=(<Node element_id='4:b53598fd-bb34-4ae1-b7e7-9aeddd5be881:5' labels=frozenset({'Continente'}) properties={'nome': 'America do Sul'}>, <Node element_id='4:b53598fd-bb34-4ae1-b7e7-9aeddd5be881:4' labels=frozenset({'Selecao'}) properties={'cores': ['Amarelo', 'Vermelho', 'Azul'], 'nome': 'Colombia'}>) type='Contem' properties={}>\n",
            "Node: <Node element_id='4:b53598fd-bb34-4ae1-b7e7-9aeddd5be881:5' labels=frozenset({'Continente'}) properties={'nome': 'America do Sul'}>, Relationship: <Relationship element_id='5:b53598fd-bb34-4ae1-b7e7-9aeddd5be881:1159679103071158277' nodes=(<Node element_id='4:b53598fd-bb34-4ae1-b7e7-9aeddd5be881:5' labels=frozenset({'Continente'}) properties={'nome': 'America do Sul'}>, <Node element_id='4:b53598fd-bb34-4ae1-b7e7-9aeddd5be881:16' labels=frozenset() properties={}>) type='Contem' properties={}>\n",
            "Node: <Node element_id='4:b53598fd-bb34-4ae1-b7e7-9aeddd5be881:5' labels=frozenset({'Continente'}) properties={'nome': 'America do Sul'}>, Relationship: <Relationship element_id='5:b53598fd-bb34-4ae1-b7e7-9aeddd5be881:1157427303257473029' nodes=(<Node element_id='4:b53598fd-bb34-4ae1-b7e7-9aeddd5be881:5' labels=frozenset({'Continente'}) properties={'nome': 'America do Sul'}>, <Node element_id='4:b53598fd-bb34-4ae1-b7e7-9aeddd5be881:18' labels=frozenset() properties={}>) type='Contem' properties={}>\n",
            "Node: <Node element_id='4:b53598fd-bb34-4ae1-b7e7-9aeddd5be881:5' labels=frozenset({'Continente'}) properties={'nome': 'America do Sul'}>, Relationship: <Relationship element_id='5:b53598fd-bb34-4ae1-b7e7-9aeddd5be881:1161930902884843525' nodes=(<Node element_id='4:b53598fd-bb34-4ae1-b7e7-9aeddd5be881:5' labels=frozenset({'Continente'}) properties={'nome': 'America do Sul'}>, <Node element_id='4:b53598fd-bb34-4ae1-b7e7-9aeddd5be881:20' labels=frozenset() properties={}>) type='Contem' properties={}>\n",
            "Node: <Node element_id='4:b53598fd-bb34-4ae1-b7e7-9aeddd5be881:6' labels=frozenset({'Continente'}) properties={'nome': 'America do Norte'}>, Relationship: <Relationship element_id='5:b53598fd-bb34-4ae1-b7e7-9aeddd5be881:1152923703630102534' nodes=(<Node element_id='4:b53598fd-bb34-4ae1-b7e7-9aeddd5be881:6' labels=frozenset({'Continente'}) properties={'nome': 'America do Norte'}>, <Node element_id='4:b53598fd-bb34-4ae1-b7e7-9aeddd5be881:0' labels=frozenset({'Selecao'}) properties={'cores': ['Azul', 'Vermelho', 'Branco'], 'nome': 'Estados Unidos'}>) type='Contem' properties={}>\n",
            "Node: <Node element_id='4:b53598fd-bb34-4ae1-b7e7-9aeddd5be881:6' labels=frozenset({'Continente'}) properties={'nome': 'America do Norte'}>, Relationship: <Relationship element_id='5:b53598fd-bb34-4ae1-b7e7-9aeddd5be881:1155175503443787782' nodes=(<Node element_id='4:b53598fd-bb34-4ae1-b7e7-9aeddd5be881:6' labels=frozenset({'Continente'}) properties={'nome': 'America do Norte'}>, <Node element_id='4:b53598fd-bb34-4ae1-b7e7-9aeddd5be881:3' labels=frozenset({'Selecao'}) properties={'cores': ['Vermelho', 'Branco'], 'nome': 'Canada'}>) type='Contem' properties={}>\n",
            "Node: <Node element_id='4:b53598fd-bb34-4ae1-b7e7-9aeddd5be881:8' labels=frozenset({'Continente'}) properties={'nome': 'Europa'}>, Relationship: <Relationship element_id='5:b53598fd-bb34-4ae1-b7e7-9aeddd5be881:1164182702698528776' nodes=(<Node element_id='4:b53598fd-bb34-4ae1-b7e7-9aeddd5be881:8' labels=frozenset({'Continente'}) properties={'nome': 'Europa'}>, <Node element_id='4:b53598fd-bb34-4ae1-b7e7-9aeddd5be881:13' labels=frozenset() properties={}>) type='Contem' properties={}>\n",
            "Node: <Node element_id='4:b53598fd-bb34-4ae1-b7e7-9aeddd5be881:8' labels=frozenset({'Continente'}) properties={'nome': 'Europa'}>, Relationship: <Relationship element_id='5:b53598fd-bb34-4ae1-b7e7-9aeddd5be881:1152923703630102536' nodes=(<Node element_id='4:b53598fd-bb34-4ae1-b7e7-9aeddd5be881:8' labels=frozenset({'Continente'}) properties={'nome': 'Europa'}>, <Node element_id='4:b53598fd-bb34-4ae1-b7e7-9aeddd5be881:15' labels=frozenset() properties={}>) type='Contem' properties={}>\n",
            "Node: <Node element_id='4:b53598fd-bb34-4ae1-b7e7-9aeddd5be881:8' labels=frozenset({'Continente'}) properties={'nome': 'Europa'}>, Relationship: <Relationship element_id='5:b53598fd-bb34-4ae1-b7e7-9aeddd5be881:1159679103071158280' nodes=(<Node element_id='4:b53598fd-bb34-4ae1-b7e7-9aeddd5be881:8' labels=frozenset({'Continente'}) properties={'nome': 'Europa'}>, <Node element_id='4:b53598fd-bb34-4ae1-b7e7-9aeddd5be881:17' labels=frozenset() properties={}>) type='Contem' properties={}>\n",
            "Node: <Node element_id='4:b53598fd-bb34-4ae1-b7e7-9aeddd5be881:8' labels=frozenset({'Continente'}) properties={'nome': 'Europa'}>, Relationship: <Relationship element_id='5:b53598fd-bb34-4ae1-b7e7-9aeddd5be881:1161930902884843528' nodes=(<Node element_id='4:b53598fd-bb34-4ae1-b7e7-9aeddd5be881:8' labels=frozenset({'Continente'}) properties={'nome': 'Europa'}>, <Node element_id='4:b53598fd-bb34-4ae1-b7e7-9aeddd5be881:19' labels=frozenset() properties={}>) type='Contem' properties={}>\n",
            "Node: <Node element_id='4:b53598fd-bb34-4ae1-b7e7-9aeddd5be881:8' labels=frozenset({'Continente'}) properties={'nome': 'Europa'}>, Relationship: <Relationship element_id='5:b53598fd-bb34-4ae1-b7e7-9aeddd5be881:1155175503443787784' nodes=(<Node element_id='4:b53598fd-bb34-4ae1-b7e7-9aeddd5be881:8' labels=frozenset({'Continente'}) properties={'nome': 'Europa'}>, <Node element_id='4:b53598fd-bb34-4ae1-b7e7-9aeddd5be881:25' labels=frozenset() properties={}>) type='Contem' properties={}>\n",
            "Node: <Node element_id='4:b53598fd-bb34-4ae1-b7e7-9aeddd5be881:8' labels=frozenset({'Continente'}) properties={'nome': 'Europa'}>, Relationship: <Relationship element_id='5:b53598fd-bb34-4ae1-b7e7-9aeddd5be881:1157427303257473032' nodes=(<Node element_id='4:b53598fd-bb34-4ae1-b7e7-9aeddd5be881:8' labels=frozenset({'Continente'}) properties={'nome': 'Europa'}>, <Node element_id='4:b53598fd-bb34-4ae1-b7e7-9aeddd5be881:26' labels=frozenset() properties={}>) type='Contem' properties={}>\n",
            "Node: <Node element_id='4:b53598fd-bb34-4ae1-b7e7-9aeddd5be881:9' labels=frozenset({'Continente'}) properties={'nome': 'Africa'}>, Relationship: <Relationship element_id='5:b53598fd-bb34-4ae1-b7e7-9aeddd5be881:1152923703630102537' nodes=(<Node element_id='4:b53598fd-bb34-4ae1-b7e7-9aeddd5be881:9' labels=frozenset({'Continente'}) properties={'nome': 'Africa'}>, <Node element_id='4:b53598fd-bb34-4ae1-b7e7-9aeddd5be881:2' labels=frozenset({'Selecao'}) properties={'cores': ['Verde', 'Branco'], 'nome': 'Nigeria'}>) type='Contem' properties={}>\n",
            "Node: <Node element_id='4:b53598fd-bb34-4ae1-b7e7-9aeddd5be881:10' labels=frozenset({'Continente'}) properties={'nome': 'Asia'}>, Relationship: <Relationship element_id='5:b53598fd-bb34-4ae1-b7e7-9aeddd5be881:1152923703630102538' nodes=(<Node element_id='4:b53598fd-bb34-4ae1-b7e7-9aeddd5be881:10' labels=frozenset({'Continente'}) properties={'nome': 'Asia'}>, <Node element_id='4:b53598fd-bb34-4ae1-b7e7-9aeddd5be881:1' labels=frozenset({'Selecao'}) properties={'cores': ['Vermelho', 'Branco'], 'nome': 'Japao'}>) type='Contem' properties={}>\n",
            "Node: <Node element_id='4:b53598fd-bb34-4ae1-b7e7-9aeddd5be881:11' labels=frozenset({'Terra'}) properties={'nome': 'Terra'}>, Relationship: <Relationship element_id='5:b53598fd-bb34-4ae1-b7e7-9aeddd5be881:1152924803141730315' nodes=(<Node element_id='4:b53598fd-bb34-4ae1-b7e7-9aeddd5be881:11' labels=frozenset({'Terra'}) properties={'nome': 'Terra'}>, <Node element_id='4:b53598fd-bb34-4ae1-b7e7-9aeddd5be881:5' labels=frozenset({'Continente'}) properties={'nome': 'America do Sul'}>) type='CONTÉM' properties={}>\n",
            "Node: <Node element_id='4:b53598fd-bb34-4ae1-b7e7-9aeddd5be881:11' labels=frozenset({'Terra'}) properties={'nome': 'Terra'}>, Relationship: <Relationship element_id='5:b53598fd-bb34-4ae1-b7e7-9aeddd5be881:1155176602955415563' nodes=(<Node element_id='4:b53598fd-bb34-4ae1-b7e7-9aeddd5be881:11' labels=frozenset({'Terra'}) properties={'nome': 'Terra'}>, <Node element_id='4:b53598fd-bb34-4ae1-b7e7-9aeddd5be881:6' labels=frozenset({'Continente'}) properties={'nome': 'America do Norte'}>) type='CONTÉM' properties={}>\n",
            "Node: <Node element_id='4:b53598fd-bb34-4ae1-b7e7-9aeddd5be881:11' labels=frozenset({'Terra'}) properties={'nome': 'Terra'}>, Relationship: <Relationship element_id='5:b53598fd-bb34-4ae1-b7e7-9aeddd5be881:1157428402769100811' nodes=(<Node element_id='4:b53598fd-bb34-4ae1-b7e7-9aeddd5be881:11' labels=frozenset({'Terra'}) properties={'nome': 'Terra'}>, <Node element_id='4:b53598fd-bb34-4ae1-b7e7-9aeddd5be881:8' labels=frozenset({'Continente'}) properties={'nome': 'Europa'}>) type='CONTÉM' properties={}>\n",
            "Node: <Node element_id='4:b53598fd-bb34-4ae1-b7e7-9aeddd5be881:11' labels=frozenset({'Terra'}) properties={'nome': 'Terra'}>, Relationship: <Relationship element_id='5:b53598fd-bb34-4ae1-b7e7-9aeddd5be881:1159680202582786059' nodes=(<Node element_id='4:b53598fd-bb34-4ae1-b7e7-9aeddd5be881:11' labels=frozenset({'Terra'}) properties={'nome': 'Terra'}>, <Node element_id='4:b53598fd-bb34-4ae1-b7e7-9aeddd5be881:9' labels=frozenset({'Continente'}) properties={'nome': 'Africa'}>) type='CONTÉM' properties={}>\n",
            "Node: <Node element_id='4:b53598fd-bb34-4ae1-b7e7-9aeddd5be881:11' labels=frozenset({'Terra'}) properties={'nome': 'Terra'}>, Relationship: <Relationship element_id='5:b53598fd-bb34-4ae1-b7e7-9aeddd5be881:1161932002396471307' nodes=(<Node element_id='4:b53598fd-bb34-4ae1-b7e7-9aeddd5be881:11' labels=frozenset({'Terra'}) properties={'nome': 'Terra'}>, <Node element_id='4:b53598fd-bb34-4ae1-b7e7-9aeddd5be881:10' labels=frozenset({'Continente'}) properties={'nome': 'Asia'}>) type='CONTÉM' properties={}>\n",
            "Node: <Node element_id='4:b53598fd-bb34-4ae1-b7e7-9aeddd5be881:12' labels=frozenset({'Person'}) properties={'name': 'Alice'}>, Relationship: <Relationship element_id='5:b53598fd-bb34-4ae1-b7e7-9aeddd5be881:1152921504606846988' nodes=(<Node element_id='4:b53598fd-bb34-4ae1-b7e7-9aeddd5be881:12' labels=frozenset({'Person'}) properties={'name': 'Alice'}>, <Node element_id='4:b53598fd-bb34-4ae1-b7e7-9aeddd5be881:23' labels=frozenset() properties={}>) type='KNOWS' properties={}>\n",
            "Node: <Node element_id='4:b53598fd-bb34-4ae1-b7e7-9aeddd5be881:13' labels=frozenset({'Selecao'}) properties={'cores': ['Verde, Vermelho', 'Amarelo', 'Branco', 'Azul'], 'nome': ' Portugal'}>, Relationship: <Relationship element_id='5:b53598fd-bb34-4ae1-b7e7-9aeddd5be881:1152922604118474765' nodes=(<Node element_id='4:b53598fd-bb34-4ae1-b7e7-9aeddd5be881:13' labels=frozenset({'Selecao'}) properties={'cores': ['Verde, Vermelho', 'Amarelo', 'Branco', 'Azul'], 'nome': ' Portugal'}>, <Node element_id='4:b53598fd-bb34-4ae1-b7e7-9aeddd5be881:8' labels=frozenset({'Continente'}) properties={'nome': 'Europa'}>) type='Pertence' properties={}>\n",
            "Node: <Node element_id='4:b53598fd-bb34-4ae1-b7e7-9aeddd5be881:15' labels=frozenset({'Selecao'}) properties={'cores': ['Azul', 'Branco', 'Vermelho'], 'nome': 'Franca'}>, Relationship: <Relationship element_id='5:b53598fd-bb34-4ae1-b7e7-9aeddd5be881:1152922604118474767' nodes=(<Node element_id='4:b53598fd-bb34-4ae1-b7e7-9aeddd5be881:15' labels=frozenset({'Selecao'}) properties={'cores': ['Azul', 'Branco', 'Vermelho'], 'nome': 'Franca'}>, <Node element_id='4:b53598fd-bb34-4ae1-b7e7-9aeddd5be881:8' labels=frozenset({'Continente'}) properties={'nome': 'Europa'}>) type='Pertence' properties={}>\n",
            "Node: <Node element_id='4:b53598fd-bb34-4ae1-b7e7-9aeddd5be881:16' labels=frozenset({'Selecao'}) properties={'cores': ['Azul', 'Branco'], 'nome': 'Argentina'}>, Relationship: <Relationship element_id='5:b53598fd-bb34-4ae1-b7e7-9aeddd5be881:1152922604118474768' nodes=(<Node element_id='4:b53598fd-bb34-4ae1-b7e7-9aeddd5be881:16' labels=frozenset({'Selecao'}) properties={'cores': ['Azul', 'Branco'], 'nome': 'Argentina'}>, <Node element_id='4:b53598fd-bb34-4ae1-b7e7-9aeddd5be881:5' labels=frozenset({'Continente'}) properties={'nome': 'America do Sul'}>) type='Pertence' properties={}>\n",
            "Node: <Node element_id='4:b53598fd-bb34-4ae1-b7e7-9aeddd5be881:17' labels=frozenset({'Selecao'}) properties={'cores': ['Vermelho', 'Branco'], 'nome': 'Inglaterra'}>, Relationship: <Relationship element_id='5:b53598fd-bb34-4ae1-b7e7-9aeddd5be881:1152922604118474769' nodes=(<Node element_id='4:b53598fd-bb34-4ae1-b7e7-9aeddd5be881:17' labels=frozenset({'Selecao'}) properties={'cores': ['Vermelho', 'Branco'], 'nome': 'Inglaterra'}>, <Node element_id='4:b53598fd-bb34-4ae1-b7e7-9aeddd5be881:8' labels=frozenset({'Continente'}) properties={'nome': 'Europa'}>) type='Pertence' properties={}>\n",
            "Node: <Node element_id='4:b53598fd-bb34-4ae1-b7e7-9aeddd5be881:18' labels=frozenset({'Selecao'}) properties={'cores': ['Verde', 'Amarelo'], 'nome': 'Brasil'}>, Relationship: <Relationship element_id='5:b53598fd-bb34-4ae1-b7e7-9aeddd5be881:1152922604118474770' nodes=(<Node element_id='4:b53598fd-bb34-4ae1-b7e7-9aeddd5be881:18' labels=frozenset({'Selecao'}) properties={'cores': ['Verde', 'Amarelo'], 'nome': 'Brasil'}>, <Node element_id='4:b53598fd-bb34-4ae1-b7e7-9aeddd5be881:5' labels=frozenset({'Continente'}) properties={'nome': 'America do Sul'}>) type='Pertence' properties={}>\n",
            "Node: <Node element_id='4:b53598fd-bb34-4ae1-b7e7-9aeddd5be881:19' labels=frozenset({'Selecao'}) properties={'cores': ['Verde', 'Vermelho', 'Branco'], 'nome': 'Italia'}>, Relationship: <Relationship element_id='5:b53598fd-bb34-4ae1-b7e7-9aeddd5be881:1152922604118474771' nodes=(<Node element_id='4:b53598fd-bb34-4ae1-b7e7-9aeddd5be881:19' labels=frozenset({'Selecao'}) properties={'cores': ['Verde', 'Vermelho', 'Branco'], 'nome': 'Italia'}>, <Node element_id='4:b53598fd-bb34-4ae1-b7e7-9aeddd5be881:8' labels=frozenset({'Continente'}) properties={'nome': 'Europa'}>) type='Pertence' properties={}>\n",
            "Node: <Node element_id='4:b53598fd-bb34-4ae1-b7e7-9aeddd5be881:20' labels=frozenset({'Selecao'}) properties={'cores': ['Azul', 'Branco'], 'nome': 'Uruguai'}>, Relationship: <Relationship element_id='5:b53598fd-bb34-4ae1-b7e7-9aeddd5be881:1152922604118474772' nodes=(<Node element_id='4:b53598fd-bb34-4ae1-b7e7-9aeddd5be881:20' labels=frozenset({'Selecao'}) properties={'cores': ['Azul', 'Branco'], 'nome': 'Uruguai'}>, <Node element_id='4:b53598fd-bb34-4ae1-b7e7-9aeddd5be881:5' labels=frozenset({'Continente'}) properties={'nome': 'America do Sul'}>) type='Pertence' properties={}>\n",
            "Node: <Node element_id='4:b53598fd-bb34-4ae1-b7e7-9aeddd5be881:25' labels=frozenset({'Selecao'}) properties={'cores': ['Amarelo', 'Vermelho'], 'nome': 'Espanha'}>, Relationship: <Relationship element_id='5:b53598fd-bb34-4ae1-b7e7-9aeddd5be881:1152922604118474777' nodes=(<Node element_id='4:b53598fd-bb34-4ae1-b7e7-9aeddd5be881:25' labels=frozenset({'Selecao'}) properties={'cores': ['Amarelo', 'Vermelho'], 'nome': 'Espanha'}>, <Node element_id='4:b53598fd-bb34-4ae1-b7e7-9aeddd5be881:8' labels=frozenset({'Continente'}) properties={'nome': 'Europa'}>) type='Pertence' properties={}>\n",
            "Node: <Node element_id='4:b53598fd-bb34-4ae1-b7e7-9aeddd5be881:26' labels=frozenset({'Selecao'}) properties={'cores': ['Amarelo', 'Vermelho', 'Preto'], 'nome': 'Alemanha'}>, Relationship: <Relationship element_id='5:b53598fd-bb34-4ae1-b7e7-9aeddd5be881:1152922604118474778' nodes=(<Node element_id='4:b53598fd-bb34-4ae1-b7e7-9aeddd5be881:26' labels=frozenset({'Selecao'}) properties={'cores': ['Amarelo', 'Vermelho', 'Preto'], 'nome': 'Alemanha'}>, <Node element_id='4:b53598fd-bb34-4ae1-b7e7-9aeddd5be881:8' labels=frozenset({'Continente'}) properties={'nome': 'Europa'}>) type='Pertence' properties={}>\n"
          ]
        }
      ]
    },
    {
      "cell_type": "markdown",
      "source": [
        "- Remove todas as relações do node \"Person\""
      ],
      "metadata": {
        "id": "Vk-tfcPrmE1Q"
      }
    },
    {
      "cell_type": "code",
      "source": [
        "with driver.session() as session:\n",
        "    session.write_transaction(lambda tx: tx.run(\"MATCH (:Person)-[r]-() DELETE r\"))"
      ],
      "metadata": {
        "colab": {
          "base_uri": "https://localhost:8080/"
        },
        "id": "RV8ZLGmJ3aze",
        "outputId": "0c8fd05f-c17a-4d4c-bfb7-2b898e6e896b"
      },
      "execution_count": 571,
      "outputs": [
        {
          "output_type": "stream",
          "name": "stderr",
          "text": [
            "<ipython-input-571-aee2e3af2c19>:2: DeprecationWarning: write_transaction has been renamed to execute_write\n",
            "  session.write_transaction(lambda tx: tx.run(\"MATCH (:Person)-[r]-() DELETE r\"))\n"
          ]
        }
      ]
    },
    {
      "cell_type": "markdown",
      "source": [
        "- Remove o node \"Person\" e as propriedades contidas no node"
      ],
      "metadata": {
        "id": "RreTAGIFmrAP"
      }
    },
    {
      "cell_type": "code",
      "source": [
        "with driver.session() as session:\n",
        "    session.write_transaction(lambda tx: tx.run(\"MATCH (m:Person) DELETE m\"))"
      ],
      "metadata": {
        "colab": {
          "base_uri": "https://localhost:8080/"
        },
        "id": "r8F9QE_t4mCr",
        "outputId": "aff837db-957c-43d3-bdc1-d2ed9b9e889b"
      },
      "execution_count": 572,
      "outputs": [
        {
          "output_type": "stream",
          "name": "stderr",
          "text": [
            "<ipython-input-572-432c71c92727>:2: DeprecationWarning: write_transaction has been renamed to execute_write\n",
            "  session.write_transaction(lambda tx: tx.run(\"MATCH (m:Person) DELETE m\"))\n"
          ]
        }
      ]
    },
    {
      "cell_type": "markdown",
      "source": [
        "- Verificando o banco de dados depois de deletar as coisas:"
      ],
      "metadata": {
        "id": "qD0m-Tj6njgh"
      }
    },
    {
      "cell_type": "code",
      "source": [
        "q1 = \"MATCH (x) RETURN x\"\n",
        "\n",
        "# Abrir uma sessão e executar a consulta\n",
        "with driver.session() as session:\n",
        "    result = session.run(q1)\n",
        "\n",
        "    # Processar os resultados\n",
        "    for record in result:\n",
        "        node = record[\"x\"]\n",
        "        print(node)"
      ],
      "metadata": {
        "id": "VOeJ9CG1nnKm",
        "colab": {
          "base_uri": "https://localhost:8080/"
        },
        "outputId": "ad8d3c0f-31e8-43de-fc3b-df9fa500410d"
      },
      "execution_count": 573,
      "outputs": [
        {
          "output_type": "stream",
          "name": "stdout",
          "text": [
            "<Node element_id='4:b53598fd-bb34-4ae1-b7e7-9aeddd5be881:0' labels=frozenset({'Selecao'}) properties={'cores': ['Azul', 'Vermelho', 'Branco'], 'nome': 'Estados Unidos'}>\n",
            "<Node element_id='4:b53598fd-bb34-4ae1-b7e7-9aeddd5be881:1' labels=frozenset({'Selecao'}) properties={'cores': ['Vermelho', 'Branco'], 'nome': 'Japao'}>\n",
            "<Node element_id='4:b53598fd-bb34-4ae1-b7e7-9aeddd5be881:2' labels=frozenset({'Selecao'}) properties={'cores': ['Verde', 'Branco'], 'nome': 'Nigeria'}>\n",
            "<Node element_id='4:b53598fd-bb34-4ae1-b7e7-9aeddd5be881:3' labels=frozenset({'Selecao'}) properties={'cores': ['Vermelho', 'Branco'], 'nome': 'Canada'}>\n",
            "<Node element_id='4:b53598fd-bb34-4ae1-b7e7-9aeddd5be881:4' labels=frozenset({'Selecao'}) properties={'cores': ['Amarelo', 'Vermelho', 'Azul'], 'nome': 'Colombia'}>\n",
            "<Node element_id='4:b53598fd-bb34-4ae1-b7e7-9aeddd5be881:5' labels=frozenset({'Continente'}) properties={'nome': 'America do Sul'}>\n",
            "<Node element_id='4:b53598fd-bb34-4ae1-b7e7-9aeddd5be881:6' labels=frozenset({'Continente'}) properties={'nome': 'America do Norte'}>\n",
            "<Node element_id='4:b53598fd-bb34-4ae1-b7e7-9aeddd5be881:8' labels=frozenset({'Continente'}) properties={'nome': 'Europa'}>\n",
            "<Node element_id='4:b53598fd-bb34-4ae1-b7e7-9aeddd5be881:9' labels=frozenset({'Continente'}) properties={'nome': 'Africa'}>\n",
            "<Node element_id='4:b53598fd-bb34-4ae1-b7e7-9aeddd5be881:10' labels=frozenset({'Continente'}) properties={'nome': 'Asia'}>\n",
            "<Node element_id='4:b53598fd-bb34-4ae1-b7e7-9aeddd5be881:11' labels=frozenset({'Terra'}) properties={'nome': 'Terra'}>\n",
            "<Node element_id='4:b53598fd-bb34-4ae1-b7e7-9aeddd5be881:13' labels=frozenset({'Selecao'}) properties={'cores': ['Verde, Vermelho', 'Amarelo', 'Branco', 'Azul'], 'nome': ' Portugal'}>\n",
            "<Node element_id='4:b53598fd-bb34-4ae1-b7e7-9aeddd5be881:15' labels=frozenset({'Selecao'}) properties={'cores': ['Azul', 'Branco', 'Vermelho'], 'nome': 'Franca'}>\n",
            "<Node element_id='4:b53598fd-bb34-4ae1-b7e7-9aeddd5be881:16' labels=frozenset({'Selecao'}) properties={'cores': ['Azul', 'Branco'], 'nome': 'Argentina'}>\n",
            "<Node element_id='4:b53598fd-bb34-4ae1-b7e7-9aeddd5be881:17' labels=frozenset({'Selecao'}) properties={'cores': ['Vermelho', 'Branco'], 'nome': 'Inglaterra'}>\n",
            "<Node element_id='4:b53598fd-bb34-4ae1-b7e7-9aeddd5be881:18' labels=frozenset({'Selecao'}) properties={'cores': ['Verde', 'Amarelo'], 'nome': 'Brasil'}>\n",
            "<Node element_id='4:b53598fd-bb34-4ae1-b7e7-9aeddd5be881:19' labels=frozenset({'Selecao'}) properties={'cores': ['Verde', 'Vermelho', 'Branco'], 'nome': 'Italia'}>\n",
            "<Node element_id='4:b53598fd-bb34-4ae1-b7e7-9aeddd5be881:20' labels=frozenset({'Selecao'}) properties={'cores': ['Azul', 'Branco'], 'nome': 'Uruguai'}>\n",
            "<Node element_id='4:b53598fd-bb34-4ae1-b7e7-9aeddd5be881:25' labels=frozenset({'Selecao'}) properties={'cores': ['Amarelo', 'Vermelho'], 'nome': 'Espanha'}>\n",
            "<Node element_id='4:b53598fd-bb34-4ae1-b7e7-9aeddd5be881:26' labels=frozenset({'Selecao'}) properties={'cores': ['Amarelo', 'Vermelho', 'Preto'], 'nome': 'Alemanha'}>\n"
          ]
        }
      ]
    },
    {
      "cell_type": "markdown",
      "source": [
        "Agora é pra valer!"
      ],
      "metadata": {
        "id": "phr4ZyUI_Q1k"
      }
    },
    {
      "cell_type": "markdown",
      "source": [
        "- Criando um node"
      ],
      "metadata": {
        "id": "XMYqYTURxRFu"
      }
    },
    {
      "cell_type": "code",
      "source": [
        "with driver.session() as session:\n",
        "    session.write_transaction(lambda tx: tx.run(\"CREATE (node)\"))"
      ],
      "metadata": {
        "colab": {
          "base_uri": "https://localhost:8080/"
        },
        "id": "dgZQxTRPxDkq",
        "outputId": "070f21a5-be5b-49fd-9bcf-3d86f6afbda4"
      },
      "execution_count": 574,
      "outputs": [
        {
          "output_type": "stream",
          "name": "stderr",
          "text": [
            "<ipython-input-574-9c89a750200f>:2: DeprecationWarning: write_transaction has been renamed to execute_write\n",
            "  session.write_transaction(lambda tx: tx.run(\"CREATE (node)\"))\n"
          ]
        }
      ]
    },
    {
      "cell_type": "markdown",
      "source": [
        "- Verificando o node criado"
      ],
      "metadata": {
        "id": "RY2gOq2SxS4h"
      }
    },
    {
      "cell_type": "code",
      "source": [
        "q1 = \"MATCH (x) RETURN x\"\n",
        "\n",
        "# Abrir uma sessão e executar a consulta\n",
        "with driver.session() as session:\n",
        "    result = session.run(q1)\n",
        "\n",
        "    # Processar os resultados\n",
        "    for record in result:\n",
        "        node = record[\"x\"]\n",
        "        print(node)"
      ],
      "metadata": {
        "colab": {
          "base_uri": "https://localhost:8080/"
        },
        "id": "7obgQe5IxNU8",
        "outputId": "4a6104b2-7e55-4945-f376-09b7806b9ac2"
      },
      "execution_count": 575,
      "outputs": [
        {
          "output_type": "stream",
          "name": "stdout",
          "text": [
            "<Node element_id='4:b53598fd-bb34-4ae1-b7e7-9aeddd5be881:0' labels=frozenset({'Selecao'}) properties={'cores': ['Azul', 'Vermelho', 'Branco'], 'nome': 'Estados Unidos'}>\n",
            "<Node element_id='4:b53598fd-bb34-4ae1-b7e7-9aeddd5be881:1' labels=frozenset({'Selecao'}) properties={'cores': ['Vermelho', 'Branco'], 'nome': 'Japao'}>\n",
            "<Node element_id='4:b53598fd-bb34-4ae1-b7e7-9aeddd5be881:2' labels=frozenset({'Selecao'}) properties={'cores': ['Verde', 'Branco'], 'nome': 'Nigeria'}>\n",
            "<Node element_id='4:b53598fd-bb34-4ae1-b7e7-9aeddd5be881:3' labels=frozenset({'Selecao'}) properties={'cores': ['Vermelho', 'Branco'], 'nome': 'Canada'}>\n",
            "<Node element_id='4:b53598fd-bb34-4ae1-b7e7-9aeddd5be881:4' labels=frozenset({'Selecao'}) properties={'cores': ['Amarelo', 'Vermelho', 'Azul'], 'nome': 'Colombia'}>\n",
            "<Node element_id='4:b53598fd-bb34-4ae1-b7e7-9aeddd5be881:5' labels=frozenset({'Continente'}) properties={'nome': 'America do Sul'}>\n",
            "<Node element_id='4:b53598fd-bb34-4ae1-b7e7-9aeddd5be881:6' labels=frozenset({'Continente'}) properties={'nome': 'America do Norte'}>\n",
            "<Node element_id='4:b53598fd-bb34-4ae1-b7e7-9aeddd5be881:7' labels=frozenset() properties={}>\n",
            "<Node element_id='4:b53598fd-bb34-4ae1-b7e7-9aeddd5be881:8' labels=frozenset({'Continente'}) properties={'nome': 'Europa'}>\n",
            "<Node element_id='4:b53598fd-bb34-4ae1-b7e7-9aeddd5be881:9' labels=frozenset({'Continente'}) properties={'nome': 'Africa'}>\n",
            "<Node element_id='4:b53598fd-bb34-4ae1-b7e7-9aeddd5be881:10' labels=frozenset({'Continente'}) properties={'nome': 'Asia'}>\n",
            "<Node element_id='4:b53598fd-bb34-4ae1-b7e7-9aeddd5be881:11' labels=frozenset({'Terra'}) properties={'nome': 'Terra'}>\n",
            "<Node element_id='4:b53598fd-bb34-4ae1-b7e7-9aeddd5be881:13' labels=frozenset({'Selecao'}) properties={'cores': ['Verde, Vermelho', 'Amarelo', 'Branco', 'Azul'], 'nome': ' Portugal'}>\n",
            "<Node element_id='4:b53598fd-bb34-4ae1-b7e7-9aeddd5be881:15' labels=frozenset({'Selecao'}) properties={'cores': ['Azul', 'Branco', 'Vermelho'], 'nome': 'Franca'}>\n",
            "<Node element_id='4:b53598fd-bb34-4ae1-b7e7-9aeddd5be881:16' labels=frozenset({'Selecao'}) properties={'cores': ['Azul', 'Branco'], 'nome': 'Argentina'}>\n",
            "<Node element_id='4:b53598fd-bb34-4ae1-b7e7-9aeddd5be881:17' labels=frozenset({'Selecao'}) properties={'cores': ['Vermelho', 'Branco'], 'nome': 'Inglaterra'}>\n",
            "<Node element_id='4:b53598fd-bb34-4ae1-b7e7-9aeddd5be881:18' labels=frozenset({'Selecao'}) properties={'cores': ['Verde', 'Amarelo'], 'nome': 'Brasil'}>\n",
            "<Node element_id='4:b53598fd-bb34-4ae1-b7e7-9aeddd5be881:19' labels=frozenset({'Selecao'}) properties={'cores': ['Verde', 'Vermelho', 'Branco'], 'nome': 'Italia'}>\n",
            "<Node element_id='4:b53598fd-bb34-4ae1-b7e7-9aeddd5be881:20' labels=frozenset({'Selecao'}) properties={'cores': ['Azul', 'Branco'], 'nome': 'Uruguai'}>\n",
            "<Node element_id='4:b53598fd-bb34-4ae1-b7e7-9aeddd5be881:25' labels=frozenset({'Selecao'}) properties={'cores': ['Amarelo', 'Vermelho'], 'nome': 'Espanha'}>\n",
            "<Node element_id='4:b53598fd-bb34-4ae1-b7e7-9aeddd5be881:26' labels=frozenset({'Selecao'}) properties={'cores': ['Amarelo', 'Vermelho', 'Preto'], 'nome': 'Alemanha'}>\n"
          ]
        }
      ]
    },
    {
      "cell_type": "markdown",
      "source": [
        "- Criando outro node"
      ],
      "metadata": {
        "id": "mrpMg03gIJjL"
      }
    },
    {
      "cell_type": "code",
      "source": [
        "with driver.session() as session:\n",
        "    session.write_transaction(lambda tx: tx.run(\"CREATE (node2)\"))"
      ],
      "metadata": {
        "colab": {
          "base_uri": "https://localhost:8080/"
        },
        "id": "Ah1itSwYIHGq",
        "outputId": "6be77ad5-f108-48d9-d9ff-2ff175baf3d1"
      },
      "execution_count": 576,
      "outputs": [
        {
          "output_type": "stream",
          "name": "stderr",
          "text": [
            "<ipython-input-576-57ccbdd5f4e1>:2: DeprecationWarning: write_transaction has been renamed to execute_write\n",
            "  session.write_transaction(lambda tx: tx.run(\"CREATE (node2)\"))\n"
          ]
        }
      ]
    },
    {
      "cell_type": "markdown",
      "source": [
        "Verificando o node criado:"
      ],
      "metadata": {
        "id": "TvXX_jDkIMgY"
      }
    },
    {
      "cell_type": "code",
      "source": [
        "q1 = \"MATCH (x) RETURN x\"\n",
        "\n",
        "# Abrir uma sessão e executar a consulta\n",
        "with driver.session() as session:\n",
        "    result = session.run(q1)\n",
        "\n",
        "    # Processar os resultados\n",
        "    for record in result:\n",
        "        node = record[\"x\"]\n",
        "        print(node)"
      ],
      "metadata": {
        "colab": {
          "base_uri": "https://localhost:8080/"
        },
        "id": "MsyT85OfIOZw",
        "outputId": "8944bcce-53b3-483b-c3d0-9b9b82edf131"
      },
      "execution_count": 577,
      "outputs": [
        {
          "output_type": "stream",
          "name": "stdout",
          "text": [
            "<Node element_id='4:b53598fd-bb34-4ae1-b7e7-9aeddd5be881:0' labels=frozenset({'Selecao'}) properties={'cores': ['Azul', 'Vermelho', 'Branco'], 'nome': 'Estados Unidos'}>\n",
            "<Node element_id='4:b53598fd-bb34-4ae1-b7e7-9aeddd5be881:1' labels=frozenset({'Selecao'}) properties={'cores': ['Vermelho', 'Branco'], 'nome': 'Japao'}>\n",
            "<Node element_id='4:b53598fd-bb34-4ae1-b7e7-9aeddd5be881:2' labels=frozenset({'Selecao'}) properties={'cores': ['Verde', 'Branco'], 'nome': 'Nigeria'}>\n",
            "<Node element_id='4:b53598fd-bb34-4ae1-b7e7-9aeddd5be881:3' labels=frozenset({'Selecao'}) properties={'cores': ['Vermelho', 'Branco'], 'nome': 'Canada'}>\n",
            "<Node element_id='4:b53598fd-bb34-4ae1-b7e7-9aeddd5be881:4' labels=frozenset({'Selecao'}) properties={'cores': ['Amarelo', 'Vermelho', 'Azul'], 'nome': 'Colombia'}>\n",
            "<Node element_id='4:b53598fd-bb34-4ae1-b7e7-9aeddd5be881:5' labels=frozenset({'Continente'}) properties={'nome': 'America do Sul'}>\n",
            "<Node element_id='4:b53598fd-bb34-4ae1-b7e7-9aeddd5be881:6' labels=frozenset({'Continente'}) properties={'nome': 'America do Norte'}>\n",
            "<Node element_id='4:b53598fd-bb34-4ae1-b7e7-9aeddd5be881:7' labels=frozenset() properties={}>\n",
            "<Node element_id='4:b53598fd-bb34-4ae1-b7e7-9aeddd5be881:8' labels=frozenset({'Continente'}) properties={'nome': 'Europa'}>\n",
            "<Node element_id='4:b53598fd-bb34-4ae1-b7e7-9aeddd5be881:9' labels=frozenset({'Continente'}) properties={'nome': 'Africa'}>\n",
            "<Node element_id='4:b53598fd-bb34-4ae1-b7e7-9aeddd5be881:10' labels=frozenset({'Continente'}) properties={'nome': 'Asia'}>\n",
            "<Node element_id='4:b53598fd-bb34-4ae1-b7e7-9aeddd5be881:11' labels=frozenset({'Terra'}) properties={'nome': 'Terra'}>\n",
            "<Node element_id='4:b53598fd-bb34-4ae1-b7e7-9aeddd5be881:13' labels=frozenset({'Selecao'}) properties={'cores': ['Verde, Vermelho', 'Amarelo', 'Branco', 'Azul'], 'nome': ' Portugal'}>\n",
            "<Node element_id='4:b53598fd-bb34-4ae1-b7e7-9aeddd5be881:15' labels=frozenset({'Selecao'}) properties={'cores': ['Azul', 'Branco', 'Vermelho'], 'nome': 'Franca'}>\n",
            "<Node element_id='4:b53598fd-bb34-4ae1-b7e7-9aeddd5be881:16' labels=frozenset({'Selecao'}) properties={'cores': ['Azul', 'Branco'], 'nome': 'Argentina'}>\n",
            "<Node element_id='4:b53598fd-bb34-4ae1-b7e7-9aeddd5be881:17' labels=frozenset({'Selecao'}) properties={'cores': ['Vermelho', 'Branco'], 'nome': 'Inglaterra'}>\n",
            "<Node element_id='4:b53598fd-bb34-4ae1-b7e7-9aeddd5be881:18' labels=frozenset({'Selecao'}) properties={'cores': ['Verde', 'Amarelo'], 'nome': 'Brasil'}>\n",
            "<Node element_id='4:b53598fd-bb34-4ae1-b7e7-9aeddd5be881:19' labels=frozenset({'Selecao'}) properties={'cores': ['Verde', 'Vermelho', 'Branco'], 'nome': 'Italia'}>\n",
            "<Node element_id='4:b53598fd-bb34-4ae1-b7e7-9aeddd5be881:20' labels=frozenset({'Selecao'}) properties={'cores': ['Azul', 'Branco'], 'nome': 'Uruguai'}>\n",
            "<Node element_id='4:b53598fd-bb34-4ae1-b7e7-9aeddd5be881:24' labels=frozenset() properties={}>\n",
            "<Node element_id='4:b53598fd-bb34-4ae1-b7e7-9aeddd5be881:25' labels=frozenset({'Selecao'}) properties={'cores': ['Amarelo', 'Vermelho'], 'nome': 'Espanha'}>\n",
            "<Node element_id='4:b53598fd-bb34-4ae1-b7e7-9aeddd5be881:26' labels=frozenset({'Selecao'}) properties={'cores': ['Amarelo', 'Vermelho', 'Preto'], 'nome': 'Alemanha'}>\n"
          ]
        }
      ]
    },
    {
      "cell_type": "markdown",
      "source": [
        "- Criando o terceiro node:"
      ],
      "metadata": {
        "id": "i5Tg3MK5IfID"
      }
    },
    {
      "cell_type": "code",
      "source": [
        "with driver.session() as session:\n",
        "    session.write_transaction(lambda tx: tx.run(\"CREATE (node3)\"))"
      ],
      "metadata": {
        "colab": {
          "base_uri": "https://localhost:8080/"
        },
        "id": "hhHpOCUUIhKA",
        "outputId": "96d7f344-c428-4a3d-86e7-0f467cd862e6"
      },
      "execution_count": 578,
      "outputs": [
        {
          "output_type": "stream",
          "name": "stderr",
          "text": [
            "<ipython-input-578-deca2abcac49>:2: DeprecationWarning: write_transaction has been renamed to execute_write\n",
            "  session.write_transaction(lambda tx: tx.run(\"CREATE (node3)\"))\n"
          ]
        }
      ]
    },
    {
      "cell_type": "markdown",
      "source": [
        "- Verificando o que foi criado:"
      ],
      "metadata": {
        "id": "k7i9pVPfInSo"
      }
    },
    {
      "cell_type": "code",
      "source": [
        "q1 = \"MATCH (x) RETURN x\"\n",
        "\n",
        "# Abrir uma sessão e executar a consulta\n",
        "with driver.session() as session:\n",
        "    result = session.run(q1)\n",
        "\n",
        "    # Processar os resultados\n",
        "    for record in result:\n",
        "        node = record[\"x\"]\n",
        "        print(node)"
      ],
      "metadata": {
        "colab": {
          "base_uri": "https://localhost:8080/"
        },
        "id": "UiCi2E_9Ii78",
        "outputId": "a9896ca7-1599-48f9-c189-1609f8723020"
      },
      "execution_count": 579,
      "outputs": [
        {
          "output_type": "stream",
          "name": "stdout",
          "text": [
            "<Node element_id='4:b53598fd-bb34-4ae1-b7e7-9aeddd5be881:0' labels=frozenset({'Selecao'}) properties={'cores': ['Azul', 'Vermelho', 'Branco'], 'nome': 'Estados Unidos'}>\n",
            "<Node element_id='4:b53598fd-bb34-4ae1-b7e7-9aeddd5be881:1' labels=frozenset({'Selecao'}) properties={'cores': ['Vermelho', 'Branco'], 'nome': 'Japao'}>\n",
            "<Node element_id='4:b53598fd-bb34-4ae1-b7e7-9aeddd5be881:2' labels=frozenset({'Selecao'}) properties={'cores': ['Verde', 'Branco'], 'nome': 'Nigeria'}>\n",
            "<Node element_id='4:b53598fd-bb34-4ae1-b7e7-9aeddd5be881:3' labels=frozenset({'Selecao'}) properties={'cores': ['Vermelho', 'Branco'], 'nome': 'Canada'}>\n",
            "<Node element_id='4:b53598fd-bb34-4ae1-b7e7-9aeddd5be881:4' labels=frozenset({'Selecao'}) properties={'cores': ['Amarelo', 'Vermelho', 'Azul'], 'nome': 'Colombia'}>\n",
            "<Node element_id='4:b53598fd-bb34-4ae1-b7e7-9aeddd5be881:5' labels=frozenset({'Continente'}) properties={'nome': 'America do Sul'}>\n",
            "<Node element_id='4:b53598fd-bb34-4ae1-b7e7-9aeddd5be881:6' labels=frozenset({'Continente'}) properties={'nome': 'America do Norte'}>\n",
            "<Node element_id='4:b53598fd-bb34-4ae1-b7e7-9aeddd5be881:7' labels=frozenset() properties={}>\n",
            "<Node element_id='4:b53598fd-bb34-4ae1-b7e7-9aeddd5be881:8' labels=frozenset({'Continente'}) properties={'nome': 'Europa'}>\n",
            "<Node element_id='4:b53598fd-bb34-4ae1-b7e7-9aeddd5be881:9' labels=frozenset({'Continente'}) properties={'nome': 'Africa'}>\n",
            "<Node element_id='4:b53598fd-bb34-4ae1-b7e7-9aeddd5be881:10' labels=frozenset({'Continente'}) properties={'nome': 'Asia'}>\n",
            "<Node element_id='4:b53598fd-bb34-4ae1-b7e7-9aeddd5be881:11' labels=frozenset({'Terra'}) properties={'nome': 'Terra'}>\n",
            "<Node element_id='4:b53598fd-bb34-4ae1-b7e7-9aeddd5be881:13' labels=frozenset({'Selecao'}) properties={'cores': ['Verde, Vermelho', 'Amarelo', 'Branco', 'Azul'], 'nome': ' Portugal'}>\n",
            "<Node element_id='4:b53598fd-bb34-4ae1-b7e7-9aeddd5be881:15' labels=frozenset({'Selecao'}) properties={'cores': ['Azul', 'Branco', 'Vermelho'], 'nome': 'Franca'}>\n",
            "<Node element_id='4:b53598fd-bb34-4ae1-b7e7-9aeddd5be881:16' labels=frozenset({'Selecao'}) properties={'cores': ['Azul', 'Branco'], 'nome': 'Argentina'}>\n",
            "<Node element_id='4:b53598fd-bb34-4ae1-b7e7-9aeddd5be881:17' labels=frozenset({'Selecao'}) properties={'cores': ['Vermelho', 'Branco'], 'nome': 'Inglaterra'}>\n",
            "<Node element_id='4:b53598fd-bb34-4ae1-b7e7-9aeddd5be881:18' labels=frozenset({'Selecao'}) properties={'cores': ['Verde', 'Amarelo'], 'nome': 'Brasil'}>\n",
            "<Node element_id='4:b53598fd-bb34-4ae1-b7e7-9aeddd5be881:19' labels=frozenset({'Selecao'}) properties={'cores': ['Verde', 'Vermelho', 'Branco'], 'nome': 'Italia'}>\n",
            "<Node element_id='4:b53598fd-bb34-4ae1-b7e7-9aeddd5be881:20' labels=frozenset({'Selecao'}) properties={'cores': ['Azul', 'Branco'], 'nome': 'Uruguai'}>\n",
            "<Node element_id='4:b53598fd-bb34-4ae1-b7e7-9aeddd5be881:22' labels=frozenset() properties={}>\n",
            "<Node element_id='4:b53598fd-bb34-4ae1-b7e7-9aeddd5be881:24' labels=frozenset() properties={}>\n",
            "<Node element_id='4:b53598fd-bb34-4ae1-b7e7-9aeddd5be881:25' labels=frozenset({'Selecao'}) properties={'cores': ['Amarelo', 'Vermelho'], 'nome': 'Espanha'}>\n",
            "<Node element_id='4:b53598fd-bb34-4ae1-b7e7-9aeddd5be881:26' labels=frozenset({'Selecao'}) properties={'cores': ['Amarelo', 'Vermelho', 'Preto'], 'nome': 'Alemanha'}>\n"
          ]
        }
      ]
    },
    {
      "cell_type": "markdown",
      "source": [
        "- Criando um node com uma \"Etiqueta / Label\""
      ],
      "metadata": {
        "id": "gyOCqMLGIw1V"
      }
    },
    {
      "cell_type": "code",
      "source": [
        "with driver.session() as session:\n",
        "    session.write_transaction(lambda tx: tx.run(\"CREATE (node:Etiqueta)\"))"
      ],
      "metadata": {
        "colab": {
          "base_uri": "https://localhost:8080/"
        },
        "id": "PrV-g3BZ_UJV",
        "outputId": "9d067506-3811-456d-f1d1-8904186e6dfb"
      },
      "execution_count": 580,
      "outputs": [
        {
          "output_type": "stream",
          "name": "stderr",
          "text": [
            "<ipython-input-580-6066c6f09f49>:2: DeprecationWarning: write_transaction has been renamed to execute_write\n",
            "  session.write_transaction(lambda tx: tx.run(\"CREATE (node:Etiqueta)\"))\n"
          ]
        }
      ]
    },
    {
      "cell_type": "markdown",
      "source": [
        "- Verificando o que foi criado:"
      ],
      "metadata": {
        "id": "2faqn7nxI4QY"
      }
    },
    {
      "cell_type": "code",
      "source": [
        "q1 = \"MATCH (x) RETURN x\"\n",
        "\n",
        "# Abrir uma sessão e executar a consulta\n",
        "with driver.session() as session:\n",
        "    result = session.run(q1)\n",
        "\n",
        "    # Processar os resultados\n",
        "    for record in result:\n",
        "        node = record[\"x\"]\n",
        "        print(node)"
      ],
      "metadata": {
        "colab": {
          "base_uri": "https://localhost:8080/"
        },
        "id": "Fbv3xpsEOIOX",
        "outputId": "ca0baaf0-9516-479a-cd67-cf42ffba4532"
      },
      "execution_count": 581,
      "outputs": [
        {
          "output_type": "stream",
          "name": "stdout",
          "text": [
            "<Node element_id='4:b53598fd-bb34-4ae1-b7e7-9aeddd5be881:0' labels=frozenset({'Selecao'}) properties={'cores': ['Azul', 'Vermelho', 'Branco'], 'nome': 'Estados Unidos'}>\n",
            "<Node element_id='4:b53598fd-bb34-4ae1-b7e7-9aeddd5be881:1' labels=frozenset({'Selecao'}) properties={'cores': ['Vermelho', 'Branco'], 'nome': 'Japao'}>\n",
            "<Node element_id='4:b53598fd-bb34-4ae1-b7e7-9aeddd5be881:2' labels=frozenset({'Selecao'}) properties={'cores': ['Verde', 'Branco'], 'nome': 'Nigeria'}>\n",
            "<Node element_id='4:b53598fd-bb34-4ae1-b7e7-9aeddd5be881:3' labels=frozenset({'Selecao'}) properties={'cores': ['Vermelho', 'Branco'], 'nome': 'Canada'}>\n",
            "<Node element_id='4:b53598fd-bb34-4ae1-b7e7-9aeddd5be881:4' labels=frozenset({'Selecao'}) properties={'cores': ['Amarelo', 'Vermelho', 'Azul'], 'nome': 'Colombia'}>\n",
            "<Node element_id='4:b53598fd-bb34-4ae1-b7e7-9aeddd5be881:5' labels=frozenset({'Continente'}) properties={'nome': 'America do Sul'}>\n",
            "<Node element_id='4:b53598fd-bb34-4ae1-b7e7-9aeddd5be881:6' labels=frozenset({'Continente'}) properties={'nome': 'America do Norte'}>\n",
            "<Node element_id='4:b53598fd-bb34-4ae1-b7e7-9aeddd5be881:7' labels=frozenset() properties={}>\n",
            "<Node element_id='4:b53598fd-bb34-4ae1-b7e7-9aeddd5be881:8' labels=frozenset({'Continente'}) properties={'nome': 'Europa'}>\n",
            "<Node element_id='4:b53598fd-bb34-4ae1-b7e7-9aeddd5be881:9' labels=frozenset({'Continente'}) properties={'nome': 'Africa'}>\n",
            "<Node element_id='4:b53598fd-bb34-4ae1-b7e7-9aeddd5be881:10' labels=frozenset({'Continente'}) properties={'nome': 'Asia'}>\n",
            "<Node element_id='4:b53598fd-bb34-4ae1-b7e7-9aeddd5be881:11' labels=frozenset({'Terra'}) properties={'nome': 'Terra'}>\n",
            "<Node element_id='4:b53598fd-bb34-4ae1-b7e7-9aeddd5be881:13' labels=frozenset({'Selecao'}) properties={'cores': ['Verde, Vermelho', 'Amarelo', 'Branco', 'Azul'], 'nome': ' Portugal'}>\n",
            "<Node element_id='4:b53598fd-bb34-4ae1-b7e7-9aeddd5be881:14' labels=frozenset({'Etiqueta'}) properties={}>\n",
            "<Node element_id='4:b53598fd-bb34-4ae1-b7e7-9aeddd5be881:15' labels=frozenset({'Selecao'}) properties={'cores': ['Azul', 'Branco', 'Vermelho'], 'nome': 'Franca'}>\n",
            "<Node element_id='4:b53598fd-bb34-4ae1-b7e7-9aeddd5be881:16' labels=frozenset({'Selecao'}) properties={'cores': ['Azul', 'Branco'], 'nome': 'Argentina'}>\n",
            "<Node element_id='4:b53598fd-bb34-4ae1-b7e7-9aeddd5be881:17' labels=frozenset({'Selecao'}) properties={'cores': ['Vermelho', 'Branco'], 'nome': 'Inglaterra'}>\n",
            "<Node element_id='4:b53598fd-bb34-4ae1-b7e7-9aeddd5be881:18' labels=frozenset({'Selecao'}) properties={'cores': ['Verde', 'Amarelo'], 'nome': 'Brasil'}>\n",
            "<Node element_id='4:b53598fd-bb34-4ae1-b7e7-9aeddd5be881:19' labels=frozenset({'Selecao'}) properties={'cores': ['Verde', 'Vermelho', 'Branco'], 'nome': 'Italia'}>\n",
            "<Node element_id='4:b53598fd-bb34-4ae1-b7e7-9aeddd5be881:20' labels=frozenset({'Selecao'}) properties={'cores': ['Azul', 'Branco'], 'nome': 'Uruguai'}>\n",
            "<Node element_id='4:b53598fd-bb34-4ae1-b7e7-9aeddd5be881:22' labels=frozenset() properties={}>\n",
            "<Node element_id='4:b53598fd-bb34-4ae1-b7e7-9aeddd5be881:24' labels=frozenset() properties={}>\n",
            "<Node element_id='4:b53598fd-bb34-4ae1-b7e7-9aeddd5be881:25' labels=frozenset({'Selecao'}) properties={'cores': ['Amarelo', 'Vermelho'], 'nome': 'Espanha'}>\n",
            "<Node element_id='4:b53598fd-bb34-4ae1-b7e7-9aeddd5be881:26' labels=frozenset({'Selecao'}) properties={'cores': ['Amarelo', 'Vermelho', 'Preto'], 'nome': 'Alemanha'}>\n"
          ]
        }
      ]
    },
    {
      "cell_type": "markdown",
      "source": [
        "- Criando outro node com outra \"Etiqueta\" / Label"
      ],
      "metadata": {
        "id": "ETuzLrd3I7_d"
      }
    },
    {
      "cell_type": "code",
      "source": [
        "with driver.session() as session:\n",
        "    session.write_transaction(lambda tx: tx.run(\"CREATE (node:Etiqueta2)\"))"
      ],
      "metadata": {
        "colab": {
          "base_uri": "https://localhost:8080/"
        },
        "id": "l9pHKjjVD0C_",
        "outputId": "18897c74-cf76-4d32-b023-c26ae3e66451"
      },
      "execution_count": 582,
      "outputs": [
        {
          "output_type": "stream",
          "name": "stderr",
          "text": [
            "<ipython-input-582-fbfeb081002f>:2: DeprecationWarning: write_transaction has been renamed to execute_write\n",
            "  session.write_transaction(lambda tx: tx.run(\"CREATE (node:Etiqueta2)\"))\n"
          ]
        }
      ]
    },
    {
      "cell_type": "markdown",
      "source": [
        "- Verificando o que foi criado"
      ],
      "metadata": {
        "id": "iflPE2JlJ717"
      }
    },
    {
      "cell_type": "code",
      "source": [
        "q1 = \"MATCH (x) RETURN x\"\n",
        "\n",
        "# Abrir uma sessão e executar a consulta\n",
        "with driver.session() as session:\n",
        "    result = session.run(q1)\n",
        "\n",
        "    # Processar os resultados\n",
        "    for record in result:\n",
        "        node = record[\"x\"]\n",
        "        print(node)"
      ],
      "metadata": {
        "colab": {
          "base_uri": "https://localhost:8080/"
        },
        "id": "9yr0WZ5tOJ9S",
        "outputId": "7636a938-7c91-42f6-cc8d-11a9122451ec"
      },
      "execution_count": 583,
      "outputs": [
        {
          "output_type": "stream",
          "name": "stdout",
          "text": [
            "<Node element_id='4:b53598fd-bb34-4ae1-b7e7-9aeddd5be881:0' labels=frozenset({'Selecao'}) properties={'cores': ['Azul', 'Vermelho', 'Branco'], 'nome': 'Estados Unidos'}>\n",
            "<Node element_id='4:b53598fd-bb34-4ae1-b7e7-9aeddd5be881:1' labels=frozenset({'Selecao'}) properties={'cores': ['Vermelho', 'Branco'], 'nome': 'Japao'}>\n",
            "<Node element_id='4:b53598fd-bb34-4ae1-b7e7-9aeddd5be881:2' labels=frozenset({'Selecao'}) properties={'cores': ['Verde', 'Branco'], 'nome': 'Nigeria'}>\n",
            "<Node element_id='4:b53598fd-bb34-4ae1-b7e7-9aeddd5be881:3' labels=frozenset({'Selecao'}) properties={'cores': ['Vermelho', 'Branco'], 'nome': 'Canada'}>\n",
            "<Node element_id='4:b53598fd-bb34-4ae1-b7e7-9aeddd5be881:4' labels=frozenset({'Selecao'}) properties={'cores': ['Amarelo', 'Vermelho', 'Azul'], 'nome': 'Colombia'}>\n",
            "<Node element_id='4:b53598fd-bb34-4ae1-b7e7-9aeddd5be881:5' labels=frozenset({'Continente'}) properties={'nome': 'America do Sul'}>\n",
            "<Node element_id='4:b53598fd-bb34-4ae1-b7e7-9aeddd5be881:6' labels=frozenset({'Continente'}) properties={'nome': 'America do Norte'}>\n",
            "<Node element_id='4:b53598fd-bb34-4ae1-b7e7-9aeddd5be881:7' labels=frozenset() properties={}>\n",
            "<Node element_id='4:b53598fd-bb34-4ae1-b7e7-9aeddd5be881:8' labels=frozenset({'Continente'}) properties={'nome': 'Europa'}>\n",
            "<Node element_id='4:b53598fd-bb34-4ae1-b7e7-9aeddd5be881:9' labels=frozenset({'Continente'}) properties={'nome': 'Africa'}>\n",
            "<Node element_id='4:b53598fd-bb34-4ae1-b7e7-9aeddd5be881:10' labels=frozenset({'Continente'}) properties={'nome': 'Asia'}>\n",
            "<Node element_id='4:b53598fd-bb34-4ae1-b7e7-9aeddd5be881:11' labels=frozenset({'Terra'}) properties={'nome': 'Terra'}>\n",
            "<Node element_id='4:b53598fd-bb34-4ae1-b7e7-9aeddd5be881:13' labels=frozenset({'Selecao'}) properties={'cores': ['Verde, Vermelho', 'Amarelo', 'Branco', 'Azul'], 'nome': ' Portugal'}>\n",
            "<Node element_id='4:b53598fd-bb34-4ae1-b7e7-9aeddd5be881:14' labels=frozenset({'Etiqueta'}) properties={}>\n",
            "<Node element_id='4:b53598fd-bb34-4ae1-b7e7-9aeddd5be881:15' labels=frozenset({'Selecao'}) properties={'cores': ['Azul', 'Branco', 'Vermelho'], 'nome': 'Franca'}>\n",
            "<Node element_id='4:b53598fd-bb34-4ae1-b7e7-9aeddd5be881:16' labels=frozenset({'Selecao'}) properties={'cores': ['Azul', 'Branco'], 'nome': 'Argentina'}>\n",
            "<Node element_id='4:b53598fd-bb34-4ae1-b7e7-9aeddd5be881:17' labels=frozenset({'Selecao'}) properties={'cores': ['Vermelho', 'Branco'], 'nome': 'Inglaterra'}>\n",
            "<Node element_id='4:b53598fd-bb34-4ae1-b7e7-9aeddd5be881:18' labels=frozenset({'Selecao'}) properties={'cores': ['Verde', 'Amarelo'], 'nome': 'Brasil'}>\n",
            "<Node element_id='4:b53598fd-bb34-4ae1-b7e7-9aeddd5be881:19' labels=frozenset({'Selecao'}) properties={'cores': ['Verde', 'Vermelho', 'Branco'], 'nome': 'Italia'}>\n",
            "<Node element_id='4:b53598fd-bb34-4ae1-b7e7-9aeddd5be881:20' labels=frozenset({'Selecao'}) properties={'cores': ['Azul', 'Branco'], 'nome': 'Uruguai'}>\n",
            "<Node element_id='4:b53598fd-bb34-4ae1-b7e7-9aeddd5be881:21' labels=frozenset({'Etiqueta2'}) properties={}>\n",
            "<Node element_id='4:b53598fd-bb34-4ae1-b7e7-9aeddd5be881:22' labels=frozenset() properties={}>\n",
            "<Node element_id='4:b53598fd-bb34-4ae1-b7e7-9aeddd5be881:24' labels=frozenset() properties={}>\n",
            "<Node element_id='4:b53598fd-bb34-4ae1-b7e7-9aeddd5be881:25' labels=frozenset({'Selecao'}) properties={'cores': ['Amarelo', 'Vermelho'], 'nome': 'Espanha'}>\n",
            "<Node element_id='4:b53598fd-bb34-4ae1-b7e7-9aeddd5be881:26' labels=frozenset({'Selecao'}) properties={'cores': ['Amarelo', 'Vermelho', 'Preto'], 'nome': 'Alemanha'}>\n"
          ]
        }
      ]
    },
    {
      "cell_type": "markdown",
      "source": [
        "- Criando o terceiro node com a label \"Etiqueta\""
      ],
      "metadata": {
        "id": "m-GwXhYHJ-5B"
      }
    },
    {
      "cell_type": "code",
      "source": [
        "with driver.session() as session:\n",
        "    session.write_transaction(lambda tx: tx.run(\"CREATE (node:Etiqueta3)\"))"
      ],
      "metadata": {
        "colab": {
          "base_uri": "https://localhost:8080/"
        },
        "id": "UMqIMOUBFll8",
        "outputId": "ceedbee7-da22-4748-d31e-f6aabe0d6cab"
      },
      "execution_count": 584,
      "outputs": [
        {
          "output_type": "stream",
          "name": "stderr",
          "text": [
            "<ipython-input-584-80ab4b2bb13e>:2: DeprecationWarning: write_transaction has been renamed to execute_write\n",
            "  session.write_transaction(lambda tx: tx.run(\"CREATE (node:Etiqueta3)\"))\n"
          ]
        }
      ]
    },
    {
      "cell_type": "markdown",
      "source": [
        "- Verificando o que foi criado"
      ],
      "metadata": {
        "id": "ImzjTMLpKDX5"
      }
    },
    {
      "cell_type": "code",
      "source": [
        "q1 = \"MATCH (x) RETURN x\"\n",
        "\n",
        "# Abrir uma sessão e executar a consulta\n",
        "with driver.session() as session:\n",
        "    result = session.run(q1)\n",
        "\n",
        "    # Processar os resultados\n",
        "    for record in result:\n",
        "        node = record[\"x\"]\n",
        "        print(node)"
      ],
      "metadata": {
        "colab": {
          "base_uri": "https://localhost:8080/"
        },
        "id": "KK-81PrcOMr8",
        "outputId": "0bc8d609-2fba-417a-972a-ed3a5930eabb"
      },
      "execution_count": 585,
      "outputs": [
        {
          "output_type": "stream",
          "name": "stdout",
          "text": [
            "<Node element_id='4:b53598fd-bb34-4ae1-b7e7-9aeddd5be881:0' labels=frozenset({'Selecao'}) properties={'cores': ['Azul', 'Vermelho', 'Branco'], 'nome': 'Estados Unidos'}>\n",
            "<Node element_id='4:b53598fd-bb34-4ae1-b7e7-9aeddd5be881:1' labels=frozenset({'Selecao'}) properties={'cores': ['Vermelho', 'Branco'], 'nome': 'Japao'}>\n",
            "<Node element_id='4:b53598fd-bb34-4ae1-b7e7-9aeddd5be881:2' labels=frozenset({'Selecao'}) properties={'cores': ['Verde', 'Branco'], 'nome': 'Nigeria'}>\n",
            "<Node element_id='4:b53598fd-bb34-4ae1-b7e7-9aeddd5be881:3' labels=frozenset({'Selecao'}) properties={'cores': ['Vermelho', 'Branco'], 'nome': 'Canada'}>\n",
            "<Node element_id='4:b53598fd-bb34-4ae1-b7e7-9aeddd5be881:4' labels=frozenset({'Selecao'}) properties={'cores': ['Amarelo', 'Vermelho', 'Azul'], 'nome': 'Colombia'}>\n",
            "<Node element_id='4:b53598fd-bb34-4ae1-b7e7-9aeddd5be881:5' labels=frozenset({'Continente'}) properties={'nome': 'America do Sul'}>\n",
            "<Node element_id='4:b53598fd-bb34-4ae1-b7e7-9aeddd5be881:6' labels=frozenset({'Continente'}) properties={'nome': 'America do Norte'}>\n",
            "<Node element_id='4:b53598fd-bb34-4ae1-b7e7-9aeddd5be881:7' labels=frozenset() properties={}>\n",
            "<Node element_id='4:b53598fd-bb34-4ae1-b7e7-9aeddd5be881:8' labels=frozenset({'Continente'}) properties={'nome': 'Europa'}>\n",
            "<Node element_id='4:b53598fd-bb34-4ae1-b7e7-9aeddd5be881:9' labels=frozenset({'Continente'}) properties={'nome': 'Africa'}>\n",
            "<Node element_id='4:b53598fd-bb34-4ae1-b7e7-9aeddd5be881:10' labels=frozenset({'Continente'}) properties={'nome': 'Asia'}>\n",
            "<Node element_id='4:b53598fd-bb34-4ae1-b7e7-9aeddd5be881:11' labels=frozenset({'Terra'}) properties={'nome': 'Terra'}>\n",
            "<Node element_id='4:b53598fd-bb34-4ae1-b7e7-9aeddd5be881:12' labels=frozenset({'Etiqueta3'}) properties={}>\n",
            "<Node element_id='4:b53598fd-bb34-4ae1-b7e7-9aeddd5be881:13' labels=frozenset({'Selecao'}) properties={'cores': ['Verde, Vermelho', 'Amarelo', 'Branco', 'Azul'], 'nome': ' Portugal'}>\n",
            "<Node element_id='4:b53598fd-bb34-4ae1-b7e7-9aeddd5be881:14' labels=frozenset({'Etiqueta'}) properties={}>\n",
            "<Node element_id='4:b53598fd-bb34-4ae1-b7e7-9aeddd5be881:15' labels=frozenset({'Selecao'}) properties={'cores': ['Azul', 'Branco', 'Vermelho'], 'nome': 'Franca'}>\n",
            "<Node element_id='4:b53598fd-bb34-4ae1-b7e7-9aeddd5be881:16' labels=frozenset({'Selecao'}) properties={'cores': ['Azul', 'Branco'], 'nome': 'Argentina'}>\n",
            "<Node element_id='4:b53598fd-bb34-4ae1-b7e7-9aeddd5be881:17' labels=frozenset({'Selecao'}) properties={'cores': ['Vermelho', 'Branco'], 'nome': 'Inglaterra'}>\n",
            "<Node element_id='4:b53598fd-bb34-4ae1-b7e7-9aeddd5be881:18' labels=frozenset({'Selecao'}) properties={'cores': ['Verde', 'Amarelo'], 'nome': 'Brasil'}>\n",
            "<Node element_id='4:b53598fd-bb34-4ae1-b7e7-9aeddd5be881:19' labels=frozenset({'Selecao'}) properties={'cores': ['Verde', 'Vermelho', 'Branco'], 'nome': 'Italia'}>\n",
            "<Node element_id='4:b53598fd-bb34-4ae1-b7e7-9aeddd5be881:20' labels=frozenset({'Selecao'}) properties={'cores': ['Azul', 'Branco'], 'nome': 'Uruguai'}>\n",
            "<Node element_id='4:b53598fd-bb34-4ae1-b7e7-9aeddd5be881:21' labels=frozenset({'Etiqueta2'}) properties={}>\n",
            "<Node element_id='4:b53598fd-bb34-4ae1-b7e7-9aeddd5be881:22' labels=frozenset() properties={}>\n",
            "<Node element_id='4:b53598fd-bb34-4ae1-b7e7-9aeddd5be881:24' labels=frozenset() properties={}>\n",
            "<Node element_id='4:b53598fd-bb34-4ae1-b7e7-9aeddd5be881:25' labels=frozenset({'Selecao'}) properties={'cores': ['Amarelo', 'Vermelho'], 'nome': 'Espanha'}>\n",
            "<Node element_id='4:b53598fd-bb34-4ae1-b7e7-9aeddd5be881:26' labels=frozenset({'Selecao'}) properties={'cores': ['Amarelo', 'Vermelho', 'Preto'], 'nome': 'Alemanha'}>\n"
          ]
        }
      ]
    },
    {
      "cell_type": "markdown",
      "source": [
        "- Criando um node com a label \"Time\""
      ],
      "metadata": {
        "id": "de1Bees-KKso"
      }
    },
    {
      "cell_type": "code",
      "source": [
        "with driver.session() as session:\n",
        "    session.write_transaction(lambda tx: tx.run(\"CREATE (node:Time)\"))"
      ],
      "metadata": {
        "colab": {
          "base_uri": "https://localhost:8080/"
        },
        "id": "bnhBrTHUFtgt",
        "outputId": "e1e20509-a6d2-4ab7-aa70-95b8800c63fd"
      },
      "execution_count": 586,
      "outputs": [
        {
          "output_type": "stream",
          "name": "stderr",
          "text": [
            "<ipython-input-586-87057a771458>:2: DeprecationWarning: write_transaction has been renamed to execute_write\n",
            "  session.write_transaction(lambda tx: tx.run(\"CREATE (node:Time)\"))\n"
          ]
        }
      ]
    },
    {
      "cell_type": "markdown",
      "source": [
        "- Verificando o que foi criado"
      ],
      "metadata": {
        "id": "fACpozPRKPgk"
      }
    },
    {
      "cell_type": "code",
      "source": [
        "q1 = \"MATCH (x) RETURN x\"\n",
        "\n",
        "# Abrir uma sessão e executar a consulta\n",
        "with driver.session() as session:\n",
        "    result = session.run(q1)\n",
        "\n",
        "    # Processar os resultados\n",
        "    for record in result:\n",
        "        node = record[\"x\"]\n",
        "        print(node)"
      ],
      "metadata": {
        "colab": {
          "base_uri": "https://localhost:8080/"
        },
        "id": "7cndRCOXOOQz",
        "outputId": "b32398d5-9d80-4445-e06d-fb11b05f7c1a"
      },
      "execution_count": 587,
      "outputs": [
        {
          "output_type": "stream",
          "name": "stdout",
          "text": [
            "<Node element_id='4:b53598fd-bb34-4ae1-b7e7-9aeddd5be881:0' labels=frozenset({'Selecao'}) properties={'cores': ['Azul', 'Vermelho', 'Branco'], 'nome': 'Estados Unidos'}>\n",
            "<Node element_id='4:b53598fd-bb34-4ae1-b7e7-9aeddd5be881:1' labels=frozenset({'Selecao'}) properties={'cores': ['Vermelho', 'Branco'], 'nome': 'Japao'}>\n",
            "<Node element_id='4:b53598fd-bb34-4ae1-b7e7-9aeddd5be881:2' labels=frozenset({'Selecao'}) properties={'cores': ['Verde', 'Branco'], 'nome': 'Nigeria'}>\n",
            "<Node element_id='4:b53598fd-bb34-4ae1-b7e7-9aeddd5be881:3' labels=frozenset({'Selecao'}) properties={'cores': ['Vermelho', 'Branco'], 'nome': 'Canada'}>\n",
            "<Node element_id='4:b53598fd-bb34-4ae1-b7e7-9aeddd5be881:4' labels=frozenset({'Selecao'}) properties={'cores': ['Amarelo', 'Vermelho', 'Azul'], 'nome': 'Colombia'}>\n",
            "<Node element_id='4:b53598fd-bb34-4ae1-b7e7-9aeddd5be881:5' labels=frozenset({'Continente'}) properties={'nome': 'America do Sul'}>\n",
            "<Node element_id='4:b53598fd-bb34-4ae1-b7e7-9aeddd5be881:6' labels=frozenset({'Continente'}) properties={'nome': 'America do Norte'}>\n",
            "<Node element_id='4:b53598fd-bb34-4ae1-b7e7-9aeddd5be881:7' labels=frozenset() properties={}>\n",
            "<Node element_id='4:b53598fd-bb34-4ae1-b7e7-9aeddd5be881:8' labels=frozenset({'Continente'}) properties={'nome': 'Europa'}>\n",
            "<Node element_id='4:b53598fd-bb34-4ae1-b7e7-9aeddd5be881:9' labels=frozenset({'Continente'}) properties={'nome': 'Africa'}>\n",
            "<Node element_id='4:b53598fd-bb34-4ae1-b7e7-9aeddd5be881:10' labels=frozenset({'Continente'}) properties={'nome': 'Asia'}>\n",
            "<Node element_id='4:b53598fd-bb34-4ae1-b7e7-9aeddd5be881:11' labels=frozenset({'Terra'}) properties={'nome': 'Terra'}>\n",
            "<Node element_id='4:b53598fd-bb34-4ae1-b7e7-9aeddd5be881:12' labels=frozenset({'Etiqueta3'}) properties={}>\n",
            "<Node element_id='4:b53598fd-bb34-4ae1-b7e7-9aeddd5be881:13' labels=frozenset({'Selecao'}) properties={'cores': ['Verde, Vermelho', 'Amarelo', 'Branco', 'Azul'], 'nome': ' Portugal'}>\n",
            "<Node element_id='4:b53598fd-bb34-4ae1-b7e7-9aeddd5be881:14' labels=frozenset({'Etiqueta'}) properties={}>\n",
            "<Node element_id='4:b53598fd-bb34-4ae1-b7e7-9aeddd5be881:15' labels=frozenset({'Selecao'}) properties={'cores': ['Azul', 'Branco', 'Vermelho'], 'nome': 'Franca'}>\n",
            "<Node element_id='4:b53598fd-bb34-4ae1-b7e7-9aeddd5be881:16' labels=frozenset({'Selecao'}) properties={'cores': ['Azul', 'Branco'], 'nome': 'Argentina'}>\n",
            "<Node element_id='4:b53598fd-bb34-4ae1-b7e7-9aeddd5be881:17' labels=frozenset({'Selecao'}) properties={'cores': ['Vermelho', 'Branco'], 'nome': 'Inglaterra'}>\n",
            "<Node element_id='4:b53598fd-bb34-4ae1-b7e7-9aeddd5be881:18' labels=frozenset({'Selecao'}) properties={'cores': ['Verde', 'Amarelo'], 'nome': 'Brasil'}>\n",
            "<Node element_id='4:b53598fd-bb34-4ae1-b7e7-9aeddd5be881:19' labels=frozenset({'Selecao'}) properties={'cores': ['Verde', 'Vermelho', 'Branco'], 'nome': 'Italia'}>\n",
            "<Node element_id='4:b53598fd-bb34-4ae1-b7e7-9aeddd5be881:20' labels=frozenset({'Selecao'}) properties={'cores': ['Azul', 'Branco'], 'nome': 'Uruguai'}>\n",
            "<Node element_id='4:b53598fd-bb34-4ae1-b7e7-9aeddd5be881:21' labels=frozenset({'Etiqueta2'}) properties={}>\n",
            "<Node element_id='4:b53598fd-bb34-4ae1-b7e7-9aeddd5be881:22' labels=frozenset() properties={}>\n",
            "<Node element_id='4:b53598fd-bb34-4ae1-b7e7-9aeddd5be881:23' labels=frozenset({'Time'}) properties={}>\n",
            "<Node element_id='4:b53598fd-bb34-4ae1-b7e7-9aeddd5be881:24' labels=frozenset() properties={}>\n",
            "<Node element_id='4:b53598fd-bb34-4ae1-b7e7-9aeddd5be881:25' labels=frozenset({'Selecao'}) properties={'cores': ['Amarelo', 'Vermelho'], 'nome': 'Espanha'}>\n",
            "<Node element_id='4:b53598fd-bb34-4ae1-b7e7-9aeddd5be881:26' labels=frozenset({'Selecao'}) properties={'cores': ['Amarelo', 'Vermelho', 'Preto'], 'nome': 'Alemanha'}>\n"
          ]
        }
      ]
    },
    {
      "cell_type": "markdown",
      "source": [
        "- Criando duas labels \"Time\" e \"Futebol\" para um node"
      ],
      "metadata": {
        "id": "ofpCWaj0KVQX"
      }
    },
    {
      "cell_type": "code",
      "source": [
        "with driver.session() as session:\n",
        "    session.write_transaction(lambda tx: tx.run(\"CREATE (node5:Time:Futebol)\"))"
      ],
      "metadata": {
        "colab": {
          "base_uri": "https://localhost:8080/"
        },
        "id": "X4R1ZjYkGE1T",
        "outputId": "989ec194-515d-4db3-86cd-1ec4c8081611"
      },
      "execution_count": 588,
      "outputs": [
        {
          "output_type": "stream",
          "name": "stderr",
          "text": [
            "<ipython-input-588-9e2654136416>:2: DeprecationWarning: write_transaction has been renamed to execute_write\n",
            "  session.write_transaction(lambda tx: tx.run(\"CREATE (node5:Time:Futebol)\"))\n"
          ]
        }
      ]
    },
    {
      "cell_type": "markdown",
      "source": [
        "- Verificando o que foi criado"
      ],
      "metadata": {
        "id": "S6QGqFO1Kh5L"
      }
    },
    {
      "cell_type": "code",
      "source": [
        "q1 = \"MATCH (x) RETURN x\"\n",
        "\n",
        "# Abrir uma sessão e executar a consulta\n",
        "with driver.session() as session:\n",
        "    result = session.run(q1)\n",
        "\n",
        "    # Processar os resultados\n",
        "    for record in result:\n",
        "        node = record[\"x\"]\n",
        "        print(node)"
      ],
      "metadata": {
        "colab": {
          "base_uri": "https://localhost:8080/"
        },
        "id": "FtVP0QKgOPf6",
        "outputId": "acfa8bc8-a90c-4619-d647-9ee55628aed2"
      },
      "execution_count": 589,
      "outputs": [
        {
          "output_type": "stream",
          "name": "stdout",
          "text": [
            "<Node element_id='4:b53598fd-bb34-4ae1-b7e7-9aeddd5be881:0' labels=frozenset({'Selecao'}) properties={'cores': ['Azul', 'Vermelho', 'Branco'], 'nome': 'Estados Unidos'}>\n",
            "<Node element_id='4:b53598fd-bb34-4ae1-b7e7-9aeddd5be881:1' labels=frozenset({'Selecao'}) properties={'cores': ['Vermelho', 'Branco'], 'nome': 'Japao'}>\n",
            "<Node element_id='4:b53598fd-bb34-4ae1-b7e7-9aeddd5be881:2' labels=frozenset({'Selecao'}) properties={'cores': ['Verde', 'Branco'], 'nome': 'Nigeria'}>\n",
            "<Node element_id='4:b53598fd-bb34-4ae1-b7e7-9aeddd5be881:3' labels=frozenset({'Selecao'}) properties={'cores': ['Vermelho', 'Branco'], 'nome': 'Canada'}>\n",
            "<Node element_id='4:b53598fd-bb34-4ae1-b7e7-9aeddd5be881:4' labels=frozenset({'Selecao'}) properties={'cores': ['Amarelo', 'Vermelho', 'Azul'], 'nome': 'Colombia'}>\n",
            "<Node element_id='4:b53598fd-bb34-4ae1-b7e7-9aeddd5be881:5' labels=frozenset({'Continente'}) properties={'nome': 'America do Sul'}>\n",
            "<Node element_id='4:b53598fd-bb34-4ae1-b7e7-9aeddd5be881:6' labels=frozenset({'Continente'}) properties={'nome': 'America do Norte'}>\n",
            "<Node element_id='4:b53598fd-bb34-4ae1-b7e7-9aeddd5be881:7' labels=frozenset() properties={}>\n",
            "<Node element_id='4:b53598fd-bb34-4ae1-b7e7-9aeddd5be881:8' labels=frozenset({'Continente'}) properties={'nome': 'Europa'}>\n",
            "<Node element_id='4:b53598fd-bb34-4ae1-b7e7-9aeddd5be881:9' labels=frozenset({'Continente'}) properties={'nome': 'Africa'}>\n",
            "<Node element_id='4:b53598fd-bb34-4ae1-b7e7-9aeddd5be881:10' labels=frozenset({'Continente'}) properties={'nome': 'Asia'}>\n",
            "<Node element_id='4:b53598fd-bb34-4ae1-b7e7-9aeddd5be881:11' labels=frozenset({'Terra'}) properties={'nome': 'Terra'}>\n",
            "<Node element_id='4:b53598fd-bb34-4ae1-b7e7-9aeddd5be881:12' labels=frozenset({'Etiqueta3'}) properties={}>\n",
            "<Node element_id='4:b53598fd-bb34-4ae1-b7e7-9aeddd5be881:13' labels=frozenset({'Selecao'}) properties={'cores': ['Verde, Vermelho', 'Amarelo', 'Branco', 'Azul'], 'nome': ' Portugal'}>\n",
            "<Node element_id='4:b53598fd-bb34-4ae1-b7e7-9aeddd5be881:14' labels=frozenset({'Etiqueta'}) properties={}>\n",
            "<Node element_id='4:b53598fd-bb34-4ae1-b7e7-9aeddd5be881:15' labels=frozenset({'Selecao'}) properties={'cores': ['Azul', 'Branco', 'Vermelho'], 'nome': 'Franca'}>\n",
            "<Node element_id='4:b53598fd-bb34-4ae1-b7e7-9aeddd5be881:16' labels=frozenset({'Selecao'}) properties={'cores': ['Azul', 'Branco'], 'nome': 'Argentina'}>\n",
            "<Node element_id='4:b53598fd-bb34-4ae1-b7e7-9aeddd5be881:17' labels=frozenset({'Selecao'}) properties={'cores': ['Vermelho', 'Branco'], 'nome': 'Inglaterra'}>\n",
            "<Node element_id='4:b53598fd-bb34-4ae1-b7e7-9aeddd5be881:18' labels=frozenset({'Selecao'}) properties={'cores': ['Verde', 'Amarelo'], 'nome': 'Brasil'}>\n",
            "<Node element_id='4:b53598fd-bb34-4ae1-b7e7-9aeddd5be881:19' labels=frozenset({'Selecao'}) properties={'cores': ['Verde', 'Vermelho', 'Branco'], 'nome': 'Italia'}>\n",
            "<Node element_id='4:b53598fd-bb34-4ae1-b7e7-9aeddd5be881:20' labels=frozenset({'Selecao'}) properties={'cores': ['Azul', 'Branco'], 'nome': 'Uruguai'}>\n",
            "<Node element_id='4:b53598fd-bb34-4ae1-b7e7-9aeddd5be881:21' labels=frozenset({'Etiqueta2'}) properties={}>\n",
            "<Node element_id='4:b53598fd-bb34-4ae1-b7e7-9aeddd5be881:22' labels=frozenset() properties={}>\n",
            "<Node element_id='4:b53598fd-bb34-4ae1-b7e7-9aeddd5be881:23' labels=frozenset({'Time'}) properties={}>\n",
            "<Node element_id='4:b53598fd-bb34-4ae1-b7e7-9aeddd5be881:24' labels=frozenset() properties={}>\n",
            "<Node element_id='4:b53598fd-bb34-4ae1-b7e7-9aeddd5be881:25' labels=frozenset({'Selecao'}) properties={'cores': ['Amarelo', 'Vermelho'], 'nome': 'Espanha'}>\n",
            "<Node element_id='4:b53598fd-bb34-4ae1-b7e7-9aeddd5be881:26' labels=frozenset({'Selecao'}) properties={'cores': ['Amarelo', 'Vermelho', 'Preto'], 'nome': 'Alemanha'}>\n",
            "<Node element_id='4:b53598fd-bb34-4ae1-b7e7-9aeddd5be881:27' labels=frozenset({'Time', 'Futebol'}) properties={}>\n"
          ]
        }
      ]
    },
    {
      "cell_type": "markdown",
      "source": [
        "- Atribuindo propriedades \"nome\" e \"cor\" no node com a label \"Time:Futebol\""
      ],
      "metadata": {
        "id": "w8j6bZFAKmGj"
      }
    },
    {
      "cell_type": "code",
      "source": [
        "with driver.session() as session:\n",
        "    session.write_transaction(lambda tx: tx.run(\"CREATE (:Time:Futebol{nome:'Corinthians', cor:'Preto e Branco'})\"))"
      ],
      "metadata": {
        "colab": {
          "base_uri": "https://localhost:8080/"
        },
        "id": "CnY-Ds05GXIa",
        "outputId": "955e7823-625a-4033-843a-78641b1b4d1f"
      },
      "execution_count": 590,
      "outputs": [
        {
          "output_type": "stream",
          "name": "stderr",
          "text": [
            "<ipython-input-590-bb3832174684>:2: DeprecationWarning: write_transaction has been renamed to execute_write\n",
            "  session.write_transaction(lambda tx: tx.run(\"CREATE (:Time:Futebol{nome:'Corinthians', cor:'Preto e Branco'})\"))\n"
          ]
        }
      ]
    },
    {
      "cell_type": "markdown",
      "source": [
        "- Verificando o que aconteceu"
      ],
      "metadata": {
        "id": "ZUXpBkSmKxKG"
      }
    },
    {
      "cell_type": "code",
      "source": [
        "q1 = \"MATCH (x) RETURN x\"\n",
        "\n",
        "# Abrir uma sessão e executar a consulta\n",
        "with driver.session() as session:\n",
        "    result = session.run(q1)\n",
        "\n",
        "    # Processar os resultados\n",
        "    for record in result:\n",
        "        node = record[\"x\"]\n",
        "        print(node)"
      ],
      "metadata": {
        "colab": {
          "base_uri": "https://localhost:8080/"
        },
        "id": "VLjDKii8OQjF",
        "outputId": "1ff8e1a0-5e84-4dde-d787-07bbb31bc366"
      },
      "execution_count": 591,
      "outputs": [
        {
          "output_type": "stream",
          "name": "stdout",
          "text": [
            "<Node element_id='4:b53598fd-bb34-4ae1-b7e7-9aeddd5be881:0' labels=frozenset({'Selecao'}) properties={'cores': ['Azul', 'Vermelho', 'Branco'], 'nome': 'Estados Unidos'}>\n",
            "<Node element_id='4:b53598fd-bb34-4ae1-b7e7-9aeddd5be881:1' labels=frozenset({'Selecao'}) properties={'cores': ['Vermelho', 'Branco'], 'nome': 'Japao'}>\n",
            "<Node element_id='4:b53598fd-bb34-4ae1-b7e7-9aeddd5be881:2' labels=frozenset({'Selecao'}) properties={'cores': ['Verde', 'Branco'], 'nome': 'Nigeria'}>\n",
            "<Node element_id='4:b53598fd-bb34-4ae1-b7e7-9aeddd5be881:3' labels=frozenset({'Selecao'}) properties={'cores': ['Vermelho', 'Branco'], 'nome': 'Canada'}>\n",
            "<Node element_id='4:b53598fd-bb34-4ae1-b7e7-9aeddd5be881:4' labels=frozenset({'Selecao'}) properties={'cores': ['Amarelo', 'Vermelho', 'Azul'], 'nome': 'Colombia'}>\n",
            "<Node element_id='4:b53598fd-bb34-4ae1-b7e7-9aeddd5be881:5' labels=frozenset({'Continente'}) properties={'nome': 'America do Sul'}>\n",
            "<Node element_id='4:b53598fd-bb34-4ae1-b7e7-9aeddd5be881:6' labels=frozenset({'Continente'}) properties={'nome': 'America do Norte'}>\n",
            "<Node element_id='4:b53598fd-bb34-4ae1-b7e7-9aeddd5be881:7' labels=frozenset() properties={}>\n",
            "<Node element_id='4:b53598fd-bb34-4ae1-b7e7-9aeddd5be881:8' labels=frozenset({'Continente'}) properties={'nome': 'Europa'}>\n",
            "<Node element_id='4:b53598fd-bb34-4ae1-b7e7-9aeddd5be881:9' labels=frozenset({'Continente'}) properties={'nome': 'Africa'}>\n",
            "<Node element_id='4:b53598fd-bb34-4ae1-b7e7-9aeddd5be881:10' labels=frozenset({'Continente'}) properties={'nome': 'Asia'}>\n",
            "<Node element_id='4:b53598fd-bb34-4ae1-b7e7-9aeddd5be881:11' labels=frozenset({'Terra'}) properties={'nome': 'Terra'}>\n",
            "<Node element_id='4:b53598fd-bb34-4ae1-b7e7-9aeddd5be881:12' labels=frozenset({'Etiqueta3'}) properties={}>\n",
            "<Node element_id='4:b53598fd-bb34-4ae1-b7e7-9aeddd5be881:13' labels=frozenset({'Selecao'}) properties={'cores': ['Verde, Vermelho', 'Amarelo', 'Branco', 'Azul'], 'nome': ' Portugal'}>\n",
            "<Node element_id='4:b53598fd-bb34-4ae1-b7e7-9aeddd5be881:14' labels=frozenset({'Etiqueta'}) properties={}>\n",
            "<Node element_id='4:b53598fd-bb34-4ae1-b7e7-9aeddd5be881:15' labels=frozenset({'Selecao'}) properties={'cores': ['Azul', 'Branco', 'Vermelho'], 'nome': 'Franca'}>\n",
            "<Node element_id='4:b53598fd-bb34-4ae1-b7e7-9aeddd5be881:16' labels=frozenset({'Selecao'}) properties={'cores': ['Azul', 'Branco'], 'nome': 'Argentina'}>\n",
            "<Node element_id='4:b53598fd-bb34-4ae1-b7e7-9aeddd5be881:17' labels=frozenset({'Selecao'}) properties={'cores': ['Vermelho', 'Branco'], 'nome': 'Inglaterra'}>\n",
            "<Node element_id='4:b53598fd-bb34-4ae1-b7e7-9aeddd5be881:18' labels=frozenset({'Selecao'}) properties={'cores': ['Verde', 'Amarelo'], 'nome': 'Brasil'}>\n",
            "<Node element_id='4:b53598fd-bb34-4ae1-b7e7-9aeddd5be881:19' labels=frozenset({'Selecao'}) properties={'cores': ['Verde', 'Vermelho', 'Branco'], 'nome': 'Italia'}>\n",
            "<Node element_id='4:b53598fd-bb34-4ae1-b7e7-9aeddd5be881:20' labels=frozenset({'Selecao'}) properties={'cores': ['Azul', 'Branco'], 'nome': 'Uruguai'}>\n",
            "<Node element_id='4:b53598fd-bb34-4ae1-b7e7-9aeddd5be881:21' labels=frozenset({'Etiqueta2'}) properties={}>\n",
            "<Node element_id='4:b53598fd-bb34-4ae1-b7e7-9aeddd5be881:22' labels=frozenset() properties={}>\n",
            "<Node element_id='4:b53598fd-bb34-4ae1-b7e7-9aeddd5be881:23' labels=frozenset({'Time'}) properties={}>\n",
            "<Node element_id='4:b53598fd-bb34-4ae1-b7e7-9aeddd5be881:24' labels=frozenset() properties={}>\n",
            "<Node element_id='4:b53598fd-bb34-4ae1-b7e7-9aeddd5be881:25' labels=frozenset({'Selecao'}) properties={'cores': ['Amarelo', 'Vermelho'], 'nome': 'Espanha'}>\n",
            "<Node element_id='4:b53598fd-bb34-4ae1-b7e7-9aeddd5be881:26' labels=frozenset({'Selecao'}) properties={'cores': ['Amarelo', 'Vermelho', 'Preto'], 'nome': 'Alemanha'}>\n",
            "<Node element_id='4:b53598fd-bb34-4ae1-b7e7-9aeddd5be881:27' labels=frozenset({'Time', 'Futebol'}) properties={}>\n",
            "<Node element_id='4:b53598fd-bb34-4ae1-b7e7-9aeddd5be881:28' labels=frozenset({'Time', 'Futebol'}) properties={'cor': 'Preto e Branco', 'nome': 'Corinthians'}>\n"
          ]
        }
      ]
    },
    {
      "cell_type": "markdown",
      "source": [
        "- Atribuindo outra propriedade cor \"verde e branco\" e no node Palmeiras na label \"Time:Futebol\" cujo\n",
        "\n"
      ],
      "metadata": {
        "id": "twVX7cdUK7uK"
      }
    },
    {
      "cell_type": "code",
      "source": [
        "with driver.session() as session:\n",
        "    session.write_transaction(lambda tx: tx.run(\"CREATE (:Time:Futebol{nome:'Palmeiras', cor:'Verde e Branco'})\"))"
      ],
      "metadata": {
        "colab": {
          "base_uri": "https://localhost:8080/"
        },
        "id": "GhZSK5ivGpVu",
        "outputId": "e9f398a5-59ac-47fa-c9da-308ae0136aaf"
      },
      "execution_count": 592,
      "outputs": [
        {
          "output_type": "stream",
          "name": "stderr",
          "text": [
            "<ipython-input-592-b5c8c354fe8a>:2: DeprecationWarning: write_transaction has been renamed to execute_write\n",
            "  session.write_transaction(lambda tx: tx.run(\"CREATE (:Time:Futebol{nome:'Palmeiras', cor:'Verde e Branco'})\"))\n"
          ]
        }
      ]
    },
    {
      "cell_type": "markdown",
      "source": [
        "- Verificando o que foi criado"
      ],
      "metadata": {
        "id": "JL5OEe1BLFpQ"
      }
    },
    {
      "cell_type": "code",
      "source": [
        "q1 = \"MATCH (x) RETURN x\"\n",
        "\n",
        "# Abrir uma sessão e executar a consulta\n",
        "with driver.session() as session:\n",
        "    result = session.run(q1)\n",
        "\n",
        "    # Processar os resultados\n",
        "    for record in result:\n",
        "        node = record[\"x\"]\n",
        "        print(node)"
      ],
      "metadata": {
        "colab": {
          "base_uri": "https://localhost:8080/"
        },
        "id": "tgQZ6nJLNhDR",
        "outputId": "085d3b2f-ab7d-4de9-9d92-7c6367719740"
      },
      "execution_count": 593,
      "outputs": [
        {
          "output_type": "stream",
          "name": "stdout",
          "text": [
            "<Node element_id='4:b53598fd-bb34-4ae1-b7e7-9aeddd5be881:0' labels=frozenset({'Selecao'}) properties={'cores': ['Azul', 'Vermelho', 'Branco'], 'nome': 'Estados Unidos'}>\n",
            "<Node element_id='4:b53598fd-bb34-4ae1-b7e7-9aeddd5be881:1' labels=frozenset({'Selecao'}) properties={'cores': ['Vermelho', 'Branco'], 'nome': 'Japao'}>\n",
            "<Node element_id='4:b53598fd-bb34-4ae1-b7e7-9aeddd5be881:2' labels=frozenset({'Selecao'}) properties={'cores': ['Verde', 'Branco'], 'nome': 'Nigeria'}>\n",
            "<Node element_id='4:b53598fd-bb34-4ae1-b7e7-9aeddd5be881:3' labels=frozenset({'Selecao'}) properties={'cores': ['Vermelho', 'Branco'], 'nome': 'Canada'}>\n",
            "<Node element_id='4:b53598fd-bb34-4ae1-b7e7-9aeddd5be881:4' labels=frozenset({'Selecao'}) properties={'cores': ['Amarelo', 'Vermelho', 'Azul'], 'nome': 'Colombia'}>\n",
            "<Node element_id='4:b53598fd-bb34-4ae1-b7e7-9aeddd5be881:5' labels=frozenset({'Continente'}) properties={'nome': 'America do Sul'}>\n",
            "<Node element_id='4:b53598fd-bb34-4ae1-b7e7-9aeddd5be881:6' labels=frozenset({'Continente'}) properties={'nome': 'America do Norte'}>\n",
            "<Node element_id='4:b53598fd-bb34-4ae1-b7e7-9aeddd5be881:7' labels=frozenset() properties={}>\n",
            "<Node element_id='4:b53598fd-bb34-4ae1-b7e7-9aeddd5be881:8' labels=frozenset({'Continente'}) properties={'nome': 'Europa'}>\n",
            "<Node element_id='4:b53598fd-bb34-4ae1-b7e7-9aeddd5be881:9' labels=frozenset({'Continente'}) properties={'nome': 'Africa'}>\n",
            "<Node element_id='4:b53598fd-bb34-4ae1-b7e7-9aeddd5be881:10' labels=frozenset({'Continente'}) properties={'nome': 'Asia'}>\n",
            "<Node element_id='4:b53598fd-bb34-4ae1-b7e7-9aeddd5be881:11' labels=frozenset({'Terra'}) properties={'nome': 'Terra'}>\n",
            "<Node element_id='4:b53598fd-bb34-4ae1-b7e7-9aeddd5be881:12' labels=frozenset({'Etiqueta3'}) properties={}>\n",
            "<Node element_id='4:b53598fd-bb34-4ae1-b7e7-9aeddd5be881:13' labels=frozenset({'Selecao'}) properties={'cores': ['Verde, Vermelho', 'Amarelo', 'Branco', 'Azul'], 'nome': ' Portugal'}>\n",
            "<Node element_id='4:b53598fd-bb34-4ae1-b7e7-9aeddd5be881:14' labels=frozenset({'Etiqueta'}) properties={}>\n",
            "<Node element_id='4:b53598fd-bb34-4ae1-b7e7-9aeddd5be881:15' labels=frozenset({'Selecao'}) properties={'cores': ['Azul', 'Branco', 'Vermelho'], 'nome': 'Franca'}>\n",
            "<Node element_id='4:b53598fd-bb34-4ae1-b7e7-9aeddd5be881:16' labels=frozenset({'Selecao'}) properties={'cores': ['Azul', 'Branco'], 'nome': 'Argentina'}>\n",
            "<Node element_id='4:b53598fd-bb34-4ae1-b7e7-9aeddd5be881:17' labels=frozenset({'Selecao'}) properties={'cores': ['Vermelho', 'Branco'], 'nome': 'Inglaterra'}>\n",
            "<Node element_id='4:b53598fd-bb34-4ae1-b7e7-9aeddd5be881:18' labels=frozenset({'Selecao'}) properties={'cores': ['Verde', 'Amarelo'], 'nome': 'Brasil'}>\n",
            "<Node element_id='4:b53598fd-bb34-4ae1-b7e7-9aeddd5be881:19' labels=frozenset({'Selecao'}) properties={'cores': ['Verde', 'Vermelho', 'Branco'], 'nome': 'Italia'}>\n",
            "<Node element_id='4:b53598fd-bb34-4ae1-b7e7-9aeddd5be881:20' labels=frozenset({'Selecao'}) properties={'cores': ['Azul', 'Branco'], 'nome': 'Uruguai'}>\n",
            "<Node element_id='4:b53598fd-bb34-4ae1-b7e7-9aeddd5be881:21' labels=frozenset({'Etiqueta2'}) properties={}>\n",
            "<Node element_id='4:b53598fd-bb34-4ae1-b7e7-9aeddd5be881:22' labels=frozenset() properties={}>\n",
            "<Node element_id='4:b53598fd-bb34-4ae1-b7e7-9aeddd5be881:23' labels=frozenset({'Time'}) properties={}>\n",
            "<Node element_id='4:b53598fd-bb34-4ae1-b7e7-9aeddd5be881:24' labels=frozenset() properties={}>\n",
            "<Node element_id='4:b53598fd-bb34-4ae1-b7e7-9aeddd5be881:25' labels=frozenset({'Selecao'}) properties={'cores': ['Amarelo', 'Vermelho'], 'nome': 'Espanha'}>\n",
            "<Node element_id='4:b53598fd-bb34-4ae1-b7e7-9aeddd5be881:26' labels=frozenset({'Selecao'}) properties={'cores': ['Amarelo', 'Vermelho', 'Preto'], 'nome': 'Alemanha'}>\n",
            "<Node element_id='4:b53598fd-bb34-4ae1-b7e7-9aeddd5be881:27' labels=frozenset({'Time', 'Futebol'}) properties={}>\n",
            "<Node element_id='4:b53598fd-bb34-4ae1-b7e7-9aeddd5be881:28' labels=frozenset({'Time', 'Futebol'}) properties={'cor': 'Preto e Branco', 'nome': 'Corinthians'}>\n",
            "<Node element_id='4:b53598fd-bb34-4ae1-b7e7-9aeddd5be881:29' labels=frozenset({'Time', 'Futebol'}) properties={'cor': 'Verde e Branco', 'nome': 'Palmeiras'}>\n"
          ]
        }
      ]
    },
    {
      "cell_type": "markdown",
      "source": [
        "- Retornando um node cujo o ID é 0 com a clausula WHERE"
      ],
      "metadata": {
        "id": "xDz_KgH4NUGZ"
      }
    },
    {
      "cell_type": "code",
      "source": [
        "q1 = \"MATCH (n) WHERE id(n) = 0 RETURN n\"\n",
        "\n",
        "# Abrir uma sessão e executar a consulta\n",
        "with driver.session() as session:\n",
        "    result = session.run(q1)\n",
        "\n",
        "    # Processar os resultados\n",
        "    for record in result:\n",
        "        node = record[\"n\"]\n",
        "        print(node)"
      ],
      "metadata": {
        "colab": {
          "base_uri": "https://localhost:8080/"
        },
        "id": "pcyRwQfuMxjB",
        "outputId": "d78445aa-eee6-49e6-ddb6-34b23c7cb42f"
      },
      "execution_count": 594,
      "outputs": [
        {
          "output_type": "stream",
          "name": "stdout",
          "text": [
            "<Node element_id='4:b53598fd-bb34-4ae1-b7e7-9aeddd5be881:0' labels=frozenset({'Selecao'}) properties={'cores': ['Azul', 'Vermelho', 'Branco'], 'nome': 'Estados Unidos'}>\n"
          ]
        }
      ]
    },
    {
      "cell_type": "markdown",
      "source": [
        "- Retornando um node cujo o ID é 2 com a clausula WHERE"
      ],
      "metadata": {
        "id": "dI75yMgLNtIx"
      }
    },
    {
      "cell_type": "code",
      "source": [
        "q1 = \"MATCH (n) WHERE id(n) = 2 RETURN n\"\n",
        "\n",
        "# Abrir uma sessão e executar a consulta\n",
        "with driver.session() as session:\n",
        "    result = session.run(q1)\n",
        "\n",
        "    # Processar os resultados\n",
        "    for record in result:\n",
        "        node = record[\"n\"]\n",
        "        print(node)"
      ],
      "metadata": {
        "colab": {
          "base_uri": "https://localhost:8080/"
        },
        "id": "20sf2sWvNdHn",
        "outputId": "7a6012a8-180c-45e8-8296-385af065b75f"
      },
      "execution_count": 595,
      "outputs": [
        {
          "output_type": "stream",
          "name": "stdout",
          "text": [
            "<Node element_id='4:b53598fd-bb34-4ae1-b7e7-9aeddd5be881:2' labels=frozenset({'Selecao'}) properties={'cores': ['Verde', 'Branco'], 'nome': 'Nigeria'}>\n"
          ]
        }
      ]
    },
    {
      "cell_type": "markdown",
      "source": [
        "- Retornando um node cujo o ID é 3 com a clausula WHERE"
      ],
      "metadata": {
        "id": "CHWmoxUjNusI"
      }
    },
    {
      "cell_type": "code",
      "source": [
        "q1 = \"MATCH (n) WHERE id(n) = 3 RETURN n\"\n",
        "\n",
        "# Abrir uma sessão e executar a consulta\n",
        "with driver.session() as session:\n",
        "    result = session.run(q1)\n",
        "\n",
        "    # Processar os resultados\n",
        "    for record in result:\n",
        "        node = record[\"n\"]\n",
        "        print(node)"
      ],
      "metadata": {
        "colab": {
          "base_uri": "https://localhost:8080/"
        },
        "id": "14SI_4mENjTT",
        "outputId": "87610db2-5cfe-4ab1-80b2-423820f6a3fc"
      },
      "execution_count": 596,
      "outputs": [
        {
          "output_type": "stream",
          "name": "stdout",
          "text": [
            "<Node element_id='4:b53598fd-bb34-4ae1-b7e7-9aeddd5be881:3' labels=frozenset({'Selecao'}) properties={'cores': ['Vermelho', 'Branco'], 'nome': 'Canada'}>\n"
          ]
        }
      ]
    },
    {
      "cell_type": "markdown",
      "source": [
        "- Retornando um node cujo o ID é 4 com a clausula WHERE"
      ],
      "metadata": {
        "id": "q0ANW7nwNwuv"
      }
    },
    {
      "cell_type": "code",
      "source": [
        "q1 = \"MATCH (n) WHERE id(n) = 4 RETURN n\"\n",
        "\n",
        "# Abrir uma sessão e executar a consulta\n",
        "with driver.session() as session:\n",
        "    result = session.run(q1)\n",
        "\n",
        "    # Processar os resultados\n",
        "    for record in result:\n",
        "        node = record[\"n\"]\n",
        "        print(node)"
      ],
      "metadata": {
        "colab": {
          "base_uri": "https://localhost:8080/"
        },
        "id": "iJ1e9ENnNlPx",
        "outputId": "cff697ab-3011-48c8-ff4c-655dca688aeb"
      },
      "execution_count": 597,
      "outputs": [
        {
          "output_type": "stream",
          "name": "stdout",
          "text": [
            "<Node element_id='4:b53598fd-bb34-4ae1-b7e7-9aeddd5be881:4' labels=frozenset({'Selecao'}) properties={'cores': ['Amarelo', 'Vermelho', 'Azul'], 'nome': 'Colombia'}>\n"
          ]
        }
      ]
    },
    {
      "cell_type": "markdown",
      "source": [
        "- Retornando os nodes que estão na label \"Time\""
      ],
      "metadata": {
        "id": "kK9miiV5OG1k"
      }
    },
    {
      "cell_type": "code",
      "source": [
        "q1 = \"MATCH (n:Time) RETURN n\"\n",
        "\n",
        "# Abrir uma sessão e executar a consulta\n",
        "with driver.session() as session:\n",
        "    result = session.run(q1)\n",
        "\n",
        "    # Processar os resultados\n",
        "    for record in result:\n",
        "        node = record[\"n\"]\n",
        "        print(node)"
      ],
      "metadata": {
        "colab": {
          "base_uri": "https://localhost:8080/"
        },
        "id": "PoRrAC6nN3Je",
        "outputId": "2cc65a20-5aa1-4848-d9c0-e9a4a9a8cddf"
      },
      "execution_count": 598,
      "outputs": [
        {
          "output_type": "stream",
          "name": "stdout",
          "text": [
            "<Node element_id='4:b53598fd-bb34-4ae1-b7e7-9aeddd5be881:23' labels=frozenset({'Time'}) properties={}>\n",
            "<Node element_id='4:b53598fd-bb34-4ae1-b7e7-9aeddd5be881:27' labels=frozenset({'Time', 'Futebol'}) properties={}>\n",
            "<Node element_id='4:b53598fd-bb34-4ae1-b7e7-9aeddd5be881:28' labels=frozenset({'Time', 'Futebol'}) properties={'cor': 'Preto e Branco', 'nome': 'Corinthians'}>\n",
            "<Node element_id='4:b53598fd-bb34-4ae1-b7e7-9aeddd5be881:29' labels=frozenset({'Time', 'Futebol'}) properties={'cor': 'Verde e Branco', 'nome': 'Palmeiras'}>\n"
          ]
        }
      ]
    },
    {
      "cell_type": "markdown",
      "source": [
        "- Retornando os nodes que contém as label \"Time\" e Futebol\""
      ],
      "metadata": {
        "id": "X_PIICNaOLoz"
      }
    },
    {
      "cell_type": "code",
      "source": [
        "q1 = \"MATCH (n:Time:Futebol) RETURN n\"\n",
        "\n",
        "# Abrir uma sessão e executar a consulta\n",
        "with driver.session() as session:\n",
        "    result = session.run(q1)\n",
        "\n",
        "    # Processar os resultados\n",
        "    for record in result:\n",
        "        node = record[\"n\"]\n",
        "        print(node)"
      ],
      "metadata": {
        "colab": {
          "base_uri": "https://localhost:8080/"
        },
        "id": "noDUYZ_POPYC",
        "outputId": "71f1a15c-fa3e-4a92-9132-bedd719957b0"
      },
      "execution_count": 599,
      "outputs": [
        {
          "output_type": "stream",
          "name": "stdout",
          "text": [
            "<Node element_id='4:b53598fd-bb34-4ae1-b7e7-9aeddd5be881:27' labels=frozenset({'Time', 'Futebol'}) properties={}>\n",
            "<Node element_id='4:b53598fd-bb34-4ae1-b7e7-9aeddd5be881:28' labels=frozenset({'Time', 'Futebol'}) properties={'cor': 'Preto e Branco', 'nome': 'Corinthians'}>\n",
            "<Node element_id='4:b53598fd-bb34-4ae1-b7e7-9aeddd5be881:29' labels=frozenset({'Time', 'Futebol'}) properties={'cor': 'Verde e Branco', 'nome': 'Palmeiras'}>\n"
          ]
        }
      ]
    },
    {
      "cell_type": "markdown",
      "source": [
        "- Retornando os nodes com a propriedade nome \"Palmeiras\""
      ],
      "metadata": {
        "id": "jtasatUZOYq7"
      }
    },
    {
      "cell_type": "code",
      "source": [
        "q1 = \"MATCH (n) WHERE n.nome = 'Palmeiras' RETURN n\"\n",
        "\n",
        "# Abrir uma sessão e executar a consulta\n",
        "with driver.session() as session:\n",
        "    result = session.run(q1)\n",
        "\n",
        "    # Processar os resultados\n",
        "    for record in result:\n",
        "        node = record[\"n\"]\n",
        "        print(node)"
      ],
      "metadata": {
        "colab": {
          "base_uri": "https://localhost:8080/"
        },
        "id": "A1V6roH-Oa74",
        "outputId": "064f5d09-5521-4689-bd19-0dce5061abf2"
      },
      "execution_count": 600,
      "outputs": [
        {
          "output_type": "stream",
          "name": "stdout",
          "text": [
            "<Node element_id='4:b53598fd-bb34-4ae1-b7e7-9aeddd5be881:29' labels=frozenset({'Time', 'Futebol'}) properties={'cor': 'Verde e Branco', 'nome': 'Palmeiras'}>\n"
          ]
        }
      ]
    },
    {
      "cell_type": "markdown",
      "source": [
        "- Retornando os nodes com as propriedades nome \"Palmeiras\" e \"Corinthians\""
      ],
      "metadata": {
        "id": "JgfWx4ZWOiC4"
      }
    },
    {
      "cell_type": "code",
      "source": [
        "q1 = \"MATCH (n),(y) WHERE n.nome = 'Palmeiras' AND y.nome = 'Corinthians' RETURN n, y\"\n",
        "\n",
        "# Abrir uma sessão e executar a consulta\n",
        "with driver.session() as session:\n",
        "    result = session.run(q1)\n",
        "\n",
        "    # Processar os resultados\n",
        "    for record in result:\n",
        "        node_n = record[\"n\"]\n",
        "        node_y = record[\"y\"]\n",
        "        print(f\"Node n: {node_n}\\nNode y: {node_y}\")\n"
      ],
      "metadata": {
        "colab": {
          "base_uri": "https://localhost:8080/"
        },
        "id": "SsHL24xUOmT9",
        "outputId": "19c455a9-9fe4-4258-939e-f21ee6373dd2"
      },
      "execution_count": 601,
      "outputs": [
        {
          "output_type": "stream",
          "name": "stdout",
          "text": [
            "Node n: <Node element_id='4:b53598fd-bb34-4ae1-b7e7-9aeddd5be881:29' labels=frozenset({'Time', 'Futebol'}) properties={'cor': 'Verde e Branco', 'nome': 'Palmeiras'}>\n",
            "Node y: <Node element_id='4:b53598fd-bb34-4ae1-b7e7-9aeddd5be881:28' labels=frozenset({'Time', 'Futebol'}) properties={'cor': 'Preto e Branco', 'nome': 'Corinthians'}>\n"
          ]
        }
      ]
    },
    {
      "cell_type": "markdown",
      "source": [
        "- Retornando dois nodes com as propriedades nome \"Palmeiras\" e tenha também a cor 'Preto e Branco\""
      ],
      "metadata": {
        "id": "O5xX3IfZVNHI"
      }
    },
    {
      "cell_type": "code",
      "source": [
        "q1 = \"MATCH (n:Time),(y:Time) WHERE n.nome = 'Palmeiras' AND y.cor = 'Preto e Branco' RETURN n,y\"\n",
        "\n",
        "# Abrir uma sessão e executar a consulta\n",
        "with driver.session() as session:\n",
        "    result = session.run(q1)\n",
        "\n",
        "    # Processar os resultados\n",
        "    for record in result:\n",
        "        node_n = record[\"n\"]\n",
        "        node_y = record[\"y\"]\n",
        "        print(f\"Node n: {node_n}\\nNode y: {node_y}\")\n"
      ],
      "metadata": {
        "colab": {
          "base_uri": "https://localhost:8080/"
        },
        "id": "W-BrtVcpUQla",
        "outputId": "b15ae4e9-f64b-4842-8f09-f40d3c227572"
      },
      "execution_count": 602,
      "outputs": [
        {
          "output_type": "stream",
          "name": "stdout",
          "text": [
            "Node n: <Node element_id='4:b53598fd-bb34-4ae1-b7e7-9aeddd5be881:29' labels=frozenset({'Time', 'Futebol'}) properties={'cor': 'Verde e Branco', 'nome': 'Palmeiras'}>\n",
            "Node y: <Node element_id='4:b53598fd-bb34-4ae1-b7e7-9aeddd5be881:28' labels=frozenset({'Time', 'Futebol'}) properties={'cor': 'Preto e Branco', 'nome': 'Corinthians'}>\n"
          ]
        }
      ]
    },
    {
      "cell_type": "markdown",
      "source": [
        "- Retornando nodes com a propriedade \"Palmeiras\" e cor \"Preto e Branco\""
      ],
      "metadata": {
        "id": "Kyu8WdpuWrC0"
      }
    },
    {
      "cell_type": "code",
      "source": [
        "q1 = \"MATCH (n),(y) WHERE n.nome = 'Palmeiras' AND y.cor = 'Preto e Branco' RETURN n,y\"\n",
        "\n",
        "# Abrir uma sessão e executar a consulta\n",
        "with driver.session() as session:\n",
        "    result = session.run(q1)\n",
        "\n",
        "    # Processar os resultados\n",
        "    for record in result:\n",
        "        node_n = record[\"n\"]\n",
        "        node_y = record[\"y\"]\n",
        "        print(f\"Node n: {node_n}\\nNode y: {node_y}\")\n"
      ],
      "metadata": {
        "colab": {
          "base_uri": "https://localhost:8080/"
        },
        "id": "d6JWmGtkW2ep",
        "outputId": "08a054c2-46e4-46dd-f58a-3b6d48e546ab"
      },
      "execution_count": 603,
      "outputs": [
        {
          "output_type": "stream",
          "name": "stdout",
          "text": [
            "Node n: <Node element_id='4:b53598fd-bb34-4ae1-b7e7-9aeddd5be881:29' labels=frozenset({'Time', 'Futebol'}) properties={'cor': 'Verde e Branco', 'nome': 'Palmeiras'}>\n",
            "Node y: <Node element_id='4:b53598fd-bb34-4ae1-b7e7-9aeddd5be881:28' labels=frozenset({'Time', 'Futebol'}) properties={'cor': 'Preto e Branco', 'nome': 'Corinthians'}>\n"
          ]
        }
      ]
    },
    {
      "cell_type": "markdown",
      "source": [
        "- Retornando os nodes com o nome \"Palmeiras\" OU \"Corinthians\""
      ],
      "metadata": {
        "id": "PxURvfcjPSMZ"
      }
    },
    {
      "cell_type": "code",
      "source": [
        "q1 = \"MATCH (n),(y) WHERE n.nome = 'Palmeiras' OR y.nome = 'Corinthians' RETURN n, y\"\n",
        "\n",
        "# Abrir uma sessão e executar a consulta\n",
        "with driver.session() as session:\n",
        "    result = session.run(q1)\n",
        "\n",
        "    # Processar os resultados\n",
        "    for record in result:\n",
        "        node_n = record[\"n\"]\n",
        "        node_y = record[\"y\"]\n",
        "        print(f\"Node n: {node_n}\\nNode y: {node_y}\")\n"
      ],
      "metadata": {
        "colab": {
          "base_uri": "https://localhost:8080/"
        },
        "id": "RhJ_GMEyPUAA",
        "outputId": "3ea37c78-16c3-4d66-af8a-5c55516533d2"
      },
      "execution_count": 604,
      "outputs": [
        {
          "output_type": "stream",
          "name": "stdout",
          "text": [
            "Node n: <Node element_id='4:b53598fd-bb34-4ae1-b7e7-9aeddd5be881:0' labels=frozenset({'Selecao'}) properties={'cores': ['Azul', 'Vermelho', 'Branco'], 'nome': 'Estados Unidos'}>\n",
            "Node y: <Node element_id='4:b53598fd-bb34-4ae1-b7e7-9aeddd5be881:28' labels=frozenset({'Time', 'Futebol'}) properties={'cor': 'Preto e Branco', 'nome': 'Corinthians'}>\n",
            "Node n: <Node element_id='4:b53598fd-bb34-4ae1-b7e7-9aeddd5be881:1' labels=frozenset({'Selecao'}) properties={'cores': ['Vermelho', 'Branco'], 'nome': 'Japao'}>\n",
            "Node y: <Node element_id='4:b53598fd-bb34-4ae1-b7e7-9aeddd5be881:28' labels=frozenset({'Time', 'Futebol'}) properties={'cor': 'Preto e Branco', 'nome': 'Corinthians'}>\n",
            "Node n: <Node element_id='4:b53598fd-bb34-4ae1-b7e7-9aeddd5be881:2' labels=frozenset({'Selecao'}) properties={'cores': ['Verde', 'Branco'], 'nome': 'Nigeria'}>\n",
            "Node y: <Node element_id='4:b53598fd-bb34-4ae1-b7e7-9aeddd5be881:28' labels=frozenset({'Time', 'Futebol'}) properties={'cor': 'Preto e Branco', 'nome': 'Corinthians'}>\n",
            "Node n: <Node element_id='4:b53598fd-bb34-4ae1-b7e7-9aeddd5be881:3' labels=frozenset({'Selecao'}) properties={'cores': ['Vermelho', 'Branco'], 'nome': 'Canada'}>\n",
            "Node y: <Node element_id='4:b53598fd-bb34-4ae1-b7e7-9aeddd5be881:28' labels=frozenset({'Time', 'Futebol'}) properties={'cor': 'Preto e Branco', 'nome': 'Corinthians'}>\n",
            "Node n: <Node element_id='4:b53598fd-bb34-4ae1-b7e7-9aeddd5be881:4' labels=frozenset({'Selecao'}) properties={'cores': ['Amarelo', 'Vermelho', 'Azul'], 'nome': 'Colombia'}>\n",
            "Node y: <Node element_id='4:b53598fd-bb34-4ae1-b7e7-9aeddd5be881:28' labels=frozenset({'Time', 'Futebol'}) properties={'cor': 'Preto e Branco', 'nome': 'Corinthians'}>\n",
            "Node n: <Node element_id='4:b53598fd-bb34-4ae1-b7e7-9aeddd5be881:5' labels=frozenset({'Continente'}) properties={'nome': 'America do Sul'}>\n",
            "Node y: <Node element_id='4:b53598fd-bb34-4ae1-b7e7-9aeddd5be881:28' labels=frozenset({'Time', 'Futebol'}) properties={'cor': 'Preto e Branco', 'nome': 'Corinthians'}>\n",
            "Node n: <Node element_id='4:b53598fd-bb34-4ae1-b7e7-9aeddd5be881:6' labels=frozenset({'Continente'}) properties={'nome': 'America do Norte'}>\n",
            "Node y: <Node element_id='4:b53598fd-bb34-4ae1-b7e7-9aeddd5be881:28' labels=frozenset({'Time', 'Futebol'}) properties={'cor': 'Preto e Branco', 'nome': 'Corinthians'}>\n",
            "Node n: <Node element_id='4:b53598fd-bb34-4ae1-b7e7-9aeddd5be881:7' labels=frozenset() properties={}>\n",
            "Node y: <Node element_id='4:b53598fd-bb34-4ae1-b7e7-9aeddd5be881:28' labels=frozenset({'Time', 'Futebol'}) properties={'cor': 'Preto e Branco', 'nome': 'Corinthians'}>\n",
            "Node n: <Node element_id='4:b53598fd-bb34-4ae1-b7e7-9aeddd5be881:8' labels=frozenset({'Continente'}) properties={'nome': 'Europa'}>\n",
            "Node y: <Node element_id='4:b53598fd-bb34-4ae1-b7e7-9aeddd5be881:28' labels=frozenset({'Time', 'Futebol'}) properties={'cor': 'Preto e Branco', 'nome': 'Corinthians'}>\n",
            "Node n: <Node element_id='4:b53598fd-bb34-4ae1-b7e7-9aeddd5be881:9' labels=frozenset({'Continente'}) properties={'nome': 'Africa'}>\n",
            "Node y: <Node element_id='4:b53598fd-bb34-4ae1-b7e7-9aeddd5be881:28' labels=frozenset({'Time', 'Futebol'}) properties={'cor': 'Preto e Branco', 'nome': 'Corinthians'}>\n",
            "Node n: <Node element_id='4:b53598fd-bb34-4ae1-b7e7-9aeddd5be881:10' labels=frozenset({'Continente'}) properties={'nome': 'Asia'}>\n",
            "Node y: <Node element_id='4:b53598fd-bb34-4ae1-b7e7-9aeddd5be881:28' labels=frozenset({'Time', 'Futebol'}) properties={'cor': 'Preto e Branco', 'nome': 'Corinthians'}>\n",
            "Node n: <Node element_id='4:b53598fd-bb34-4ae1-b7e7-9aeddd5be881:11' labels=frozenset({'Terra'}) properties={'nome': 'Terra'}>\n",
            "Node y: <Node element_id='4:b53598fd-bb34-4ae1-b7e7-9aeddd5be881:28' labels=frozenset({'Time', 'Futebol'}) properties={'cor': 'Preto e Branco', 'nome': 'Corinthians'}>\n",
            "Node n: <Node element_id='4:b53598fd-bb34-4ae1-b7e7-9aeddd5be881:12' labels=frozenset({'Etiqueta3'}) properties={}>\n",
            "Node y: <Node element_id='4:b53598fd-bb34-4ae1-b7e7-9aeddd5be881:28' labels=frozenset({'Time', 'Futebol'}) properties={'cor': 'Preto e Branco', 'nome': 'Corinthians'}>\n",
            "Node n: <Node element_id='4:b53598fd-bb34-4ae1-b7e7-9aeddd5be881:13' labels=frozenset({'Selecao'}) properties={'cores': ['Verde, Vermelho', 'Amarelo', 'Branco', 'Azul'], 'nome': ' Portugal'}>\n",
            "Node y: <Node element_id='4:b53598fd-bb34-4ae1-b7e7-9aeddd5be881:28' labels=frozenset({'Time', 'Futebol'}) properties={'cor': 'Preto e Branco', 'nome': 'Corinthians'}>\n",
            "Node n: <Node element_id='4:b53598fd-bb34-4ae1-b7e7-9aeddd5be881:14' labels=frozenset({'Etiqueta'}) properties={}>\n",
            "Node y: <Node element_id='4:b53598fd-bb34-4ae1-b7e7-9aeddd5be881:28' labels=frozenset({'Time', 'Futebol'}) properties={'cor': 'Preto e Branco', 'nome': 'Corinthians'}>\n",
            "Node n: <Node element_id='4:b53598fd-bb34-4ae1-b7e7-9aeddd5be881:15' labels=frozenset({'Selecao'}) properties={'cores': ['Azul', 'Branco', 'Vermelho'], 'nome': 'Franca'}>\n",
            "Node y: <Node element_id='4:b53598fd-bb34-4ae1-b7e7-9aeddd5be881:28' labels=frozenset({'Time', 'Futebol'}) properties={'cor': 'Preto e Branco', 'nome': 'Corinthians'}>\n",
            "Node n: <Node element_id='4:b53598fd-bb34-4ae1-b7e7-9aeddd5be881:16' labels=frozenset({'Selecao'}) properties={'cores': ['Azul', 'Branco'], 'nome': 'Argentina'}>\n",
            "Node y: <Node element_id='4:b53598fd-bb34-4ae1-b7e7-9aeddd5be881:28' labels=frozenset({'Time', 'Futebol'}) properties={'cor': 'Preto e Branco', 'nome': 'Corinthians'}>\n",
            "Node n: <Node element_id='4:b53598fd-bb34-4ae1-b7e7-9aeddd5be881:17' labels=frozenset({'Selecao'}) properties={'cores': ['Vermelho', 'Branco'], 'nome': 'Inglaterra'}>\n",
            "Node y: <Node element_id='4:b53598fd-bb34-4ae1-b7e7-9aeddd5be881:28' labels=frozenset({'Time', 'Futebol'}) properties={'cor': 'Preto e Branco', 'nome': 'Corinthians'}>\n",
            "Node n: <Node element_id='4:b53598fd-bb34-4ae1-b7e7-9aeddd5be881:18' labels=frozenset({'Selecao'}) properties={'cores': ['Verde', 'Amarelo'], 'nome': 'Brasil'}>\n",
            "Node y: <Node element_id='4:b53598fd-bb34-4ae1-b7e7-9aeddd5be881:28' labels=frozenset({'Time', 'Futebol'}) properties={'cor': 'Preto e Branco', 'nome': 'Corinthians'}>\n",
            "Node n: <Node element_id='4:b53598fd-bb34-4ae1-b7e7-9aeddd5be881:19' labels=frozenset({'Selecao'}) properties={'cores': ['Verde', 'Vermelho', 'Branco'], 'nome': 'Italia'}>\n",
            "Node y: <Node element_id='4:b53598fd-bb34-4ae1-b7e7-9aeddd5be881:28' labels=frozenset({'Time', 'Futebol'}) properties={'cor': 'Preto e Branco', 'nome': 'Corinthians'}>\n",
            "Node n: <Node element_id='4:b53598fd-bb34-4ae1-b7e7-9aeddd5be881:20' labels=frozenset({'Selecao'}) properties={'cores': ['Azul', 'Branco'], 'nome': 'Uruguai'}>\n",
            "Node y: <Node element_id='4:b53598fd-bb34-4ae1-b7e7-9aeddd5be881:28' labels=frozenset({'Time', 'Futebol'}) properties={'cor': 'Preto e Branco', 'nome': 'Corinthians'}>\n",
            "Node n: <Node element_id='4:b53598fd-bb34-4ae1-b7e7-9aeddd5be881:21' labels=frozenset({'Etiqueta2'}) properties={}>\n",
            "Node y: <Node element_id='4:b53598fd-bb34-4ae1-b7e7-9aeddd5be881:28' labels=frozenset({'Time', 'Futebol'}) properties={'cor': 'Preto e Branco', 'nome': 'Corinthians'}>\n",
            "Node n: <Node element_id='4:b53598fd-bb34-4ae1-b7e7-9aeddd5be881:22' labels=frozenset() properties={}>\n",
            "Node y: <Node element_id='4:b53598fd-bb34-4ae1-b7e7-9aeddd5be881:28' labels=frozenset({'Time', 'Futebol'}) properties={'cor': 'Preto e Branco', 'nome': 'Corinthians'}>\n",
            "Node n: <Node element_id='4:b53598fd-bb34-4ae1-b7e7-9aeddd5be881:23' labels=frozenset({'Time'}) properties={}>\n",
            "Node y: <Node element_id='4:b53598fd-bb34-4ae1-b7e7-9aeddd5be881:28' labels=frozenset({'Time', 'Futebol'}) properties={'cor': 'Preto e Branco', 'nome': 'Corinthians'}>\n",
            "Node n: <Node element_id='4:b53598fd-bb34-4ae1-b7e7-9aeddd5be881:24' labels=frozenset() properties={}>\n",
            "Node y: <Node element_id='4:b53598fd-bb34-4ae1-b7e7-9aeddd5be881:28' labels=frozenset({'Time', 'Futebol'}) properties={'cor': 'Preto e Branco', 'nome': 'Corinthians'}>\n",
            "Node n: <Node element_id='4:b53598fd-bb34-4ae1-b7e7-9aeddd5be881:25' labels=frozenset({'Selecao'}) properties={'cores': ['Amarelo', 'Vermelho'], 'nome': 'Espanha'}>\n",
            "Node y: <Node element_id='4:b53598fd-bb34-4ae1-b7e7-9aeddd5be881:28' labels=frozenset({'Time', 'Futebol'}) properties={'cor': 'Preto e Branco', 'nome': 'Corinthians'}>\n",
            "Node n: <Node element_id='4:b53598fd-bb34-4ae1-b7e7-9aeddd5be881:26' labels=frozenset({'Selecao'}) properties={'cores': ['Amarelo', 'Vermelho', 'Preto'], 'nome': 'Alemanha'}>\n",
            "Node y: <Node element_id='4:b53598fd-bb34-4ae1-b7e7-9aeddd5be881:28' labels=frozenset({'Time', 'Futebol'}) properties={'cor': 'Preto e Branco', 'nome': 'Corinthians'}>\n",
            "Node n: <Node element_id='4:b53598fd-bb34-4ae1-b7e7-9aeddd5be881:27' labels=frozenset({'Time', 'Futebol'}) properties={}>\n",
            "Node y: <Node element_id='4:b53598fd-bb34-4ae1-b7e7-9aeddd5be881:28' labels=frozenset({'Time', 'Futebol'}) properties={'cor': 'Preto e Branco', 'nome': 'Corinthians'}>\n",
            "Node n: <Node element_id='4:b53598fd-bb34-4ae1-b7e7-9aeddd5be881:28' labels=frozenset({'Time', 'Futebol'}) properties={'cor': 'Preto e Branco', 'nome': 'Corinthians'}>\n",
            "Node y: <Node element_id='4:b53598fd-bb34-4ae1-b7e7-9aeddd5be881:28' labels=frozenset({'Time', 'Futebol'}) properties={'cor': 'Preto e Branco', 'nome': 'Corinthians'}>\n",
            "Node n: <Node element_id='4:b53598fd-bb34-4ae1-b7e7-9aeddd5be881:29' labels=frozenset({'Time', 'Futebol'}) properties={'cor': 'Verde e Branco', 'nome': 'Palmeiras'}>\n",
            "Node y: <Node element_id='4:b53598fd-bb34-4ae1-b7e7-9aeddd5be881:0' labels=frozenset({'Selecao'}) properties={'cores': ['Azul', 'Vermelho', 'Branco'], 'nome': 'Estados Unidos'}>\n",
            "Node n: <Node element_id='4:b53598fd-bb34-4ae1-b7e7-9aeddd5be881:29' labels=frozenset({'Time', 'Futebol'}) properties={'cor': 'Verde e Branco', 'nome': 'Palmeiras'}>\n",
            "Node y: <Node element_id='4:b53598fd-bb34-4ae1-b7e7-9aeddd5be881:1' labels=frozenset({'Selecao'}) properties={'cores': ['Vermelho', 'Branco'], 'nome': 'Japao'}>\n",
            "Node n: <Node element_id='4:b53598fd-bb34-4ae1-b7e7-9aeddd5be881:29' labels=frozenset({'Time', 'Futebol'}) properties={'cor': 'Verde e Branco', 'nome': 'Palmeiras'}>\n",
            "Node y: <Node element_id='4:b53598fd-bb34-4ae1-b7e7-9aeddd5be881:2' labels=frozenset({'Selecao'}) properties={'cores': ['Verde', 'Branco'], 'nome': 'Nigeria'}>\n",
            "Node n: <Node element_id='4:b53598fd-bb34-4ae1-b7e7-9aeddd5be881:29' labels=frozenset({'Time', 'Futebol'}) properties={'cor': 'Verde e Branco', 'nome': 'Palmeiras'}>\n",
            "Node y: <Node element_id='4:b53598fd-bb34-4ae1-b7e7-9aeddd5be881:3' labels=frozenset({'Selecao'}) properties={'cores': ['Vermelho', 'Branco'], 'nome': 'Canada'}>\n",
            "Node n: <Node element_id='4:b53598fd-bb34-4ae1-b7e7-9aeddd5be881:29' labels=frozenset({'Time', 'Futebol'}) properties={'cor': 'Verde e Branco', 'nome': 'Palmeiras'}>\n",
            "Node y: <Node element_id='4:b53598fd-bb34-4ae1-b7e7-9aeddd5be881:4' labels=frozenset({'Selecao'}) properties={'cores': ['Amarelo', 'Vermelho', 'Azul'], 'nome': 'Colombia'}>\n",
            "Node n: <Node element_id='4:b53598fd-bb34-4ae1-b7e7-9aeddd5be881:29' labels=frozenset({'Time', 'Futebol'}) properties={'cor': 'Verde e Branco', 'nome': 'Palmeiras'}>\n",
            "Node y: <Node element_id='4:b53598fd-bb34-4ae1-b7e7-9aeddd5be881:5' labels=frozenset({'Continente'}) properties={'nome': 'America do Sul'}>\n",
            "Node n: <Node element_id='4:b53598fd-bb34-4ae1-b7e7-9aeddd5be881:29' labels=frozenset({'Time', 'Futebol'}) properties={'cor': 'Verde e Branco', 'nome': 'Palmeiras'}>\n",
            "Node y: <Node element_id='4:b53598fd-bb34-4ae1-b7e7-9aeddd5be881:6' labels=frozenset({'Continente'}) properties={'nome': 'America do Norte'}>\n",
            "Node n: <Node element_id='4:b53598fd-bb34-4ae1-b7e7-9aeddd5be881:29' labels=frozenset({'Time', 'Futebol'}) properties={'cor': 'Verde e Branco', 'nome': 'Palmeiras'}>\n",
            "Node y: <Node element_id='4:b53598fd-bb34-4ae1-b7e7-9aeddd5be881:7' labels=frozenset() properties={}>\n",
            "Node n: <Node element_id='4:b53598fd-bb34-4ae1-b7e7-9aeddd5be881:29' labels=frozenset({'Time', 'Futebol'}) properties={'cor': 'Verde e Branco', 'nome': 'Palmeiras'}>\n",
            "Node y: <Node element_id='4:b53598fd-bb34-4ae1-b7e7-9aeddd5be881:8' labels=frozenset({'Continente'}) properties={'nome': 'Europa'}>\n",
            "Node n: <Node element_id='4:b53598fd-bb34-4ae1-b7e7-9aeddd5be881:29' labels=frozenset({'Time', 'Futebol'}) properties={'cor': 'Verde e Branco', 'nome': 'Palmeiras'}>\n",
            "Node y: <Node element_id='4:b53598fd-bb34-4ae1-b7e7-9aeddd5be881:9' labels=frozenset({'Continente'}) properties={'nome': 'Africa'}>\n",
            "Node n: <Node element_id='4:b53598fd-bb34-4ae1-b7e7-9aeddd5be881:29' labels=frozenset({'Time', 'Futebol'}) properties={'cor': 'Verde e Branco', 'nome': 'Palmeiras'}>\n",
            "Node y: <Node element_id='4:b53598fd-bb34-4ae1-b7e7-9aeddd5be881:10' labels=frozenset({'Continente'}) properties={'nome': 'Asia'}>\n",
            "Node n: <Node element_id='4:b53598fd-bb34-4ae1-b7e7-9aeddd5be881:29' labels=frozenset({'Time', 'Futebol'}) properties={'cor': 'Verde e Branco', 'nome': 'Palmeiras'}>\n",
            "Node y: <Node element_id='4:b53598fd-bb34-4ae1-b7e7-9aeddd5be881:11' labels=frozenset({'Terra'}) properties={'nome': 'Terra'}>\n",
            "Node n: <Node element_id='4:b53598fd-bb34-4ae1-b7e7-9aeddd5be881:29' labels=frozenset({'Time', 'Futebol'}) properties={'cor': 'Verde e Branco', 'nome': 'Palmeiras'}>\n",
            "Node y: <Node element_id='4:b53598fd-bb34-4ae1-b7e7-9aeddd5be881:12' labels=frozenset({'Etiqueta3'}) properties={}>\n",
            "Node n: <Node element_id='4:b53598fd-bb34-4ae1-b7e7-9aeddd5be881:29' labels=frozenset({'Time', 'Futebol'}) properties={'cor': 'Verde e Branco', 'nome': 'Palmeiras'}>\n",
            "Node y: <Node element_id='4:b53598fd-bb34-4ae1-b7e7-9aeddd5be881:13' labels=frozenset({'Selecao'}) properties={'cores': ['Verde, Vermelho', 'Amarelo', 'Branco', 'Azul'], 'nome': ' Portugal'}>\n",
            "Node n: <Node element_id='4:b53598fd-bb34-4ae1-b7e7-9aeddd5be881:29' labels=frozenset({'Time', 'Futebol'}) properties={'cor': 'Verde e Branco', 'nome': 'Palmeiras'}>\n",
            "Node y: <Node element_id='4:b53598fd-bb34-4ae1-b7e7-9aeddd5be881:14' labels=frozenset({'Etiqueta'}) properties={}>\n",
            "Node n: <Node element_id='4:b53598fd-bb34-4ae1-b7e7-9aeddd5be881:29' labels=frozenset({'Time', 'Futebol'}) properties={'cor': 'Verde e Branco', 'nome': 'Palmeiras'}>\n",
            "Node y: <Node element_id='4:b53598fd-bb34-4ae1-b7e7-9aeddd5be881:15' labels=frozenset({'Selecao'}) properties={'cores': ['Azul', 'Branco', 'Vermelho'], 'nome': 'Franca'}>\n",
            "Node n: <Node element_id='4:b53598fd-bb34-4ae1-b7e7-9aeddd5be881:29' labels=frozenset({'Time', 'Futebol'}) properties={'cor': 'Verde e Branco', 'nome': 'Palmeiras'}>\n",
            "Node y: <Node element_id='4:b53598fd-bb34-4ae1-b7e7-9aeddd5be881:16' labels=frozenset({'Selecao'}) properties={'cores': ['Azul', 'Branco'], 'nome': 'Argentina'}>\n",
            "Node n: <Node element_id='4:b53598fd-bb34-4ae1-b7e7-9aeddd5be881:29' labels=frozenset({'Time', 'Futebol'}) properties={'cor': 'Verde e Branco', 'nome': 'Palmeiras'}>\n",
            "Node y: <Node element_id='4:b53598fd-bb34-4ae1-b7e7-9aeddd5be881:17' labels=frozenset({'Selecao'}) properties={'cores': ['Vermelho', 'Branco'], 'nome': 'Inglaterra'}>\n",
            "Node n: <Node element_id='4:b53598fd-bb34-4ae1-b7e7-9aeddd5be881:29' labels=frozenset({'Time', 'Futebol'}) properties={'cor': 'Verde e Branco', 'nome': 'Palmeiras'}>\n",
            "Node y: <Node element_id='4:b53598fd-bb34-4ae1-b7e7-9aeddd5be881:18' labels=frozenset({'Selecao'}) properties={'cores': ['Verde', 'Amarelo'], 'nome': 'Brasil'}>\n",
            "Node n: <Node element_id='4:b53598fd-bb34-4ae1-b7e7-9aeddd5be881:29' labels=frozenset({'Time', 'Futebol'}) properties={'cor': 'Verde e Branco', 'nome': 'Palmeiras'}>\n",
            "Node y: <Node element_id='4:b53598fd-bb34-4ae1-b7e7-9aeddd5be881:19' labels=frozenset({'Selecao'}) properties={'cores': ['Verde', 'Vermelho', 'Branco'], 'nome': 'Italia'}>\n",
            "Node n: <Node element_id='4:b53598fd-bb34-4ae1-b7e7-9aeddd5be881:29' labels=frozenset({'Time', 'Futebol'}) properties={'cor': 'Verde e Branco', 'nome': 'Palmeiras'}>\n",
            "Node y: <Node element_id='4:b53598fd-bb34-4ae1-b7e7-9aeddd5be881:20' labels=frozenset({'Selecao'}) properties={'cores': ['Azul', 'Branco'], 'nome': 'Uruguai'}>\n",
            "Node n: <Node element_id='4:b53598fd-bb34-4ae1-b7e7-9aeddd5be881:29' labels=frozenset({'Time', 'Futebol'}) properties={'cor': 'Verde e Branco', 'nome': 'Palmeiras'}>\n",
            "Node y: <Node element_id='4:b53598fd-bb34-4ae1-b7e7-9aeddd5be881:21' labels=frozenset({'Etiqueta2'}) properties={}>\n",
            "Node n: <Node element_id='4:b53598fd-bb34-4ae1-b7e7-9aeddd5be881:29' labels=frozenset({'Time', 'Futebol'}) properties={'cor': 'Verde e Branco', 'nome': 'Palmeiras'}>\n",
            "Node y: <Node element_id='4:b53598fd-bb34-4ae1-b7e7-9aeddd5be881:22' labels=frozenset() properties={}>\n",
            "Node n: <Node element_id='4:b53598fd-bb34-4ae1-b7e7-9aeddd5be881:29' labels=frozenset({'Time', 'Futebol'}) properties={'cor': 'Verde e Branco', 'nome': 'Palmeiras'}>\n",
            "Node y: <Node element_id='4:b53598fd-bb34-4ae1-b7e7-9aeddd5be881:23' labels=frozenset({'Time'}) properties={}>\n",
            "Node n: <Node element_id='4:b53598fd-bb34-4ae1-b7e7-9aeddd5be881:29' labels=frozenset({'Time', 'Futebol'}) properties={'cor': 'Verde e Branco', 'nome': 'Palmeiras'}>\n",
            "Node y: <Node element_id='4:b53598fd-bb34-4ae1-b7e7-9aeddd5be881:24' labels=frozenset() properties={}>\n",
            "Node n: <Node element_id='4:b53598fd-bb34-4ae1-b7e7-9aeddd5be881:29' labels=frozenset({'Time', 'Futebol'}) properties={'cor': 'Verde e Branco', 'nome': 'Palmeiras'}>\n",
            "Node y: <Node element_id='4:b53598fd-bb34-4ae1-b7e7-9aeddd5be881:25' labels=frozenset({'Selecao'}) properties={'cores': ['Amarelo', 'Vermelho'], 'nome': 'Espanha'}>\n",
            "Node n: <Node element_id='4:b53598fd-bb34-4ae1-b7e7-9aeddd5be881:29' labels=frozenset({'Time', 'Futebol'}) properties={'cor': 'Verde e Branco', 'nome': 'Palmeiras'}>\n",
            "Node y: <Node element_id='4:b53598fd-bb34-4ae1-b7e7-9aeddd5be881:26' labels=frozenset({'Selecao'}) properties={'cores': ['Amarelo', 'Vermelho', 'Preto'], 'nome': 'Alemanha'}>\n",
            "Node n: <Node element_id='4:b53598fd-bb34-4ae1-b7e7-9aeddd5be881:29' labels=frozenset({'Time', 'Futebol'}) properties={'cor': 'Verde e Branco', 'nome': 'Palmeiras'}>\n",
            "Node y: <Node element_id='4:b53598fd-bb34-4ae1-b7e7-9aeddd5be881:27' labels=frozenset({'Time', 'Futebol'}) properties={}>\n",
            "Node n: <Node element_id='4:b53598fd-bb34-4ae1-b7e7-9aeddd5be881:29' labels=frozenset({'Time', 'Futebol'}) properties={'cor': 'Verde e Branco', 'nome': 'Palmeiras'}>\n",
            "Node y: <Node element_id='4:b53598fd-bb34-4ae1-b7e7-9aeddd5be881:28' labels=frozenset({'Time', 'Futebol'}) properties={'cor': 'Preto e Branco', 'nome': 'Corinthians'}>\n",
            "Node n: <Node element_id='4:b53598fd-bb34-4ae1-b7e7-9aeddd5be881:29' labels=frozenset({'Time', 'Futebol'}) properties={'cor': 'Verde e Branco', 'nome': 'Palmeiras'}>\n",
            "Node y: <Node element_id='4:b53598fd-bb34-4ae1-b7e7-9aeddd5be881:29' labels=frozenset({'Time', 'Futebol'}) properties={'cor': 'Verde e Branco', 'nome': 'Palmeiras'}>\n"
          ]
        }
      ]
    },
    {
      "cell_type": "markdown",
      "source": [
        "- Criando um node com a Label \"Tognini\""
      ],
      "metadata": {
        "id": "2d7fDprKXEDQ"
      }
    },
    {
      "cell_type": "code",
      "source": [
        "with driver.session() as session:\n",
        "    session.write_transaction(lambda tx: tx.run(\"CREATE (node7 : TOGNINI)\"))"
      ],
      "metadata": {
        "colab": {
          "base_uri": "https://localhost:8080/"
        },
        "id": "D5Ml3PCCXGpS",
        "outputId": "440eddb7-f4e1-4280-9909-d1749116a8d4"
      },
      "execution_count": 605,
      "outputs": [
        {
          "output_type": "stream",
          "name": "stderr",
          "text": [
            "<ipython-input-605-b78b5b8d41df>:2: DeprecationWarning: write_transaction has been renamed to execute_write\n",
            "  session.write_transaction(lambda tx: tx.run(\"CREATE (node7 : TOGNINI)\"))\n"
          ]
        }
      ]
    },
    {
      "cell_type": "markdown",
      "source": [
        "- Verificando o que foi criado"
      ],
      "metadata": {
        "id": "VC-wkUDkXYfx"
      }
    },
    {
      "cell_type": "code",
      "source": [
        "q1 = \"MATCH (x) RETURN x\"\n",
        "\n",
        "# Abrir uma sessão e executar a consulta\n",
        "with driver.session() as session:\n",
        "    result = session.run(q1)\n",
        "\n",
        "    # Processar os resultados\n",
        "    for record in result:\n",
        "        node = record[\"x\"]\n",
        "        print(node)"
      ],
      "metadata": {
        "colab": {
          "base_uri": "https://localhost:8080/"
        },
        "id": "7IQZdjkwXaYv",
        "outputId": "df1300d8-55cf-433e-f605-8713ed8c7152"
      },
      "execution_count": 606,
      "outputs": [
        {
          "output_type": "stream",
          "name": "stdout",
          "text": [
            "<Node element_id='4:b53598fd-bb34-4ae1-b7e7-9aeddd5be881:0' labels=frozenset({'Selecao'}) properties={'cores': ['Azul', 'Vermelho', 'Branco'], 'nome': 'Estados Unidos'}>\n",
            "<Node element_id='4:b53598fd-bb34-4ae1-b7e7-9aeddd5be881:1' labels=frozenset({'Selecao'}) properties={'cores': ['Vermelho', 'Branco'], 'nome': 'Japao'}>\n",
            "<Node element_id='4:b53598fd-bb34-4ae1-b7e7-9aeddd5be881:2' labels=frozenset({'Selecao'}) properties={'cores': ['Verde', 'Branco'], 'nome': 'Nigeria'}>\n",
            "<Node element_id='4:b53598fd-bb34-4ae1-b7e7-9aeddd5be881:3' labels=frozenset({'Selecao'}) properties={'cores': ['Vermelho', 'Branco'], 'nome': 'Canada'}>\n",
            "<Node element_id='4:b53598fd-bb34-4ae1-b7e7-9aeddd5be881:4' labels=frozenset({'Selecao'}) properties={'cores': ['Amarelo', 'Vermelho', 'Azul'], 'nome': 'Colombia'}>\n",
            "<Node element_id='4:b53598fd-bb34-4ae1-b7e7-9aeddd5be881:5' labels=frozenset({'Continente'}) properties={'nome': 'America do Sul'}>\n",
            "<Node element_id='4:b53598fd-bb34-4ae1-b7e7-9aeddd5be881:6' labels=frozenset({'Continente'}) properties={'nome': 'America do Norte'}>\n",
            "<Node element_id='4:b53598fd-bb34-4ae1-b7e7-9aeddd5be881:7' labels=frozenset() properties={}>\n",
            "<Node element_id='4:b53598fd-bb34-4ae1-b7e7-9aeddd5be881:8' labels=frozenset({'Continente'}) properties={'nome': 'Europa'}>\n",
            "<Node element_id='4:b53598fd-bb34-4ae1-b7e7-9aeddd5be881:9' labels=frozenset({'Continente'}) properties={'nome': 'Africa'}>\n",
            "<Node element_id='4:b53598fd-bb34-4ae1-b7e7-9aeddd5be881:10' labels=frozenset({'Continente'}) properties={'nome': 'Asia'}>\n",
            "<Node element_id='4:b53598fd-bb34-4ae1-b7e7-9aeddd5be881:11' labels=frozenset({'Terra'}) properties={'nome': 'Terra'}>\n",
            "<Node element_id='4:b53598fd-bb34-4ae1-b7e7-9aeddd5be881:12' labels=frozenset({'Etiqueta3'}) properties={}>\n",
            "<Node element_id='4:b53598fd-bb34-4ae1-b7e7-9aeddd5be881:13' labels=frozenset({'Selecao'}) properties={'cores': ['Verde, Vermelho', 'Amarelo', 'Branco', 'Azul'], 'nome': ' Portugal'}>\n",
            "<Node element_id='4:b53598fd-bb34-4ae1-b7e7-9aeddd5be881:14' labels=frozenset({'Etiqueta'}) properties={}>\n",
            "<Node element_id='4:b53598fd-bb34-4ae1-b7e7-9aeddd5be881:15' labels=frozenset({'Selecao'}) properties={'cores': ['Azul', 'Branco', 'Vermelho'], 'nome': 'Franca'}>\n",
            "<Node element_id='4:b53598fd-bb34-4ae1-b7e7-9aeddd5be881:16' labels=frozenset({'Selecao'}) properties={'cores': ['Azul', 'Branco'], 'nome': 'Argentina'}>\n",
            "<Node element_id='4:b53598fd-bb34-4ae1-b7e7-9aeddd5be881:17' labels=frozenset({'Selecao'}) properties={'cores': ['Vermelho', 'Branco'], 'nome': 'Inglaterra'}>\n",
            "<Node element_id='4:b53598fd-bb34-4ae1-b7e7-9aeddd5be881:18' labels=frozenset({'Selecao'}) properties={'cores': ['Verde', 'Amarelo'], 'nome': 'Brasil'}>\n",
            "<Node element_id='4:b53598fd-bb34-4ae1-b7e7-9aeddd5be881:19' labels=frozenset({'Selecao'}) properties={'cores': ['Verde', 'Vermelho', 'Branco'], 'nome': 'Italia'}>\n",
            "<Node element_id='4:b53598fd-bb34-4ae1-b7e7-9aeddd5be881:20' labels=frozenset({'Selecao'}) properties={'cores': ['Azul', 'Branco'], 'nome': 'Uruguai'}>\n",
            "<Node element_id='4:b53598fd-bb34-4ae1-b7e7-9aeddd5be881:21' labels=frozenset({'Etiqueta2'}) properties={}>\n",
            "<Node element_id='4:b53598fd-bb34-4ae1-b7e7-9aeddd5be881:22' labels=frozenset() properties={}>\n",
            "<Node element_id='4:b53598fd-bb34-4ae1-b7e7-9aeddd5be881:23' labels=frozenset({'Time'}) properties={}>\n",
            "<Node element_id='4:b53598fd-bb34-4ae1-b7e7-9aeddd5be881:24' labels=frozenset() properties={}>\n",
            "<Node element_id='4:b53598fd-bb34-4ae1-b7e7-9aeddd5be881:25' labels=frozenset({'Selecao'}) properties={'cores': ['Amarelo', 'Vermelho'], 'nome': 'Espanha'}>\n",
            "<Node element_id='4:b53598fd-bb34-4ae1-b7e7-9aeddd5be881:26' labels=frozenset({'Selecao'}) properties={'cores': ['Amarelo', 'Vermelho', 'Preto'], 'nome': 'Alemanha'}>\n",
            "<Node element_id='4:b53598fd-bb34-4ae1-b7e7-9aeddd5be881:27' labels=frozenset({'Time', 'Futebol'}) properties={}>\n",
            "<Node element_id='4:b53598fd-bb34-4ae1-b7e7-9aeddd5be881:28' labels=frozenset({'Time', 'Futebol'}) properties={'cor': 'Preto e Branco', 'nome': 'Corinthians'}>\n",
            "<Node element_id='4:b53598fd-bb34-4ae1-b7e7-9aeddd5be881:29' labels=frozenset({'Time', 'Futebol'}) properties={'cor': 'Verde e Branco', 'nome': 'Palmeiras'}>\n",
            "<Node element_id='4:b53598fd-bb34-4ae1-b7e7-9aeddd5be881:30' labels=frozenset({'TOGNINI'}) properties={}>\n"
          ]
        }
      ]
    },
    {
      "cell_type": "markdown",
      "source": [
        "- Criando uma LABEL \"CPS\" com o valor \"nome\" e \"Unidade\""
      ],
      "metadata": {
        "id": "keZkOUBEXfRd"
      }
    },
    {
      "cell_type": "code",
      "source": [
        "with driver.session() as session:\n",
        "    session.write_transaction(lambda tx: tx.run(\"CREATE (cps: Unidades {nome:'FATEC', unidade:'Pastor Tognini'})\"))"
      ],
      "metadata": {
        "colab": {
          "base_uri": "https://localhost:8080/"
        },
        "id": "gBED0XdaXjE1",
        "outputId": "ebcfd981-1fd7-44b7-effb-53f84739486f"
      },
      "execution_count": 607,
      "outputs": [
        {
          "output_type": "stream",
          "name": "stderr",
          "text": [
            "<ipython-input-607-6503ce2e1be4>:2: DeprecationWarning: write_transaction has been renamed to execute_write\n",
            "  session.write_transaction(lambda tx: tx.run(\"CREATE (cps: Unidades {nome:'FATEC', unidade:'Pastor Tognini'})\"))\n"
          ]
        }
      ]
    },
    {
      "cell_type": "markdown",
      "source": [
        "- Verificando o que foi criado"
      ],
      "metadata": {
        "id": "h65OnSo6X2l9"
      }
    },
    {
      "cell_type": "code",
      "source": [
        "q1 = \"MATCH (x) RETURN x\"\n",
        "\n",
        "# Abrir uma sessão e executar a consulta\n",
        "with driver.session() as session:\n",
        "    result = session.run(q1)\n",
        "\n",
        "    # Processar os resultados\n",
        "    for record in result:\n",
        "        node = record[\"x\"]\n",
        "        print(node)"
      ],
      "metadata": {
        "colab": {
          "base_uri": "https://localhost:8080/"
        },
        "id": "FWzvt7upXw-I",
        "outputId": "1053af0d-f2d2-43d3-b221-145d5e325674"
      },
      "execution_count": 608,
      "outputs": [
        {
          "output_type": "stream",
          "name": "stdout",
          "text": [
            "<Node element_id='4:b53598fd-bb34-4ae1-b7e7-9aeddd5be881:0' labels=frozenset({'Selecao'}) properties={'cores': ['Azul', 'Vermelho', 'Branco'], 'nome': 'Estados Unidos'}>\n",
            "<Node element_id='4:b53598fd-bb34-4ae1-b7e7-9aeddd5be881:1' labels=frozenset({'Selecao'}) properties={'cores': ['Vermelho', 'Branco'], 'nome': 'Japao'}>\n",
            "<Node element_id='4:b53598fd-bb34-4ae1-b7e7-9aeddd5be881:2' labels=frozenset({'Selecao'}) properties={'cores': ['Verde', 'Branco'], 'nome': 'Nigeria'}>\n",
            "<Node element_id='4:b53598fd-bb34-4ae1-b7e7-9aeddd5be881:3' labels=frozenset({'Selecao'}) properties={'cores': ['Vermelho', 'Branco'], 'nome': 'Canada'}>\n",
            "<Node element_id='4:b53598fd-bb34-4ae1-b7e7-9aeddd5be881:4' labels=frozenset({'Selecao'}) properties={'cores': ['Amarelo', 'Vermelho', 'Azul'], 'nome': 'Colombia'}>\n",
            "<Node element_id='4:b53598fd-bb34-4ae1-b7e7-9aeddd5be881:5' labels=frozenset({'Continente'}) properties={'nome': 'America do Sul'}>\n",
            "<Node element_id='4:b53598fd-bb34-4ae1-b7e7-9aeddd5be881:6' labels=frozenset({'Continente'}) properties={'nome': 'America do Norte'}>\n",
            "<Node element_id='4:b53598fd-bb34-4ae1-b7e7-9aeddd5be881:7' labels=frozenset() properties={}>\n",
            "<Node element_id='4:b53598fd-bb34-4ae1-b7e7-9aeddd5be881:8' labels=frozenset({'Continente'}) properties={'nome': 'Europa'}>\n",
            "<Node element_id='4:b53598fd-bb34-4ae1-b7e7-9aeddd5be881:9' labels=frozenset({'Continente'}) properties={'nome': 'Africa'}>\n",
            "<Node element_id='4:b53598fd-bb34-4ae1-b7e7-9aeddd5be881:10' labels=frozenset({'Continente'}) properties={'nome': 'Asia'}>\n",
            "<Node element_id='4:b53598fd-bb34-4ae1-b7e7-9aeddd5be881:11' labels=frozenset({'Terra'}) properties={'nome': 'Terra'}>\n",
            "<Node element_id='4:b53598fd-bb34-4ae1-b7e7-9aeddd5be881:12' labels=frozenset({'Etiqueta3'}) properties={}>\n",
            "<Node element_id='4:b53598fd-bb34-4ae1-b7e7-9aeddd5be881:13' labels=frozenset({'Selecao'}) properties={'cores': ['Verde, Vermelho', 'Amarelo', 'Branco', 'Azul'], 'nome': ' Portugal'}>\n",
            "<Node element_id='4:b53598fd-bb34-4ae1-b7e7-9aeddd5be881:14' labels=frozenset({'Etiqueta'}) properties={}>\n",
            "<Node element_id='4:b53598fd-bb34-4ae1-b7e7-9aeddd5be881:15' labels=frozenset({'Selecao'}) properties={'cores': ['Azul', 'Branco', 'Vermelho'], 'nome': 'Franca'}>\n",
            "<Node element_id='4:b53598fd-bb34-4ae1-b7e7-9aeddd5be881:16' labels=frozenset({'Selecao'}) properties={'cores': ['Azul', 'Branco'], 'nome': 'Argentina'}>\n",
            "<Node element_id='4:b53598fd-bb34-4ae1-b7e7-9aeddd5be881:17' labels=frozenset({'Selecao'}) properties={'cores': ['Vermelho', 'Branco'], 'nome': 'Inglaterra'}>\n",
            "<Node element_id='4:b53598fd-bb34-4ae1-b7e7-9aeddd5be881:18' labels=frozenset({'Selecao'}) properties={'cores': ['Verde', 'Amarelo'], 'nome': 'Brasil'}>\n",
            "<Node element_id='4:b53598fd-bb34-4ae1-b7e7-9aeddd5be881:19' labels=frozenset({'Selecao'}) properties={'cores': ['Verde', 'Vermelho', 'Branco'], 'nome': 'Italia'}>\n",
            "<Node element_id='4:b53598fd-bb34-4ae1-b7e7-9aeddd5be881:20' labels=frozenset({'Selecao'}) properties={'cores': ['Azul', 'Branco'], 'nome': 'Uruguai'}>\n",
            "<Node element_id='4:b53598fd-bb34-4ae1-b7e7-9aeddd5be881:21' labels=frozenset({'Etiqueta2'}) properties={}>\n",
            "<Node element_id='4:b53598fd-bb34-4ae1-b7e7-9aeddd5be881:22' labels=frozenset() properties={}>\n",
            "<Node element_id='4:b53598fd-bb34-4ae1-b7e7-9aeddd5be881:23' labels=frozenset({'Time'}) properties={}>\n",
            "<Node element_id='4:b53598fd-bb34-4ae1-b7e7-9aeddd5be881:24' labels=frozenset() properties={}>\n",
            "<Node element_id='4:b53598fd-bb34-4ae1-b7e7-9aeddd5be881:25' labels=frozenset({'Selecao'}) properties={'cores': ['Amarelo', 'Vermelho'], 'nome': 'Espanha'}>\n",
            "<Node element_id='4:b53598fd-bb34-4ae1-b7e7-9aeddd5be881:26' labels=frozenset({'Selecao'}) properties={'cores': ['Amarelo', 'Vermelho', 'Preto'], 'nome': 'Alemanha'}>\n",
            "<Node element_id='4:b53598fd-bb34-4ae1-b7e7-9aeddd5be881:27' labels=frozenset({'Time', 'Futebol'}) properties={}>\n",
            "<Node element_id='4:b53598fd-bb34-4ae1-b7e7-9aeddd5be881:28' labels=frozenset({'Time', 'Futebol'}) properties={'cor': 'Preto e Branco', 'nome': 'Corinthians'}>\n",
            "<Node element_id='4:b53598fd-bb34-4ae1-b7e7-9aeddd5be881:29' labels=frozenset({'Time', 'Futebol'}) properties={'cor': 'Verde e Branco', 'nome': 'Palmeiras'}>\n",
            "<Node element_id='4:b53598fd-bb34-4ae1-b7e7-9aeddd5be881:30' labels=frozenset({'TOGNINI'}) properties={}>\n",
            "<Node element_id='4:b53598fd-bb34-4ae1-b7e7-9aeddd5be881:31' labels=frozenset({'Unidades'}) properties={'nome': 'FATEC', 'unidade': 'Pastor Tognini'}>\n"
          ]
        }
      ]
    },
    {
      "cell_type": "markdown",
      "source": [
        "- Criando uma label Unidades com o valor/propriedade \"nome\" e \"unidade\""
      ],
      "metadata": {
        "id": "lSoq5noIX4ud"
      }
    },
    {
      "cell_type": "code",
      "source": [
        "with driver.session() as session:\n",
        "    session.write_transaction(lambda tx: tx.run(\"CREATE (cps: Unidades {nome:'FATEC', unidade:'Ipiranga'})\"))"
      ],
      "metadata": {
        "colab": {
          "base_uri": "https://localhost:8080/"
        },
        "id": "b2r3uCJ4X__w",
        "outputId": "2d105d49-c8ff-428f-81f9-7beb6dcaae9d"
      },
      "execution_count": 609,
      "outputs": [
        {
          "output_type": "stream",
          "name": "stderr",
          "text": [
            "<ipython-input-609-c88df0907cae>:2: DeprecationWarning: write_transaction has been renamed to execute_write\n",
            "  session.write_transaction(lambda tx: tx.run(\"CREATE (cps: Unidades {nome:'FATEC', unidade:'Ipiranga'})\"))\n"
          ]
        }
      ]
    },
    {
      "cell_type": "markdown",
      "source": [
        "- Verificando o que foi criado"
      ],
      "metadata": {
        "id": "cdbmO5sPYFGx"
      }
    },
    {
      "cell_type": "code",
      "source": [
        "q1 = \"MATCH (x) RETURN x\"\n",
        "\n",
        "# Abrir uma sessão e executar a consulta\n",
        "with driver.session() as session:\n",
        "    result = session.run(q1)\n",
        "\n",
        "    # Processar os resultados\n",
        "    for record in result:\n",
        "        node = record[\"x\"]\n",
        "        print(node)"
      ],
      "metadata": {
        "colab": {
          "base_uri": "https://localhost:8080/"
        },
        "id": "Y4reubgxYGzH",
        "outputId": "5d79ff22-3e01-4d4c-847f-1cdc8b24e3d5"
      },
      "execution_count": 610,
      "outputs": [
        {
          "output_type": "stream",
          "name": "stdout",
          "text": [
            "<Node element_id='4:b53598fd-bb34-4ae1-b7e7-9aeddd5be881:0' labels=frozenset({'Selecao'}) properties={'cores': ['Azul', 'Vermelho', 'Branco'], 'nome': 'Estados Unidos'}>\n",
            "<Node element_id='4:b53598fd-bb34-4ae1-b7e7-9aeddd5be881:1' labels=frozenset({'Selecao'}) properties={'cores': ['Vermelho', 'Branco'], 'nome': 'Japao'}>\n",
            "<Node element_id='4:b53598fd-bb34-4ae1-b7e7-9aeddd5be881:2' labels=frozenset({'Selecao'}) properties={'cores': ['Verde', 'Branco'], 'nome': 'Nigeria'}>\n",
            "<Node element_id='4:b53598fd-bb34-4ae1-b7e7-9aeddd5be881:3' labels=frozenset({'Selecao'}) properties={'cores': ['Vermelho', 'Branco'], 'nome': 'Canada'}>\n",
            "<Node element_id='4:b53598fd-bb34-4ae1-b7e7-9aeddd5be881:4' labels=frozenset({'Selecao'}) properties={'cores': ['Amarelo', 'Vermelho', 'Azul'], 'nome': 'Colombia'}>\n",
            "<Node element_id='4:b53598fd-bb34-4ae1-b7e7-9aeddd5be881:5' labels=frozenset({'Continente'}) properties={'nome': 'America do Sul'}>\n",
            "<Node element_id='4:b53598fd-bb34-4ae1-b7e7-9aeddd5be881:6' labels=frozenset({'Continente'}) properties={'nome': 'America do Norte'}>\n",
            "<Node element_id='4:b53598fd-bb34-4ae1-b7e7-9aeddd5be881:7' labels=frozenset() properties={}>\n",
            "<Node element_id='4:b53598fd-bb34-4ae1-b7e7-9aeddd5be881:8' labels=frozenset({'Continente'}) properties={'nome': 'Europa'}>\n",
            "<Node element_id='4:b53598fd-bb34-4ae1-b7e7-9aeddd5be881:9' labels=frozenset({'Continente'}) properties={'nome': 'Africa'}>\n",
            "<Node element_id='4:b53598fd-bb34-4ae1-b7e7-9aeddd5be881:10' labels=frozenset({'Continente'}) properties={'nome': 'Asia'}>\n",
            "<Node element_id='4:b53598fd-bb34-4ae1-b7e7-9aeddd5be881:11' labels=frozenset({'Terra'}) properties={'nome': 'Terra'}>\n",
            "<Node element_id='4:b53598fd-bb34-4ae1-b7e7-9aeddd5be881:12' labels=frozenset({'Etiqueta3'}) properties={}>\n",
            "<Node element_id='4:b53598fd-bb34-4ae1-b7e7-9aeddd5be881:13' labels=frozenset({'Selecao'}) properties={'cores': ['Verde, Vermelho', 'Amarelo', 'Branco', 'Azul'], 'nome': ' Portugal'}>\n",
            "<Node element_id='4:b53598fd-bb34-4ae1-b7e7-9aeddd5be881:14' labels=frozenset({'Etiqueta'}) properties={}>\n",
            "<Node element_id='4:b53598fd-bb34-4ae1-b7e7-9aeddd5be881:15' labels=frozenset({'Selecao'}) properties={'cores': ['Azul', 'Branco', 'Vermelho'], 'nome': 'Franca'}>\n",
            "<Node element_id='4:b53598fd-bb34-4ae1-b7e7-9aeddd5be881:16' labels=frozenset({'Selecao'}) properties={'cores': ['Azul', 'Branco'], 'nome': 'Argentina'}>\n",
            "<Node element_id='4:b53598fd-bb34-4ae1-b7e7-9aeddd5be881:17' labels=frozenset({'Selecao'}) properties={'cores': ['Vermelho', 'Branco'], 'nome': 'Inglaterra'}>\n",
            "<Node element_id='4:b53598fd-bb34-4ae1-b7e7-9aeddd5be881:18' labels=frozenset({'Selecao'}) properties={'cores': ['Verde', 'Amarelo'], 'nome': 'Brasil'}>\n",
            "<Node element_id='4:b53598fd-bb34-4ae1-b7e7-9aeddd5be881:19' labels=frozenset({'Selecao'}) properties={'cores': ['Verde', 'Vermelho', 'Branco'], 'nome': 'Italia'}>\n",
            "<Node element_id='4:b53598fd-bb34-4ae1-b7e7-9aeddd5be881:20' labels=frozenset({'Selecao'}) properties={'cores': ['Azul', 'Branco'], 'nome': 'Uruguai'}>\n",
            "<Node element_id='4:b53598fd-bb34-4ae1-b7e7-9aeddd5be881:21' labels=frozenset({'Etiqueta2'}) properties={}>\n",
            "<Node element_id='4:b53598fd-bb34-4ae1-b7e7-9aeddd5be881:22' labels=frozenset() properties={}>\n",
            "<Node element_id='4:b53598fd-bb34-4ae1-b7e7-9aeddd5be881:23' labels=frozenset({'Time'}) properties={}>\n",
            "<Node element_id='4:b53598fd-bb34-4ae1-b7e7-9aeddd5be881:24' labels=frozenset() properties={}>\n",
            "<Node element_id='4:b53598fd-bb34-4ae1-b7e7-9aeddd5be881:25' labels=frozenset({'Selecao'}) properties={'cores': ['Amarelo', 'Vermelho'], 'nome': 'Espanha'}>\n",
            "<Node element_id='4:b53598fd-bb34-4ae1-b7e7-9aeddd5be881:26' labels=frozenset({'Selecao'}) properties={'cores': ['Amarelo', 'Vermelho', 'Preto'], 'nome': 'Alemanha'}>\n",
            "<Node element_id='4:b53598fd-bb34-4ae1-b7e7-9aeddd5be881:27' labels=frozenset({'Time', 'Futebol'}) properties={}>\n",
            "<Node element_id='4:b53598fd-bb34-4ae1-b7e7-9aeddd5be881:28' labels=frozenset({'Time', 'Futebol'}) properties={'cor': 'Preto e Branco', 'nome': 'Corinthians'}>\n",
            "<Node element_id='4:b53598fd-bb34-4ae1-b7e7-9aeddd5be881:29' labels=frozenset({'Time', 'Futebol'}) properties={'cor': 'Verde e Branco', 'nome': 'Palmeiras'}>\n",
            "<Node element_id='4:b53598fd-bb34-4ae1-b7e7-9aeddd5be881:30' labels=frozenset({'TOGNINI'}) properties={}>\n",
            "<Node element_id='4:b53598fd-bb34-4ae1-b7e7-9aeddd5be881:31' labels=frozenset({'Unidades'}) properties={'nome': 'FATEC', 'unidade': 'Pastor Tognini'}>\n",
            "<Node element_id='4:b53598fd-bb34-4ae1-b7e7-9aeddd5be881:32' labels=frozenset({'Unidades'}) properties={'nome': 'FATEC', 'unidade': 'Ipiranga'}>\n"
          ]
        }
      ]
    },
    {
      "cell_type": "markdown",
      "source": [
        "- Retornando nodes com a label \"Unidades\" onde contém propriedades nome \"Fatec\""
      ],
      "metadata": {
        "id": "AAHFmcpNYZlZ"
      }
    },
    {
      "cell_type": "code",
      "source": [
        "q1 = \"MATCH (n:Unidades) WHERE n.nome = 'FATEC' RETURN n\"\n",
        "\n",
        "# Abrir uma sessão e executar a consulta\n",
        "with driver.session() as session:\n",
        "    result = session.run(q1)\n",
        "\n",
        "    # Processar os resultados\n",
        "    for record in result:\n",
        "        node = record[\"n\"]\n",
        "        print(node)"
      ],
      "metadata": {
        "colab": {
          "base_uri": "https://localhost:8080/"
        },
        "id": "3s8cP4AbYOlB",
        "outputId": "c34749ad-935f-476a-b22a-cd5bf8e53051"
      },
      "execution_count": 611,
      "outputs": [
        {
          "output_type": "stream",
          "name": "stdout",
          "text": [
            "<Node element_id='4:b53598fd-bb34-4ae1-b7e7-9aeddd5be881:31' labels=frozenset({'Unidades'}) properties={'nome': 'FATEC', 'unidade': 'Pastor Tognini'}>\n",
            "<Node element_id='4:b53598fd-bb34-4ae1-b7e7-9aeddd5be881:32' labels=frozenset({'Unidades'}) properties={'nome': 'FATEC', 'unidade': 'Ipiranga'}>\n"
          ]
        }
      ]
    },
    {
      "cell_type": "markdown",
      "source": [
        "- Retornando nodes com Label \"Unidades\" onde contém a propriedade nome \"FATEC\" e unidade \"Ipiranga\""
      ],
      "metadata": {
        "id": "r4pOMsNDYpHt"
      }
    },
    {
      "cell_type": "code",
      "source": [
        "q1 = \"MATCH (n:Unidades), (y:Unidades) WHERE n.nome = 'FATEC' AND y.unidade='Ipiranga' RETURN n,y\"\n",
        "\n",
        "# Abrir uma sessão e executar a consulta\n",
        "with driver.session() as session:\n",
        "    result = session.run(q1)\n",
        "\n",
        "    # Processar os resultados\n",
        "    for record in result:\n",
        "        node_n = record[\"n\"]\n",
        "        node_y = record[\"y\"]\n",
        "        print(f\"Node n: {node_n}\\nNode y: {node_y}\")\n"
      ],
      "metadata": {
        "colab": {
          "base_uri": "https://localhost:8080/"
        },
        "id": "1knmkJC8Y1ES",
        "outputId": "0e6a1d7d-6689-486c-f1d5-e9a6ce450c27"
      },
      "execution_count": 612,
      "outputs": [
        {
          "output_type": "stream",
          "name": "stdout",
          "text": [
            "Node n: <Node element_id='4:b53598fd-bb34-4ae1-b7e7-9aeddd5be881:31' labels=frozenset({'Unidades'}) properties={'nome': 'FATEC', 'unidade': 'Pastor Tognini'}>\n",
            "Node y: <Node element_id='4:b53598fd-bb34-4ae1-b7e7-9aeddd5be881:32' labels=frozenset({'Unidades'}) properties={'nome': 'FATEC', 'unidade': 'Ipiranga'}>\n",
            "Node n: <Node element_id='4:b53598fd-bb34-4ae1-b7e7-9aeddd5be881:32' labels=frozenset({'Unidades'}) properties={'nome': 'FATEC', 'unidade': 'Ipiranga'}>\n",
            "Node y: <Node element_id='4:b53598fd-bb34-4ae1-b7e7-9aeddd5be881:32' labels=frozenset({'Unidades'}) properties={'nome': 'FATEC', 'unidade': 'Ipiranga'}>\n"
          ]
        }
      ]
    },
    {
      "cell_type": "markdown",
      "source": [
        "- Retornando nodes com a label \"Unidades\" onde contém propriedade nome \"FATEC\" e \"Unidade\" e retornando apenas o nome (x)"
      ],
      "metadata": {
        "id": "KLk0_ZthZ5Hi"
      }
    },
    {
      "cell_type": "code",
      "source": [
        "q1 = \"MATCH (n:Unidades), (y:Unidades) WHERE n.nome = 'FATEC' AND y.unidade='Ipiranga' RETURN n\"\n",
        "\n",
        "# Abrir uma sessão e executar a consulta\n",
        "with driver.session() as session:\n",
        "    result = session.run(q1)\n",
        "\n",
        "    # Processar os resultados\n",
        "    for record in result:\n",
        "        node_n = record[\"n\"]\n",
        "        print(f\"Node n: {node_n}\")\n"
      ],
      "metadata": {
        "colab": {
          "base_uri": "https://localhost:8080/"
        },
        "id": "Qr0WBaGlaCMO",
        "outputId": "070a1262-9bdd-4c79-cd99-d8992ffe561a"
      },
      "execution_count": 613,
      "outputs": [
        {
          "output_type": "stream",
          "name": "stdout",
          "text": [
            "Node n: <Node element_id='4:b53598fd-bb34-4ae1-b7e7-9aeddd5be881:31' labels=frozenset({'Unidades'}) properties={'nome': 'FATEC', 'unidade': 'Pastor Tognini'}>\n",
            "Node n: <Node element_id='4:b53598fd-bb34-4ae1-b7e7-9aeddd5be881:32' labels=frozenset({'Unidades'}) properties={'nome': 'FATEC', 'unidade': 'Ipiranga'}>\n"
          ]
        }
      ]
    },
    {
      "cell_type": "markdown",
      "source": [
        "- Retornando nodes com label \"Unidades\" onde contém propriedades nome \"Fatec\" e Unidades e retornando apenas \"Unidade\" (y)"
      ],
      "metadata": {
        "id": "qWIn8ETaaRV_"
      }
    },
    {
      "cell_type": "code",
      "source": [
        "q1 = \"MATCH (n:Unidades), (y:Unidades) WHERE n.nome = 'FATEC' AND y.unidade='Ipiranga' RETURN y\"\n",
        "\n",
        "# Abrir uma sessão e executar a consulta\n",
        "with driver.session() as session:\n",
        "    result = session.run(q1)\n",
        "\n",
        "    # Processar os resultados\n",
        "    for record in result:\n",
        "        node_n = record[\"y\"]\n",
        "        print(f\"Node y: {node_n}\")\n"
      ],
      "metadata": {
        "colab": {
          "base_uri": "https://localhost:8080/"
        },
        "id": "oxyNSRhJachh",
        "outputId": "c5940750-018e-4c87-8f2c-585681bbabf7"
      },
      "execution_count": 614,
      "outputs": [
        {
          "output_type": "stream",
          "name": "stdout",
          "text": [
            "Node y: <Node element_id='4:b53598fd-bb34-4ae1-b7e7-9aeddd5be881:32' labels=frozenset({'Unidades'}) properties={'nome': 'FATEC', 'unidade': 'Ipiranga'}>\n",
            "Node y: <Node element_id='4:b53598fd-bb34-4ae1-b7e7-9aeddd5be881:32' labels=frozenset({'Unidades'}) properties={'nome': 'FATEC', 'unidade': 'Ipiranga'}>\n"
          ]
        }
      ]
    },
    {
      "cell_type": "markdown",
      "source": [
        "- Verificando nodes com a label \"Time e \"Futebol\""
      ],
      "metadata": {
        "id": "hU_TTB8Fav7o"
      }
    },
    {
      "cell_type": "code",
      "source": [
        "q1 = \"MATCH (n:Time:Futebol) RETURN n\"\n",
        "\n",
        "# Abrir uma sessão e executar a consulta\n",
        "with driver.session() as session:\n",
        "    result = session.run(q1)\n",
        "\n",
        "    # Processar os resultados\n",
        "    for record in result:\n",
        "        node = record[\"n\"]\n",
        "        print(node)"
      ],
      "metadata": {
        "colab": {
          "base_uri": "https://localhost:8080/"
        },
        "id": "sjqcKA-Aay9Z",
        "outputId": "6d683dcf-6534-48ee-bafb-27d035255521"
      },
      "execution_count": 615,
      "outputs": [
        {
          "output_type": "stream",
          "name": "stdout",
          "text": [
            "<Node element_id='4:b53598fd-bb34-4ae1-b7e7-9aeddd5be881:27' labels=frozenset({'Time', 'Futebol'}) properties={}>\n",
            "<Node element_id='4:b53598fd-bb34-4ae1-b7e7-9aeddd5be881:28' labels=frozenset({'Time', 'Futebol'}) properties={'cor': 'Preto e Branco', 'nome': 'Corinthians'}>\n",
            "<Node element_id='4:b53598fd-bb34-4ae1-b7e7-9aeddd5be881:29' labels=frozenset({'Time', 'Futebol'}) properties={'cor': 'Verde e Branco', 'nome': 'Palmeiras'}>\n"
          ]
        }
      ]
    },
    {
      "cell_type": "markdown",
      "source": [
        "- Vendo todos os nodes"
      ],
      "metadata": {
        "id": "O87H7Yppa_Ix"
      }
    },
    {
      "cell_type": "code",
      "source": [
        "q1 = \"MATCH (n) RETURN n\"\n",
        "\n",
        "# Abrir uma sessão e executar a consulta\n",
        "with driver.session() as session:\n",
        "    result = session.run(q1)\n",
        "\n",
        "    # Processar os resultados\n",
        "    for record in result:\n",
        "        node = record[\"n\"]\n",
        "        print(node)"
      ],
      "metadata": {
        "colab": {
          "base_uri": "https://localhost:8080/"
        },
        "id": "Mu6BHLjvbAsg",
        "outputId": "a0ca7b15-1fc8-4dc3-d77c-ee9717900f69"
      },
      "execution_count": 616,
      "outputs": [
        {
          "output_type": "stream",
          "name": "stdout",
          "text": [
            "<Node element_id='4:b53598fd-bb34-4ae1-b7e7-9aeddd5be881:0' labels=frozenset({'Selecao'}) properties={'cores': ['Azul', 'Vermelho', 'Branco'], 'nome': 'Estados Unidos'}>\n",
            "<Node element_id='4:b53598fd-bb34-4ae1-b7e7-9aeddd5be881:1' labels=frozenset({'Selecao'}) properties={'cores': ['Vermelho', 'Branco'], 'nome': 'Japao'}>\n",
            "<Node element_id='4:b53598fd-bb34-4ae1-b7e7-9aeddd5be881:2' labels=frozenset({'Selecao'}) properties={'cores': ['Verde', 'Branco'], 'nome': 'Nigeria'}>\n",
            "<Node element_id='4:b53598fd-bb34-4ae1-b7e7-9aeddd5be881:3' labels=frozenset({'Selecao'}) properties={'cores': ['Vermelho', 'Branco'], 'nome': 'Canada'}>\n",
            "<Node element_id='4:b53598fd-bb34-4ae1-b7e7-9aeddd5be881:4' labels=frozenset({'Selecao'}) properties={'cores': ['Amarelo', 'Vermelho', 'Azul'], 'nome': 'Colombia'}>\n",
            "<Node element_id='4:b53598fd-bb34-4ae1-b7e7-9aeddd5be881:5' labels=frozenset({'Continente'}) properties={'nome': 'America do Sul'}>\n",
            "<Node element_id='4:b53598fd-bb34-4ae1-b7e7-9aeddd5be881:6' labels=frozenset({'Continente'}) properties={'nome': 'America do Norte'}>\n",
            "<Node element_id='4:b53598fd-bb34-4ae1-b7e7-9aeddd5be881:7' labels=frozenset() properties={}>\n",
            "<Node element_id='4:b53598fd-bb34-4ae1-b7e7-9aeddd5be881:8' labels=frozenset({'Continente'}) properties={'nome': 'Europa'}>\n",
            "<Node element_id='4:b53598fd-bb34-4ae1-b7e7-9aeddd5be881:9' labels=frozenset({'Continente'}) properties={'nome': 'Africa'}>\n",
            "<Node element_id='4:b53598fd-bb34-4ae1-b7e7-9aeddd5be881:10' labels=frozenset({'Continente'}) properties={'nome': 'Asia'}>\n",
            "<Node element_id='4:b53598fd-bb34-4ae1-b7e7-9aeddd5be881:11' labels=frozenset({'Terra'}) properties={'nome': 'Terra'}>\n",
            "<Node element_id='4:b53598fd-bb34-4ae1-b7e7-9aeddd5be881:12' labels=frozenset({'Etiqueta3'}) properties={}>\n",
            "<Node element_id='4:b53598fd-bb34-4ae1-b7e7-9aeddd5be881:13' labels=frozenset({'Selecao'}) properties={'cores': ['Verde, Vermelho', 'Amarelo', 'Branco', 'Azul'], 'nome': ' Portugal'}>\n",
            "<Node element_id='4:b53598fd-bb34-4ae1-b7e7-9aeddd5be881:14' labels=frozenset({'Etiqueta'}) properties={}>\n",
            "<Node element_id='4:b53598fd-bb34-4ae1-b7e7-9aeddd5be881:15' labels=frozenset({'Selecao'}) properties={'cores': ['Azul', 'Branco', 'Vermelho'], 'nome': 'Franca'}>\n",
            "<Node element_id='4:b53598fd-bb34-4ae1-b7e7-9aeddd5be881:16' labels=frozenset({'Selecao'}) properties={'cores': ['Azul', 'Branco'], 'nome': 'Argentina'}>\n",
            "<Node element_id='4:b53598fd-bb34-4ae1-b7e7-9aeddd5be881:17' labels=frozenset({'Selecao'}) properties={'cores': ['Vermelho', 'Branco'], 'nome': 'Inglaterra'}>\n",
            "<Node element_id='4:b53598fd-bb34-4ae1-b7e7-9aeddd5be881:18' labels=frozenset({'Selecao'}) properties={'cores': ['Verde', 'Amarelo'], 'nome': 'Brasil'}>\n",
            "<Node element_id='4:b53598fd-bb34-4ae1-b7e7-9aeddd5be881:19' labels=frozenset({'Selecao'}) properties={'cores': ['Verde', 'Vermelho', 'Branco'], 'nome': 'Italia'}>\n",
            "<Node element_id='4:b53598fd-bb34-4ae1-b7e7-9aeddd5be881:20' labels=frozenset({'Selecao'}) properties={'cores': ['Azul', 'Branco'], 'nome': 'Uruguai'}>\n",
            "<Node element_id='4:b53598fd-bb34-4ae1-b7e7-9aeddd5be881:21' labels=frozenset({'Etiqueta2'}) properties={}>\n",
            "<Node element_id='4:b53598fd-bb34-4ae1-b7e7-9aeddd5be881:22' labels=frozenset() properties={}>\n",
            "<Node element_id='4:b53598fd-bb34-4ae1-b7e7-9aeddd5be881:23' labels=frozenset({'Time'}) properties={}>\n",
            "<Node element_id='4:b53598fd-bb34-4ae1-b7e7-9aeddd5be881:24' labels=frozenset() properties={}>\n",
            "<Node element_id='4:b53598fd-bb34-4ae1-b7e7-9aeddd5be881:25' labels=frozenset({'Selecao'}) properties={'cores': ['Amarelo', 'Vermelho'], 'nome': 'Espanha'}>\n",
            "<Node element_id='4:b53598fd-bb34-4ae1-b7e7-9aeddd5be881:26' labels=frozenset({'Selecao'}) properties={'cores': ['Amarelo', 'Vermelho', 'Preto'], 'nome': 'Alemanha'}>\n",
            "<Node element_id='4:b53598fd-bb34-4ae1-b7e7-9aeddd5be881:27' labels=frozenset({'Time', 'Futebol'}) properties={}>\n",
            "<Node element_id='4:b53598fd-bb34-4ae1-b7e7-9aeddd5be881:28' labels=frozenset({'Time', 'Futebol'}) properties={'cor': 'Preto e Branco', 'nome': 'Corinthians'}>\n",
            "<Node element_id='4:b53598fd-bb34-4ae1-b7e7-9aeddd5be881:29' labels=frozenset({'Time', 'Futebol'}) properties={'cor': 'Verde e Branco', 'nome': 'Palmeiras'}>\n",
            "<Node element_id='4:b53598fd-bb34-4ae1-b7e7-9aeddd5be881:30' labels=frozenset({'TOGNINI'}) properties={}>\n",
            "<Node element_id='4:b53598fd-bb34-4ae1-b7e7-9aeddd5be881:31' labels=frozenset({'Unidades'}) properties={'nome': 'FATEC', 'unidade': 'Pastor Tognini'}>\n",
            "<Node element_id='4:b53598fd-bb34-4ae1-b7e7-9aeddd5be881:32' labels=frozenset({'Unidades'}) properties={'nome': 'FATEC', 'unidade': 'Ipiranga'}>\n"
          ]
        }
      ]
    },
    {
      "cell_type": "markdown",
      "source": [
        "- Deletando todos os nodes"
      ],
      "metadata": {
        "id": "gVKzKZQpbEEv"
      }
    },
    {
      "cell_type": "code",
      "source": [
        "with driver.session() as session:\n",
        "    session.write_transaction(lambda tx: tx.run(\"MATCH (n) DETACH DELETE n\"))"
      ],
      "metadata": {
        "colab": {
          "base_uri": "https://localhost:8080/"
        },
        "id": "rw0DlmCVbImT",
        "outputId": "64259a42-fa06-4948-e6de-583ac35ec47c"
      },
      "execution_count": 617,
      "outputs": [
        {
          "output_type": "stream",
          "name": "stderr",
          "text": [
            "<ipython-input-617-a6f36666ed44>:2: DeprecationWarning: write_transaction has been renamed to execute_write\n",
            "  session.write_transaction(lambda tx: tx.run(\"MATCH (n) DETACH DELETE n\"))\n"
          ]
        }
      ]
    },
    {
      "cell_type": "markdown",
      "source": [
        "- Verificando o que aconteceu"
      ],
      "metadata": {
        "id": "cMdD_lkUbSXr"
      }
    },
    {
      "cell_type": "code",
      "source": [
        "q1 = \"MATCH (x) RETURN x\"\n",
        "\n",
        "# Abrir uma sessão e executar a consulta\n",
        "with driver.session() as session:\n",
        "    result = session.run(q1)\n",
        "\n",
        "    # Processar os resultados\n",
        "    for record in result:\n",
        "        node = record[\"x\"]\n",
        "        print(node)"
      ],
      "metadata": {
        "id": "tShwHIEubTzp"
      },
      "execution_count": 618,
      "outputs": []
    },
    {
      "cell_type": "markdown",
      "source": [
        "- Retornou nada? É isso mesmo!\n"
      ],
      "metadata": {
        "id": "-qiKpkd4bVHi"
      }
    },
    {
      "cell_type": "markdown",
      "source": [
        "Vamos para algo mais prático agora!\n",
        "\n",
        "- Criando o node \"Selecao\" com as propriedades nome \"Brasil\" e cor \"Verde\" e cor \"Amarelo\""
      ],
      "metadata": {
        "id": "Y9gzNfOSnoG7"
      }
    },
    {
      "cell_type": "code",
      "source": [
        "with driver.session() as session:\n",
        "    session.write_transaction(lambda tx: tx.run(\"CREATE (:Selecao{nome:'Brasil',cor:'Verde',cor:'Amarelo'})\"))"
      ],
      "metadata": {
        "colab": {
          "base_uri": "https://localhost:8080/"
        },
        "id": "A3QvBGu7kPfC",
        "outputId": "5f239c15-bd5a-4f8f-839c-0c120468c771"
      },
      "execution_count": 619,
      "outputs": [
        {
          "output_type": "stream",
          "name": "stderr",
          "text": [
            "<ipython-input-619-300510f9aa40>:2: DeprecationWarning: write_transaction has been renamed to execute_write\n",
            "  session.write_transaction(lambda tx: tx.run(\"CREATE (:Selecao{nome:'Brasil',cor:'Verde',cor:'Amarelo'})\"))\n"
          ]
        }
      ]
    },
    {
      "cell_type": "markdown",
      "source": [
        "- Verificando como ficou"
      ],
      "metadata": {
        "id": "-YOC8rRzkblH"
      }
    },
    {
      "cell_type": "code",
      "source": [
        "q1 = \"MATCH (x) RETURN x\"\n",
        "\n",
        "# Abrir uma sessão e executar a consulta\n",
        "with driver.session() as session:\n",
        "    result = session.run(q1)\n",
        "\n",
        "    # Processar os resultados\n",
        "    for record in result:\n",
        "        node = record[\"x\"]\n",
        "        print(node)"
      ],
      "metadata": {
        "colab": {
          "base_uri": "https://localhost:8080/"
        },
        "id": "XoSmoKZ-kdPF",
        "outputId": "b803c2be-8b15-4aaf-8348-14e9b97e677f"
      },
      "execution_count": 620,
      "outputs": [
        {
          "output_type": "stream",
          "name": "stdout",
          "text": [
            "<Node element_id='4:b53598fd-bb34-4ae1-b7e7-9aeddd5be881:33' labels=frozenset({'Selecao'}) properties={'cor': 'Amarelo', 'nome': 'Brasil'}>\n"
          ]
        }
      ]
    },
    {
      "cell_type": "markdown",
      "source": [
        "- Adicionando mais nodes"
      ],
      "metadata": {
        "id": "0CNUsqDamOLF"
      }
    },
    {
      "cell_type": "code",
      "source": [
        "with driver.session() as session:\n",
        "    session.write_transaction(lambda tx: tx.run(\"CREATE ( :Selecao {nome:'Argentina', cor: 'Azul', cor: 'Branco'})\"))"
      ],
      "metadata": {
        "colab": {
          "base_uri": "https://localhost:8080/"
        },
        "id": "q_c_DXHVkujw",
        "outputId": "d0f74b95-98fb-4e82-95f6-442e4632eed8"
      },
      "execution_count": 621,
      "outputs": [
        {
          "output_type": "stream",
          "name": "stderr",
          "text": [
            "<ipython-input-621-92e0421266fa>:2: DeprecationWarning: write_transaction has been renamed to execute_write\n",
            "  session.write_transaction(lambda tx: tx.run(\"CREATE ( :Selecao {nome:'Argentina', cor: 'Azul', cor: 'Branco'})\"))\n"
          ]
        }
      ]
    },
    {
      "cell_type": "code",
      "source": [
        "with driver.session() as session:\n",
        "    session.write_transaction(lambda tx: tx.run(\"CREATE ( :Selecao {nome:'Uruguai', cor: 'Azul', cor: 'Branco'})\"))"
      ],
      "metadata": {
        "colab": {
          "base_uri": "https://localhost:8080/"
        },
        "id": "3MEuTVZXkx9d",
        "outputId": "a154e709-0998-46b0-d6c5-87b80e8e2a4f"
      },
      "execution_count": 622,
      "outputs": [
        {
          "output_type": "stream",
          "name": "stderr",
          "text": [
            "<ipython-input-622-e48d80a467c9>:2: DeprecationWarning: write_transaction has been renamed to execute_write\n",
            "  session.write_transaction(lambda tx: tx.run(\"CREATE ( :Selecao {nome:'Uruguai', cor: 'Azul', cor: 'Branco'})\"))\n"
          ]
        }
      ]
    },
    {
      "cell_type": "code",
      "source": [
        "with driver.session() as session:\n",
        "    session.write_transaction(lambda tx: tx.run(\"CREATE ( :Selecao {nome:'Franca', cor: 'Azul', cor: 'Branco', cor:'Vermelho'})\"))"
      ],
      "metadata": {
        "colab": {
          "base_uri": "https://localhost:8080/"
        },
        "id": "nxjPtMq_k4nF",
        "outputId": "766e96f1-4999-4986-a44f-0865dfd33b7d"
      },
      "execution_count": 623,
      "outputs": [
        {
          "output_type": "stream",
          "name": "stderr",
          "text": [
            "<ipython-input-623-3031495a3198>:2: DeprecationWarning: write_transaction has been renamed to execute_write\n",
            "  session.write_transaction(lambda tx: tx.run(\"CREATE ( :Selecao {nome:'Franca', cor: 'Azul', cor: 'Branco', cor:'Vermelho'})\"))\n"
          ]
        }
      ]
    },
    {
      "cell_type": "code",
      "source": [
        "with driver.session() as session:\n",
        "    session.write_transaction(lambda tx: tx.run(\"CREATE ( :Selecao {nome:'Espanha', cor: 'Amarelo', cor: 'Vermelho'})\"))"
      ],
      "metadata": {
        "colab": {
          "base_uri": "https://localhost:8080/"
        },
        "id": "ggclamQbk4Ws",
        "outputId": "f7f60c8d-53ee-48dc-bf78-5842f16515f2"
      },
      "execution_count": 624,
      "outputs": [
        {
          "output_type": "stream",
          "name": "stderr",
          "text": [
            "<ipython-input-624-8feac0bec014>:2: DeprecationWarning: write_transaction has been renamed to execute_write\n",
            "  session.write_transaction(lambda tx: tx.run(\"CREATE ( :Selecao {nome:'Espanha', cor: 'Amarelo', cor: 'Vermelho'})\"))\n"
          ]
        }
      ]
    },
    {
      "cell_type": "code",
      "source": [
        "with driver.session() as session:\n",
        "    session.write_transaction(lambda tx: tx.run(\"CREATE ( :Selecao {nome:'Alemanha', cor: 'Amarelo', cor: 'Vermelho', cor:'Preto'})\"))"
      ],
      "metadata": {
        "colab": {
          "base_uri": "https://localhost:8080/"
        },
        "id": "cFYodZpfk4H3",
        "outputId": "e4e7fceb-7049-4aeb-feeb-6bb35cba7818"
      },
      "execution_count": 625,
      "outputs": [
        {
          "output_type": "stream",
          "name": "stderr",
          "text": [
            "<ipython-input-625-ce45a516f88b>:2: DeprecationWarning: write_transaction has been renamed to execute_write\n",
            "  session.write_transaction(lambda tx: tx.run(\"CREATE ( :Selecao {nome:'Alemanha', cor: 'Amarelo', cor: 'Vermelho', cor:'Preto'})\"))\n"
          ]
        }
      ]
    },
    {
      "cell_type": "code",
      "source": [
        "with driver.session() as session:\n",
        "    session.write_transaction(lambda tx: tx.run(\"CREATE ( :Selecao {nome:'Inglaterra', cor: 'Vermelho', cor: 'Branco'})\"))"
      ],
      "metadata": {
        "colab": {
          "base_uri": "https://localhost:8080/"
        },
        "id": "yHvaM5wBk37a",
        "outputId": "1ed0aa18-88cc-4782-debb-402b759eb794"
      },
      "execution_count": 626,
      "outputs": [
        {
          "output_type": "stream",
          "name": "stderr",
          "text": [
            "<ipython-input-626-3e817350c66c>:2: DeprecationWarning: write_transaction has been renamed to execute_write\n",
            "  session.write_transaction(lambda tx: tx.run(\"CREATE ( :Selecao {nome:'Inglaterra', cor: 'Vermelho', cor: 'Branco'})\"))\n"
          ]
        }
      ]
    },
    {
      "cell_type": "code",
      "source": [
        "with driver.session() as session:\n",
        "    session.write_transaction(lambda tx: tx.run(\"CREATE ( :Selecao {nome:'Italia', cor: 'Verde', cor: 'Vermelho', cor: 'Branco'})\"))"
      ],
      "metadata": {
        "colab": {
          "base_uri": "https://localhost:8080/"
        },
        "id": "LDwea6Glk3tb",
        "outputId": "bb6a6583-e30d-437f-eb30-f51d44518d58"
      },
      "execution_count": 627,
      "outputs": [
        {
          "output_type": "stream",
          "name": "stderr",
          "text": [
            "<ipython-input-627-9d19be995253>:2: DeprecationWarning: write_transaction has been renamed to execute_write\n",
            "  session.write_transaction(lambda tx: tx.run(\"CREATE ( :Selecao {nome:'Italia', cor: 'Verde', cor: 'Vermelho', cor: 'Branco'})\"))\n"
          ]
        }
      ]
    },
    {
      "cell_type": "code",
      "source": [
        "with driver.session() as session:\n",
        "    session.write_transaction(lambda tx: tx.run(\"CREATE ( :Selecao {nome:'Estados Unidos', cor: 'Azul', cor: 'Vermelho', cor:'Branco'})\"))"
      ],
      "metadata": {
        "colab": {
          "base_uri": "https://localhost:8080/"
        },
        "id": "qtrFstFuk3ee",
        "outputId": "a87ca4ca-8241-453c-a4bd-eb6214453194"
      },
      "execution_count": 628,
      "outputs": [
        {
          "output_type": "stream",
          "name": "stderr",
          "text": [
            "<ipython-input-628-e98bdae31eb8>:2: DeprecationWarning: write_transaction has been renamed to execute_write\n",
            "  session.write_transaction(lambda tx: tx.run(\"CREATE ( :Selecao {nome:'Estados Unidos', cor: 'Azul', cor: 'Vermelho', cor:'Branco'})\"))\n"
          ]
        }
      ]
    },
    {
      "cell_type": "code",
      "source": [
        "with driver.session() as session:\n",
        "    session.write_transaction(lambda tx: tx.run(\"CREATE ( :Selecao {nome:'Japao', cor: 'Vermelho', cor: 'Branco'})\"))"
      ],
      "metadata": {
        "colab": {
          "base_uri": "https://localhost:8080/"
        },
        "id": "U5PUZSmJk3Ql",
        "outputId": "90e18034-d514-4ed2-bddf-6eaab616ba43"
      },
      "execution_count": 629,
      "outputs": [
        {
          "output_type": "stream",
          "name": "stderr",
          "text": [
            "<ipython-input-629-a6f6ebbf28fc>:2: DeprecationWarning: write_transaction has been renamed to execute_write\n",
            "  session.write_transaction(lambda tx: tx.run(\"CREATE ( :Selecao {nome:'Japao', cor: 'Vermelho', cor: 'Branco'})\"))\n"
          ]
        }
      ]
    },
    {
      "cell_type": "code",
      "source": [
        "with driver.session() as session:\n",
        "    session.write_transaction(lambda tx: tx.run(\"CREATE ( :Selecao {nome:'Nigeria', cor: 'Verde', cor: 'Branco'})\"))"
      ],
      "metadata": {
        "colab": {
          "base_uri": "https://localhost:8080/"
        },
        "id": "W1vk1H4Xk3Ez",
        "outputId": "1a058baa-ea8f-4359-deae-6011e2274cb0"
      },
      "execution_count": 630,
      "outputs": [
        {
          "output_type": "stream",
          "name": "stderr",
          "text": [
            "<ipython-input-630-67440e5a60b2>:2: DeprecationWarning: write_transaction has been renamed to execute_write\n",
            "  session.write_transaction(lambda tx: tx.run(\"CREATE ( :Selecao {nome:'Nigeria', cor: 'Verde', cor: 'Branco'})\"))\n"
          ]
        }
      ]
    },
    {
      "cell_type": "code",
      "source": [
        "with driver.session() as session:\n",
        "    session.write_transaction(lambda tx: tx.run(\"CREATE ( :Selecao {cor: 'Vermelho', cor: 'Branco', nome:'Canada'})\"))"
      ],
      "metadata": {
        "colab": {
          "base_uri": "https://localhost:8080/"
        },
        "id": "hsgSOjvyk22N",
        "outputId": "a8c4a313-ac64-4699-a8b4-d7b1882a969d"
      },
      "execution_count": 631,
      "outputs": [
        {
          "output_type": "stream",
          "name": "stderr",
          "text": [
            "<ipython-input-631-e4c148d19ac4>:2: DeprecationWarning: write_transaction has been renamed to execute_write\n",
            "  session.write_transaction(lambda tx: tx.run(\"CREATE ( :Selecao {cor: 'Vermelho', cor: 'Branco', nome:'Canada'})\"))\n"
          ]
        }
      ]
    },
    {
      "cell_type": "code",
      "source": [
        "with driver.session() as session:\n",
        "    session.write_transaction(lambda tx: tx.run(\"CREATE ( :Selecao {cor: 'Amarelo', cor: 'Vermelho', cor:'Azul', nome:'Colombia'})\"))"
      ],
      "metadata": {
        "colab": {
          "base_uri": "https://localhost:8080/"
        },
        "id": "_sedOwR8k2pE",
        "outputId": "495c699f-d9b0-4912-ad5b-6fdfd093fd5e"
      },
      "execution_count": 632,
      "outputs": [
        {
          "output_type": "stream",
          "name": "stderr",
          "text": [
            "<ipython-input-632-8cd71080ada5>:2: DeprecationWarning: write_transaction has been renamed to execute_write\n",
            "  session.write_transaction(lambda tx: tx.run(\"CREATE ( :Selecao {cor: 'Amarelo', cor: 'Vermelho', cor:'Azul', nome:'Colombia'})\"))\n"
          ]
        }
      ]
    },
    {
      "cell_type": "code",
      "source": [
        "with driver.session() as session:\n",
        "    session.write_transaction(lambda tx: tx.run(\"CREATE ( :Continente {nome:'America do Sul'})\"))"
      ],
      "metadata": {
        "colab": {
          "base_uri": "https://localhost:8080/"
        },
        "id": "R82CG4XUk2cE",
        "outputId": "198b7103-f755-4fef-fe1a-5441cd0328b3"
      },
      "execution_count": 633,
      "outputs": [
        {
          "output_type": "stream",
          "name": "stderr",
          "text": [
            "<ipython-input-633-64130e15c1b1>:2: DeprecationWarning: write_transaction has been renamed to execute_write\n",
            "  session.write_transaction(lambda tx: tx.run(\"CREATE ( :Continente {nome:'America do Sul'})\"))\n"
          ]
        }
      ]
    },
    {
      "cell_type": "code",
      "source": [
        "with driver.session() as session:\n",
        "    session.write_transaction(lambda tx: tx.run(\"CREATE ( :Continente {nome:'America do Norte'})\"))"
      ],
      "metadata": {
        "colab": {
          "base_uri": "https://localhost:8080/"
        },
        "id": "POwgAzUrk2Si",
        "outputId": "39edb03b-769b-4585-a729-c84fa05f6fe5"
      },
      "execution_count": 634,
      "outputs": [
        {
          "output_type": "stream",
          "name": "stderr",
          "text": [
            "<ipython-input-634-10631cac1784>:2: DeprecationWarning: write_transaction has been renamed to execute_write\n",
            "  session.write_transaction(lambda tx: tx.run(\"CREATE ( :Continente {nome:'America do Norte'})\"))\n"
          ]
        }
      ]
    },
    {
      "cell_type": "code",
      "source": [
        "with driver.session() as session:\n",
        "    session.write_transaction(lambda tx: tx.run(\"CREATE ( :Continente {nome:'America Central'})\"))"
      ],
      "metadata": {
        "colab": {
          "base_uri": "https://localhost:8080/"
        },
        "id": "vAjcfsUHk2G-",
        "outputId": "4105d89a-1873-4cc0-94b1-16be462cf2ae"
      },
      "execution_count": 635,
      "outputs": [
        {
          "output_type": "stream",
          "name": "stderr",
          "text": [
            "<ipython-input-635-3b07db2ed825>:2: DeprecationWarning: write_transaction has been renamed to execute_write\n",
            "  session.write_transaction(lambda tx: tx.run(\"CREATE ( :Continente {nome:'America Central'})\"))\n"
          ]
        }
      ]
    },
    {
      "cell_type": "code",
      "source": [
        "with driver.session() as session:\n",
        "    session.write_transaction(lambda tx: tx.run(\"CREATE ( :Continente {nome:'Europa'})\"))"
      ],
      "metadata": {
        "colab": {
          "base_uri": "https://localhost:8080/"
        },
        "id": "oQl31LNHk135",
        "outputId": "92e08e00-cf3f-46da-a975-abdb968a6ea4"
      },
      "execution_count": 636,
      "outputs": [
        {
          "output_type": "stream",
          "name": "stderr",
          "text": [
            "<ipython-input-636-2af067cac04d>:2: DeprecationWarning: write_transaction has been renamed to execute_write\n",
            "  session.write_transaction(lambda tx: tx.run(\"CREATE ( :Continente {nome:'Europa'})\"))\n"
          ]
        }
      ]
    },
    {
      "cell_type": "code",
      "source": [
        "with driver.session() as session:\n",
        "    session.write_transaction(lambda tx: tx.run(\"CREATE ( :Continente {nome:'Africa'})\"))"
      ],
      "metadata": {
        "colab": {
          "base_uri": "https://localhost:8080/"
        },
        "id": "qgRJbmHWk1mw",
        "outputId": "e4bc4d87-ea27-4ddd-b1ba-28c1049ab7eb"
      },
      "execution_count": 637,
      "outputs": [
        {
          "output_type": "stream",
          "name": "stderr",
          "text": [
            "<ipython-input-637-afded65de1e9>:2: DeprecationWarning: write_transaction has been renamed to execute_write\n",
            "  session.write_transaction(lambda tx: tx.run(\"CREATE ( :Continente {nome:'Africa'})\"))\n"
          ]
        }
      ]
    },
    {
      "cell_type": "code",
      "source": [
        "with driver.session() as session:\n",
        "    session.write_transaction(lambda tx: tx.run(\"CREATE ( :Continente {nome:'Asia'})\"))"
      ],
      "metadata": {
        "colab": {
          "base_uri": "https://localhost:8080/"
        },
        "id": "AwuiXUy9mGUg",
        "outputId": "11a0434a-7c45-45ad-a300-fb6bf0f0b938"
      },
      "execution_count": 638,
      "outputs": [
        {
          "output_type": "stream",
          "name": "stderr",
          "text": [
            "<ipython-input-638-2e543adeb8a9>:2: DeprecationWarning: write_transaction has been renamed to execute_write\n",
            "  session.write_transaction(lambda tx: tx.run(\"CREATE ( :Continente {nome:'Asia'})\"))\n"
          ]
        }
      ]
    },
    {
      "cell_type": "code",
      "source": [
        "with driver.session() as session:\n",
        "    session.write_transaction(lambda tx: tx.run(\"CREATE ( :Continente {nome:'Oceania'})\"))"
      ],
      "metadata": {
        "colab": {
          "base_uri": "https://localhost:8080/"
        },
        "id": "ezEGajMZmG7F",
        "outputId": "e6bae116-1941-4fe8-92d3-6c47f6f7c0de"
      },
      "execution_count": 639,
      "outputs": [
        {
          "output_type": "stream",
          "name": "stderr",
          "text": [
            "<ipython-input-639-2009c15a8a15>:2: DeprecationWarning: write_transaction has been renamed to execute_write\n",
            "  session.write_transaction(lambda tx: tx.run(\"CREATE ( :Continente {nome:'Oceania'})\"))\n"
          ]
        }
      ]
    },
    {
      "cell_type": "code",
      "source": [
        "with driver.session() as session:\n",
        "    session.write_transaction(lambda tx: tx.run(\"CREATE ( :Continente {nome:'Antardida'})\"))"
      ],
      "metadata": {
        "colab": {
          "base_uri": "https://localhost:8080/"
        },
        "id": "rl_nCsYYmHdq",
        "outputId": "b9ce2798-6f40-45a8-fca9-027c3451e819"
      },
      "execution_count": 640,
      "outputs": [
        {
          "output_type": "stream",
          "name": "stderr",
          "text": [
            "<ipython-input-640-ba877bd734fe>:2: DeprecationWarning: write_transaction has been renamed to execute_write\n",
            "  session.write_transaction(lambda tx: tx.run(\"CREATE ( :Continente {nome:'Antardida'})\"))\n"
          ]
        }
      ]
    },
    {
      "cell_type": "markdown",
      "source": [
        "- Verificando como ficou:"
      ],
      "metadata": {
        "id": "haf6fD1ZmS9l"
      }
    },
    {
      "cell_type": "code",
      "source": [
        "q1 = \"MATCH (x) RETURN x\"\n",
        "\n",
        "# Abrir uma sessão e executar a consulta\n",
        "with driver.session() as session:\n",
        "    result = session.run(q1)\n",
        "\n",
        "    # Processar os resultados\n",
        "    for record in result:\n",
        "        node = record[\"x\"]\n",
        "        print(node)"
      ],
      "metadata": {
        "colab": {
          "base_uri": "https://localhost:8080/"
        },
        "id": "4yAXmzTimUvd",
        "outputId": "e1e42dfc-a4ea-48f2-e6fd-b49d0c7dff95"
      },
      "execution_count": 641,
      "outputs": [
        {
          "output_type": "stream",
          "name": "stdout",
          "text": [
            "<Node element_id='4:b53598fd-bb34-4ae1-b7e7-9aeddd5be881:0' labels=frozenset({'Selecao'}) properties={'cor': 'Preto', 'nome': 'Alemanha'}>\n",
            "<Node element_id='4:b53598fd-bb34-4ae1-b7e7-9aeddd5be881:1' labels=frozenset({'Selecao'}) properties={'cor': 'Branco', 'nome': 'Inglaterra'}>\n",
            "<Node element_id='4:b53598fd-bb34-4ae1-b7e7-9aeddd5be881:2' labels=frozenset({'Selecao'}) properties={'cor': 'Branco', 'nome': 'Italia'}>\n",
            "<Node element_id='4:b53598fd-bb34-4ae1-b7e7-9aeddd5be881:3' labels=frozenset({'Selecao'}) properties={'cor': 'Branco', 'nome': 'Estados Unidos'}>\n",
            "<Node element_id='4:b53598fd-bb34-4ae1-b7e7-9aeddd5be881:4' labels=frozenset({'Selecao'}) properties={'cor': 'Branco', 'nome': 'Japao'}>\n",
            "<Node element_id='4:b53598fd-bb34-4ae1-b7e7-9aeddd5be881:5' labels=frozenset({'Selecao'}) properties={'cor': 'Branco', 'nome': 'Nigeria'}>\n",
            "<Node element_id='4:b53598fd-bb34-4ae1-b7e7-9aeddd5be881:6' labels=frozenset({'Selecao'}) properties={'cor': 'Branco', 'nome': 'Canada'}>\n",
            "<Node element_id='4:b53598fd-bb34-4ae1-b7e7-9aeddd5be881:7' labels=frozenset({'Selecao'}) properties={'cor': 'Azul', 'nome': 'Colombia'}>\n",
            "<Node element_id='4:b53598fd-bb34-4ae1-b7e7-9aeddd5be881:8' labels=frozenset({'Continente'}) properties={'nome': 'America do Sul'}>\n",
            "<Node element_id='4:b53598fd-bb34-4ae1-b7e7-9aeddd5be881:9' labels=frozenset({'Continente'}) properties={'nome': 'America do Norte'}>\n",
            "<Node element_id='4:b53598fd-bb34-4ae1-b7e7-9aeddd5be881:10' labels=frozenset({'Continente'}) properties={'nome': 'America Central'}>\n",
            "<Node element_id='4:b53598fd-bb34-4ae1-b7e7-9aeddd5be881:11' labels=frozenset({'Continente'}) properties={'nome': 'Europa'}>\n",
            "<Node element_id='4:b53598fd-bb34-4ae1-b7e7-9aeddd5be881:12' labels=frozenset({'Continente'}) properties={'nome': 'Africa'}>\n",
            "<Node element_id='4:b53598fd-bb34-4ae1-b7e7-9aeddd5be881:13' labels=frozenset({'Continente'}) properties={'nome': 'Asia'}>\n",
            "<Node element_id='4:b53598fd-bb34-4ae1-b7e7-9aeddd5be881:14' labels=frozenset({'Continente'}) properties={'nome': 'Oceania'}>\n",
            "<Node element_id='4:b53598fd-bb34-4ae1-b7e7-9aeddd5be881:15' labels=frozenset({'Continente'}) properties={'nome': 'Antardida'}>\n",
            "<Node element_id='4:b53598fd-bb34-4ae1-b7e7-9aeddd5be881:33' labels=frozenset({'Selecao'}) properties={'cor': 'Amarelo', 'nome': 'Brasil'}>\n",
            "<Node element_id='4:b53598fd-bb34-4ae1-b7e7-9aeddd5be881:34' labels=frozenset({'Selecao'}) properties={'cor': 'Branco', 'nome': 'Argentina'}>\n",
            "<Node element_id='4:b53598fd-bb34-4ae1-b7e7-9aeddd5be881:35' labels=frozenset({'Selecao'}) properties={'cor': 'Branco', 'nome': 'Uruguai'}>\n",
            "<Node element_id='4:b53598fd-bb34-4ae1-b7e7-9aeddd5be881:36' labels=frozenset({'Selecao'}) properties={'cor': 'Vermelho', 'nome': 'Franca'}>\n",
            "<Node element_id='4:b53598fd-bb34-4ae1-b7e7-9aeddd5be881:37' labels=frozenset({'Selecao'}) properties={'cor': 'Vermelho', 'nome': 'Espanha'}>\n"
          ]
        }
      ]
    },
    {
      "cell_type": "markdown",
      "source": [
        "- Retornando os nodes com Label \"Selecao\" com a cor \"Vermelho\" OU \"Branco\""
      ],
      "metadata": {
        "id": "04rETUdSma5d"
      }
    },
    {
      "cell_type": "code",
      "source": [
        "q1 = \"MATCH (n:Selecao), (y:Selecao) WHERE n.cor = 'Vermelho' OR y.cor = 'Branco' RETURN n,y\"\n",
        "\n",
        "# Abrir uma sessão e executar a consulta\n",
        "with driver.session() as session:\n",
        "    result = session.run(q1)\n",
        "\n",
        "    # Processar os resultados\n",
        "    for record in result:\n",
        "        node_n = record[\"n\"]\n",
        "        node_y = record[\"y\"]\n",
        "        print(f\"Node n: {node_n}\\nNode y: {node_y}\")\n"
      ],
      "metadata": {
        "colab": {
          "base_uri": "https://localhost:8080/"
        },
        "id": "HhUDK8khmkY-",
        "outputId": "24787bc2-a16a-48a1-d693-ef6839da6c44"
      },
      "execution_count": 642,
      "outputs": [
        {
          "output_type": "stream",
          "name": "stdout",
          "text": [
            "Node n: <Node element_id='4:b53598fd-bb34-4ae1-b7e7-9aeddd5be881:0' labels=frozenset({'Selecao'}) properties={'cor': 'Preto', 'nome': 'Alemanha'}>\n",
            "Node y: <Node element_id='4:b53598fd-bb34-4ae1-b7e7-9aeddd5be881:1' labels=frozenset({'Selecao'}) properties={'cor': 'Branco', 'nome': 'Inglaterra'}>\n",
            "Node n: <Node element_id='4:b53598fd-bb34-4ae1-b7e7-9aeddd5be881:0' labels=frozenset({'Selecao'}) properties={'cor': 'Preto', 'nome': 'Alemanha'}>\n",
            "Node y: <Node element_id='4:b53598fd-bb34-4ae1-b7e7-9aeddd5be881:2' labels=frozenset({'Selecao'}) properties={'cor': 'Branco', 'nome': 'Italia'}>\n",
            "Node n: <Node element_id='4:b53598fd-bb34-4ae1-b7e7-9aeddd5be881:0' labels=frozenset({'Selecao'}) properties={'cor': 'Preto', 'nome': 'Alemanha'}>\n",
            "Node y: <Node element_id='4:b53598fd-bb34-4ae1-b7e7-9aeddd5be881:3' labels=frozenset({'Selecao'}) properties={'cor': 'Branco', 'nome': 'Estados Unidos'}>\n",
            "Node n: <Node element_id='4:b53598fd-bb34-4ae1-b7e7-9aeddd5be881:0' labels=frozenset({'Selecao'}) properties={'cor': 'Preto', 'nome': 'Alemanha'}>\n",
            "Node y: <Node element_id='4:b53598fd-bb34-4ae1-b7e7-9aeddd5be881:4' labels=frozenset({'Selecao'}) properties={'cor': 'Branco', 'nome': 'Japao'}>\n",
            "Node n: <Node element_id='4:b53598fd-bb34-4ae1-b7e7-9aeddd5be881:0' labels=frozenset({'Selecao'}) properties={'cor': 'Preto', 'nome': 'Alemanha'}>\n",
            "Node y: <Node element_id='4:b53598fd-bb34-4ae1-b7e7-9aeddd5be881:5' labels=frozenset({'Selecao'}) properties={'cor': 'Branco', 'nome': 'Nigeria'}>\n",
            "Node n: <Node element_id='4:b53598fd-bb34-4ae1-b7e7-9aeddd5be881:0' labels=frozenset({'Selecao'}) properties={'cor': 'Preto', 'nome': 'Alemanha'}>\n",
            "Node y: <Node element_id='4:b53598fd-bb34-4ae1-b7e7-9aeddd5be881:6' labels=frozenset({'Selecao'}) properties={'cor': 'Branco', 'nome': 'Canada'}>\n",
            "Node n: <Node element_id='4:b53598fd-bb34-4ae1-b7e7-9aeddd5be881:0' labels=frozenset({'Selecao'}) properties={'cor': 'Preto', 'nome': 'Alemanha'}>\n",
            "Node y: <Node element_id='4:b53598fd-bb34-4ae1-b7e7-9aeddd5be881:34' labels=frozenset({'Selecao'}) properties={'cor': 'Branco', 'nome': 'Argentina'}>\n",
            "Node n: <Node element_id='4:b53598fd-bb34-4ae1-b7e7-9aeddd5be881:0' labels=frozenset({'Selecao'}) properties={'cor': 'Preto', 'nome': 'Alemanha'}>\n",
            "Node y: <Node element_id='4:b53598fd-bb34-4ae1-b7e7-9aeddd5be881:35' labels=frozenset({'Selecao'}) properties={'cor': 'Branco', 'nome': 'Uruguai'}>\n",
            "Node n: <Node element_id='4:b53598fd-bb34-4ae1-b7e7-9aeddd5be881:1' labels=frozenset({'Selecao'}) properties={'cor': 'Branco', 'nome': 'Inglaterra'}>\n",
            "Node y: <Node element_id='4:b53598fd-bb34-4ae1-b7e7-9aeddd5be881:1' labels=frozenset({'Selecao'}) properties={'cor': 'Branco', 'nome': 'Inglaterra'}>\n",
            "Node n: <Node element_id='4:b53598fd-bb34-4ae1-b7e7-9aeddd5be881:1' labels=frozenset({'Selecao'}) properties={'cor': 'Branco', 'nome': 'Inglaterra'}>\n",
            "Node y: <Node element_id='4:b53598fd-bb34-4ae1-b7e7-9aeddd5be881:2' labels=frozenset({'Selecao'}) properties={'cor': 'Branco', 'nome': 'Italia'}>\n",
            "Node n: <Node element_id='4:b53598fd-bb34-4ae1-b7e7-9aeddd5be881:1' labels=frozenset({'Selecao'}) properties={'cor': 'Branco', 'nome': 'Inglaterra'}>\n",
            "Node y: <Node element_id='4:b53598fd-bb34-4ae1-b7e7-9aeddd5be881:3' labels=frozenset({'Selecao'}) properties={'cor': 'Branco', 'nome': 'Estados Unidos'}>\n",
            "Node n: <Node element_id='4:b53598fd-bb34-4ae1-b7e7-9aeddd5be881:1' labels=frozenset({'Selecao'}) properties={'cor': 'Branco', 'nome': 'Inglaterra'}>\n",
            "Node y: <Node element_id='4:b53598fd-bb34-4ae1-b7e7-9aeddd5be881:4' labels=frozenset({'Selecao'}) properties={'cor': 'Branco', 'nome': 'Japao'}>\n",
            "Node n: <Node element_id='4:b53598fd-bb34-4ae1-b7e7-9aeddd5be881:1' labels=frozenset({'Selecao'}) properties={'cor': 'Branco', 'nome': 'Inglaterra'}>\n",
            "Node y: <Node element_id='4:b53598fd-bb34-4ae1-b7e7-9aeddd5be881:5' labels=frozenset({'Selecao'}) properties={'cor': 'Branco', 'nome': 'Nigeria'}>\n",
            "Node n: <Node element_id='4:b53598fd-bb34-4ae1-b7e7-9aeddd5be881:1' labels=frozenset({'Selecao'}) properties={'cor': 'Branco', 'nome': 'Inglaterra'}>\n",
            "Node y: <Node element_id='4:b53598fd-bb34-4ae1-b7e7-9aeddd5be881:6' labels=frozenset({'Selecao'}) properties={'cor': 'Branco', 'nome': 'Canada'}>\n",
            "Node n: <Node element_id='4:b53598fd-bb34-4ae1-b7e7-9aeddd5be881:1' labels=frozenset({'Selecao'}) properties={'cor': 'Branco', 'nome': 'Inglaterra'}>\n",
            "Node y: <Node element_id='4:b53598fd-bb34-4ae1-b7e7-9aeddd5be881:34' labels=frozenset({'Selecao'}) properties={'cor': 'Branco', 'nome': 'Argentina'}>\n",
            "Node n: <Node element_id='4:b53598fd-bb34-4ae1-b7e7-9aeddd5be881:1' labels=frozenset({'Selecao'}) properties={'cor': 'Branco', 'nome': 'Inglaterra'}>\n",
            "Node y: <Node element_id='4:b53598fd-bb34-4ae1-b7e7-9aeddd5be881:35' labels=frozenset({'Selecao'}) properties={'cor': 'Branco', 'nome': 'Uruguai'}>\n",
            "Node n: <Node element_id='4:b53598fd-bb34-4ae1-b7e7-9aeddd5be881:2' labels=frozenset({'Selecao'}) properties={'cor': 'Branco', 'nome': 'Italia'}>\n",
            "Node y: <Node element_id='4:b53598fd-bb34-4ae1-b7e7-9aeddd5be881:1' labels=frozenset({'Selecao'}) properties={'cor': 'Branco', 'nome': 'Inglaterra'}>\n",
            "Node n: <Node element_id='4:b53598fd-bb34-4ae1-b7e7-9aeddd5be881:2' labels=frozenset({'Selecao'}) properties={'cor': 'Branco', 'nome': 'Italia'}>\n",
            "Node y: <Node element_id='4:b53598fd-bb34-4ae1-b7e7-9aeddd5be881:2' labels=frozenset({'Selecao'}) properties={'cor': 'Branco', 'nome': 'Italia'}>\n",
            "Node n: <Node element_id='4:b53598fd-bb34-4ae1-b7e7-9aeddd5be881:2' labels=frozenset({'Selecao'}) properties={'cor': 'Branco', 'nome': 'Italia'}>\n",
            "Node y: <Node element_id='4:b53598fd-bb34-4ae1-b7e7-9aeddd5be881:3' labels=frozenset({'Selecao'}) properties={'cor': 'Branco', 'nome': 'Estados Unidos'}>\n",
            "Node n: <Node element_id='4:b53598fd-bb34-4ae1-b7e7-9aeddd5be881:2' labels=frozenset({'Selecao'}) properties={'cor': 'Branco', 'nome': 'Italia'}>\n",
            "Node y: <Node element_id='4:b53598fd-bb34-4ae1-b7e7-9aeddd5be881:4' labels=frozenset({'Selecao'}) properties={'cor': 'Branco', 'nome': 'Japao'}>\n",
            "Node n: <Node element_id='4:b53598fd-bb34-4ae1-b7e7-9aeddd5be881:2' labels=frozenset({'Selecao'}) properties={'cor': 'Branco', 'nome': 'Italia'}>\n",
            "Node y: <Node element_id='4:b53598fd-bb34-4ae1-b7e7-9aeddd5be881:5' labels=frozenset({'Selecao'}) properties={'cor': 'Branco', 'nome': 'Nigeria'}>\n",
            "Node n: <Node element_id='4:b53598fd-bb34-4ae1-b7e7-9aeddd5be881:2' labels=frozenset({'Selecao'}) properties={'cor': 'Branco', 'nome': 'Italia'}>\n",
            "Node y: <Node element_id='4:b53598fd-bb34-4ae1-b7e7-9aeddd5be881:6' labels=frozenset({'Selecao'}) properties={'cor': 'Branco', 'nome': 'Canada'}>\n",
            "Node n: <Node element_id='4:b53598fd-bb34-4ae1-b7e7-9aeddd5be881:2' labels=frozenset({'Selecao'}) properties={'cor': 'Branco', 'nome': 'Italia'}>\n",
            "Node y: <Node element_id='4:b53598fd-bb34-4ae1-b7e7-9aeddd5be881:34' labels=frozenset({'Selecao'}) properties={'cor': 'Branco', 'nome': 'Argentina'}>\n",
            "Node n: <Node element_id='4:b53598fd-bb34-4ae1-b7e7-9aeddd5be881:2' labels=frozenset({'Selecao'}) properties={'cor': 'Branco', 'nome': 'Italia'}>\n",
            "Node y: <Node element_id='4:b53598fd-bb34-4ae1-b7e7-9aeddd5be881:35' labels=frozenset({'Selecao'}) properties={'cor': 'Branco', 'nome': 'Uruguai'}>\n",
            "Node n: <Node element_id='4:b53598fd-bb34-4ae1-b7e7-9aeddd5be881:3' labels=frozenset({'Selecao'}) properties={'cor': 'Branco', 'nome': 'Estados Unidos'}>\n",
            "Node y: <Node element_id='4:b53598fd-bb34-4ae1-b7e7-9aeddd5be881:1' labels=frozenset({'Selecao'}) properties={'cor': 'Branco', 'nome': 'Inglaterra'}>\n",
            "Node n: <Node element_id='4:b53598fd-bb34-4ae1-b7e7-9aeddd5be881:3' labels=frozenset({'Selecao'}) properties={'cor': 'Branco', 'nome': 'Estados Unidos'}>\n",
            "Node y: <Node element_id='4:b53598fd-bb34-4ae1-b7e7-9aeddd5be881:2' labels=frozenset({'Selecao'}) properties={'cor': 'Branco', 'nome': 'Italia'}>\n",
            "Node n: <Node element_id='4:b53598fd-bb34-4ae1-b7e7-9aeddd5be881:3' labels=frozenset({'Selecao'}) properties={'cor': 'Branco', 'nome': 'Estados Unidos'}>\n",
            "Node y: <Node element_id='4:b53598fd-bb34-4ae1-b7e7-9aeddd5be881:3' labels=frozenset({'Selecao'}) properties={'cor': 'Branco', 'nome': 'Estados Unidos'}>\n",
            "Node n: <Node element_id='4:b53598fd-bb34-4ae1-b7e7-9aeddd5be881:3' labels=frozenset({'Selecao'}) properties={'cor': 'Branco', 'nome': 'Estados Unidos'}>\n",
            "Node y: <Node element_id='4:b53598fd-bb34-4ae1-b7e7-9aeddd5be881:4' labels=frozenset({'Selecao'}) properties={'cor': 'Branco', 'nome': 'Japao'}>\n",
            "Node n: <Node element_id='4:b53598fd-bb34-4ae1-b7e7-9aeddd5be881:3' labels=frozenset({'Selecao'}) properties={'cor': 'Branco', 'nome': 'Estados Unidos'}>\n",
            "Node y: <Node element_id='4:b53598fd-bb34-4ae1-b7e7-9aeddd5be881:5' labels=frozenset({'Selecao'}) properties={'cor': 'Branco', 'nome': 'Nigeria'}>\n",
            "Node n: <Node element_id='4:b53598fd-bb34-4ae1-b7e7-9aeddd5be881:3' labels=frozenset({'Selecao'}) properties={'cor': 'Branco', 'nome': 'Estados Unidos'}>\n",
            "Node y: <Node element_id='4:b53598fd-bb34-4ae1-b7e7-9aeddd5be881:6' labels=frozenset({'Selecao'}) properties={'cor': 'Branco', 'nome': 'Canada'}>\n",
            "Node n: <Node element_id='4:b53598fd-bb34-4ae1-b7e7-9aeddd5be881:3' labels=frozenset({'Selecao'}) properties={'cor': 'Branco', 'nome': 'Estados Unidos'}>\n",
            "Node y: <Node element_id='4:b53598fd-bb34-4ae1-b7e7-9aeddd5be881:34' labels=frozenset({'Selecao'}) properties={'cor': 'Branco', 'nome': 'Argentina'}>\n",
            "Node n: <Node element_id='4:b53598fd-bb34-4ae1-b7e7-9aeddd5be881:3' labels=frozenset({'Selecao'}) properties={'cor': 'Branco', 'nome': 'Estados Unidos'}>\n",
            "Node y: <Node element_id='4:b53598fd-bb34-4ae1-b7e7-9aeddd5be881:35' labels=frozenset({'Selecao'}) properties={'cor': 'Branco', 'nome': 'Uruguai'}>\n",
            "Node n: <Node element_id='4:b53598fd-bb34-4ae1-b7e7-9aeddd5be881:4' labels=frozenset({'Selecao'}) properties={'cor': 'Branco', 'nome': 'Japao'}>\n",
            "Node y: <Node element_id='4:b53598fd-bb34-4ae1-b7e7-9aeddd5be881:1' labels=frozenset({'Selecao'}) properties={'cor': 'Branco', 'nome': 'Inglaterra'}>\n",
            "Node n: <Node element_id='4:b53598fd-bb34-4ae1-b7e7-9aeddd5be881:4' labels=frozenset({'Selecao'}) properties={'cor': 'Branco', 'nome': 'Japao'}>\n",
            "Node y: <Node element_id='4:b53598fd-bb34-4ae1-b7e7-9aeddd5be881:2' labels=frozenset({'Selecao'}) properties={'cor': 'Branco', 'nome': 'Italia'}>\n",
            "Node n: <Node element_id='4:b53598fd-bb34-4ae1-b7e7-9aeddd5be881:4' labels=frozenset({'Selecao'}) properties={'cor': 'Branco', 'nome': 'Japao'}>\n",
            "Node y: <Node element_id='4:b53598fd-bb34-4ae1-b7e7-9aeddd5be881:3' labels=frozenset({'Selecao'}) properties={'cor': 'Branco', 'nome': 'Estados Unidos'}>\n",
            "Node n: <Node element_id='4:b53598fd-bb34-4ae1-b7e7-9aeddd5be881:4' labels=frozenset({'Selecao'}) properties={'cor': 'Branco', 'nome': 'Japao'}>\n",
            "Node y: <Node element_id='4:b53598fd-bb34-4ae1-b7e7-9aeddd5be881:4' labels=frozenset({'Selecao'}) properties={'cor': 'Branco', 'nome': 'Japao'}>\n",
            "Node n: <Node element_id='4:b53598fd-bb34-4ae1-b7e7-9aeddd5be881:4' labels=frozenset({'Selecao'}) properties={'cor': 'Branco', 'nome': 'Japao'}>\n",
            "Node y: <Node element_id='4:b53598fd-bb34-4ae1-b7e7-9aeddd5be881:5' labels=frozenset({'Selecao'}) properties={'cor': 'Branco', 'nome': 'Nigeria'}>\n",
            "Node n: <Node element_id='4:b53598fd-bb34-4ae1-b7e7-9aeddd5be881:4' labels=frozenset({'Selecao'}) properties={'cor': 'Branco', 'nome': 'Japao'}>\n",
            "Node y: <Node element_id='4:b53598fd-bb34-4ae1-b7e7-9aeddd5be881:6' labels=frozenset({'Selecao'}) properties={'cor': 'Branco', 'nome': 'Canada'}>\n",
            "Node n: <Node element_id='4:b53598fd-bb34-4ae1-b7e7-9aeddd5be881:4' labels=frozenset({'Selecao'}) properties={'cor': 'Branco', 'nome': 'Japao'}>\n",
            "Node y: <Node element_id='4:b53598fd-bb34-4ae1-b7e7-9aeddd5be881:34' labels=frozenset({'Selecao'}) properties={'cor': 'Branco', 'nome': 'Argentina'}>\n",
            "Node n: <Node element_id='4:b53598fd-bb34-4ae1-b7e7-9aeddd5be881:4' labels=frozenset({'Selecao'}) properties={'cor': 'Branco', 'nome': 'Japao'}>\n",
            "Node y: <Node element_id='4:b53598fd-bb34-4ae1-b7e7-9aeddd5be881:35' labels=frozenset({'Selecao'}) properties={'cor': 'Branco', 'nome': 'Uruguai'}>\n",
            "Node n: <Node element_id='4:b53598fd-bb34-4ae1-b7e7-9aeddd5be881:5' labels=frozenset({'Selecao'}) properties={'cor': 'Branco', 'nome': 'Nigeria'}>\n",
            "Node y: <Node element_id='4:b53598fd-bb34-4ae1-b7e7-9aeddd5be881:1' labels=frozenset({'Selecao'}) properties={'cor': 'Branco', 'nome': 'Inglaterra'}>\n",
            "Node n: <Node element_id='4:b53598fd-bb34-4ae1-b7e7-9aeddd5be881:5' labels=frozenset({'Selecao'}) properties={'cor': 'Branco', 'nome': 'Nigeria'}>\n",
            "Node y: <Node element_id='4:b53598fd-bb34-4ae1-b7e7-9aeddd5be881:2' labels=frozenset({'Selecao'}) properties={'cor': 'Branco', 'nome': 'Italia'}>\n",
            "Node n: <Node element_id='4:b53598fd-bb34-4ae1-b7e7-9aeddd5be881:5' labels=frozenset({'Selecao'}) properties={'cor': 'Branco', 'nome': 'Nigeria'}>\n",
            "Node y: <Node element_id='4:b53598fd-bb34-4ae1-b7e7-9aeddd5be881:3' labels=frozenset({'Selecao'}) properties={'cor': 'Branco', 'nome': 'Estados Unidos'}>\n",
            "Node n: <Node element_id='4:b53598fd-bb34-4ae1-b7e7-9aeddd5be881:5' labels=frozenset({'Selecao'}) properties={'cor': 'Branco', 'nome': 'Nigeria'}>\n",
            "Node y: <Node element_id='4:b53598fd-bb34-4ae1-b7e7-9aeddd5be881:4' labels=frozenset({'Selecao'}) properties={'cor': 'Branco', 'nome': 'Japao'}>\n",
            "Node n: <Node element_id='4:b53598fd-bb34-4ae1-b7e7-9aeddd5be881:5' labels=frozenset({'Selecao'}) properties={'cor': 'Branco', 'nome': 'Nigeria'}>\n",
            "Node y: <Node element_id='4:b53598fd-bb34-4ae1-b7e7-9aeddd5be881:5' labels=frozenset({'Selecao'}) properties={'cor': 'Branco', 'nome': 'Nigeria'}>\n",
            "Node n: <Node element_id='4:b53598fd-bb34-4ae1-b7e7-9aeddd5be881:5' labels=frozenset({'Selecao'}) properties={'cor': 'Branco', 'nome': 'Nigeria'}>\n",
            "Node y: <Node element_id='4:b53598fd-bb34-4ae1-b7e7-9aeddd5be881:6' labels=frozenset({'Selecao'}) properties={'cor': 'Branco', 'nome': 'Canada'}>\n",
            "Node n: <Node element_id='4:b53598fd-bb34-4ae1-b7e7-9aeddd5be881:5' labels=frozenset({'Selecao'}) properties={'cor': 'Branco', 'nome': 'Nigeria'}>\n",
            "Node y: <Node element_id='4:b53598fd-bb34-4ae1-b7e7-9aeddd5be881:34' labels=frozenset({'Selecao'}) properties={'cor': 'Branco', 'nome': 'Argentina'}>\n",
            "Node n: <Node element_id='4:b53598fd-bb34-4ae1-b7e7-9aeddd5be881:5' labels=frozenset({'Selecao'}) properties={'cor': 'Branco', 'nome': 'Nigeria'}>\n",
            "Node y: <Node element_id='4:b53598fd-bb34-4ae1-b7e7-9aeddd5be881:35' labels=frozenset({'Selecao'}) properties={'cor': 'Branco', 'nome': 'Uruguai'}>\n",
            "Node n: <Node element_id='4:b53598fd-bb34-4ae1-b7e7-9aeddd5be881:6' labels=frozenset({'Selecao'}) properties={'cor': 'Branco', 'nome': 'Canada'}>\n",
            "Node y: <Node element_id='4:b53598fd-bb34-4ae1-b7e7-9aeddd5be881:1' labels=frozenset({'Selecao'}) properties={'cor': 'Branco', 'nome': 'Inglaterra'}>\n",
            "Node n: <Node element_id='4:b53598fd-bb34-4ae1-b7e7-9aeddd5be881:6' labels=frozenset({'Selecao'}) properties={'cor': 'Branco', 'nome': 'Canada'}>\n",
            "Node y: <Node element_id='4:b53598fd-bb34-4ae1-b7e7-9aeddd5be881:2' labels=frozenset({'Selecao'}) properties={'cor': 'Branco', 'nome': 'Italia'}>\n",
            "Node n: <Node element_id='4:b53598fd-bb34-4ae1-b7e7-9aeddd5be881:6' labels=frozenset({'Selecao'}) properties={'cor': 'Branco', 'nome': 'Canada'}>\n",
            "Node y: <Node element_id='4:b53598fd-bb34-4ae1-b7e7-9aeddd5be881:3' labels=frozenset({'Selecao'}) properties={'cor': 'Branco', 'nome': 'Estados Unidos'}>\n",
            "Node n: <Node element_id='4:b53598fd-bb34-4ae1-b7e7-9aeddd5be881:6' labels=frozenset({'Selecao'}) properties={'cor': 'Branco', 'nome': 'Canada'}>\n",
            "Node y: <Node element_id='4:b53598fd-bb34-4ae1-b7e7-9aeddd5be881:4' labels=frozenset({'Selecao'}) properties={'cor': 'Branco', 'nome': 'Japao'}>\n",
            "Node n: <Node element_id='4:b53598fd-bb34-4ae1-b7e7-9aeddd5be881:6' labels=frozenset({'Selecao'}) properties={'cor': 'Branco', 'nome': 'Canada'}>\n",
            "Node y: <Node element_id='4:b53598fd-bb34-4ae1-b7e7-9aeddd5be881:5' labels=frozenset({'Selecao'}) properties={'cor': 'Branco', 'nome': 'Nigeria'}>\n",
            "Node n: <Node element_id='4:b53598fd-bb34-4ae1-b7e7-9aeddd5be881:6' labels=frozenset({'Selecao'}) properties={'cor': 'Branco', 'nome': 'Canada'}>\n",
            "Node y: <Node element_id='4:b53598fd-bb34-4ae1-b7e7-9aeddd5be881:6' labels=frozenset({'Selecao'}) properties={'cor': 'Branco', 'nome': 'Canada'}>\n",
            "Node n: <Node element_id='4:b53598fd-bb34-4ae1-b7e7-9aeddd5be881:6' labels=frozenset({'Selecao'}) properties={'cor': 'Branco', 'nome': 'Canada'}>\n",
            "Node y: <Node element_id='4:b53598fd-bb34-4ae1-b7e7-9aeddd5be881:34' labels=frozenset({'Selecao'}) properties={'cor': 'Branco', 'nome': 'Argentina'}>\n",
            "Node n: <Node element_id='4:b53598fd-bb34-4ae1-b7e7-9aeddd5be881:6' labels=frozenset({'Selecao'}) properties={'cor': 'Branco', 'nome': 'Canada'}>\n",
            "Node y: <Node element_id='4:b53598fd-bb34-4ae1-b7e7-9aeddd5be881:35' labels=frozenset({'Selecao'}) properties={'cor': 'Branco', 'nome': 'Uruguai'}>\n",
            "Node n: <Node element_id='4:b53598fd-bb34-4ae1-b7e7-9aeddd5be881:7' labels=frozenset({'Selecao'}) properties={'cor': 'Azul', 'nome': 'Colombia'}>\n",
            "Node y: <Node element_id='4:b53598fd-bb34-4ae1-b7e7-9aeddd5be881:1' labels=frozenset({'Selecao'}) properties={'cor': 'Branco', 'nome': 'Inglaterra'}>\n",
            "Node n: <Node element_id='4:b53598fd-bb34-4ae1-b7e7-9aeddd5be881:7' labels=frozenset({'Selecao'}) properties={'cor': 'Azul', 'nome': 'Colombia'}>\n",
            "Node y: <Node element_id='4:b53598fd-bb34-4ae1-b7e7-9aeddd5be881:2' labels=frozenset({'Selecao'}) properties={'cor': 'Branco', 'nome': 'Italia'}>\n",
            "Node n: <Node element_id='4:b53598fd-bb34-4ae1-b7e7-9aeddd5be881:7' labels=frozenset({'Selecao'}) properties={'cor': 'Azul', 'nome': 'Colombia'}>\n",
            "Node y: <Node element_id='4:b53598fd-bb34-4ae1-b7e7-9aeddd5be881:3' labels=frozenset({'Selecao'}) properties={'cor': 'Branco', 'nome': 'Estados Unidos'}>\n",
            "Node n: <Node element_id='4:b53598fd-bb34-4ae1-b7e7-9aeddd5be881:7' labels=frozenset({'Selecao'}) properties={'cor': 'Azul', 'nome': 'Colombia'}>\n",
            "Node y: <Node element_id='4:b53598fd-bb34-4ae1-b7e7-9aeddd5be881:4' labels=frozenset({'Selecao'}) properties={'cor': 'Branco', 'nome': 'Japao'}>\n",
            "Node n: <Node element_id='4:b53598fd-bb34-4ae1-b7e7-9aeddd5be881:7' labels=frozenset({'Selecao'}) properties={'cor': 'Azul', 'nome': 'Colombia'}>\n",
            "Node y: <Node element_id='4:b53598fd-bb34-4ae1-b7e7-9aeddd5be881:5' labels=frozenset({'Selecao'}) properties={'cor': 'Branco', 'nome': 'Nigeria'}>\n",
            "Node n: <Node element_id='4:b53598fd-bb34-4ae1-b7e7-9aeddd5be881:7' labels=frozenset({'Selecao'}) properties={'cor': 'Azul', 'nome': 'Colombia'}>\n",
            "Node y: <Node element_id='4:b53598fd-bb34-4ae1-b7e7-9aeddd5be881:6' labels=frozenset({'Selecao'}) properties={'cor': 'Branco', 'nome': 'Canada'}>\n",
            "Node n: <Node element_id='4:b53598fd-bb34-4ae1-b7e7-9aeddd5be881:7' labels=frozenset({'Selecao'}) properties={'cor': 'Azul', 'nome': 'Colombia'}>\n",
            "Node y: <Node element_id='4:b53598fd-bb34-4ae1-b7e7-9aeddd5be881:34' labels=frozenset({'Selecao'}) properties={'cor': 'Branco', 'nome': 'Argentina'}>\n",
            "Node n: <Node element_id='4:b53598fd-bb34-4ae1-b7e7-9aeddd5be881:7' labels=frozenset({'Selecao'}) properties={'cor': 'Azul', 'nome': 'Colombia'}>\n",
            "Node y: <Node element_id='4:b53598fd-bb34-4ae1-b7e7-9aeddd5be881:35' labels=frozenset({'Selecao'}) properties={'cor': 'Branco', 'nome': 'Uruguai'}>\n",
            "Node n: <Node element_id='4:b53598fd-bb34-4ae1-b7e7-9aeddd5be881:33' labels=frozenset({'Selecao'}) properties={'cor': 'Amarelo', 'nome': 'Brasil'}>\n",
            "Node y: <Node element_id='4:b53598fd-bb34-4ae1-b7e7-9aeddd5be881:1' labels=frozenset({'Selecao'}) properties={'cor': 'Branco', 'nome': 'Inglaterra'}>\n",
            "Node n: <Node element_id='4:b53598fd-bb34-4ae1-b7e7-9aeddd5be881:33' labels=frozenset({'Selecao'}) properties={'cor': 'Amarelo', 'nome': 'Brasil'}>\n",
            "Node y: <Node element_id='4:b53598fd-bb34-4ae1-b7e7-9aeddd5be881:2' labels=frozenset({'Selecao'}) properties={'cor': 'Branco', 'nome': 'Italia'}>\n",
            "Node n: <Node element_id='4:b53598fd-bb34-4ae1-b7e7-9aeddd5be881:33' labels=frozenset({'Selecao'}) properties={'cor': 'Amarelo', 'nome': 'Brasil'}>\n",
            "Node y: <Node element_id='4:b53598fd-bb34-4ae1-b7e7-9aeddd5be881:3' labels=frozenset({'Selecao'}) properties={'cor': 'Branco', 'nome': 'Estados Unidos'}>\n",
            "Node n: <Node element_id='4:b53598fd-bb34-4ae1-b7e7-9aeddd5be881:33' labels=frozenset({'Selecao'}) properties={'cor': 'Amarelo', 'nome': 'Brasil'}>\n",
            "Node y: <Node element_id='4:b53598fd-bb34-4ae1-b7e7-9aeddd5be881:4' labels=frozenset({'Selecao'}) properties={'cor': 'Branco', 'nome': 'Japao'}>\n",
            "Node n: <Node element_id='4:b53598fd-bb34-4ae1-b7e7-9aeddd5be881:33' labels=frozenset({'Selecao'}) properties={'cor': 'Amarelo', 'nome': 'Brasil'}>\n",
            "Node y: <Node element_id='4:b53598fd-bb34-4ae1-b7e7-9aeddd5be881:5' labels=frozenset({'Selecao'}) properties={'cor': 'Branco', 'nome': 'Nigeria'}>\n",
            "Node n: <Node element_id='4:b53598fd-bb34-4ae1-b7e7-9aeddd5be881:33' labels=frozenset({'Selecao'}) properties={'cor': 'Amarelo', 'nome': 'Brasil'}>\n",
            "Node y: <Node element_id='4:b53598fd-bb34-4ae1-b7e7-9aeddd5be881:6' labels=frozenset({'Selecao'}) properties={'cor': 'Branco', 'nome': 'Canada'}>\n",
            "Node n: <Node element_id='4:b53598fd-bb34-4ae1-b7e7-9aeddd5be881:33' labels=frozenset({'Selecao'}) properties={'cor': 'Amarelo', 'nome': 'Brasil'}>\n",
            "Node y: <Node element_id='4:b53598fd-bb34-4ae1-b7e7-9aeddd5be881:34' labels=frozenset({'Selecao'}) properties={'cor': 'Branco', 'nome': 'Argentina'}>\n",
            "Node n: <Node element_id='4:b53598fd-bb34-4ae1-b7e7-9aeddd5be881:33' labels=frozenset({'Selecao'}) properties={'cor': 'Amarelo', 'nome': 'Brasil'}>\n",
            "Node y: <Node element_id='4:b53598fd-bb34-4ae1-b7e7-9aeddd5be881:35' labels=frozenset({'Selecao'}) properties={'cor': 'Branco', 'nome': 'Uruguai'}>\n",
            "Node n: <Node element_id='4:b53598fd-bb34-4ae1-b7e7-9aeddd5be881:34' labels=frozenset({'Selecao'}) properties={'cor': 'Branco', 'nome': 'Argentina'}>\n",
            "Node y: <Node element_id='4:b53598fd-bb34-4ae1-b7e7-9aeddd5be881:1' labels=frozenset({'Selecao'}) properties={'cor': 'Branco', 'nome': 'Inglaterra'}>\n",
            "Node n: <Node element_id='4:b53598fd-bb34-4ae1-b7e7-9aeddd5be881:34' labels=frozenset({'Selecao'}) properties={'cor': 'Branco', 'nome': 'Argentina'}>\n",
            "Node y: <Node element_id='4:b53598fd-bb34-4ae1-b7e7-9aeddd5be881:2' labels=frozenset({'Selecao'}) properties={'cor': 'Branco', 'nome': 'Italia'}>\n",
            "Node n: <Node element_id='4:b53598fd-bb34-4ae1-b7e7-9aeddd5be881:34' labels=frozenset({'Selecao'}) properties={'cor': 'Branco', 'nome': 'Argentina'}>\n",
            "Node y: <Node element_id='4:b53598fd-bb34-4ae1-b7e7-9aeddd5be881:3' labels=frozenset({'Selecao'}) properties={'cor': 'Branco', 'nome': 'Estados Unidos'}>\n",
            "Node n: <Node element_id='4:b53598fd-bb34-4ae1-b7e7-9aeddd5be881:34' labels=frozenset({'Selecao'}) properties={'cor': 'Branco', 'nome': 'Argentina'}>\n",
            "Node y: <Node element_id='4:b53598fd-bb34-4ae1-b7e7-9aeddd5be881:4' labels=frozenset({'Selecao'}) properties={'cor': 'Branco', 'nome': 'Japao'}>\n",
            "Node n: <Node element_id='4:b53598fd-bb34-4ae1-b7e7-9aeddd5be881:34' labels=frozenset({'Selecao'}) properties={'cor': 'Branco', 'nome': 'Argentina'}>\n",
            "Node y: <Node element_id='4:b53598fd-bb34-4ae1-b7e7-9aeddd5be881:5' labels=frozenset({'Selecao'}) properties={'cor': 'Branco', 'nome': 'Nigeria'}>\n",
            "Node n: <Node element_id='4:b53598fd-bb34-4ae1-b7e7-9aeddd5be881:34' labels=frozenset({'Selecao'}) properties={'cor': 'Branco', 'nome': 'Argentina'}>\n",
            "Node y: <Node element_id='4:b53598fd-bb34-4ae1-b7e7-9aeddd5be881:6' labels=frozenset({'Selecao'}) properties={'cor': 'Branco', 'nome': 'Canada'}>\n",
            "Node n: <Node element_id='4:b53598fd-bb34-4ae1-b7e7-9aeddd5be881:34' labels=frozenset({'Selecao'}) properties={'cor': 'Branco', 'nome': 'Argentina'}>\n",
            "Node y: <Node element_id='4:b53598fd-bb34-4ae1-b7e7-9aeddd5be881:34' labels=frozenset({'Selecao'}) properties={'cor': 'Branco', 'nome': 'Argentina'}>\n",
            "Node n: <Node element_id='4:b53598fd-bb34-4ae1-b7e7-9aeddd5be881:34' labels=frozenset({'Selecao'}) properties={'cor': 'Branco', 'nome': 'Argentina'}>\n",
            "Node y: <Node element_id='4:b53598fd-bb34-4ae1-b7e7-9aeddd5be881:35' labels=frozenset({'Selecao'}) properties={'cor': 'Branco', 'nome': 'Uruguai'}>\n",
            "Node n: <Node element_id='4:b53598fd-bb34-4ae1-b7e7-9aeddd5be881:35' labels=frozenset({'Selecao'}) properties={'cor': 'Branco', 'nome': 'Uruguai'}>\n",
            "Node y: <Node element_id='4:b53598fd-bb34-4ae1-b7e7-9aeddd5be881:1' labels=frozenset({'Selecao'}) properties={'cor': 'Branco', 'nome': 'Inglaterra'}>\n",
            "Node n: <Node element_id='4:b53598fd-bb34-4ae1-b7e7-9aeddd5be881:35' labels=frozenset({'Selecao'}) properties={'cor': 'Branco', 'nome': 'Uruguai'}>\n",
            "Node y: <Node element_id='4:b53598fd-bb34-4ae1-b7e7-9aeddd5be881:2' labels=frozenset({'Selecao'}) properties={'cor': 'Branco', 'nome': 'Italia'}>\n",
            "Node n: <Node element_id='4:b53598fd-bb34-4ae1-b7e7-9aeddd5be881:35' labels=frozenset({'Selecao'}) properties={'cor': 'Branco', 'nome': 'Uruguai'}>\n",
            "Node y: <Node element_id='4:b53598fd-bb34-4ae1-b7e7-9aeddd5be881:3' labels=frozenset({'Selecao'}) properties={'cor': 'Branco', 'nome': 'Estados Unidos'}>\n",
            "Node n: <Node element_id='4:b53598fd-bb34-4ae1-b7e7-9aeddd5be881:35' labels=frozenset({'Selecao'}) properties={'cor': 'Branco', 'nome': 'Uruguai'}>\n",
            "Node y: <Node element_id='4:b53598fd-bb34-4ae1-b7e7-9aeddd5be881:4' labels=frozenset({'Selecao'}) properties={'cor': 'Branco', 'nome': 'Japao'}>\n",
            "Node n: <Node element_id='4:b53598fd-bb34-4ae1-b7e7-9aeddd5be881:35' labels=frozenset({'Selecao'}) properties={'cor': 'Branco', 'nome': 'Uruguai'}>\n",
            "Node y: <Node element_id='4:b53598fd-bb34-4ae1-b7e7-9aeddd5be881:5' labels=frozenset({'Selecao'}) properties={'cor': 'Branco', 'nome': 'Nigeria'}>\n",
            "Node n: <Node element_id='4:b53598fd-bb34-4ae1-b7e7-9aeddd5be881:35' labels=frozenset({'Selecao'}) properties={'cor': 'Branco', 'nome': 'Uruguai'}>\n",
            "Node y: <Node element_id='4:b53598fd-bb34-4ae1-b7e7-9aeddd5be881:6' labels=frozenset({'Selecao'}) properties={'cor': 'Branco', 'nome': 'Canada'}>\n",
            "Node n: <Node element_id='4:b53598fd-bb34-4ae1-b7e7-9aeddd5be881:35' labels=frozenset({'Selecao'}) properties={'cor': 'Branco', 'nome': 'Uruguai'}>\n",
            "Node y: <Node element_id='4:b53598fd-bb34-4ae1-b7e7-9aeddd5be881:34' labels=frozenset({'Selecao'}) properties={'cor': 'Branco', 'nome': 'Argentina'}>\n",
            "Node n: <Node element_id='4:b53598fd-bb34-4ae1-b7e7-9aeddd5be881:35' labels=frozenset({'Selecao'}) properties={'cor': 'Branco', 'nome': 'Uruguai'}>\n",
            "Node y: <Node element_id='4:b53598fd-bb34-4ae1-b7e7-9aeddd5be881:35' labels=frozenset({'Selecao'}) properties={'cor': 'Branco', 'nome': 'Uruguai'}>\n",
            "Node n: <Node element_id='4:b53598fd-bb34-4ae1-b7e7-9aeddd5be881:36' labels=frozenset({'Selecao'}) properties={'cor': 'Vermelho', 'nome': 'Franca'}>\n",
            "Node y: <Node element_id='4:b53598fd-bb34-4ae1-b7e7-9aeddd5be881:0' labels=frozenset({'Selecao'}) properties={'cor': 'Preto', 'nome': 'Alemanha'}>\n",
            "Node n: <Node element_id='4:b53598fd-bb34-4ae1-b7e7-9aeddd5be881:36' labels=frozenset({'Selecao'}) properties={'cor': 'Vermelho', 'nome': 'Franca'}>\n",
            "Node y: <Node element_id='4:b53598fd-bb34-4ae1-b7e7-9aeddd5be881:1' labels=frozenset({'Selecao'}) properties={'cor': 'Branco', 'nome': 'Inglaterra'}>\n",
            "Node n: <Node element_id='4:b53598fd-bb34-4ae1-b7e7-9aeddd5be881:36' labels=frozenset({'Selecao'}) properties={'cor': 'Vermelho', 'nome': 'Franca'}>\n",
            "Node y: <Node element_id='4:b53598fd-bb34-4ae1-b7e7-9aeddd5be881:2' labels=frozenset({'Selecao'}) properties={'cor': 'Branco', 'nome': 'Italia'}>\n",
            "Node n: <Node element_id='4:b53598fd-bb34-4ae1-b7e7-9aeddd5be881:36' labels=frozenset({'Selecao'}) properties={'cor': 'Vermelho', 'nome': 'Franca'}>\n",
            "Node y: <Node element_id='4:b53598fd-bb34-4ae1-b7e7-9aeddd5be881:3' labels=frozenset({'Selecao'}) properties={'cor': 'Branco', 'nome': 'Estados Unidos'}>\n",
            "Node n: <Node element_id='4:b53598fd-bb34-4ae1-b7e7-9aeddd5be881:36' labels=frozenset({'Selecao'}) properties={'cor': 'Vermelho', 'nome': 'Franca'}>\n",
            "Node y: <Node element_id='4:b53598fd-bb34-4ae1-b7e7-9aeddd5be881:4' labels=frozenset({'Selecao'}) properties={'cor': 'Branco', 'nome': 'Japao'}>\n",
            "Node n: <Node element_id='4:b53598fd-bb34-4ae1-b7e7-9aeddd5be881:36' labels=frozenset({'Selecao'}) properties={'cor': 'Vermelho', 'nome': 'Franca'}>\n",
            "Node y: <Node element_id='4:b53598fd-bb34-4ae1-b7e7-9aeddd5be881:5' labels=frozenset({'Selecao'}) properties={'cor': 'Branco', 'nome': 'Nigeria'}>\n",
            "Node n: <Node element_id='4:b53598fd-bb34-4ae1-b7e7-9aeddd5be881:36' labels=frozenset({'Selecao'}) properties={'cor': 'Vermelho', 'nome': 'Franca'}>\n",
            "Node y: <Node element_id='4:b53598fd-bb34-4ae1-b7e7-9aeddd5be881:6' labels=frozenset({'Selecao'}) properties={'cor': 'Branco', 'nome': 'Canada'}>\n",
            "Node n: <Node element_id='4:b53598fd-bb34-4ae1-b7e7-9aeddd5be881:36' labels=frozenset({'Selecao'}) properties={'cor': 'Vermelho', 'nome': 'Franca'}>\n",
            "Node y: <Node element_id='4:b53598fd-bb34-4ae1-b7e7-9aeddd5be881:7' labels=frozenset({'Selecao'}) properties={'cor': 'Azul', 'nome': 'Colombia'}>\n",
            "Node n: <Node element_id='4:b53598fd-bb34-4ae1-b7e7-9aeddd5be881:36' labels=frozenset({'Selecao'}) properties={'cor': 'Vermelho', 'nome': 'Franca'}>\n",
            "Node y: <Node element_id='4:b53598fd-bb34-4ae1-b7e7-9aeddd5be881:33' labels=frozenset({'Selecao'}) properties={'cor': 'Amarelo', 'nome': 'Brasil'}>\n",
            "Node n: <Node element_id='4:b53598fd-bb34-4ae1-b7e7-9aeddd5be881:36' labels=frozenset({'Selecao'}) properties={'cor': 'Vermelho', 'nome': 'Franca'}>\n",
            "Node y: <Node element_id='4:b53598fd-bb34-4ae1-b7e7-9aeddd5be881:34' labels=frozenset({'Selecao'}) properties={'cor': 'Branco', 'nome': 'Argentina'}>\n",
            "Node n: <Node element_id='4:b53598fd-bb34-4ae1-b7e7-9aeddd5be881:36' labels=frozenset({'Selecao'}) properties={'cor': 'Vermelho', 'nome': 'Franca'}>\n",
            "Node y: <Node element_id='4:b53598fd-bb34-4ae1-b7e7-9aeddd5be881:35' labels=frozenset({'Selecao'}) properties={'cor': 'Branco', 'nome': 'Uruguai'}>\n",
            "Node n: <Node element_id='4:b53598fd-bb34-4ae1-b7e7-9aeddd5be881:36' labels=frozenset({'Selecao'}) properties={'cor': 'Vermelho', 'nome': 'Franca'}>\n",
            "Node y: <Node element_id='4:b53598fd-bb34-4ae1-b7e7-9aeddd5be881:36' labels=frozenset({'Selecao'}) properties={'cor': 'Vermelho', 'nome': 'Franca'}>\n",
            "Node n: <Node element_id='4:b53598fd-bb34-4ae1-b7e7-9aeddd5be881:36' labels=frozenset({'Selecao'}) properties={'cor': 'Vermelho', 'nome': 'Franca'}>\n",
            "Node y: <Node element_id='4:b53598fd-bb34-4ae1-b7e7-9aeddd5be881:37' labels=frozenset({'Selecao'}) properties={'cor': 'Vermelho', 'nome': 'Espanha'}>\n",
            "Node n: <Node element_id='4:b53598fd-bb34-4ae1-b7e7-9aeddd5be881:37' labels=frozenset({'Selecao'}) properties={'cor': 'Vermelho', 'nome': 'Espanha'}>\n",
            "Node y: <Node element_id='4:b53598fd-bb34-4ae1-b7e7-9aeddd5be881:0' labels=frozenset({'Selecao'}) properties={'cor': 'Preto', 'nome': 'Alemanha'}>\n",
            "Node n: <Node element_id='4:b53598fd-bb34-4ae1-b7e7-9aeddd5be881:37' labels=frozenset({'Selecao'}) properties={'cor': 'Vermelho', 'nome': 'Espanha'}>\n",
            "Node y: <Node element_id='4:b53598fd-bb34-4ae1-b7e7-9aeddd5be881:1' labels=frozenset({'Selecao'}) properties={'cor': 'Branco', 'nome': 'Inglaterra'}>\n",
            "Node n: <Node element_id='4:b53598fd-bb34-4ae1-b7e7-9aeddd5be881:37' labels=frozenset({'Selecao'}) properties={'cor': 'Vermelho', 'nome': 'Espanha'}>\n",
            "Node y: <Node element_id='4:b53598fd-bb34-4ae1-b7e7-9aeddd5be881:2' labels=frozenset({'Selecao'}) properties={'cor': 'Branco', 'nome': 'Italia'}>\n",
            "Node n: <Node element_id='4:b53598fd-bb34-4ae1-b7e7-9aeddd5be881:37' labels=frozenset({'Selecao'}) properties={'cor': 'Vermelho', 'nome': 'Espanha'}>\n",
            "Node y: <Node element_id='4:b53598fd-bb34-4ae1-b7e7-9aeddd5be881:3' labels=frozenset({'Selecao'}) properties={'cor': 'Branco', 'nome': 'Estados Unidos'}>\n",
            "Node n: <Node element_id='4:b53598fd-bb34-4ae1-b7e7-9aeddd5be881:37' labels=frozenset({'Selecao'}) properties={'cor': 'Vermelho', 'nome': 'Espanha'}>\n",
            "Node y: <Node element_id='4:b53598fd-bb34-4ae1-b7e7-9aeddd5be881:4' labels=frozenset({'Selecao'}) properties={'cor': 'Branco', 'nome': 'Japao'}>\n",
            "Node n: <Node element_id='4:b53598fd-bb34-4ae1-b7e7-9aeddd5be881:37' labels=frozenset({'Selecao'}) properties={'cor': 'Vermelho', 'nome': 'Espanha'}>\n",
            "Node y: <Node element_id='4:b53598fd-bb34-4ae1-b7e7-9aeddd5be881:5' labels=frozenset({'Selecao'}) properties={'cor': 'Branco', 'nome': 'Nigeria'}>\n",
            "Node n: <Node element_id='4:b53598fd-bb34-4ae1-b7e7-9aeddd5be881:37' labels=frozenset({'Selecao'}) properties={'cor': 'Vermelho', 'nome': 'Espanha'}>\n",
            "Node y: <Node element_id='4:b53598fd-bb34-4ae1-b7e7-9aeddd5be881:6' labels=frozenset({'Selecao'}) properties={'cor': 'Branco', 'nome': 'Canada'}>\n",
            "Node n: <Node element_id='4:b53598fd-bb34-4ae1-b7e7-9aeddd5be881:37' labels=frozenset({'Selecao'}) properties={'cor': 'Vermelho', 'nome': 'Espanha'}>\n",
            "Node y: <Node element_id='4:b53598fd-bb34-4ae1-b7e7-9aeddd5be881:7' labels=frozenset({'Selecao'}) properties={'cor': 'Azul', 'nome': 'Colombia'}>\n",
            "Node n: <Node element_id='4:b53598fd-bb34-4ae1-b7e7-9aeddd5be881:37' labels=frozenset({'Selecao'}) properties={'cor': 'Vermelho', 'nome': 'Espanha'}>\n",
            "Node y: <Node element_id='4:b53598fd-bb34-4ae1-b7e7-9aeddd5be881:33' labels=frozenset({'Selecao'}) properties={'cor': 'Amarelo', 'nome': 'Brasil'}>\n",
            "Node n: <Node element_id='4:b53598fd-bb34-4ae1-b7e7-9aeddd5be881:37' labels=frozenset({'Selecao'}) properties={'cor': 'Vermelho', 'nome': 'Espanha'}>\n",
            "Node y: <Node element_id='4:b53598fd-bb34-4ae1-b7e7-9aeddd5be881:34' labels=frozenset({'Selecao'}) properties={'cor': 'Branco', 'nome': 'Argentina'}>\n",
            "Node n: <Node element_id='4:b53598fd-bb34-4ae1-b7e7-9aeddd5be881:37' labels=frozenset({'Selecao'}) properties={'cor': 'Vermelho', 'nome': 'Espanha'}>\n",
            "Node y: <Node element_id='4:b53598fd-bb34-4ae1-b7e7-9aeddd5be881:35' labels=frozenset({'Selecao'}) properties={'cor': 'Branco', 'nome': 'Uruguai'}>\n",
            "Node n: <Node element_id='4:b53598fd-bb34-4ae1-b7e7-9aeddd5be881:37' labels=frozenset({'Selecao'}) properties={'cor': 'Vermelho', 'nome': 'Espanha'}>\n",
            "Node y: <Node element_id='4:b53598fd-bb34-4ae1-b7e7-9aeddd5be881:36' labels=frozenset({'Selecao'}) properties={'cor': 'Vermelho', 'nome': 'Franca'}>\n",
            "Node n: <Node element_id='4:b53598fd-bb34-4ae1-b7e7-9aeddd5be881:37' labels=frozenset({'Selecao'}) properties={'cor': 'Vermelho', 'nome': 'Espanha'}>\n",
            "Node y: <Node element_id='4:b53598fd-bb34-4ae1-b7e7-9aeddd5be881:37' labels=frozenset({'Selecao'}) properties={'cor': 'Vermelho', 'nome': 'Espanha'}>\n"
          ]
        }
      ]
    },
    {
      "cell_type": "markdown",
      "source": [
        "- Retornando os nodes com Label \"Seleção\" com a cor \"Vermelho\" E \"Branco\""
      ],
      "metadata": {
        "id": "nkWo_jFAm-vt"
      }
    },
    {
      "cell_type": "code",
      "source": [
        "q1 = \"MATCH (n:Selecao), (y:Selecao) WHERE n.cor = 'Vermelho' AND y.cor = 'Branco' RETURN n,y\"\n",
        "\n",
        "# Abrir uma sessão e executar a consulta\n",
        "with driver.session() as session:\n",
        "    result = session.run(q1)\n",
        "\n",
        "    # Processar os resultados\n",
        "    for record in result:\n",
        "        node_n = record[\"n\"]\n",
        "        node_y = record[\"y\"]\n",
        "        print(f\"Node n: {node_n}\\nNode y: {node_y}\")\n"
      ],
      "metadata": {
        "colab": {
          "base_uri": "https://localhost:8080/"
        },
        "id": "3f8eNtOqnG1P",
        "outputId": "a2d5073f-dd27-47be-ba6f-eff9284eaff5"
      },
      "execution_count": 643,
      "outputs": [
        {
          "output_type": "stream",
          "name": "stdout",
          "text": [
            "Node n: <Node element_id='4:b53598fd-bb34-4ae1-b7e7-9aeddd5be881:36' labels=frozenset({'Selecao'}) properties={'cor': 'Vermelho', 'nome': 'Franca'}>\n",
            "Node y: <Node element_id='4:b53598fd-bb34-4ae1-b7e7-9aeddd5be881:1' labels=frozenset({'Selecao'}) properties={'cor': 'Branco', 'nome': 'Inglaterra'}>\n",
            "Node n: <Node element_id='4:b53598fd-bb34-4ae1-b7e7-9aeddd5be881:36' labels=frozenset({'Selecao'}) properties={'cor': 'Vermelho', 'nome': 'Franca'}>\n",
            "Node y: <Node element_id='4:b53598fd-bb34-4ae1-b7e7-9aeddd5be881:2' labels=frozenset({'Selecao'}) properties={'cor': 'Branco', 'nome': 'Italia'}>\n",
            "Node n: <Node element_id='4:b53598fd-bb34-4ae1-b7e7-9aeddd5be881:36' labels=frozenset({'Selecao'}) properties={'cor': 'Vermelho', 'nome': 'Franca'}>\n",
            "Node y: <Node element_id='4:b53598fd-bb34-4ae1-b7e7-9aeddd5be881:3' labels=frozenset({'Selecao'}) properties={'cor': 'Branco', 'nome': 'Estados Unidos'}>\n",
            "Node n: <Node element_id='4:b53598fd-bb34-4ae1-b7e7-9aeddd5be881:36' labels=frozenset({'Selecao'}) properties={'cor': 'Vermelho', 'nome': 'Franca'}>\n",
            "Node y: <Node element_id='4:b53598fd-bb34-4ae1-b7e7-9aeddd5be881:4' labels=frozenset({'Selecao'}) properties={'cor': 'Branco', 'nome': 'Japao'}>\n",
            "Node n: <Node element_id='4:b53598fd-bb34-4ae1-b7e7-9aeddd5be881:36' labels=frozenset({'Selecao'}) properties={'cor': 'Vermelho', 'nome': 'Franca'}>\n",
            "Node y: <Node element_id='4:b53598fd-bb34-4ae1-b7e7-9aeddd5be881:5' labels=frozenset({'Selecao'}) properties={'cor': 'Branco', 'nome': 'Nigeria'}>\n",
            "Node n: <Node element_id='4:b53598fd-bb34-4ae1-b7e7-9aeddd5be881:36' labels=frozenset({'Selecao'}) properties={'cor': 'Vermelho', 'nome': 'Franca'}>\n",
            "Node y: <Node element_id='4:b53598fd-bb34-4ae1-b7e7-9aeddd5be881:6' labels=frozenset({'Selecao'}) properties={'cor': 'Branco', 'nome': 'Canada'}>\n",
            "Node n: <Node element_id='4:b53598fd-bb34-4ae1-b7e7-9aeddd5be881:36' labels=frozenset({'Selecao'}) properties={'cor': 'Vermelho', 'nome': 'Franca'}>\n",
            "Node y: <Node element_id='4:b53598fd-bb34-4ae1-b7e7-9aeddd5be881:34' labels=frozenset({'Selecao'}) properties={'cor': 'Branco', 'nome': 'Argentina'}>\n",
            "Node n: <Node element_id='4:b53598fd-bb34-4ae1-b7e7-9aeddd5be881:36' labels=frozenset({'Selecao'}) properties={'cor': 'Vermelho', 'nome': 'Franca'}>\n",
            "Node y: <Node element_id='4:b53598fd-bb34-4ae1-b7e7-9aeddd5be881:35' labels=frozenset({'Selecao'}) properties={'cor': 'Branco', 'nome': 'Uruguai'}>\n",
            "Node n: <Node element_id='4:b53598fd-bb34-4ae1-b7e7-9aeddd5be881:37' labels=frozenset({'Selecao'}) properties={'cor': 'Vermelho', 'nome': 'Espanha'}>\n",
            "Node y: <Node element_id='4:b53598fd-bb34-4ae1-b7e7-9aeddd5be881:1' labels=frozenset({'Selecao'}) properties={'cor': 'Branco', 'nome': 'Inglaterra'}>\n",
            "Node n: <Node element_id='4:b53598fd-bb34-4ae1-b7e7-9aeddd5be881:37' labels=frozenset({'Selecao'}) properties={'cor': 'Vermelho', 'nome': 'Espanha'}>\n",
            "Node y: <Node element_id='4:b53598fd-bb34-4ae1-b7e7-9aeddd5be881:2' labels=frozenset({'Selecao'}) properties={'cor': 'Branco', 'nome': 'Italia'}>\n",
            "Node n: <Node element_id='4:b53598fd-bb34-4ae1-b7e7-9aeddd5be881:37' labels=frozenset({'Selecao'}) properties={'cor': 'Vermelho', 'nome': 'Espanha'}>\n",
            "Node y: <Node element_id='4:b53598fd-bb34-4ae1-b7e7-9aeddd5be881:3' labels=frozenset({'Selecao'}) properties={'cor': 'Branco', 'nome': 'Estados Unidos'}>\n",
            "Node n: <Node element_id='4:b53598fd-bb34-4ae1-b7e7-9aeddd5be881:37' labels=frozenset({'Selecao'}) properties={'cor': 'Vermelho', 'nome': 'Espanha'}>\n",
            "Node y: <Node element_id='4:b53598fd-bb34-4ae1-b7e7-9aeddd5be881:4' labels=frozenset({'Selecao'}) properties={'cor': 'Branco', 'nome': 'Japao'}>\n",
            "Node n: <Node element_id='4:b53598fd-bb34-4ae1-b7e7-9aeddd5be881:37' labels=frozenset({'Selecao'}) properties={'cor': 'Vermelho', 'nome': 'Espanha'}>\n",
            "Node y: <Node element_id='4:b53598fd-bb34-4ae1-b7e7-9aeddd5be881:5' labels=frozenset({'Selecao'}) properties={'cor': 'Branco', 'nome': 'Nigeria'}>\n",
            "Node n: <Node element_id='4:b53598fd-bb34-4ae1-b7e7-9aeddd5be881:37' labels=frozenset({'Selecao'}) properties={'cor': 'Vermelho', 'nome': 'Espanha'}>\n",
            "Node y: <Node element_id='4:b53598fd-bb34-4ae1-b7e7-9aeddd5be881:6' labels=frozenset({'Selecao'}) properties={'cor': 'Branco', 'nome': 'Canada'}>\n",
            "Node n: <Node element_id='4:b53598fd-bb34-4ae1-b7e7-9aeddd5be881:37' labels=frozenset({'Selecao'}) properties={'cor': 'Vermelho', 'nome': 'Espanha'}>\n",
            "Node y: <Node element_id='4:b53598fd-bb34-4ae1-b7e7-9aeddd5be881:34' labels=frozenset({'Selecao'}) properties={'cor': 'Branco', 'nome': 'Argentina'}>\n",
            "Node n: <Node element_id='4:b53598fd-bb34-4ae1-b7e7-9aeddd5be881:37' labels=frozenset({'Selecao'}) properties={'cor': 'Vermelho', 'nome': 'Espanha'}>\n",
            "Node y: <Node element_id='4:b53598fd-bb34-4ae1-b7e7-9aeddd5be881:35' labels=frozenset({'Selecao'}) properties={'cor': 'Branco', 'nome': 'Uruguai'}>\n"
          ]
        }
      ]
    },
    {
      "cell_type": "markdown",
      "source": [
        "#Pausa para análise\n",
        "\n",
        "Lembra que criamos o node:\n",
        "\n",
        "```\n",
        "CREATE (:Selecao{nome:'Brasil',cor:'Verde',cor:'Amarelo'}) ?????\n",
        "```\n",
        "\n",
        "\n",
        "Veja que o node Brasil só tem a cor \"Amarelo\" e cadê o verde?\n",
        "\n",
        "![image.png](data:image/png;base64,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)\n",
        "\n",
        "Isso aconteceu pois na criação dos nodes colocamos \"cor = verde\" e depois \"cor = amarelo\", isto é, sobrescreveu! =)\n",
        "\n",
        "Calma, que tem solução isso, rs!\n",
        "\n",
        "Primeiro temos que apagar tudo o que criamos ..."
      ],
      "metadata": {
        "id": "Y7ec_PGebYID"
      }
    },
    {
      "cell_type": "code",
      "source": [
        "with driver.session() as session:\n",
        "    session.write_transaction(lambda tx: tx.run(\"MATCH (n) DETACH DELETE n\"))"
      ],
      "metadata": {
        "colab": {
          "base_uri": "https://localhost:8080/"
        },
        "id": "he5WDAZ3pfoR",
        "outputId": "2e8b2187-6cbe-4730-cd23-61da51b45582"
      },
      "execution_count": 644,
      "outputs": [
        {
          "output_type": "stream",
          "name": "stderr",
          "text": [
            "<ipython-input-644-a6f36666ed44>:2: DeprecationWarning: write_transaction has been renamed to execute_write\n",
            "  session.write_transaction(lambda tx: tx.run(\"MATCH (n) DETACH DELETE n\"))\n"
          ]
        }
      ]
    },
    {
      "cell_type": "markdown",
      "source": [
        "Verificando se apagamos tudo:"
      ],
      "metadata": {
        "id": "ZfU34-6Kpkpi"
      }
    },
    {
      "cell_type": "code",
      "source": [
        "q1 = \"MATCH (x) RETURN x\"\n",
        "\n",
        "# Abrir uma sessão e executar a consulta\n",
        "with driver.session() as session:\n",
        "    result = session.run(q1)\n",
        "\n",
        "    # Processar os resultados\n",
        "    for record in result:\n",
        "        node = record[\"x\"]\n",
        "        print(node)"
      ],
      "metadata": {
        "id": "msoRIgECpmMZ"
      },
      "execution_count": 645,
      "outputs": []
    },
    {
      "cell_type": "markdown",
      "source": [
        "SIM \\O/"
      ],
      "metadata": {
        "id": "a2Yt5FeKpnmY"
      }
    },
    {
      "cell_type": "markdown",
      "source": [
        "Porém agora teremos que fazer tudo de novo:"
      ],
      "metadata": {
        "id": "1IdErs6tprxm"
      }
    },
    {
      "cell_type": "code",
      "source": [
        "with driver.session() as session:\n",
        "    session.write_transaction(lambda tx: tx.run(\"CREATE (:Selecao {nome: 'Brasil', cores: ['Verde', 'Amarelo']})\"))"
      ],
      "metadata": {
        "colab": {
          "base_uri": "https://localhost:8080/"
        },
        "id": "Tt5foyMHpxQz",
        "outputId": "ebf8b288-89e3-492d-deb0-e74a37f73f7b"
      },
      "execution_count": 646,
      "outputs": [
        {
          "output_type": "stream",
          "name": "stderr",
          "text": [
            "<ipython-input-646-273e8bfd3cee>:2: DeprecationWarning: write_transaction has been renamed to execute_write\n",
            "  session.write_transaction(lambda tx: tx.run(\"CREATE (:Selecao {nome: 'Brasil', cores: ['Verde', 'Amarelo']})\"))\n"
          ]
        }
      ]
    },
    {
      "cell_type": "code",
      "source": [
        "with driver.session() as session:\n",
        "    session.write_transaction(lambda tx: tx.run(\"CREATE (:Selecao {nome: 'Argentina', cores: ['Azul', 'Branco']})\"))"
      ],
      "metadata": {
        "colab": {
          "base_uri": "https://localhost:8080/"
        },
        "id": "jZeYLiOpqDrW",
        "outputId": "7bcc95e7-11a2-4a82-a596-ec572d10116d"
      },
      "execution_count": 647,
      "outputs": [
        {
          "output_type": "stream",
          "name": "stderr",
          "text": [
            "<ipython-input-647-88708ca0dcec>:2: DeprecationWarning: write_transaction has been renamed to execute_write\n",
            "  session.write_transaction(lambda tx: tx.run(\"CREATE (:Selecao {nome: 'Argentina', cores: ['Azul', 'Branco']})\"))\n"
          ]
        }
      ]
    },
    {
      "cell_type": "code",
      "source": [
        "with driver.session() as session:\n",
        "    session.write_transaction(lambda tx: tx.run(\"CREATE (:Selecao {nome: 'Uruguai', cores: ['Azul', 'Branco']})\"))"
      ],
      "metadata": {
        "colab": {
          "base_uri": "https://localhost:8080/"
        },
        "id": "RGZmhfp_qDdk",
        "outputId": "1c1c20e3-8cee-4fc2-c4c6-978ede543286"
      },
      "execution_count": 648,
      "outputs": [
        {
          "output_type": "stream",
          "name": "stderr",
          "text": [
            "<ipython-input-648-1b8646cf0022>:2: DeprecationWarning: write_transaction has been renamed to execute_write\n",
            "  session.write_transaction(lambda tx: tx.run(\"CREATE (:Selecao {nome: 'Uruguai', cores: ['Azul', 'Branco']})\"))\n"
          ]
        }
      ]
    },
    {
      "cell_type": "code",
      "source": [
        "with driver.session() as session:\n",
        "    session.write_transaction(lambda tx: tx.run(\"CREATE (:Selecao {nome: 'Franca', cores: ['Azul', 'Branco', 'Vermelho']})\"))"
      ],
      "metadata": {
        "colab": {
          "base_uri": "https://localhost:8080/"
        },
        "id": "ion1vObVqDIP",
        "outputId": "085d769a-606b-4af1-dfab-4af4b5b30cd5"
      },
      "execution_count": 649,
      "outputs": [
        {
          "output_type": "stream",
          "name": "stderr",
          "text": [
            "<ipython-input-649-b5953411228c>:2: DeprecationWarning: write_transaction has been renamed to execute_write\n",
            "  session.write_transaction(lambda tx: tx.run(\"CREATE (:Selecao {nome: 'Franca', cores: ['Azul', 'Branco', 'Vermelho']})\"))\n"
          ]
        }
      ]
    },
    {
      "cell_type": "code",
      "source": [
        "with driver.session() as session:\n",
        "    session.write_transaction(lambda tx: tx.run(\"CREATE (:Selecao {nome: 'Espanha', cores: ['Amarelo', 'Vermelho']})\"))"
      ],
      "metadata": {
        "colab": {
          "base_uri": "https://localhost:8080/"
        },
        "id": "BcMUGZVGqC4o",
        "outputId": "f5ea2b6b-f2ba-4f38-9697-b4dc4479e07b"
      },
      "execution_count": 650,
      "outputs": [
        {
          "output_type": "stream",
          "name": "stderr",
          "text": [
            "<ipython-input-650-178dd4326a74>:2: DeprecationWarning: write_transaction has been renamed to execute_write\n",
            "  session.write_transaction(lambda tx: tx.run(\"CREATE (:Selecao {nome: 'Espanha', cores: ['Amarelo', 'Vermelho']})\"))\n"
          ]
        }
      ]
    },
    {
      "cell_type": "code",
      "source": [
        "with driver.session() as session:\n",
        "    session.write_transaction(lambda tx: tx.run(\"CREATE (:Selecao {nome: 'Alemanha', cores: ['Amarelo', 'Vermelho', 'Preto']})\"))"
      ],
      "metadata": {
        "colab": {
          "base_uri": "https://localhost:8080/"
        },
        "id": "gW7EtrOcqCqz",
        "outputId": "4f11c74b-a4ff-4730-b190-aa0f18314e9f"
      },
      "execution_count": 651,
      "outputs": [
        {
          "output_type": "stream",
          "name": "stderr",
          "text": [
            "<ipython-input-651-850c76931f2f>:2: DeprecationWarning: write_transaction has been renamed to execute_write\n",
            "  session.write_transaction(lambda tx: tx.run(\"CREATE (:Selecao {nome: 'Alemanha', cores: ['Amarelo', 'Vermelho', 'Preto']})\"))\n"
          ]
        }
      ]
    },
    {
      "cell_type": "code",
      "source": [
        "with driver.session() as session:\n",
        "    session.write_transaction(lambda tx: tx.run(\"CREATE (:Selecao {nome: 'Inglaterra', cores: ['Vermelho', 'Branco']})\"))"
      ],
      "metadata": {
        "colab": {
          "base_uri": "https://localhost:8080/"
        },
        "id": "WIo2M4AWqCc4",
        "outputId": "2e15dc9d-c381-47dc-c060-6d0fc086ec59"
      },
      "execution_count": 652,
      "outputs": [
        {
          "output_type": "stream",
          "name": "stderr",
          "text": [
            "<ipython-input-652-b338f3886083>:2: DeprecationWarning: write_transaction has been renamed to execute_write\n",
            "  session.write_transaction(lambda tx: tx.run(\"CREATE (:Selecao {nome: 'Inglaterra', cores: ['Vermelho', 'Branco']})\"))\n"
          ]
        }
      ]
    },
    {
      "cell_type": "code",
      "source": [
        "with driver.session() as session:\n",
        "    session.write_transaction(lambda tx: tx.run(\"CREATE (:Selecao {nome: 'Italia', cores: ['Verde', 'Vermelho', 'Branco']})\"))"
      ],
      "metadata": {
        "colab": {
          "base_uri": "https://localhost:8080/"
        },
        "id": "og22G_84qCQO",
        "outputId": "f211e7f3-dcfd-47a0-ac5c-a79d2d1e73c9"
      },
      "execution_count": 653,
      "outputs": [
        {
          "output_type": "stream",
          "name": "stderr",
          "text": [
            "<ipython-input-653-14d2dcf7ad26>:2: DeprecationWarning: write_transaction has been renamed to execute_write\n",
            "  session.write_transaction(lambda tx: tx.run(\"CREATE (:Selecao {nome: 'Italia', cores: ['Verde', 'Vermelho', 'Branco']})\"))\n"
          ]
        }
      ]
    },
    {
      "cell_type": "code",
      "source": [
        "with driver.session() as session:\n",
        "    session.write_transaction(lambda tx: tx.run(\"CREATE (:Selecao {nome: 'Estados Unidos', cores: ['Azul', 'Vermelho', 'Branco']})\"))"
      ],
      "metadata": {
        "colab": {
          "base_uri": "https://localhost:8080/"
        },
        "id": "-dA9Zly9p-7j",
        "outputId": "24b059bc-7f0d-483c-a561-1bcdcd3c1a36"
      },
      "execution_count": 654,
      "outputs": [
        {
          "output_type": "stream",
          "name": "stderr",
          "text": [
            "<ipython-input-654-c9047ebf6e4b>:2: DeprecationWarning: write_transaction has been renamed to execute_write\n",
            "  session.write_transaction(lambda tx: tx.run(\"CREATE (:Selecao {nome: 'Estados Unidos', cores: ['Azul', 'Vermelho', 'Branco']})\"))\n"
          ]
        }
      ]
    },
    {
      "cell_type": "code",
      "source": [
        "with driver.session() as session:\n",
        "    session.write_transaction(lambda tx: tx.run(\"CREATE (:Selecao {nome: 'Japao', cores: ['Vermelho', 'Branco']})\"))"
      ],
      "metadata": {
        "colab": {
          "base_uri": "https://localhost:8080/"
        },
        "id": "syKXyI9pp-tZ",
        "outputId": "4e97a972-7670-4d5b-8b9d-d2c1421ff87f"
      },
      "execution_count": 655,
      "outputs": [
        {
          "output_type": "stream",
          "name": "stderr",
          "text": [
            "<ipython-input-655-05956b34abe6>:2: DeprecationWarning: write_transaction has been renamed to execute_write\n",
            "  session.write_transaction(lambda tx: tx.run(\"CREATE (:Selecao {nome: 'Japao', cores: ['Vermelho', 'Branco']})\"))\n"
          ]
        }
      ]
    },
    {
      "cell_type": "code",
      "source": [
        "with driver.session() as session:\n",
        "    session.write_transaction(lambda tx: tx.run(\"CREATE (:Selecao {nome: 'Nigeria', cores: ['Verde', 'Branco']})\"))"
      ],
      "metadata": {
        "colab": {
          "base_uri": "https://localhost:8080/"
        },
        "id": "PAc5EiC6p-e_",
        "outputId": "f42784a0-370c-4e0c-957f-92d1c2dcf6bb"
      },
      "execution_count": 656,
      "outputs": [
        {
          "output_type": "stream",
          "name": "stderr",
          "text": [
            "<ipython-input-656-f9ffd6604236>:2: DeprecationWarning: write_transaction has been renamed to execute_write\n",
            "  session.write_transaction(lambda tx: tx.run(\"CREATE (:Selecao {nome: 'Nigeria', cores: ['Verde', 'Branco']})\"))\n"
          ]
        }
      ]
    },
    {
      "cell_type": "code",
      "source": [
        "with driver.session() as session:\n",
        "    session.write_transaction(lambda tx: tx.run(\"CREATE (:Selecao {nome: 'Canada', cores: ['Vermelho', 'Branco']})\"))"
      ],
      "metadata": {
        "colab": {
          "base_uri": "https://localhost:8080/"
        },
        "id": "-QoRLmqvp-PM",
        "outputId": "ae6f776c-9de0-4d83-8d95-65c22de40bd1"
      },
      "execution_count": 657,
      "outputs": [
        {
          "output_type": "stream",
          "name": "stderr",
          "text": [
            "<ipython-input-657-23c394ff6c6d>:2: DeprecationWarning: write_transaction has been renamed to execute_write\n",
            "  session.write_transaction(lambda tx: tx.run(\"CREATE (:Selecao {nome: 'Canada', cores: ['Vermelho', 'Branco']})\"))\n"
          ]
        }
      ]
    },
    {
      "cell_type": "code",
      "source": [
        "with driver.session() as session:\n",
        "    session.write_transaction(lambda tx: tx.run(\"CREATE (:Selecao {nome: 'Colombia', cores: ['Amarelo', 'Vermelho', 'Azul']})\"))"
      ],
      "metadata": {
        "colab": {
          "base_uri": "https://localhost:8080/"
        },
        "id": "eEGnbHCrp9-0",
        "outputId": "146a4d37-9ed8-4cd7-a475-5d00c4571a3a"
      },
      "execution_count": 658,
      "outputs": [
        {
          "output_type": "stream",
          "name": "stderr",
          "text": [
            "<ipython-input-658-7942ece76d87>:2: DeprecationWarning: write_transaction has been renamed to execute_write\n",
            "  session.write_transaction(lambda tx: tx.run(\"CREATE (:Selecao {nome: 'Colombia', cores: ['Amarelo', 'Vermelho', 'Azul']})\"))\n"
          ]
        }
      ]
    },
    {
      "cell_type": "code",
      "source": [
        "with driver.session() as session:\n",
        "    session.write_transaction(lambda tx: tx.run(\"CREATE (:Continente {nome: 'America do Sul'})\"))"
      ],
      "metadata": {
        "colab": {
          "base_uri": "https://localhost:8080/"
        },
        "id": "YUpvaiXCp9vg",
        "outputId": "ff8f8c95-6f54-4d9c-931b-4e2bac2a5868"
      },
      "execution_count": 659,
      "outputs": [
        {
          "output_type": "stream",
          "name": "stderr",
          "text": [
            "<ipython-input-659-33e672c4b41c>:2: DeprecationWarning: write_transaction has been renamed to execute_write\n",
            "  session.write_transaction(lambda tx: tx.run(\"CREATE (:Continente {nome: 'America do Sul'})\"))\n"
          ]
        }
      ]
    },
    {
      "cell_type": "code",
      "source": [
        "with driver.session() as session:\n",
        "    session.write_transaction(lambda tx: tx.run(\"CREATE (:Continente {nome: 'America do Norte'})\"))"
      ],
      "metadata": {
        "colab": {
          "base_uri": "https://localhost:8080/"
        },
        "id": "bfWC1Icwp9gd",
        "outputId": "a8b91e2c-682d-416e-954e-9ba3a6fa0873"
      },
      "execution_count": 660,
      "outputs": [
        {
          "output_type": "stream",
          "name": "stderr",
          "text": [
            "<ipython-input-660-7bfbc91ed624>:2: DeprecationWarning: write_transaction has been renamed to execute_write\n",
            "  session.write_transaction(lambda tx: tx.run(\"CREATE (:Continente {nome: 'America do Norte'})\"))\n"
          ]
        }
      ]
    },
    {
      "cell_type": "code",
      "source": [
        "with driver.session() as session:\n",
        "    session.write_transaction(lambda tx: tx.run(\"CREATE (:Continente {nome: 'America Central'})\"))"
      ],
      "metadata": {
        "colab": {
          "base_uri": "https://localhost:8080/"
        },
        "id": "0ATf_ubYp9Tb",
        "outputId": "284f692d-ba7a-494f-a8ff-532ce7076363"
      },
      "execution_count": 661,
      "outputs": [
        {
          "output_type": "stream",
          "name": "stderr",
          "text": [
            "<ipython-input-661-f9e284b521c2>:2: DeprecationWarning: write_transaction has been renamed to execute_write\n",
            "  session.write_transaction(lambda tx: tx.run(\"CREATE (:Continente {nome: 'America Central'})\"))\n"
          ]
        }
      ]
    },
    {
      "cell_type": "code",
      "source": [
        "with driver.session() as session:\n",
        "    session.write_transaction(lambda tx: tx.run(\"CREATE (:Continente {nome: 'Europa'})\"))"
      ],
      "metadata": {
        "colab": {
          "base_uri": "https://localhost:8080/"
        },
        "id": "9sUfxgCmp9E7",
        "outputId": "1946ed75-1a9e-4e42-e607-595b950bced3"
      },
      "execution_count": 662,
      "outputs": [
        {
          "output_type": "stream",
          "name": "stderr",
          "text": [
            "<ipython-input-662-371a16e59f54>:2: DeprecationWarning: write_transaction has been renamed to execute_write\n",
            "  session.write_transaction(lambda tx: tx.run(\"CREATE (:Continente {nome: 'Europa'})\"))\n"
          ]
        }
      ]
    },
    {
      "cell_type": "code",
      "source": [
        "with driver.session() as session:\n",
        "    session.write_transaction(lambda tx: tx.run(\"CREATE (:Continente {nome: 'Africa'})\"))"
      ],
      "metadata": {
        "colab": {
          "base_uri": "https://localhost:8080/"
        },
        "id": "ZELtc7vlp83C",
        "outputId": "99be4bd5-ab5e-4a06-ec29-b1d751c24ff9"
      },
      "execution_count": 663,
      "outputs": [
        {
          "output_type": "stream",
          "name": "stderr",
          "text": [
            "<ipython-input-663-ce60279c8486>:2: DeprecationWarning: write_transaction has been renamed to execute_write\n",
            "  session.write_transaction(lambda tx: tx.run(\"CREATE (:Continente {nome: 'Africa'})\"))\n"
          ]
        }
      ]
    },
    {
      "cell_type": "code",
      "source": [
        "with driver.session() as session:\n",
        "    session.write_transaction(lambda tx: tx.run(\"CREATE (:Continente {nome: 'Asia'})\"))"
      ],
      "metadata": {
        "colab": {
          "base_uri": "https://localhost:8080/"
        },
        "id": "6idvGCMqp8pq",
        "outputId": "fd608e70-8589-4597-e299-4b8d6fd39a9b"
      },
      "execution_count": 664,
      "outputs": [
        {
          "output_type": "stream",
          "name": "stderr",
          "text": [
            "<ipython-input-664-6677c27e3b02>:2: DeprecationWarning: write_transaction has been renamed to execute_write\n",
            "  session.write_transaction(lambda tx: tx.run(\"CREATE (:Continente {nome: 'Asia'})\"))\n"
          ]
        }
      ]
    },
    {
      "cell_type": "code",
      "source": [
        "with driver.session() as session:\n",
        "    session.write_transaction(lambda tx: tx.run(\"CREATE (:Continente {nome: 'Oceania'})\"))"
      ],
      "metadata": {
        "colab": {
          "base_uri": "https://localhost:8080/"
        },
        "id": "OhFWKvhSp8aQ",
        "outputId": "b9021df4-c088-46e9-de8f-44f1b44dab2e"
      },
      "execution_count": 665,
      "outputs": [
        {
          "output_type": "stream",
          "name": "stderr",
          "text": [
            "<ipython-input-665-7f9fa0ac0ea5>:2: DeprecationWarning: write_transaction has been renamed to execute_write\n",
            "  session.write_transaction(lambda tx: tx.run(\"CREATE (:Continente {nome: 'Oceania'})\"))\n"
          ]
        }
      ]
    },
    {
      "cell_type": "code",
      "source": [
        "with driver.session() as session:\n",
        "    session.write_transaction(lambda tx: tx.run(\"CREATE (:Continente {nome: 'Antartida'})\"))"
      ],
      "metadata": {
        "colab": {
          "base_uri": "https://localhost:8080/"
        },
        "id": "N9NXk4eMp8Jo",
        "outputId": "34efe444-0d3c-4607-a78e-185f1277eb3a"
      },
      "execution_count": 666,
      "outputs": [
        {
          "output_type": "stream",
          "name": "stderr",
          "text": [
            "<ipython-input-666-22f85bd96054>:2: DeprecationWarning: write_transaction has been renamed to execute_write\n",
            "  session.write_transaction(lambda tx: tx.run(\"CREATE (:Continente {nome: 'Antartida'})\"))\n"
          ]
        }
      ]
    },
    {
      "cell_type": "markdown",
      "source": [
        "Vamos ver como ficou agora:"
      ],
      "metadata": {
        "id": "6N9IiJlQq22i"
      }
    },
    {
      "cell_type": "code",
      "source": [
        "q1 = \"MATCH (x) RETURN x\"\n",
        "\n",
        "# Abrir uma sessão e executar a consulta\n",
        "with driver.session() as session:\n",
        "    result = session.run(q1)\n",
        "\n",
        "    # Processar os resultados\n",
        "    for record in result:\n",
        "        node = record[\"x\"]\n",
        "        print(node)"
      ],
      "metadata": {
        "colab": {
          "base_uri": "https://localhost:8080/"
        },
        "id": "MsoRi86gq4_X",
        "outputId": "a71d2dd7-2cee-4d0b-d543-650127f8d7eb"
      },
      "execution_count": 667,
      "outputs": [
        {
          "output_type": "stream",
          "name": "stdout",
          "text": [
            "<Node element_id='4:b53598fd-bb34-4ae1-b7e7-9aeddd5be881:0' labels=frozenset({'Continente'}) properties={'nome': 'Africa'}>\n",
            "<Node element_id='4:b53598fd-bb34-4ae1-b7e7-9aeddd5be881:1' labels=frozenset({'Continente'}) properties={'nome': 'Asia'}>\n",
            "<Node element_id='4:b53598fd-bb34-4ae1-b7e7-9aeddd5be881:2' labels=frozenset({'Continente'}) properties={'nome': 'Oceania'}>\n",
            "<Node element_id='4:b53598fd-bb34-4ae1-b7e7-9aeddd5be881:3' labels=frozenset({'Continente'}) properties={'nome': 'Antartida'}>\n",
            "<Node element_id='4:b53598fd-bb34-4ae1-b7e7-9aeddd5be881:16' labels=frozenset({'Selecao'}) properties={'cores': ['Verde', 'Amarelo'], 'nome': 'Brasil'}>\n",
            "<Node element_id='4:b53598fd-bb34-4ae1-b7e7-9aeddd5be881:17' labels=frozenset({'Selecao'}) properties={'cores': ['Azul', 'Branco'], 'nome': 'Argentina'}>\n",
            "<Node element_id='4:b53598fd-bb34-4ae1-b7e7-9aeddd5be881:18' labels=frozenset({'Selecao'}) properties={'cores': ['Azul', 'Branco'], 'nome': 'Uruguai'}>\n",
            "<Node element_id='4:b53598fd-bb34-4ae1-b7e7-9aeddd5be881:19' labels=frozenset({'Selecao'}) properties={'cores': ['Azul', 'Branco', 'Vermelho'], 'nome': 'Franca'}>\n",
            "<Node element_id='4:b53598fd-bb34-4ae1-b7e7-9aeddd5be881:20' labels=frozenset({'Selecao'}) properties={'cores': ['Amarelo', 'Vermelho'], 'nome': 'Espanha'}>\n",
            "<Node element_id='4:b53598fd-bb34-4ae1-b7e7-9aeddd5be881:21' labels=frozenset({'Selecao'}) properties={'cores': ['Amarelo', 'Vermelho', 'Preto'], 'nome': 'Alemanha'}>\n",
            "<Node element_id='4:b53598fd-bb34-4ae1-b7e7-9aeddd5be881:22' labels=frozenset({'Selecao'}) properties={'cores': ['Vermelho', 'Branco'], 'nome': 'Inglaterra'}>\n",
            "<Node element_id='4:b53598fd-bb34-4ae1-b7e7-9aeddd5be881:23' labels=frozenset({'Selecao'}) properties={'cores': ['Verde', 'Vermelho', 'Branco'], 'nome': 'Italia'}>\n",
            "<Node element_id='4:b53598fd-bb34-4ae1-b7e7-9aeddd5be881:24' labels=frozenset({'Selecao'}) properties={'cores': ['Azul', 'Vermelho', 'Branco'], 'nome': 'Estados Unidos'}>\n",
            "<Node element_id='4:b53598fd-bb34-4ae1-b7e7-9aeddd5be881:25' labels=frozenset({'Selecao'}) properties={'cores': ['Vermelho', 'Branco'], 'nome': 'Japao'}>\n",
            "<Node element_id='4:b53598fd-bb34-4ae1-b7e7-9aeddd5be881:26' labels=frozenset({'Selecao'}) properties={'cores': ['Verde', 'Branco'], 'nome': 'Nigeria'}>\n",
            "<Node element_id='4:b53598fd-bb34-4ae1-b7e7-9aeddd5be881:27' labels=frozenset({'Selecao'}) properties={'cores': ['Vermelho', 'Branco'], 'nome': 'Canada'}>\n",
            "<Node element_id='4:b53598fd-bb34-4ae1-b7e7-9aeddd5be881:28' labels=frozenset({'Selecao'}) properties={'cores': ['Amarelo', 'Vermelho', 'Azul'], 'nome': 'Colombia'}>\n",
            "<Node element_id='4:b53598fd-bb34-4ae1-b7e7-9aeddd5be881:29' labels=frozenset({'Continente'}) properties={'nome': 'America do Sul'}>\n",
            "<Node element_id='4:b53598fd-bb34-4ae1-b7e7-9aeddd5be881:30' labels=frozenset({'Continente'}) properties={'nome': 'America do Norte'}>\n",
            "<Node element_id='4:b53598fd-bb34-4ae1-b7e7-9aeddd5be881:31' labels=frozenset({'Continente'}) properties={'nome': 'America Central'}>\n",
            "<Node element_id='4:b53598fd-bb34-4ae1-b7e7-9aeddd5be881:32' labels=frozenset({'Continente'}) properties={'nome': 'Europa'}>\n"
          ]
        }
      ]
    },
    {
      "cell_type": "markdown",
      "source": [
        "Vamos descobrir quais são os nodes que contém a label \"Seleção\" e as propriedades cor \"Branco e \"Vermelho\"?"
      ],
      "metadata": {
        "id": "AKxOJEvirDZV"
      }
    },
    {
      "cell_type": "code",
      "source": [
        "q1 = \"MATCH (s:Selecao) WHERE ALL (cor IN ['Branco', 'Vermelho'] WHERE cor IN s.cores) RETURN s\"\n",
        "\n",
        "# Abrir uma sessão e executar a consulta\n",
        "with driver.session() as session:\n",
        "    result = session.run(q1)\n",
        "\n",
        "    # Processar os resultados\n",
        "    for record in result:\n",
        "        node = record[\"s\"]\n",
        "        print(node)"
      ],
      "metadata": {
        "colab": {
          "base_uri": "https://localhost:8080/"
        },
        "id": "CA2rsM9XrSXm",
        "outputId": "2689fc5d-4f1a-4351-9d0b-d677a2fbec5b"
      },
      "execution_count": 668,
      "outputs": [
        {
          "output_type": "stream",
          "name": "stdout",
          "text": [
            "<Node element_id='4:b53598fd-bb34-4ae1-b7e7-9aeddd5be881:19' labels=frozenset({'Selecao'}) properties={'cores': ['Azul', 'Branco', 'Vermelho'], 'nome': 'Franca'}>\n",
            "<Node element_id='4:b53598fd-bb34-4ae1-b7e7-9aeddd5be881:22' labels=frozenset({'Selecao'}) properties={'cores': ['Vermelho', 'Branco'], 'nome': 'Inglaterra'}>\n",
            "<Node element_id='4:b53598fd-bb34-4ae1-b7e7-9aeddd5be881:23' labels=frozenset({'Selecao'}) properties={'cores': ['Verde', 'Vermelho', 'Branco'], 'nome': 'Italia'}>\n",
            "<Node element_id='4:b53598fd-bb34-4ae1-b7e7-9aeddd5be881:24' labels=frozenset({'Selecao'}) properties={'cores': ['Azul', 'Vermelho', 'Branco'], 'nome': 'Estados Unidos'}>\n",
            "<Node element_id='4:b53598fd-bb34-4ae1-b7e7-9aeddd5be881:25' labels=frozenset({'Selecao'}) properties={'cores': ['Vermelho', 'Branco'], 'nome': 'Japao'}>\n",
            "<Node element_id='4:b53598fd-bb34-4ae1-b7e7-9aeddd5be881:27' labels=frozenset({'Selecao'}) properties={'cores': ['Vermelho', 'Branco'], 'nome': 'Canada'}>\n"
          ]
        }
      ]
    },
    {
      "cell_type": "markdown",
      "source": [
        "- Agora vamos descobrir os nodes com a label \"Selecao\" onde a cor é \"Roxo\" e \"Vermelho\""
      ],
      "metadata": {
        "id": "P9sZMs6_rRUb"
      }
    },
    {
      "cell_type": "code",
      "source": [
        "q1 = \"MATCH (s:Selecao) WHERE ALL (cor IN ['Roxo', 'Vermelho'] WHERE cor IN s.cores) RETURN s\"\n",
        "\n",
        "# Abrir uma sessão e executar a consulta\n",
        "with driver.session() as session:\n",
        "    result = session.run(q1)\n",
        "\n",
        "    # Processar os resultados\n",
        "    for record in result:\n",
        "        node = record[\"s\"]\n",
        "        print(node)"
      ],
      "metadata": {
        "id": "-FLxN2I0sZ7h"
      },
      "execution_count": 669,
      "outputs": []
    },
    {
      "cell_type": "markdown",
      "source": [
        "- Não deu nada né? Pois o WHERE ALL é equivalente ao AND e abaixo teremos o WHERE ANY que equivale ao OR!"
      ],
      "metadata": {
        "id": "v9auxGDFs5o_"
      }
    },
    {
      "cell_type": "code",
      "source": [
        "q1 = \"MATCH (s:Selecao) WHERE ANY (cor IN ['Roxo', 'Vermelho'] WHERE cor IN s.cores) RETURN s\"\n",
        "\n",
        "# Abrir uma sessão e executar a consulta\n",
        "with driver.session() as session:\n",
        "    result = session.run(q1)\n",
        "\n",
        "    # Processar os resultados\n",
        "    for record in result:\n",
        "        node = record[\"s\"]\n",
        "        print(node)"
      ],
      "metadata": {
        "colab": {
          "base_uri": "https://localhost:8080/"
        },
        "id": "Z7GjH8wPsl-x",
        "outputId": "1a94daa4-d668-4f97-a35b-2bb4d9076dee"
      },
      "execution_count": 670,
      "outputs": [
        {
          "output_type": "stream",
          "name": "stdout",
          "text": [
            "<Node element_id='4:b53598fd-bb34-4ae1-b7e7-9aeddd5be881:19' labels=frozenset({'Selecao'}) properties={'cores': ['Azul', 'Branco', 'Vermelho'], 'nome': 'Franca'}>\n",
            "<Node element_id='4:b53598fd-bb34-4ae1-b7e7-9aeddd5be881:20' labels=frozenset({'Selecao'}) properties={'cores': ['Amarelo', 'Vermelho'], 'nome': 'Espanha'}>\n",
            "<Node element_id='4:b53598fd-bb34-4ae1-b7e7-9aeddd5be881:21' labels=frozenset({'Selecao'}) properties={'cores': ['Amarelo', 'Vermelho', 'Preto'], 'nome': 'Alemanha'}>\n",
            "<Node element_id='4:b53598fd-bb34-4ae1-b7e7-9aeddd5be881:22' labels=frozenset({'Selecao'}) properties={'cores': ['Vermelho', 'Branco'], 'nome': 'Inglaterra'}>\n",
            "<Node element_id='4:b53598fd-bb34-4ae1-b7e7-9aeddd5be881:23' labels=frozenset({'Selecao'}) properties={'cores': ['Verde', 'Vermelho', 'Branco'], 'nome': 'Italia'}>\n",
            "<Node element_id='4:b53598fd-bb34-4ae1-b7e7-9aeddd5be881:24' labels=frozenset({'Selecao'}) properties={'cores': ['Azul', 'Vermelho', 'Branco'], 'nome': 'Estados Unidos'}>\n",
            "<Node element_id='4:b53598fd-bb34-4ae1-b7e7-9aeddd5be881:25' labels=frozenset({'Selecao'}) properties={'cores': ['Vermelho', 'Branco'], 'nome': 'Japao'}>\n",
            "<Node element_id='4:b53598fd-bb34-4ae1-b7e7-9aeddd5be881:27' labels=frozenset({'Selecao'}) properties={'cores': ['Vermelho', 'Branco'], 'nome': 'Canada'}>\n",
            "<Node element_id='4:b53598fd-bb34-4ae1-b7e7-9aeddd5be881:28' labels=frozenset({'Selecao'}) properties={'cores': ['Amarelo', 'Vermelho', 'Azul'], 'nome': 'Colombia'}>\n"
          ]
        }
      ]
    },
    {
      "cell_type": "markdown",
      "source": [
        "- Agora vamos para os relacionamentos"
      ],
      "metadata": {
        "id": "Y1dhtsbGs9eI"
      }
    },
    {
      "cell_type": "markdown",
      "source": [
        "- Primeiro vamos atrás dos nodes com a label \"Selecao\" e \"Continente\", cujo nome é \"Colombia\" e \"América do Sul\""
      ],
      "metadata": {
        "id": "GhufQSz_8e0a"
      }
    },
    {
      "cell_type": "code",
      "source": [
        "q1 = \"MATCH (p:Selecao), (c:Continente) WHERE p.nome = 'Colombia' AND c.nome = 'America do Sul' RETURN p, c\"\n",
        "\n",
        "# Abrir uma sessão e executar a consulta\n",
        "with driver.session() as session:\n",
        "    result = session.run(q1)\n",
        "\n",
        "    # Processar os resultados\n",
        "    for record in result:\n",
        "        node_n = record[\"p\"]\n",
        "        node_y = record[\"c\"]\n",
        "        print(f\"Node p: {node_n}\\nNode c: {node_y}\")\n"
      ],
      "metadata": {
        "colab": {
          "base_uri": "https://localhost:8080/"
        },
        "id": "xjH1hFZ_7fQk",
        "outputId": "9ff70e8c-87bd-4dd6-a52e-d5d9e4f1ed6a"
      },
      "execution_count": 671,
      "outputs": [
        {
          "output_type": "stream",
          "name": "stdout",
          "text": [
            "Node p: <Node element_id='4:b53598fd-bb34-4ae1-b7e7-9aeddd5be881:28' labels=frozenset({'Selecao'}) properties={'cores': ['Amarelo', 'Vermelho', 'Azul'], 'nome': 'Colombia'}>\n",
            "Node c: <Node element_id='4:b53598fd-bb34-4ae1-b7e7-9aeddd5be881:29' labels=frozenset({'Continente'}) properties={'nome': 'America do Sul'}>\n"
          ]
        }
      ]
    },
    {
      "cell_type": "markdown",
      "source": [
        "Agora vamos criar a relação onde Colômbia para pertence America do Sul"
      ],
      "metadata": {
        "id": "9oVu8LVR8o_U"
      }
    },
    {
      "cell_type": "code",
      "source": [
        "with driver.session() as session:\n",
        "    session.write_transaction(lambda tx: tx.run(\"MATCH (p: Selecao), (c:Continente) WHERE p.nome = 'Colombia' and c.nome = 'America do Sul' CREATE (p)-[r:Pertence]->(c) RETURN p,c,r\"))"
      ],
      "metadata": {
        "colab": {
          "base_uri": "https://localhost:8080/"
        },
        "id": "NMSnMWkB8yFT",
        "outputId": "5b9521bf-8109-4722-9f58-32f7143cdbdf"
      },
      "execution_count": 672,
      "outputs": [
        {
          "output_type": "stream",
          "name": "stderr",
          "text": [
            "<ipython-input-672-0847539955e0>:2: DeprecationWarning: write_transaction has been renamed to execute_write\n",
            "  session.write_transaction(lambda tx: tx.run(\"MATCH (p: Selecao), (c:Continente) WHERE p.nome = 'Colombia' and c.nome = 'America do Sul' CREATE (p)-[r:Pertence]->(c) RETURN p,c,r\"))\n"
          ]
        }
      ]
    },
    {
      "cell_type": "markdown",
      "source": [
        "- Verificando se o relacionamento foi criado corretamente:"
      ],
      "metadata": {
        "id": "mjdXkhMq91I0"
      }
    },
    {
      "cell_type": "code",
      "source": [
        "q1 = \"MATCH (p:Selecao)-[r:Pertence]->(c:Continente) WHERE p.nome = 'Colombia' AND c.nome = 'America do Sul' RETURN p, r, c\"\n",
        "\n",
        "# Abrir uma sessão e executar a consulta\n",
        "with driver.session() as session:\n",
        "    result = session.run(q1)\n",
        "\n",
        "    # Processar os resultados\n",
        "    for record in result:\n",
        "        node_p = record[\"p\"]\n",
        "        relationship_r = record[\"r\"]\n",
        "        node_c = record[\"c\"]\n",
        "\n",
        "        #Imprimindo\n",
        "        print(f\"Node p: {node_p}\")\n",
        "        print(f\"Relationship r: {relationship_r}\")\n",
        "        print(f\"Node c: {node_c}\")\n",
        "        print()\n"
      ],
      "metadata": {
        "colab": {
          "base_uri": "https://localhost:8080/"
        },
        "id": "XaC0xSVk9EWK",
        "outputId": "0a70ee92-f248-4f95-a7f9-4695111b7865"
      },
      "execution_count": 673,
      "outputs": [
        {
          "output_type": "stream",
          "name": "stdout",
          "text": [
            "Node p: <Node element_id='4:b53598fd-bb34-4ae1-b7e7-9aeddd5be881:28' labels=frozenset({'Selecao'}) properties={'cores': ['Amarelo', 'Vermelho', 'Azul'], 'nome': 'Colombia'}>\n",
            "Relationship r: <Relationship element_id='5:b53598fd-bb34-4ae1-b7e7-9aeddd5be881:1152922604118474780' nodes=(<Node element_id='4:b53598fd-bb34-4ae1-b7e7-9aeddd5be881:28' labels=frozenset({'Selecao'}) properties={'cores': ['Amarelo', 'Vermelho', 'Azul'], 'nome': 'Colombia'}>, <Node element_id='4:b53598fd-bb34-4ae1-b7e7-9aeddd5be881:29' labels=frozenset({'Continente'}) properties={'nome': 'America do Sul'}>) type='Pertence' properties={}>\n",
            "Node c: <Node element_id='4:b53598fd-bb34-4ae1-b7e7-9aeddd5be881:29' labels=frozenset({'Continente'}) properties={'nome': 'America do Sul'}>\n",
            "\n"
          ]
        }
      ]
    },
    {
      "cell_type": "markdown",
      "source": [
        "- Agora vamos criar outro relacionamento onde \"America do Sul\" contém \"Colômbia"
      ],
      "metadata": {
        "id": "KOt-GjtL96v-"
      }
    },
    {
      "cell_type": "code",
      "source": [
        "with driver.session() as session:\n",
        "    session.write_transaction(lambda tx: tx.run(\"MATCH (p:Selecao), (c:Continente) WHERE p.nome = 'Colombia' AND c.nome = 'America do Sul' CREATE (p)<-[r:Contem]-(c) RETURN p, c, r\"))"
      ],
      "metadata": {
        "colab": {
          "base_uri": "https://localhost:8080/"
        },
        "id": "EAebqrRe-GjV",
        "outputId": "755c9476-2f89-4172-86b2-ba7fbdc57890"
      },
      "execution_count": 674,
      "outputs": [
        {
          "output_type": "stream",
          "name": "stderr",
          "text": [
            "<ipython-input-674-54c1d6ff2e17>:2: DeprecationWarning: write_transaction has been renamed to execute_write\n",
            "  session.write_transaction(lambda tx: tx.run(\"MATCH (p:Selecao), (c:Continente) WHERE p.nome = 'Colombia' AND c.nome = 'America do Sul' CREATE (p)<-[r:Contem]-(c) RETURN p, c, r\"))\n"
          ]
        }
      ]
    },
    {
      "cell_type": "markdown",
      "source": [
        "- Verificando o relacionamento contem"
      ],
      "metadata": {
        "id": "uMt4QDJGAvjr"
      }
    },
    {
      "cell_type": "code",
      "source": [
        "q1 = \"MATCH (p:Selecao)<-[r:Contem]-(c:Continente) WHERE p.nome = 'Colombia' AND c.nome = 'America do Sul' RETURN p, r, c\"\n",
        "\n",
        "# Abrir uma sessão e executar a consulta\n",
        "with driver.session() as session:\n",
        "    result = session.run(q1)\n",
        "\n",
        "    # Processar os resultados\n",
        "    for record in result:\n",
        "        node_p = record[\"p\"]\n",
        "        relationship_r = record[\"r\"]\n",
        "        node_c = record[\"c\"]\n",
        "\n",
        "        # Imprimir cada nó e relacionamento\n",
        "        print(f\"Node p: {node_p}\")\n",
        "        print(f\"Relationship r: {relationship_r}\")\n",
        "        print(f\"Node c: {node_c}\")"
      ],
      "metadata": {
        "colab": {
          "base_uri": "https://localhost:8080/"
        },
        "id": "N47CfEnI-ga_",
        "outputId": "2a2086e1-ad21-4aae-b049-ef418c72cf98"
      },
      "execution_count": 675,
      "outputs": [
        {
          "output_type": "stream",
          "name": "stdout",
          "text": [
            "Node p: <Node element_id='4:b53598fd-bb34-4ae1-b7e7-9aeddd5be881:28' labels=frozenset({'Selecao'}) properties={'cores': ['Amarelo', 'Vermelho', 'Azul'], 'nome': 'Colombia'}>\n",
            "Relationship r: <Relationship element_id='5:b53598fd-bb34-4ae1-b7e7-9aeddd5be881:1152923703630102557' nodes=(<Node element_id='4:b53598fd-bb34-4ae1-b7e7-9aeddd5be881:29' labels=frozenset({'Continente'}) properties={'nome': 'America do Sul'}>, <Node element_id='4:b53598fd-bb34-4ae1-b7e7-9aeddd5be881:28' labels=frozenset({'Selecao'}) properties={'cores': ['Amarelo', 'Vermelho', 'Azul'], 'nome': 'Colombia'}>) type='Contem' properties={}>\n",
            "Node c: <Node element_id='4:b53598fd-bb34-4ae1-b7e7-9aeddd5be881:29' labels=frozenset({'Continente'}) properties={'nome': 'America do Sul'}>\n"
          ]
        }
      ]
    },
    {
      "cell_type": "markdown",
      "source": [
        "- Verificando todos os nodes"
      ],
      "metadata": {
        "id": "U1OexEJFAC2M"
      }
    },
    {
      "cell_type": "code",
      "source": [
        "q1 = \"MATCH (x) RETURN x\"\n",
        "\n",
        "# Abrir uma sessão e executar a consulta\n",
        "with driver.session() as session:\n",
        "    result = session.run(q1)\n",
        "\n",
        "    # Processar os resultados\n",
        "    for record in result:\n",
        "        node = record[\"x\"]\n",
        "        print(node)"
      ],
      "metadata": {
        "colab": {
          "base_uri": "https://localhost:8080/"
        },
        "id": "V29rVmhvAEVO",
        "outputId": "3affef25-6e4d-4cdd-d613-3dda5f3512fd"
      },
      "execution_count": 676,
      "outputs": [
        {
          "output_type": "stream",
          "name": "stdout",
          "text": [
            "<Node element_id='4:b53598fd-bb34-4ae1-b7e7-9aeddd5be881:0' labels=frozenset({'Continente'}) properties={'nome': 'Africa'}>\n",
            "<Node element_id='4:b53598fd-bb34-4ae1-b7e7-9aeddd5be881:1' labels=frozenset({'Continente'}) properties={'nome': 'Asia'}>\n",
            "<Node element_id='4:b53598fd-bb34-4ae1-b7e7-9aeddd5be881:2' labels=frozenset({'Continente'}) properties={'nome': 'Oceania'}>\n",
            "<Node element_id='4:b53598fd-bb34-4ae1-b7e7-9aeddd5be881:3' labels=frozenset({'Continente'}) properties={'nome': 'Antartida'}>\n",
            "<Node element_id='4:b53598fd-bb34-4ae1-b7e7-9aeddd5be881:16' labels=frozenset({'Selecao'}) properties={'cores': ['Verde', 'Amarelo'], 'nome': 'Brasil'}>\n",
            "<Node element_id='4:b53598fd-bb34-4ae1-b7e7-9aeddd5be881:17' labels=frozenset({'Selecao'}) properties={'cores': ['Azul', 'Branco'], 'nome': 'Argentina'}>\n",
            "<Node element_id='4:b53598fd-bb34-4ae1-b7e7-9aeddd5be881:18' labels=frozenset({'Selecao'}) properties={'cores': ['Azul', 'Branco'], 'nome': 'Uruguai'}>\n",
            "<Node element_id='4:b53598fd-bb34-4ae1-b7e7-9aeddd5be881:19' labels=frozenset({'Selecao'}) properties={'cores': ['Azul', 'Branco', 'Vermelho'], 'nome': 'Franca'}>\n",
            "<Node element_id='4:b53598fd-bb34-4ae1-b7e7-9aeddd5be881:20' labels=frozenset({'Selecao'}) properties={'cores': ['Amarelo', 'Vermelho'], 'nome': 'Espanha'}>\n",
            "<Node element_id='4:b53598fd-bb34-4ae1-b7e7-9aeddd5be881:21' labels=frozenset({'Selecao'}) properties={'cores': ['Amarelo', 'Vermelho', 'Preto'], 'nome': 'Alemanha'}>\n",
            "<Node element_id='4:b53598fd-bb34-4ae1-b7e7-9aeddd5be881:22' labels=frozenset({'Selecao'}) properties={'cores': ['Vermelho', 'Branco'], 'nome': 'Inglaterra'}>\n",
            "<Node element_id='4:b53598fd-bb34-4ae1-b7e7-9aeddd5be881:23' labels=frozenset({'Selecao'}) properties={'cores': ['Verde', 'Vermelho', 'Branco'], 'nome': 'Italia'}>\n",
            "<Node element_id='4:b53598fd-bb34-4ae1-b7e7-9aeddd5be881:24' labels=frozenset({'Selecao'}) properties={'cores': ['Azul', 'Vermelho', 'Branco'], 'nome': 'Estados Unidos'}>\n",
            "<Node element_id='4:b53598fd-bb34-4ae1-b7e7-9aeddd5be881:25' labels=frozenset({'Selecao'}) properties={'cores': ['Vermelho', 'Branco'], 'nome': 'Japao'}>\n",
            "<Node element_id='4:b53598fd-bb34-4ae1-b7e7-9aeddd5be881:26' labels=frozenset({'Selecao'}) properties={'cores': ['Verde', 'Branco'], 'nome': 'Nigeria'}>\n",
            "<Node element_id='4:b53598fd-bb34-4ae1-b7e7-9aeddd5be881:27' labels=frozenset({'Selecao'}) properties={'cores': ['Vermelho', 'Branco'], 'nome': 'Canada'}>\n",
            "<Node element_id='4:b53598fd-bb34-4ae1-b7e7-9aeddd5be881:28' labels=frozenset({'Selecao'}) properties={'cores': ['Amarelo', 'Vermelho', 'Azul'], 'nome': 'Colombia'}>\n",
            "<Node element_id='4:b53598fd-bb34-4ae1-b7e7-9aeddd5be881:29' labels=frozenset({'Continente'}) properties={'nome': 'America do Sul'}>\n",
            "<Node element_id='4:b53598fd-bb34-4ae1-b7e7-9aeddd5be881:30' labels=frozenset({'Continente'}) properties={'nome': 'America do Norte'}>\n",
            "<Node element_id='4:b53598fd-bb34-4ae1-b7e7-9aeddd5be881:31' labels=frozenset({'Continente'}) properties={'nome': 'America Central'}>\n",
            "<Node element_id='4:b53598fd-bb34-4ae1-b7e7-9aeddd5be881:32' labels=frozenset({'Continente'}) properties={'nome': 'Europa'}>\n"
          ]
        }
      ]
    },
    {
      "cell_type": "code",
      "source": [
        "q1 = \"MATCH (p:Selecao), (c:Continente) WHERE p.nome = 'Colombia' and c.nome = 'America do Sul' RETURN p,c\"\n",
        "\n",
        "# Abrir uma sessão e executar a consulta\n",
        "with driver.session() as session:\n",
        "    result = session.run(q1)\n",
        "\n",
        "    # Processar os resultados\n",
        "    for record in result:\n",
        "        node_p = record[\"p\"]\n",
        "        node_c = record[\"c\"]\n",
        "\n",
        "        # Imprimir cada nó e relacionamento\n",
        "        print(f\"Node p: {node_p}\")\n",
        "        print(f\"Node c: {node_c}\")"
      ],
      "metadata": {
        "colab": {
          "base_uri": "https://localhost:8080/"
        },
        "id": "2Nh7Xkf3ALx3",
        "outputId": "4b2a524d-25a4-48be-8cba-648c03bfc558"
      },
      "execution_count": 677,
      "outputs": [
        {
          "output_type": "stream",
          "name": "stdout",
          "text": [
            "Node p: <Node element_id='4:b53598fd-bb34-4ae1-b7e7-9aeddd5be881:28' labels=frozenset({'Selecao'}) properties={'cores': ['Amarelo', 'Vermelho', 'Azul'], 'nome': 'Colombia'}>\n",
            "Node c: <Node element_id='4:b53598fd-bb34-4ae1-b7e7-9aeddd5be881:29' labels=frozenset({'Continente'}) properties={'nome': 'America do Sul'}>\n"
          ]
        }
      ]
    },
    {
      "cell_type": "markdown",
      "source": [
        "- Realizando a mesma busca anterior, porém com filtro no relacionamento"
      ],
      "metadata": {
        "id": "Dmuv7SsjA0tl"
      }
    },
    {
      "cell_type": "code",
      "source": [
        "q1 = \"MATCH (p: Selecao)-[r:Pertence]->(c:Continente) WHERE p.nome = 'Colombia' and c.nome ='America do Sul' return p, c, r\"\n",
        "\n",
        "# Abrir uma sessão e executar a consulta\n",
        "with driver.session() as session:\n",
        "    result = session.run(q1)\n",
        "\n",
        "    # Processar os resultados\n",
        "    for record in result:\n",
        "        node_p = record[\"p\"]\n",
        "        node_c = record[\"c\"]\n",
        "\n",
        "        # Imprimir cada nó e relacionamento\n",
        "        print(f\"Node p: {node_p}\")\n",
        "        print(f\"Relationship r: {relationship_r}\")\n",
        "        print(f\"Node c: {node_c}\")"
      ],
      "metadata": {
        "colab": {
          "base_uri": "https://localhost:8080/"
        },
        "id": "s1juUs8UA6ux",
        "outputId": "97e89c90-3059-4ace-8892-22ba767eb203"
      },
      "execution_count": 678,
      "outputs": [
        {
          "output_type": "stream",
          "name": "stdout",
          "text": [
            "Node p: <Node element_id='4:b53598fd-bb34-4ae1-b7e7-9aeddd5be881:28' labels=frozenset({'Selecao'}) properties={'cores': ['Amarelo', 'Vermelho', 'Azul'], 'nome': 'Colombia'}>\n",
            "Relationship r: <Relationship element_id='5:b53598fd-bb34-4ae1-b7e7-9aeddd5be881:1152923703630102557' nodes=(<Node element_id='4:b53598fd-bb34-4ae1-b7e7-9aeddd5be881:29' labels=frozenset({'Continente'}) properties={'nome': 'America do Sul'}>, <Node element_id='4:b53598fd-bb34-4ae1-b7e7-9aeddd5be881:28' labels=frozenset({'Selecao'}) properties={'cores': ['Amarelo', 'Vermelho', 'Azul'], 'nome': 'Colombia'}>) type='Contem' properties={}>\n",
            "Node c: <Node element_id='4:b53598fd-bb34-4ae1-b7e7-9aeddd5be881:29' labels=frozenset({'Continente'}) properties={'nome': 'America do Sul'}>\n"
          ]
        }
      ]
    },
    {
      "cell_type": "markdown",
      "source": [
        "- Agora é o momento de criarmos as relações de Seleções que pertencem aos continentes"
      ],
      "metadata": {
        "id": "d4v0dD0tBjxp"
      }
    },
    {
      "cell_type": "code",
      "source": [
        "with driver.session() as session:\n",
        "    session.write_transaction(lambda tx: tx.run(\"MATCH (p: Selecao), (c:Continente) WHERE p.nome = 'Brasil' and c.nome = 'America do Sul' CREATE (p)-[r:Pertence]->(c) RETURN p,c,r\"))"
      ],
      "metadata": {
        "colab": {
          "base_uri": "https://localhost:8080/"
        },
        "id": "qcDz7qiLBWWf",
        "outputId": "969e4f68-e073-4111-b587-959b2868ddc6"
      },
      "execution_count": 679,
      "outputs": [
        {
          "output_type": "stream",
          "name": "stderr",
          "text": [
            "<ipython-input-679-22199e30fc02>:2: DeprecationWarning: write_transaction has been renamed to execute_write\n",
            "  session.write_transaction(lambda tx: tx.run(\"MATCH (p: Selecao), (c:Continente) WHERE p.nome = 'Brasil' and c.nome = 'America do Sul' CREATE (p)-[r:Pertence]->(c) RETURN p,c,r\"))\n"
          ]
        }
      ]
    },
    {
      "cell_type": "code",
      "source": [
        "with driver.session() as session:\n",
        "    session.write_transaction(lambda tx: tx.run(\"MATCH (p: Selecao), (c:Continente) WHERE p.nome = 'Argentina' and c.nome = 'America do Sul' CREATE (p)-[r:Pertence]->(c) RETURN p,c,r\"))"
      ],
      "metadata": {
        "colab": {
          "base_uri": "https://localhost:8080/"
        },
        "id": "QZ0v1yLoDQRd",
        "outputId": "94c7b6c1-cfd3-4e15-f1d1-a982e1e2ca0d"
      },
      "execution_count": 680,
      "outputs": [
        {
          "output_type": "stream",
          "name": "stderr",
          "text": [
            "<ipython-input-680-d66d3198ed67>:2: DeprecationWarning: write_transaction has been renamed to execute_write\n",
            "  session.write_transaction(lambda tx: tx.run(\"MATCH (p: Selecao), (c:Continente) WHERE p.nome = 'Argentina' and c.nome = 'America do Sul' CREATE (p)-[r:Pertence]->(c) RETURN p,c,r\"))\n"
          ]
        }
      ]
    },
    {
      "cell_type": "code",
      "source": [
        "with driver.session() as session:\n",
        "    session.write_transaction(lambda tx: tx.run(\"MATCH (p: Selecao), (c:Continente) WHERE p.nome = 'Uruguai' and c.nome = 'America do Sul' CREATE (p)-[r:Pertence]->(c) RETURN p,c,r\"))"
      ],
      "metadata": {
        "colab": {
          "base_uri": "https://localhost:8080/"
        },
        "id": "Ugb4BRMODQAy",
        "outputId": "675912cc-0361-4a0a-8d7d-b1ffe636224d"
      },
      "execution_count": 681,
      "outputs": [
        {
          "output_type": "stream",
          "name": "stderr",
          "text": [
            "<ipython-input-681-7824ea3f615e>:2: DeprecationWarning: write_transaction has been renamed to execute_write\n",
            "  session.write_transaction(lambda tx: tx.run(\"MATCH (p: Selecao), (c:Continente) WHERE p.nome = 'Uruguai' and c.nome = 'America do Sul' CREATE (p)-[r:Pertence]->(c) RETURN p,c,r\"))\n"
          ]
        }
      ]
    },
    {
      "cell_type": "code",
      "source": [
        "with driver.session() as session:\n",
        "    session.write_transaction(lambda tx: tx.run(\"MATCH (p: Selecao), (c:Continente) WHERE p.nome = 'Franca' and c.nome = 'Europa' CREATE (p)-[r:Pertence]->(c) RETURN p,c,r\"))"
      ],
      "metadata": {
        "colab": {
          "base_uri": "https://localhost:8080/"
        },
        "id": "4P4WGtjhDPxm",
        "outputId": "c70952d6-60bf-4171-f363-dfc61452616f"
      },
      "execution_count": 682,
      "outputs": [
        {
          "output_type": "stream",
          "name": "stderr",
          "text": [
            "<ipython-input-682-d67ed718e65f>:2: DeprecationWarning: write_transaction has been renamed to execute_write\n",
            "  session.write_transaction(lambda tx: tx.run(\"MATCH (p: Selecao), (c:Continente) WHERE p.nome = 'Franca' and c.nome = 'Europa' CREATE (p)-[r:Pertence]->(c) RETURN p,c,r\"))\n"
          ]
        }
      ]
    },
    {
      "cell_type": "code",
      "source": [
        "with driver.session() as session:\n",
        "    session.write_transaction(lambda tx: tx.run(\"MATCH (p: Selecao), (c:Continente) WHERE p.nome = 'Espanha' and c.nome = 'Europa' CREATE (p)-[r:Pertence]->(c) RETURN p,c,r\"))"
      ],
      "metadata": {
        "colab": {
          "base_uri": "https://localhost:8080/"
        },
        "id": "hyXHaJ1PDPiV",
        "outputId": "1ed0d51a-b52d-4dba-e6ac-02215b183d0c"
      },
      "execution_count": 683,
      "outputs": [
        {
          "output_type": "stream",
          "name": "stderr",
          "text": [
            "<ipython-input-683-df81d0a5c9c2>:2: DeprecationWarning: write_transaction has been renamed to execute_write\n",
            "  session.write_transaction(lambda tx: tx.run(\"MATCH (p: Selecao), (c:Continente) WHERE p.nome = 'Espanha' and c.nome = 'Europa' CREATE (p)-[r:Pertence]->(c) RETURN p,c,r\"))\n"
          ]
        }
      ]
    },
    {
      "cell_type": "code",
      "source": [
        "with driver.session() as session:\n",
        "    session.write_transaction(lambda tx: tx.run(\"MATCH (p: Selecao), (c:Continente) WHERE p.nome = 'Alemanha' and c.nome = 'Europa' CREATE (p)-[r:Pertence]->(c) RETURN p,c,r\"))"
      ],
      "metadata": {
        "colab": {
          "base_uri": "https://localhost:8080/"
        },
        "id": "4GfHRrA2DPTx",
        "outputId": "332b9215-bae4-400a-9edb-487bb34edbf2"
      },
      "execution_count": 684,
      "outputs": [
        {
          "output_type": "stream",
          "name": "stderr",
          "text": [
            "<ipython-input-684-135fa4ff68bd>:2: DeprecationWarning: write_transaction has been renamed to execute_write\n",
            "  session.write_transaction(lambda tx: tx.run(\"MATCH (p: Selecao), (c:Continente) WHERE p.nome = 'Alemanha' and c.nome = 'Europa' CREATE (p)-[r:Pertence]->(c) RETURN p,c,r\"))\n"
          ]
        }
      ]
    },
    {
      "cell_type": "code",
      "source": [
        "with driver.session() as session:\n",
        "    session.write_transaction(lambda tx: tx.run(\"MATCH (p: Selecao), (c:Continente) WHERE p.nome = 'Inglaterra' and c.nome = 'Europa' CREATE (p)-[r:Pertence]->(c) RETURN p,c,r\"))"
      ],
      "metadata": {
        "colab": {
          "base_uri": "https://localhost:8080/"
        },
        "id": "Z_XErMadDO8_",
        "outputId": "203cba09-4c7a-43a4-8c51-56cd6f6e47ae"
      },
      "execution_count": 685,
      "outputs": [
        {
          "output_type": "stream",
          "name": "stderr",
          "text": [
            "<ipython-input-685-593b380d2c95>:2: DeprecationWarning: write_transaction has been renamed to execute_write\n",
            "  session.write_transaction(lambda tx: tx.run(\"MATCH (p: Selecao), (c:Continente) WHERE p.nome = 'Inglaterra' and c.nome = 'Europa' CREATE (p)-[r:Pertence]->(c) RETURN p,c,r\"))\n"
          ]
        }
      ]
    },
    {
      "cell_type": "code",
      "source": [
        "with driver.session() as session:\n",
        "    session.write_transaction(lambda tx: tx.run(\"MATCH (p: Selecao), (c:Continente) WHERE p.nome = 'Italia' and c.nome = 'Europa' CREATE (p)-[r:Pertence]->(c) RETURN p,c,r\"))"
      ],
      "metadata": {
        "colab": {
          "base_uri": "https://localhost:8080/"
        },
        "id": "VerJiISNDNuc",
        "outputId": "37e4030f-7b6a-4c6c-efed-605e3db4bd10"
      },
      "execution_count": 686,
      "outputs": [
        {
          "output_type": "stream",
          "name": "stderr",
          "text": [
            "<ipython-input-686-3548f67646f6>:2: DeprecationWarning: write_transaction has been renamed to execute_write\n",
            "  session.write_transaction(lambda tx: tx.run(\"MATCH (p: Selecao), (c:Continente) WHERE p.nome = 'Italia' and c.nome = 'Europa' CREATE (p)-[r:Pertence]->(c) RETURN p,c,r\"))\n"
          ]
        }
      ]
    },
    {
      "cell_type": "code",
      "source": [
        "with driver.session() as session:\n",
        "    session.write_transaction(lambda tx: tx.run(\"MATCH (p: Selecao), (c:Continente) WHERE p.nome = 'Colombia' and c.nome = 'America do Sul' CREATE (p)-[r:Pertence]->(c) RETURN p,c,r\"))"
      ],
      "metadata": {
        "colab": {
          "base_uri": "https://localhost:8080/"
        },
        "id": "XgTjR1myDNYN",
        "outputId": "efa34c7b-93fa-42c3-dc00-97f0c65baf21"
      },
      "execution_count": 687,
      "outputs": [
        {
          "output_type": "stream",
          "name": "stderr",
          "text": [
            "<ipython-input-687-0847539955e0>:2: DeprecationWarning: write_transaction has been renamed to execute_write\n",
            "  session.write_transaction(lambda tx: tx.run(\"MATCH (p: Selecao), (c:Continente) WHERE p.nome = 'Colombia' and c.nome = 'America do Sul' CREATE (p)-[r:Pertence]->(c) RETURN p,c,r\"))\n"
          ]
        }
      ]
    },
    {
      "cell_type": "code",
      "source": [
        "with driver.session() as session:\n",
        "    session.write_transaction(lambda tx: tx.run(\"MATCH (p: Selecao), (c:Continente) WHERE p.nome = 'Estados Unidos' and c.nome = 'America do Norte' CREATE (p)-[r:Pertence]->(c) RETURN p,c,r\"))"
      ],
      "metadata": {
        "colab": {
          "base_uri": "https://localhost:8080/"
        },
        "id": "LJ3I_6YNDNJz",
        "outputId": "8240bfe9-4926-4d16-ae4b-1e93d1c720fd"
      },
      "execution_count": 688,
      "outputs": [
        {
          "output_type": "stream",
          "name": "stderr",
          "text": [
            "<ipython-input-688-71397b30302f>:2: DeprecationWarning: write_transaction has been renamed to execute_write\n",
            "  session.write_transaction(lambda tx: tx.run(\"MATCH (p: Selecao), (c:Continente) WHERE p.nome = 'Estados Unidos' and c.nome = 'America do Norte' CREATE (p)-[r:Pertence]->(c) RETURN p,c,r\"))\n"
          ]
        }
      ]
    },
    {
      "cell_type": "code",
      "source": [
        "with driver.session() as session:\n",
        "    session.write_transaction(lambda tx: tx.run(\"MATCH (p: Selecao), (c:Continente) WHERE p.nome = 'Japao' and c.nome = 'Asia' CREATE (p)-[r:Pertence]->(c) RETURN p,c,r\"))"
      ],
      "metadata": {
        "colab": {
          "base_uri": "https://localhost:8080/"
        },
        "id": "CQfMrm3uDM50",
        "outputId": "0c6515c4-cdd8-479a-c66d-9fafa1c9df31"
      },
      "execution_count": 689,
      "outputs": [
        {
          "output_type": "stream",
          "name": "stderr",
          "text": [
            "<ipython-input-689-36f44631b74b>:2: DeprecationWarning: write_transaction has been renamed to execute_write\n",
            "  session.write_transaction(lambda tx: tx.run(\"MATCH (p: Selecao), (c:Continente) WHERE p.nome = 'Japao' and c.nome = 'Asia' CREATE (p)-[r:Pertence]->(c) RETURN p,c,r\"))\n"
          ]
        }
      ]
    },
    {
      "cell_type": "code",
      "source": [
        "with driver.session() as session:\n",
        "    session.write_transaction(lambda tx: tx.run(\"MATCH (p: Selecao), (c:Continente) WHERE p.nome = 'Nigeria' and c.nome = 'Africa' CREATE (p)-[r:Pertence]->(c) RETURN p,c,r\"))"
      ],
      "metadata": {
        "colab": {
          "base_uri": "https://localhost:8080/"
        },
        "id": "vn_LfUpDDMk_",
        "outputId": "94daeddd-f00a-4c70-edcd-12887a4a604e"
      },
      "execution_count": 690,
      "outputs": [
        {
          "output_type": "stream",
          "name": "stderr",
          "text": [
            "<ipython-input-690-197e250e58af>:2: DeprecationWarning: write_transaction has been renamed to execute_write\n",
            "  session.write_transaction(lambda tx: tx.run(\"MATCH (p: Selecao), (c:Continente) WHERE p.nome = 'Nigeria' and c.nome = 'Africa' CREATE (p)-[r:Pertence]->(c) RETURN p,c,r\"))\n"
          ]
        }
      ]
    },
    {
      "cell_type": "code",
      "source": [
        "with driver.session() as session:\n",
        "    session.write_transaction(lambda tx: tx.run(\"MATCH (p: Selecao), (c:Continente) WHERE p.nome = 'Canada' and c.nome = 'America do Norte' CREATE (p)-[r:Pertence]->(c) RETURN p,c,r\"))"
      ],
      "metadata": {
        "colab": {
          "base_uri": "https://localhost:8080/"
        },
        "id": "wcWUo2cuDMXv",
        "outputId": "c88c35a8-6bc5-4035-f785-a53e2cbe2644"
      },
      "execution_count": 691,
      "outputs": [
        {
          "output_type": "stream",
          "name": "stderr",
          "text": [
            "<ipython-input-691-1725178fed3e>:2: DeprecationWarning: write_transaction has been renamed to execute_write\n",
            "  session.write_transaction(lambda tx: tx.run(\"MATCH (p: Selecao), (c:Continente) WHERE p.nome = 'Canada' and c.nome = 'America do Norte' CREATE (p)-[r:Pertence]->(c) RETURN p,c,r\"))\n"
          ]
        }
      ]
    },
    {
      "cell_type": "markdown",
      "source": [
        "- Agora vamos fazer dos continentes que contém uma seleção"
      ],
      "metadata": {
        "id": "GOT8gEYfD6bz"
      }
    },
    {
      "cell_type": "code",
      "source": [
        "with driver.session() as session:\n",
        "    session.write_transaction(lambda tx: tx.run(\"MATCH (p: Selecao), (c:Continente) WHERE p.nome = 'Colombia' and c.nome = 'America do Sul' CREATE (p)<-[r:Contem]-(c) RETURN p,c,r\"))"
      ],
      "metadata": {
        "colab": {
          "base_uri": "https://localhost:8080/"
        },
        "id": "v7zktdyFDMHP",
        "outputId": "122c14ab-f594-4cb8-e4ef-7e84424602b7"
      },
      "execution_count": 692,
      "outputs": [
        {
          "output_type": "stream",
          "name": "stderr",
          "text": [
            "<ipython-input-692-3c98d3677890>:2: DeprecationWarning: write_transaction has been renamed to execute_write\n",
            "  session.write_transaction(lambda tx: tx.run(\"MATCH (p: Selecao), (c:Continente) WHERE p.nome = 'Colombia' and c.nome = 'America do Sul' CREATE (p)<-[r:Contem]-(c) RETURN p,c,r\"))\n"
          ]
        }
      ]
    },
    {
      "cell_type": "code",
      "source": [
        "with driver.session() as session:\n",
        "    session.write_transaction(lambda tx: tx.run(\"MATCH (p: Selecao), (c:Continente) WHERE p.nome = 'Brasil' and c.nome = 'America do Sul' CREATE (p)<-[r:Contem]-(c) RETURN p,c,r\"))"
      ],
      "metadata": {
        "colab": {
          "base_uri": "https://localhost:8080/"
        },
        "id": "USDcA_96DLPz",
        "outputId": "d27edf9a-5c40-4d1d-b1b4-e06eb0ed74f9"
      },
      "execution_count": 693,
      "outputs": [
        {
          "output_type": "stream",
          "name": "stderr",
          "text": [
            "<ipython-input-693-01302405351f>:2: DeprecationWarning: write_transaction has been renamed to execute_write\n",
            "  session.write_transaction(lambda tx: tx.run(\"MATCH (p: Selecao), (c:Continente) WHERE p.nome = 'Brasil' and c.nome = 'America do Sul' CREATE (p)<-[r:Contem]-(c) RETURN p,c,r\"))\n"
          ]
        }
      ]
    },
    {
      "cell_type": "code",
      "source": [
        "with driver.session() as session:\n",
        "    session.write_transaction(lambda tx: tx.run(\"MATCH (p: Selecao), (c:Continente) WHERE p.nome = 'Argentina' and c.nome = 'America do Sul' CREATE (p)<-[r:Contem]-(c) RETURN p,c,r\"))"
      ],
      "metadata": {
        "colab": {
          "base_uri": "https://localhost:8080/"
        },
        "id": "zfW8J_bpDK4Z",
        "outputId": "c1341291-4de0-448f-8646-b29b416f5038"
      },
      "execution_count": 694,
      "outputs": [
        {
          "output_type": "stream",
          "name": "stderr",
          "text": [
            "<ipython-input-694-adf6564b9424>:2: DeprecationWarning: write_transaction has been renamed to execute_write\n",
            "  session.write_transaction(lambda tx: tx.run(\"MATCH (p: Selecao), (c:Continente) WHERE p.nome = 'Argentina' and c.nome = 'America do Sul' CREATE (p)<-[r:Contem]-(c) RETURN p,c,r\"))\n"
          ]
        }
      ]
    },
    {
      "cell_type": "code",
      "source": [
        "with driver.session() as session:\n",
        "    session.write_transaction(lambda tx: tx.run(\"MATCH (p: Selecao), (c:Continente) WHERE p.nome = 'Uruguai' and c.nome = 'America do Sul' CREATE (p)<-[r:Contem]-(c) RETURN p,c,r\"))"
      ],
      "metadata": {
        "colab": {
          "base_uri": "https://localhost:8080/"
        },
        "id": "MzxC8QsBDKpc",
        "outputId": "cff05e37-815e-4531-8c91-2fc17b55ec06"
      },
      "execution_count": 695,
      "outputs": [
        {
          "output_type": "stream",
          "name": "stderr",
          "text": [
            "<ipython-input-695-aa08fb89ecaf>:2: DeprecationWarning: write_transaction has been renamed to execute_write\n",
            "  session.write_transaction(lambda tx: tx.run(\"MATCH (p: Selecao), (c:Continente) WHERE p.nome = 'Uruguai' and c.nome = 'America do Sul' CREATE (p)<-[r:Contem]-(c) RETURN p,c,r\"))\n"
          ]
        }
      ]
    },
    {
      "cell_type": "code",
      "source": [
        "with driver.session() as session:\n",
        "    session.write_transaction(lambda tx: tx.run(\"MATCH (p: Selecao), (c:Continente) WHERE p.nome = 'Franca' and c.nome = 'Europa' CREATE (p)<-[r:Contem]-(c) RETURN p,c,r\"))"
      ],
      "metadata": {
        "colab": {
          "base_uri": "https://localhost:8080/"
        },
        "id": "ya2N6yfwDI_a",
        "outputId": "a49b8b9f-900f-49b0-afad-8d4630ff2410"
      },
      "execution_count": 696,
      "outputs": [
        {
          "output_type": "stream",
          "name": "stderr",
          "text": [
            "<ipython-input-696-f47084078c3d>:2: DeprecationWarning: write_transaction has been renamed to execute_write\n",
            "  session.write_transaction(lambda tx: tx.run(\"MATCH (p: Selecao), (c:Continente) WHERE p.nome = 'Franca' and c.nome = 'Europa' CREATE (p)<-[r:Contem]-(c) RETURN p,c,r\"))\n"
          ]
        }
      ]
    },
    {
      "cell_type": "code",
      "source": [
        "with driver.session() as session:\n",
        "    session.write_transaction(lambda tx: tx.run(\"MATCH (p: Selecao), (c:Continente) WHERE p.nome = 'Espanha' and c.nome = 'Europa' CREATE (p)<-[r:Contem]-(c) RETURN p,c,r\"))"
      ],
      "metadata": {
        "colab": {
          "base_uri": "https://localhost:8080/"
        },
        "id": "htS9wapkDIxQ",
        "outputId": "33854ce7-f885-4fdf-f7c3-f1b8c7aa5ca7"
      },
      "execution_count": 697,
      "outputs": [
        {
          "output_type": "stream",
          "name": "stderr",
          "text": [
            "<ipython-input-697-5f570ff17126>:2: DeprecationWarning: write_transaction has been renamed to execute_write\n",
            "  session.write_transaction(lambda tx: tx.run(\"MATCH (p: Selecao), (c:Continente) WHERE p.nome = 'Espanha' and c.nome = 'Europa' CREATE (p)<-[r:Contem]-(c) RETURN p,c,r\"))\n"
          ]
        }
      ]
    },
    {
      "cell_type": "code",
      "source": [
        "with driver.session() as session:\n",
        "    session.write_transaction(lambda tx: tx.run(\"MATCH (p: Selecao), (c:Continente) WHERE p.nome = 'Alemanha' and c.nome = 'Europa' CREATE (p)<-[r:Contem]-(c) RETURN p,c,r\"))"
      ],
      "metadata": {
        "colab": {
          "base_uri": "https://localhost:8080/"
        },
        "id": "p_JNL_nKDIk2",
        "outputId": "c8c5ea54-a860-4abe-ce5f-bb46e1c25005"
      },
      "execution_count": 698,
      "outputs": [
        {
          "output_type": "stream",
          "name": "stderr",
          "text": [
            "<ipython-input-698-d999accb8a02>:2: DeprecationWarning: write_transaction has been renamed to execute_write\n",
            "  session.write_transaction(lambda tx: tx.run(\"MATCH (p: Selecao), (c:Continente) WHERE p.nome = 'Alemanha' and c.nome = 'Europa' CREATE (p)<-[r:Contem]-(c) RETURN p,c,r\"))\n"
          ]
        }
      ]
    },
    {
      "cell_type": "code",
      "source": [
        "with driver.session() as session:\n",
        "    session.write_transaction(lambda tx: tx.run(\"MATCH (p: Selecao), (c:Continente) WHERE p.nome = 'Inglaterra' and c.nome = 'Europa' CREATE (p)<-[r:Contem]-(c) RETURN p,c,r\"))"
      ],
      "metadata": {
        "colab": {
          "base_uri": "https://localhost:8080/"
        },
        "id": "GBGP2sRTDIY2",
        "outputId": "3975aedb-b36f-41e4-e749-ca5a0c4830d1"
      },
      "execution_count": 699,
      "outputs": [
        {
          "output_type": "stream",
          "name": "stderr",
          "text": [
            "<ipython-input-699-7bf1395a7063>:2: DeprecationWarning: write_transaction has been renamed to execute_write\n",
            "  session.write_transaction(lambda tx: tx.run(\"MATCH (p: Selecao), (c:Continente) WHERE p.nome = 'Inglaterra' and c.nome = 'Europa' CREATE (p)<-[r:Contem]-(c) RETURN p,c,r\"))\n"
          ]
        }
      ]
    },
    {
      "cell_type": "code",
      "source": [
        "with driver.session() as session:\n",
        "    session.write_transaction(lambda tx: tx.run(\"MATCH (p: Selecao), (c:Continente) WHERE p.nome = 'Italia' and c.nome = 'Europa' CREATE (p)<-[r:Contem]-(c) RETURN p,c,r\"))"
      ],
      "metadata": {
        "colab": {
          "base_uri": "https://localhost:8080/"
        },
        "id": "of3kQxydDIME",
        "outputId": "27b988c9-9364-46dd-df0d-c35c4824cb66"
      },
      "execution_count": 700,
      "outputs": [
        {
          "output_type": "stream",
          "name": "stderr",
          "text": [
            "<ipython-input-700-045d79fb6d80>:2: DeprecationWarning: write_transaction has been renamed to execute_write\n",
            "  session.write_transaction(lambda tx: tx.run(\"MATCH (p: Selecao), (c:Continente) WHERE p.nome = 'Italia' and c.nome = 'Europa' CREATE (p)<-[r:Contem]-(c) RETURN p,c,r\"))\n"
          ]
        }
      ]
    },
    {
      "cell_type": "code",
      "source": [
        "with driver.session() as session:\n",
        "    session.write_transaction(lambda tx: tx.run(\"MATCH (p: Selecao), (c:Continente) WHERE p.nome = 'Colombia' and c.nome = 'America do Sul' CREATE (p)<-[r:Contem]-(c) RETURN p,c,r\"))"
      ],
      "metadata": {
        "colab": {
          "base_uri": "https://localhost:8080/"
        },
        "id": "A1-cOOPfDH_4",
        "outputId": "2060353e-092b-4393-a842-c6284eabef9e"
      },
      "execution_count": 701,
      "outputs": [
        {
          "output_type": "stream",
          "name": "stderr",
          "text": [
            "<ipython-input-701-3c98d3677890>:2: DeprecationWarning: write_transaction has been renamed to execute_write\n",
            "  session.write_transaction(lambda tx: tx.run(\"MATCH (p: Selecao), (c:Continente) WHERE p.nome = 'Colombia' and c.nome = 'America do Sul' CREATE (p)<-[r:Contem]-(c) RETURN p,c,r\"))\n"
          ]
        }
      ]
    },
    {
      "cell_type": "code",
      "source": [
        "with driver.session() as session:\n",
        "    session.write_transaction(lambda tx: tx.run(\"MATCH (p: Selecao), (c:Continente) WHERE p.nome = 'Estados Unidos' and c.nome = 'America do Norte' CREATE (p)<-[r:Contem]-(c) RETURN p,c,r\"))"
      ],
      "metadata": {
        "colab": {
          "base_uri": "https://localhost:8080/"
        },
        "id": "BYxZn7lZDHz4",
        "outputId": "642b04d1-40e3-4d7b-a43b-025f0425f5c4"
      },
      "execution_count": 702,
      "outputs": [
        {
          "output_type": "stream",
          "name": "stderr",
          "text": [
            "<ipython-input-702-ac157d8d492a>:2: DeprecationWarning: write_transaction has been renamed to execute_write\n",
            "  session.write_transaction(lambda tx: tx.run(\"MATCH (p: Selecao), (c:Continente) WHERE p.nome = 'Estados Unidos' and c.nome = 'America do Norte' CREATE (p)<-[r:Contem]-(c) RETURN p,c,r\"))\n"
          ]
        }
      ]
    },
    {
      "cell_type": "code",
      "source": [
        "with driver.session() as session:\n",
        "    session.write_transaction(lambda tx: tx.run(\"MATCH (p: Selecao), (c:Continente) WHERE p.nome = 'Japao' and c.nome = 'Asia' CREATE (p)<-[r:Contem]-(c) RETURN p,c,r\"))"
      ],
      "metadata": {
        "colab": {
          "base_uri": "https://localhost:8080/"
        },
        "id": "lw5u6VJ_DHn3",
        "outputId": "7cf92c1c-40f3-421f-ca41-d1a949c0d496"
      },
      "execution_count": 703,
      "outputs": [
        {
          "output_type": "stream",
          "name": "stderr",
          "text": [
            "<ipython-input-703-35c998ff8cc0>:2: DeprecationWarning: write_transaction has been renamed to execute_write\n",
            "  session.write_transaction(lambda tx: tx.run(\"MATCH (p: Selecao), (c:Continente) WHERE p.nome = 'Japao' and c.nome = 'Asia' CREATE (p)<-[r:Contem]-(c) RETURN p,c,r\"))\n"
          ]
        }
      ]
    },
    {
      "cell_type": "code",
      "source": [
        "with driver.session() as session:\n",
        "    session.write_transaction(lambda tx: tx.run(\"MATCH (p: Selecao), (c:Continente) WHERE p.nome = 'Nigeria' and c.nome = 'Africa' CREATE (p)<-[r:Contem]-(c) RETURN p,c,r\"))"
      ],
      "metadata": {
        "colab": {
          "base_uri": "https://localhost:8080/"
        },
        "id": "0h_HZjV2DHb_",
        "outputId": "35b1df1c-d6b3-4faa-c21e-f4bd1f30ba8d"
      },
      "execution_count": 704,
      "outputs": [
        {
          "output_type": "stream",
          "name": "stderr",
          "text": [
            "<ipython-input-704-b5dd71de58e3>:2: DeprecationWarning: write_transaction has been renamed to execute_write\n",
            "  session.write_transaction(lambda tx: tx.run(\"MATCH (p: Selecao), (c:Continente) WHERE p.nome = 'Nigeria' and c.nome = 'Africa' CREATE (p)<-[r:Contem]-(c) RETURN p,c,r\"))\n"
          ]
        }
      ]
    },
    {
      "cell_type": "code",
      "source": [
        "with driver.session() as session:\n",
        "    session.write_transaction(lambda tx: tx.run(\"MATCH (p: Selecao), (c:Continente) WHERE p.nome = 'Canada' and c.nome = 'America do Norte' CREATE (p)<-[r:Contem]-(c) RETURN p,c,r\"))"
      ],
      "metadata": {
        "colab": {
          "base_uri": "https://localhost:8080/"
        },
        "id": "nH3ur_oVDHQi",
        "outputId": "ee3319de-a049-4452-9ca6-4e14aadc839b"
      },
      "execution_count": 705,
      "outputs": [
        {
          "output_type": "stream",
          "name": "stderr",
          "text": [
            "<ipython-input-705-b9bb679d7bc6>:2: DeprecationWarning: write_transaction has been renamed to execute_write\n",
            "  session.write_transaction(lambda tx: tx.run(\"MATCH (p: Selecao), (c:Continente) WHERE p.nome = 'Canada' and c.nome = 'America do Norte' CREATE (p)<-[r:Contem]-(c) RETURN p,c,r\"))\n"
          ]
        }
      ]
    },
    {
      "cell_type": "markdown",
      "source": [
        "- Verificando todos os nodes:"
      ],
      "metadata": {
        "id": "WL54zH0wEmR7"
      }
    },
    {
      "cell_type": "code",
      "source": [
        "q1 = \"MATCH (x) RETURN x\"\n",
        "\n",
        "# Abrir uma sessão e executar a consulta\n",
        "with driver.session() as session:\n",
        "    result = session.run(q1)\n",
        "\n",
        "    # Processar os resultados\n",
        "    for record in result:\n",
        "        node = record[\"x\"]\n",
        "        print(node)"
      ],
      "metadata": {
        "colab": {
          "base_uri": "https://localhost:8080/"
        },
        "id": "VwvfyVQ4FPQ3",
        "outputId": "d4b571cf-b2dc-4f1f-f002-90ba0fe91d7d"
      },
      "execution_count": 706,
      "outputs": [
        {
          "output_type": "stream",
          "name": "stdout",
          "text": [
            "<Node element_id='4:b53598fd-bb34-4ae1-b7e7-9aeddd5be881:0' labels=frozenset({'Continente'}) properties={'nome': 'Africa'}>\n",
            "<Node element_id='4:b53598fd-bb34-4ae1-b7e7-9aeddd5be881:1' labels=frozenset({'Continente'}) properties={'nome': 'Asia'}>\n",
            "<Node element_id='4:b53598fd-bb34-4ae1-b7e7-9aeddd5be881:2' labels=frozenset({'Continente'}) properties={'nome': 'Oceania'}>\n",
            "<Node element_id='4:b53598fd-bb34-4ae1-b7e7-9aeddd5be881:3' labels=frozenset({'Continente'}) properties={'nome': 'Antartida'}>\n",
            "<Node element_id='4:b53598fd-bb34-4ae1-b7e7-9aeddd5be881:16' labels=frozenset({'Selecao'}) properties={'cores': ['Verde', 'Amarelo'], 'nome': 'Brasil'}>\n",
            "<Node element_id='4:b53598fd-bb34-4ae1-b7e7-9aeddd5be881:17' labels=frozenset({'Selecao'}) properties={'cores': ['Azul', 'Branco'], 'nome': 'Argentina'}>\n",
            "<Node element_id='4:b53598fd-bb34-4ae1-b7e7-9aeddd5be881:18' labels=frozenset({'Selecao'}) properties={'cores': ['Azul', 'Branco'], 'nome': 'Uruguai'}>\n",
            "<Node element_id='4:b53598fd-bb34-4ae1-b7e7-9aeddd5be881:19' labels=frozenset({'Selecao'}) properties={'cores': ['Azul', 'Branco', 'Vermelho'], 'nome': 'Franca'}>\n",
            "<Node element_id='4:b53598fd-bb34-4ae1-b7e7-9aeddd5be881:20' labels=frozenset({'Selecao'}) properties={'cores': ['Amarelo', 'Vermelho'], 'nome': 'Espanha'}>\n",
            "<Node element_id='4:b53598fd-bb34-4ae1-b7e7-9aeddd5be881:21' labels=frozenset({'Selecao'}) properties={'cores': ['Amarelo', 'Vermelho', 'Preto'], 'nome': 'Alemanha'}>\n",
            "<Node element_id='4:b53598fd-bb34-4ae1-b7e7-9aeddd5be881:22' labels=frozenset({'Selecao'}) properties={'cores': ['Vermelho', 'Branco'], 'nome': 'Inglaterra'}>\n",
            "<Node element_id='4:b53598fd-bb34-4ae1-b7e7-9aeddd5be881:23' labels=frozenset({'Selecao'}) properties={'cores': ['Verde', 'Vermelho', 'Branco'], 'nome': 'Italia'}>\n",
            "<Node element_id='4:b53598fd-bb34-4ae1-b7e7-9aeddd5be881:24' labels=frozenset({'Selecao'}) properties={'cores': ['Azul', 'Vermelho', 'Branco'], 'nome': 'Estados Unidos'}>\n",
            "<Node element_id='4:b53598fd-bb34-4ae1-b7e7-9aeddd5be881:25' labels=frozenset({'Selecao'}) properties={'cores': ['Vermelho', 'Branco'], 'nome': 'Japao'}>\n",
            "<Node element_id='4:b53598fd-bb34-4ae1-b7e7-9aeddd5be881:26' labels=frozenset({'Selecao'}) properties={'cores': ['Verde', 'Branco'], 'nome': 'Nigeria'}>\n",
            "<Node element_id='4:b53598fd-bb34-4ae1-b7e7-9aeddd5be881:27' labels=frozenset({'Selecao'}) properties={'cores': ['Vermelho', 'Branco'], 'nome': 'Canada'}>\n",
            "<Node element_id='4:b53598fd-bb34-4ae1-b7e7-9aeddd5be881:28' labels=frozenset({'Selecao'}) properties={'cores': ['Amarelo', 'Vermelho', 'Azul'], 'nome': 'Colombia'}>\n",
            "<Node element_id='4:b53598fd-bb34-4ae1-b7e7-9aeddd5be881:29' labels=frozenset({'Continente'}) properties={'nome': 'America do Sul'}>\n",
            "<Node element_id='4:b53598fd-bb34-4ae1-b7e7-9aeddd5be881:30' labels=frozenset({'Continente'}) properties={'nome': 'America do Norte'}>\n",
            "<Node element_id='4:b53598fd-bb34-4ae1-b7e7-9aeddd5be881:31' labels=frozenset({'Continente'}) properties={'nome': 'America Central'}>\n",
            "<Node element_id='4:b53598fd-bb34-4ae1-b7e7-9aeddd5be881:32' labels=frozenset({'Continente'}) properties={'nome': 'Europa'}>\n"
          ]
        }
      ]
    },
    {
      "cell_type": "markdown",
      "source": [
        "- Verificando todos as relações:"
      ],
      "metadata": {
        "id": "cQQMmu4GFO0w"
      }
    },
    {
      "cell_type": "code",
      "source": [
        "q1 = \"MATCH (p:Selecao)-[r:Pertence]->(c:Continente) RETURN p, c, r UNION MATCH (c:Continente)-[r:Contem]->(p:Selecao) RETURN p, c, r\"\n",
        "\n",
        "# Abrir uma sessão e executar a consulta\n",
        "with driver.session() as session:\n",
        "    result = session.run(q1)\n",
        "\n",
        "    # Processar os resultados\n",
        "    for record in result:\n",
        "        node_p = record[\"p\"]\n",
        "        node_c = record[\"c\"]\n",
        "        relationship_r = record[\"r\"]\n",
        "\n",
        "        # Imprimir cada nó e relacionamento\n",
        "        print(f\"Node p: {node_p}\")\n",
        "        print(f\"Relationship r: {relationship_r}\")\n",
        "        print(f\"Node c: {node_c}\")\n"
      ],
      "metadata": {
        "colab": {
          "base_uri": "https://localhost:8080/"
        },
        "id": "QRadoKkLFUEI",
        "outputId": "1b68438a-d6e5-4ff9-f922-17ad13b5cf20"
      },
      "execution_count": 707,
      "outputs": [
        {
          "output_type": "stream",
          "name": "stdout",
          "text": [
            "Node p: <Node element_id='4:b53598fd-bb34-4ae1-b7e7-9aeddd5be881:26' labels=frozenset({'Selecao'}) properties={'cores': ['Verde', 'Branco'], 'nome': 'Nigeria'}>\n",
            "Relationship r: <Relationship element_id='5:b53598fd-bb34-4ae1-b7e7-9aeddd5be881:1152922604118474778' nodes=(<Node element_id='4:b53598fd-bb34-4ae1-b7e7-9aeddd5be881:26' labels=frozenset({'Selecao'}) properties={'cores': ['Verde', 'Branco'], 'nome': 'Nigeria'}>, <Node element_id='4:b53598fd-bb34-4ae1-b7e7-9aeddd5be881:0' labels=frozenset({'Continente'}) properties={'nome': 'Africa'}>) type='Pertence' properties={}>\n",
            "Node c: <Node element_id='4:b53598fd-bb34-4ae1-b7e7-9aeddd5be881:0' labels=frozenset({'Continente'}) properties={'nome': 'Africa'}>\n",
            "Node p: <Node element_id='4:b53598fd-bb34-4ae1-b7e7-9aeddd5be881:25' labels=frozenset({'Selecao'}) properties={'cores': ['Vermelho', 'Branco'], 'nome': 'Japao'}>\n",
            "Relationship r: <Relationship element_id='5:b53598fd-bb34-4ae1-b7e7-9aeddd5be881:1152922604118474777' nodes=(<Node element_id='4:b53598fd-bb34-4ae1-b7e7-9aeddd5be881:25' labels=frozenset({'Selecao'}) properties={'cores': ['Vermelho', 'Branco'], 'nome': 'Japao'}>, <Node element_id='4:b53598fd-bb34-4ae1-b7e7-9aeddd5be881:1' labels=frozenset({'Continente'}) properties={'nome': 'Asia'}>) type='Pertence' properties={}>\n",
            "Node c: <Node element_id='4:b53598fd-bb34-4ae1-b7e7-9aeddd5be881:1' labels=frozenset({'Continente'}) properties={'nome': 'Asia'}>\n",
            "Node p: <Node element_id='4:b53598fd-bb34-4ae1-b7e7-9aeddd5be881:16' labels=frozenset({'Selecao'}) properties={'cores': ['Verde', 'Amarelo'], 'nome': 'Brasil'}>\n",
            "Relationship r: <Relationship element_id='5:b53598fd-bb34-4ae1-b7e7-9aeddd5be881:1152922604118474768' nodes=(<Node element_id='4:b53598fd-bb34-4ae1-b7e7-9aeddd5be881:16' labels=frozenset({'Selecao'}) properties={'cores': ['Verde', 'Amarelo'], 'nome': 'Brasil'}>, <Node element_id='4:b53598fd-bb34-4ae1-b7e7-9aeddd5be881:29' labels=frozenset({'Continente'}) properties={'nome': 'America do Sul'}>) type='Pertence' properties={}>\n",
            "Node c: <Node element_id='4:b53598fd-bb34-4ae1-b7e7-9aeddd5be881:29' labels=frozenset({'Continente'}) properties={'nome': 'America do Sul'}>\n",
            "Node p: <Node element_id='4:b53598fd-bb34-4ae1-b7e7-9aeddd5be881:17' labels=frozenset({'Selecao'}) properties={'cores': ['Azul', 'Branco'], 'nome': 'Argentina'}>\n",
            "Relationship r: <Relationship element_id='5:b53598fd-bb34-4ae1-b7e7-9aeddd5be881:1152922604118474769' nodes=(<Node element_id='4:b53598fd-bb34-4ae1-b7e7-9aeddd5be881:17' labels=frozenset({'Selecao'}) properties={'cores': ['Azul', 'Branco'], 'nome': 'Argentina'}>, <Node element_id='4:b53598fd-bb34-4ae1-b7e7-9aeddd5be881:29' labels=frozenset({'Continente'}) properties={'nome': 'America do Sul'}>) type='Pertence' properties={}>\n",
            "Node c: <Node element_id='4:b53598fd-bb34-4ae1-b7e7-9aeddd5be881:29' labels=frozenset({'Continente'}) properties={'nome': 'America do Sul'}>\n",
            "Node p: <Node element_id='4:b53598fd-bb34-4ae1-b7e7-9aeddd5be881:18' labels=frozenset({'Selecao'}) properties={'cores': ['Azul', 'Branco'], 'nome': 'Uruguai'}>\n",
            "Relationship r: <Relationship element_id='5:b53598fd-bb34-4ae1-b7e7-9aeddd5be881:1152922604118474770' nodes=(<Node element_id='4:b53598fd-bb34-4ae1-b7e7-9aeddd5be881:18' labels=frozenset({'Selecao'}) properties={'cores': ['Azul', 'Branco'], 'nome': 'Uruguai'}>, <Node element_id='4:b53598fd-bb34-4ae1-b7e7-9aeddd5be881:29' labels=frozenset({'Continente'}) properties={'nome': 'America do Sul'}>) type='Pertence' properties={}>\n",
            "Node c: <Node element_id='4:b53598fd-bb34-4ae1-b7e7-9aeddd5be881:29' labels=frozenset({'Continente'}) properties={'nome': 'America do Sul'}>\n",
            "Node p: <Node element_id='4:b53598fd-bb34-4ae1-b7e7-9aeddd5be881:28' labels=frozenset({'Selecao'}) properties={'cores': ['Amarelo', 'Vermelho', 'Azul'], 'nome': 'Colombia'}>\n",
            "Relationship r: <Relationship element_id='5:b53598fd-bb34-4ae1-b7e7-9aeddd5be881:1152922604118474780' nodes=(<Node element_id='4:b53598fd-bb34-4ae1-b7e7-9aeddd5be881:28' labels=frozenset({'Selecao'}) properties={'cores': ['Amarelo', 'Vermelho', 'Azul'], 'nome': 'Colombia'}>, <Node element_id='4:b53598fd-bb34-4ae1-b7e7-9aeddd5be881:29' labels=frozenset({'Continente'}) properties={'nome': 'America do Sul'}>) type='Pertence' properties={}>\n",
            "Node c: <Node element_id='4:b53598fd-bb34-4ae1-b7e7-9aeddd5be881:29' labels=frozenset({'Continente'}) properties={'nome': 'America do Sul'}>\n",
            "Node p: <Node element_id='4:b53598fd-bb34-4ae1-b7e7-9aeddd5be881:28' labels=frozenset({'Selecao'}) properties={'cores': ['Amarelo', 'Vermelho', 'Azul'], 'nome': 'Colombia'}>\n",
            "Relationship r: <Relationship element_id='5:b53598fd-bb34-4ae1-b7e7-9aeddd5be881:1155174403932160028' nodes=(<Node element_id='4:b53598fd-bb34-4ae1-b7e7-9aeddd5be881:28' labels=frozenset({'Selecao'}) properties={'cores': ['Amarelo', 'Vermelho', 'Azul'], 'nome': 'Colombia'}>, <Node element_id='4:b53598fd-bb34-4ae1-b7e7-9aeddd5be881:29' labels=frozenset({'Continente'}) properties={'nome': 'America do Sul'}>) type='Pertence' properties={}>\n",
            "Node c: <Node element_id='4:b53598fd-bb34-4ae1-b7e7-9aeddd5be881:29' labels=frozenset({'Continente'}) properties={'nome': 'America do Sul'}>\n",
            "Node p: <Node element_id='4:b53598fd-bb34-4ae1-b7e7-9aeddd5be881:24' labels=frozenset({'Selecao'}) properties={'cores': ['Azul', 'Vermelho', 'Branco'], 'nome': 'Estados Unidos'}>\n",
            "Relationship r: <Relationship element_id='5:b53598fd-bb34-4ae1-b7e7-9aeddd5be881:1152922604118474776' nodes=(<Node element_id='4:b53598fd-bb34-4ae1-b7e7-9aeddd5be881:24' labels=frozenset({'Selecao'}) properties={'cores': ['Azul', 'Vermelho', 'Branco'], 'nome': 'Estados Unidos'}>, <Node element_id='4:b53598fd-bb34-4ae1-b7e7-9aeddd5be881:30' labels=frozenset({'Continente'}) properties={'nome': 'America do Norte'}>) type='Pertence' properties={}>\n",
            "Node c: <Node element_id='4:b53598fd-bb34-4ae1-b7e7-9aeddd5be881:30' labels=frozenset({'Continente'}) properties={'nome': 'America do Norte'}>\n",
            "Node p: <Node element_id='4:b53598fd-bb34-4ae1-b7e7-9aeddd5be881:27' labels=frozenset({'Selecao'}) properties={'cores': ['Vermelho', 'Branco'], 'nome': 'Canada'}>\n",
            "Relationship r: <Relationship element_id='5:b53598fd-bb34-4ae1-b7e7-9aeddd5be881:1152922604118474779' nodes=(<Node element_id='4:b53598fd-bb34-4ae1-b7e7-9aeddd5be881:27' labels=frozenset({'Selecao'}) properties={'cores': ['Vermelho', 'Branco'], 'nome': 'Canada'}>, <Node element_id='4:b53598fd-bb34-4ae1-b7e7-9aeddd5be881:30' labels=frozenset({'Continente'}) properties={'nome': 'America do Norte'}>) type='Pertence' properties={}>\n",
            "Node c: <Node element_id='4:b53598fd-bb34-4ae1-b7e7-9aeddd5be881:30' labels=frozenset({'Continente'}) properties={'nome': 'America do Norte'}>\n",
            "Node p: <Node element_id='4:b53598fd-bb34-4ae1-b7e7-9aeddd5be881:19' labels=frozenset({'Selecao'}) properties={'cores': ['Azul', 'Branco', 'Vermelho'], 'nome': 'Franca'}>\n",
            "Relationship r: <Relationship element_id='5:b53598fd-bb34-4ae1-b7e7-9aeddd5be881:1152922604118474771' nodes=(<Node element_id='4:b53598fd-bb34-4ae1-b7e7-9aeddd5be881:19' labels=frozenset({'Selecao'}) properties={'cores': ['Azul', 'Branco', 'Vermelho'], 'nome': 'Franca'}>, <Node element_id='4:b53598fd-bb34-4ae1-b7e7-9aeddd5be881:32' labels=frozenset({'Continente'}) properties={'nome': 'Europa'}>) type='Pertence' properties={}>\n",
            "Node c: <Node element_id='4:b53598fd-bb34-4ae1-b7e7-9aeddd5be881:32' labels=frozenset({'Continente'}) properties={'nome': 'Europa'}>\n",
            "Node p: <Node element_id='4:b53598fd-bb34-4ae1-b7e7-9aeddd5be881:20' labels=frozenset({'Selecao'}) properties={'cores': ['Amarelo', 'Vermelho'], 'nome': 'Espanha'}>\n",
            "Relationship r: <Relationship element_id='5:b53598fd-bb34-4ae1-b7e7-9aeddd5be881:1152922604118474772' nodes=(<Node element_id='4:b53598fd-bb34-4ae1-b7e7-9aeddd5be881:20' labels=frozenset({'Selecao'}) properties={'cores': ['Amarelo', 'Vermelho'], 'nome': 'Espanha'}>, <Node element_id='4:b53598fd-bb34-4ae1-b7e7-9aeddd5be881:32' labels=frozenset({'Continente'}) properties={'nome': 'Europa'}>) type='Pertence' properties={}>\n",
            "Node c: <Node element_id='4:b53598fd-bb34-4ae1-b7e7-9aeddd5be881:32' labels=frozenset({'Continente'}) properties={'nome': 'Europa'}>\n",
            "Node p: <Node element_id='4:b53598fd-bb34-4ae1-b7e7-9aeddd5be881:21' labels=frozenset({'Selecao'}) properties={'cores': ['Amarelo', 'Vermelho', 'Preto'], 'nome': 'Alemanha'}>\n",
            "Relationship r: <Relationship element_id='5:b53598fd-bb34-4ae1-b7e7-9aeddd5be881:1152922604118474773' nodes=(<Node element_id='4:b53598fd-bb34-4ae1-b7e7-9aeddd5be881:21' labels=frozenset({'Selecao'}) properties={'cores': ['Amarelo', 'Vermelho', 'Preto'], 'nome': 'Alemanha'}>, <Node element_id='4:b53598fd-bb34-4ae1-b7e7-9aeddd5be881:32' labels=frozenset({'Continente'}) properties={'nome': 'Europa'}>) type='Pertence' properties={}>\n",
            "Node c: <Node element_id='4:b53598fd-bb34-4ae1-b7e7-9aeddd5be881:32' labels=frozenset({'Continente'}) properties={'nome': 'Europa'}>\n",
            "Node p: <Node element_id='4:b53598fd-bb34-4ae1-b7e7-9aeddd5be881:22' labels=frozenset({'Selecao'}) properties={'cores': ['Vermelho', 'Branco'], 'nome': 'Inglaterra'}>\n",
            "Relationship r: <Relationship element_id='5:b53598fd-bb34-4ae1-b7e7-9aeddd5be881:1152922604118474774' nodes=(<Node element_id='4:b53598fd-bb34-4ae1-b7e7-9aeddd5be881:22' labels=frozenset({'Selecao'}) properties={'cores': ['Vermelho', 'Branco'], 'nome': 'Inglaterra'}>, <Node element_id='4:b53598fd-bb34-4ae1-b7e7-9aeddd5be881:32' labels=frozenset({'Continente'}) properties={'nome': 'Europa'}>) type='Pertence' properties={}>\n",
            "Node c: <Node element_id='4:b53598fd-bb34-4ae1-b7e7-9aeddd5be881:32' labels=frozenset({'Continente'}) properties={'nome': 'Europa'}>\n",
            "Node p: <Node element_id='4:b53598fd-bb34-4ae1-b7e7-9aeddd5be881:23' labels=frozenset({'Selecao'}) properties={'cores': ['Verde', 'Vermelho', 'Branco'], 'nome': 'Italia'}>\n",
            "Relationship r: <Relationship element_id='5:b53598fd-bb34-4ae1-b7e7-9aeddd5be881:1152922604118474775' nodes=(<Node element_id='4:b53598fd-bb34-4ae1-b7e7-9aeddd5be881:23' labels=frozenset({'Selecao'}) properties={'cores': ['Verde', 'Vermelho', 'Branco'], 'nome': 'Italia'}>, <Node element_id='4:b53598fd-bb34-4ae1-b7e7-9aeddd5be881:32' labels=frozenset({'Continente'}) properties={'nome': 'Europa'}>) type='Pertence' properties={}>\n",
            "Node c: <Node element_id='4:b53598fd-bb34-4ae1-b7e7-9aeddd5be881:32' labels=frozenset({'Continente'}) properties={'nome': 'Europa'}>\n",
            "Node p: <Node element_id='4:b53598fd-bb34-4ae1-b7e7-9aeddd5be881:26' labels=frozenset({'Selecao'}) properties={'cores': ['Verde', 'Branco'], 'nome': 'Nigeria'}>\n",
            "Relationship r: <Relationship element_id='5:b53598fd-bb34-4ae1-b7e7-9aeddd5be881:1152923703630102528' nodes=(<Node element_id='4:b53598fd-bb34-4ae1-b7e7-9aeddd5be881:0' labels=frozenset({'Continente'}) properties={'nome': 'Africa'}>, <Node element_id='4:b53598fd-bb34-4ae1-b7e7-9aeddd5be881:26' labels=frozenset({'Selecao'}) properties={'cores': ['Verde', 'Branco'], 'nome': 'Nigeria'}>) type='Contem' properties={}>\n",
            "Node c: <Node element_id='4:b53598fd-bb34-4ae1-b7e7-9aeddd5be881:0' labels=frozenset({'Continente'}) properties={'nome': 'Africa'}>\n",
            "Node p: <Node element_id='4:b53598fd-bb34-4ae1-b7e7-9aeddd5be881:25' labels=frozenset({'Selecao'}) properties={'cores': ['Vermelho', 'Branco'], 'nome': 'Japao'}>\n",
            "Relationship r: <Relationship element_id='5:b53598fd-bb34-4ae1-b7e7-9aeddd5be881:1152923703630102529' nodes=(<Node element_id='4:b53598fd-bb34-4ae1-b7e7-9aeddd5be881:1' labels=frozenset({'Continente'}) properties={'nome': 'Asia'}>, <Node element_id='4:b53598fd-bb34-4ae1-b7e7-9aeddd5be881:25' labels=frozenset({'Selecao'}) properties={'cores': ['Vermelho', 'Branco'], 'nome': 'Japao'}>) type='Contem' properties={}>\n",
            "Node c: <Node element_id='4:b53598fd-bb34-4ae1-b7e7-9aeddd5be881:1' labels=frozenset({'Continente'}) properties={'nome': 'Asia'}>\n",
            "Node p: <Node element_id='4:b53598fd-bb34-4ae1-b7e7-9aeddd5be881:16' labels=frozenset({'Selecao'}) properties={'cores': ['Verde', 'Amarelo'], 'nome': 'Brasil'}>\n",
            "Relationship r: <Relationship element_id='5:b53598fd-bb34-4ae1-b7e7-9aeddd5be881:1157427303257473053' nodes=(<Node element_id='4:b53598fd-bb34-4ae1-b7e7-9aeddd5be881:29' labels=frozenset({'Continente'}) properties={'nome': 'America do Sul'}>, <Node element_id='4:b53598fd-bb34-4ae1-b7e7-9aeddd5be881:16' labels=frozenset({'Selecao'}) properties={'cores': ['Verde', 'Amarelo'], 'nome': 'Brasil'}>) type='Contem' properties={}>\n",
            "Node c: <Node element_id='4:b53598fd-bb34-4ae1-b7e7-9aeddd5be881:29' labels=frozenset({'Continente'}) properties={'nome': 'America do Sul'}>\n",
            "Node p: <Node element_id='4:b53598fd-bb34-4ae1-b7e7-9aeddd5be881:17' labels=frozenset({'Selecao'}) properties={'cores': ['Azul', 'Branco'], 'nome': 'Argentina'}>\n",
            "Relationship r: <Relationship element_id='5:b53598fd-bb34-4ae1-b7e7-9aeddd5be881:1159679103071158301' nodes=(<Node element_id='4:b53598fd-bb34-4ae1-b7e7-9aeddd5be881:29' labels=frozenset({'Continente'}) properties={'nome': 'America do Sul'}>, <Node element_id='4:b53598fd-bb34-4ae1-b7e7-9aeddd5be881:17' labels=frozenset({'Selecao'}) properties={'cores': ['Azul', 'Branco'], 'nome': 'Argentina'}>) type='Contem' properties={}>\n",
            "Node c: <Node element_id='4:b53598fd-bb34-4ae1-b7e7-9aeddd5be881:29' labels=frozenset({'Continente'}) properties={'nome': 'America do Sul'}>\n",
            "Node p: <Node element_id='4:b53598fd-bb34-4ae1-b7e7-9aeddd5be881:18' labels=frozenset({'Selecao'}) properties={'cores': ['Azul', 'Branco'], 'nome': 'Uruguai'}>\n",
            "Relationship r: <Relationship element_id='5:b53598fd-bb34-4ae1-b7e7-9aeddd5be881:1161930902884843549' nodes=(<Node element_id='4:b53598fd-bb34-4ae1-b7e7-9aeddd5be881:29' labels=frozenset({'Continente'}) properties={'nome': 'America do Sul'}>, <Node element_id='4:b53598fd-bb34-4ae1-b7e7-9aeddd5be881:18' labels=frozenset({'Selecao'}) properties={'cores': ['Azul', 'Branco'], 'nome': 'Uruguai'}>) type='Contem' properties={}>\n",
            "Node c: <Node element_id='4:b53598fd-bb34-4ae1-b7e7-9aeddd5be881:29' labels=frozenset({'Continente'}) properties={'nome': 'America do Sul'}>\n",
            "Node p: <Node element_id='4:b53598fd-bb34-4ae1-b7e7-9aeddd5be881:28' labels=frozenset({'Selecao'}) properties={'cores': ['Amarelo', 'Vermelho', 'Azul'], 'nome': 'Colombia'}>\n",
            "Relationship r: <Relationship element_id='5:b53598fd-bb34-4ae1-b7e7-9aeddd5be881:1152923703630102557' nodes=(<Node element_id='4:b53598fd-bb34-4ae1-b7e7-9aeddd5be881:29' labels=frozenset({'Continente'}) properties={'nome': 'America do Sul'}>, <Node element_id='4:b53598fd-bb34-4ae1-b7e7-9aeddd5be881:28' labels=frozenset({'Selecao'}) properties={'cores': ['Amarelo', 'Vermelho', 'Azul'], 'nome': 'Colombia'}>) type='Contem' properties={}>\n",
            "Node c: <Node element_id='4:b53598fd-bb34-4ae1-b7e7-9aeddd5be881:29' labels=frozenset({'Continente'}) properties={'nome': 'America do Sul'}>\n",
            "Node p: <Node element_id='4:b53598fd-bb34-4ae1-b7e7-9aeddd5be881:28' labels=frozenset({'Selecao'}) properties={'cores': ['Amarelo', 'Vermelho', 'Azul'], 'nome': 'Colombia'}>\n",
            "Relationship r: <Relationship element_id='5:b53598fd-bb34-4ae1-b7e7-9aeddd5be881:1155175503443787805' nodes=(<Node element_id='4:b53598fd-bb34-4ae1-b7e7-9aeddd5be881:29' labels=frozenset({'Continente'}) properties={'nome': 'America do Sul'}>, <Node element_id='4:b53598fd-bb34-4ae1-b7e7-9aeddd5be881:28' labels=frozenset({'Selecao'}) properties={'cores': ['Amarelo', 'Vermelho', 'Azul'], 'nome': 'Colombia'}>) type='Contem' properties={}>\n",
            "Node c: <Node element_id='4:b53598fd-bb34-4ae1-b7e7-9aeddd5be881:29' labels=frozenset({'Continente'}) properties={'nome': 'America do Sul'}>\n",
            "Node p: <Node element_id='4:b53598fd-bb34-4ae1-b7e7-9aeddd5be881:28' labels=frozenset({'Selecao'}) properties={'cores': ['Amarelo', 'Vermelho', 'Azul'], 'nome': 'Colombia'}>\n",
            "Relationship r: <Relationship element_id='5:b53598fd-bb34-4ae1-b7e7-9aeddd5be881:1164182702698528797' nodes=(<Node element_id='4:b53598fd-bb34-4ae1-b7e7-9aeddd5be881:29' labels=frozenset({'Continente'}) properties={'nome': 'America do Sul'}>, <Node element_id='4:b53598fd-bb34-4ae1-b7e7-9aeddd5be881:28' labels=frozenset({'Selecao'}) properties={'cores': ['Amarelo', 'Vermelho', 'Azul'], 'nome': 'Colombia'}>) type='Contem' properties={}>\n",
            "Node c: <Node element_id='4:b53598fd-bb34-4ae1-b7e7-9aeddd5be881:29' labels=frozenset({'Continente'}) properties={'nome': 'America do Sul'}>\n",
            "Node p: <Node element_id='4:b53598fd-bb34-4ae1-b7e7-9aeddd5be881:24' labels=frozenset({'Selecao'}) properties={'cores': ['Azul', 'Vermelho', 'Branco'], 'nome': 'Estados Unidos'}>\n",
            "Relationship r: <Relationship element_id='5:b53598fd-bb34-4ae1-b7e7-9aeddd5be881:1152923703630102558' nodes=(<Node element_id='4:b53598fd-bb34-4ae1-b7e7-9aeddd5be881:30' labels=frozenset({'Continente'}) properties={'nome': 'America do Norte'}>, <Node element_id='4:b53598fd-bb34-4ae1-b7e7-9aeddd5be881:24' labels=frozenset({'Selecao'}) properties={'cores': ['Azul', 'Vermelho', 'Branco'], 'nome': 'Estados Unidos'}>) type='Contem' properties={}>\n",
            "Node c: <Node element_id='4:b53598fd-bb34-4ae1-b7e7-9aeddd5be881:30' labels=frozenset({'Continente'}) properties={'nome': 'America do Norte'}>\n",
            "Node p: <Node element_id='4:b53598fd-bb34-4ae1-b7e7-9aeddd5be881:27' labels=frozenset({'Selecao'}) properties={'cores': ['Vermelho', 'Branco'], 'nome': 'Canada'}>\n",
            "Relationship r: <Relationship element_id='5:b53598fd-bb34-4ae1-b7e7-9aeddd5be881:1155175503443787806' nodes=(<Node element_id='4:b53598fd-bb34-4ae1-b7e7-9aeddd5be881:30' labels=frozenset({'Continente'}) properties={'nome': 'America do Norte'}>, <Node element_id='4:b53598fd-bb34-4ae1-b7e7-9aeddd5be881:27' labels=frozenset({'Selecao'}) properties={'cores': ['Vermelho', 'Branco'], 'nome': 'Canada'}>) type='Contem' properties={}>\n",
            "Node c: <Node element_id='4:b53598fd-bb34-4ae1-b7e7-9aeddd5be881:30' labels=frozenset({'Continente'}) properties={'nome': 'America do Norte'}>\n",
            "Node p: <Node element_id='4:b53598fd-bb34-4ae1-b7e7-9aeddd5be881:19' labels=frozenset({'Selecao'}) properties={'cores': ['Azul', 'Branco', 'Vermelho'], 'nome': 'Franca'}>\n",
            "Relationship r: <Relationship element_id='5:b53598fd-bb34-4ae1-b7e7-9aeddd5be881:1152923703630102560' nodes=(<Node element_id='4:b53598fd-bb34-4ae1-b7e7-9aeddd5be881:32' labels=frozenset({'Continente'}) properties={'nome': 'Europa'}>, <Node element_id='4:b53598fd-bb34-4ae1-b7e7-9aeddd5be881:19' labels=frozenset({'Selecao'}) properties={'cores': ['Azul', 'Branco', 'Vermelho'], 'nome': 'Franca'}>) type='Contem' properties={}>\n",
            "Node c: <Node element_id='4:b53598fd-bb34-4ae1-b7e7-9aeddd5be881:32' labels=frozenset({'Continente'}) properties={'nome': 'Europa'}>\n",
            "Node p: <Node element_id='4:b53598fd-bb34-4ae1-b7e7-9aeddd5be881:20' labels=frozenset({'Selecao'}) properties={'cores': ['Amarelo', 'Vermelho'], 'nome': 'Espanha'}>\n",
            "Relationship r: <Relationship element_id='5:b53598fd-bb34-4ae1-b7e7-9aeddd5be881:1155175503443787808' nodes=(<Node element_id='4:b53598fd-bb34-4ae1-b7e7-9aeddd5be881:32' labels=frozenset({'Continente'}) properties={'nome': 'Europa'}>, <Node element_id='4:b53598fd-bb34-4ae1-b7e7-9aeddd5be881:20' labels=frozenset({'Selecao'}) properties={'cores': ['Amarelo', 'Vermelho'], 'nome': 'Espanha'}>) type='Contem' properties={}>\n",
            "Node c: <Node element_id='4:b53598fd-bb34-4ae1-b7e7-9aeddd5be881:32' labels=frozenset({'Continente'}) properties={'nome': 'Europa'}>\n",
            "Node p: <Node element_id='4:b53598fd-bb34-4ae1-b7e7-9aeddd5be881:21' labels=frozenset({'Selecao'}) properties={'cores': ['Amarelo', 'Vermelho', 'Preto'], 'nome': 'Alemanha'}>\n",
            "Relationship r: <Relationship element_id='5:b53598fd-bb34-4ae1-b7e7-9aeddd5be881:1157427303257473056' nodes=(<Node element_id='4:b53598fd-bb34-4ae1-b7e7-9aeddd5be881:32' labels=frozenset({'Continente'}) properties={'nome': 'Europa'}>, <Node element_id='4:b53598fd-bb34-4ae1-b7e7-9aeddd5be881:21' labels=frozenset({'Selecao'}) properties={'cores': ['Amarelo', 'Vermelho', 'Preto'], 'nome': 'Alemanha'}>) type='Contem' properties={}>\n",
            "Node c: <Node element_id='4:b53598fd-bb34-4ae1-b7e7-9aeddd5be881:32' labels=frozenset({'Continente'}) properties={'nome': 'Europa'}>\n",
            "Node p: <Node element_id='4:b53598fd-bb34-4ae1-b7e7-9aeddd5be881:22' labels=frozenset({'Selecao'}) properties={'cores': ['Vermelho', 'Branco'], 'nome': 'Inglaterra'}>\n",
            "Relationship r: <Relationship element_id='5:b53598fd-bb34-4ae1-b7e7-9aeddd5be881:1159679103071158304' nodes=(<Node element_id='4:b53598fd-bb34-4ae1-b7e7-9aeddd5be881:32' labels=frozenset({'Continente'}) properties={'nome': 'Europa'}>, <Node element_id='4:b53598fd-bb34-4ae1-b7e7-9aeddd5be881:22' labels=frozenset({'Selecao'}) properties={'cores': ['Vermelho', 'Branco'], 'nome': 'Inglaterra'}>) type='Contem' properties={}>\n",
            "Node c: <Node element_id='4:b53598fd-bb34-4ae1-b7e7-9aeddd5be881:32' labels=frozenset({'Continente'}) properties={'nome': 'Europa'}>\n",
            "Node p: <Node element_id='4:b53598fd-bb34-4ae1-b7e7-9aeddd5be881:23' labels=frozenset({'Selecao'}) properties={'cores': ['Verde', 'Vermelho', 'Branco'], 'nome': 'Italia'}>\n",
            "Relationship r: <Relationship element_id='5:b53598fd-bb34-4ae1-b7e7-9aeddd5be881:1161930902884843552' nodes=(<Node element_id='4:b53598fd-bb34-4ae1-b7e7-9aeddd5be881:32' labels=frozenset({'Continente'}) properties={'nome': 'Europa'}>, <Node element_id='4:b53598fd-bb34-4ae1-b7e7-9aeddd5be881:23' labels=frozenset({'Selecao'}) properties={'cores': ['Verde', 'Vermelho', 'Branco'], 'nome': 'Italia'}>) type='Contem' properties={}>\n",
            "Node c: <Node element_id='4:b53598fd-bb34-4ae1-b7e7-9aeddd5be881:32' labels=frozenset({'Continente'}) properties={'nome': 'Europa'}>\n"
          ]
        }
      ]
    },
    {
      "cell_type": "markdown",
      "source": [
        "- Contando quantos itens retornou aqui"
      ],
      "metadata": {
        "id": "AY1Awff5HaS8"
      }
    },
    {
      "cell_type": "code",
      "source": [
        "q1 = \"MATCH (p:Selecao)-[r:Pertence]->(c:Continente) RETURN p, c, r UNION MATCH (c:Continente)-[r:Contem]->(p:Selecao) RETURN p, c, r\"\n",
        "\n",
        "# Abrir uma sessão e executar a consulta\n",
        "with driver.session() as session:\n",
        "    result = session.run(q1)\n",
        "\n",
        "    # Processar os resultados\n",
        "    count = 0\n",
        "    for record in result:\n",
        "        node_p = record[\"p\"]\n",
        "        node_c = record[\"c\"]\n",
        "        relationship_r = record[\"r\"]\n",
        "\n",
        "        count += 1\n",
        "\n",
        "    print(f\"Total de itens retornados: {count}\")\n"
      ],
      "metadata": {
        "colab": {
          "base_uri": "https://localhost:8080/"
        },
        "id": "j5o4lP9tHZAq",
        "outputId": "14fcbf4c-fa16-4736-ee78-653cb7dc15fb"
      },
      "execution_count": 708,
      "outputs": [
        {
          "output_type": "stream",
          "name": "stdout",
          "text": [
            "Total de itens retornados: 29\n"
          ]
        }
      ]
    },
    {
      "cell_type": "markdown",
      "source": [
        "- Veja essa relação"
      ],
      "metadata": {
        "id": "YzTFBjQLGLNO"
      }
    },
    {
      "cell_type": "code",
      "source": [
        "q1 = \"MATCH (p: Selecao), (c: Continente) WHERE p.nome = 'Colombia' AND c.nome = 'America do Sul' RETURN p,c\"\n",
        "\n",
        "# Abrir uma sessão e executar a consulta\n",
        "with driver.session() as session:\n",
        "    result = session.run(q1)\n",
        "\n",
        "    # Processar os resultados\n",
        "    for record in result:\n",
        "        node_p = record[\"p\"]\n",
        "        node_c = record[\"c\"]\n",
        "\n",
        "        # Imprimir cada nó e relacionamento\n",
        "        print(f\"Node p: {node_p}\")\n",
        "        print(f\"Node c: {node_c}\")\n"
      ],
      "metadata": {
        "colab": {
          "base_uri": "https://localhost:8080/"
        },
        "id": "P8GEZyS5GNQO",
        "outputId": "ac1fcd0f-c5cb-463a-a690-01a12977789a"
      },
      "execution_count": 709,
      "outputs": [
        {
          "output_type": "stream",
          "name": "stdout",
          "text": [
            "Node p: <Node element_id='4:b53598fd-bb34-4ae1-b7e7-9aeddd5be881:28' labels=frozenset({'Selecao'}) properties={'cores': ['Amarelo', 'Vermelho', 'Azul'], 'nome': 'Colombia'}>\n",
            "Node c: <Node element_id='4:b53598fd-bb34-4ae1-b7e7-9aeddd5be881:29' labels=frozenset({'Continente'}) properties={'nome': 'America do Sul'}>\n"
          ]
        }
      ]
    },
    {
      "cell_type": "markdown",
      "source": [
        "- Excluindo um possível excesso de relações:"
      ],
      "metadata": {
        "id": "BPD1v_n1F_yR"
      }
    },
    {
      "cell_type": "code",
      "source": [
        "with driver.session() as session:\n",
        "    session.write_transaction(lambda tx: tx.run(\"MATCH (p:Selecao)-[r:Pertence]->(c:Continente) WHERE p.nome = 'Colombia' AND c.nome = 'America do Sul' DELETE r RETURN p, c\"))"
      ],
      "metadata": {
        "colab": {
          "base_uri": "https://localhost:8080/"
        },
        "id": "UlbrqN1nF99C",
        "outputId": "9ae55246-fa06-45be-c23f-81526ab85aa5"
      },
      "execution_count": 710,
      "outputs": [
        {
          "output_type": "stream",
          "name": "stderr",
          "text": [
            "<ipython-input-710-cf56a8c6e794>:2: DeprecationWarning: write_transaction has been renamed to execute_write\n",
            "  session.write_transaction(lambda tx: tx.run(\"MATCH (p:Selecao)-[r:Pertence]->(c:Continente) WHERE p.nome = 'Colombia' AND c.nome = 'America do Sul' DELETE r RETURN p, c\"))\n"
          ]
        }
      ]
    },
    {
      "cell_type": "markdown",
      "source": [
        "- Agora precisamos excluir o excesso da parte oposta da relação acima"
      ],
      "metadata": {
        "id": "gAJTSWTWH5VO"
      }
    },
    {
      "cell_type": "code",
      "source": [
        "with driver.session() as session:\n",
        "    session.write_transaction(lambda tx: tx.run(\"MATCH (p:Selecao)<-[r:Contem]-(c:Continente) WHERE p.nome = 'Colombia' AND c.nome = 'America do Sul' DELETE r RETURN p, c\"))"
      ],
      "metadata": {
        "colab": {
          "base_uri": "https://localhost:8080/"
        },
        "id": "DdFLYhZgH-AX",
        "outputId": "c1193884-e09c-478a-b789-c4864e613922"
      },
      "execution_count": 711,
      "outputs": [
        {
          "output_type": "stream",
          "name": "stderr",
          "text": [
            "<ipython-input-711-b1f9e2a3ab82>:2: DeprecationWarning: write_transaction has been renamed to execute_write\n",
            "  session.write_transaction(lambda tx: tx.run(\"MATCH (p:Selecao)<-[r:Contem]-(c:Continente) WHERE p.nome = 'Colombia' AND c.nome = 'America do Sul' DELETE r RETURN p, c\"))\n"
          ]
        }
      ]
    },
    {
      "cell_type": "markdown",
      "source": [
        "- Vamos ver quantas relações temos agora?"
      ],
      "metadata": {
        "id": "QiCEIn63G7uE"
      }
    },
    {
      "cell_type": "code",
      "source": [
        "q1 = \"MATCH (p:Selecao)-[r:Pertence]->(c:Continente) RETURN p, c, r UNION MATCH (c:Continente)-[r:Contem]->(p:Selecao) RETURN p, c, r \"\n",
        "\n",
        "# Abrir uma sessão e executar a consulta\n",
        "with driver.session() as session:\n",
        "    result = session.run(q1)\n",
        "\n",
        "    # Processar os resultados\n",
        "    for record in result:\n",
        "        node_p = record[\"p\"]\n",
        "        node_c = record[\"c\"]\n",
        "        relationship_r = record[\"r\"]\n",
        "\n",
        "        # Imprimir cada nó e relacionamento\n",
        "        print(f\"Node p: {node_p}\")\n",
        "        print(f\"Relationship r: {relationship_r}\")\n",
        "        print(f\"Node c: {node_c}\")\n"
      ],
      "metadata": {
        "colab": {
          "base_uri": "https://localhost:8080/"
        },
        "id": "dxGCJ4yRG5Q_",
        "outputId": "21812f5f-c649-4ed0-d266-4a9e9356746d"
      },
      "execution_count": 712,
      "outputs": [
        {
          "output_type": "stream",
          "name": "stdout",
          "text": [
            "Node p: <Node element_id='4:b53598fd-bb34-4ae1-b7e7-9aeddd5be881:26' labels=frozenset({'Selecao'}) properties={'cores': ['Verde', 'Branco'], 'nome': 'Nigeria'}>\n",
            "Relationship r: <Relationship element_id='5:b53598fd-bb34-4ae1-b7e7-9aeddd5be881:1152922604118474778' nodes=(<Node element_id='4:b53598fd-bb34-4ae1-b7e7-9aeddd5be881:26' labels=frozenset({'Selecao'}) properties={'cores': ['Verde', 'Branco'], 'nome': 'Nigeria'}>, <Node element_id='4:b53598fd-bb34-4ae1-b7e7-9aeddd5be881:0' labels=frozenset({'Continente'}) properties={'nome': 'Africa'}>) type='Pertence' properties={}>\n",
            "Node c: <Node element_id='4:b53598fd-bb34-4ae1-b7e7-9aeddd5be881:0' labels=frozenset({'Continente'}) properties={'nome': 'Africa'}>\n",
            "Node p: <Node element_id='4:b53598fd-bb34-4ae1-b7e7-9aeddd5be881:25' labels=frozenset({'Selecao'}) properties={'cores': ['Vermelho', 'Branco'], 'nome': 'Japao'}>\n",
            "Relationship r: <Relationship element_id='5:b53598fd-bb34-4ae1-b7e7-9aeddd5be881:1152922604118474777' nodes=(<Node element_id='4:b53598fd-bb34-4ae1-b7e7-9aeddd5be881:25' labels=frozenset({'Selecao'}) properties={'cores': ['Vermelho', 'Branco'], 'nome': 'Japao'}>, <Node element_id='4:b53598fd-bb34-4ae1-b7e7-9aeddd5be881:1' labels=frozenset({'Continente'}) properties={'nome': 'Asia'}>) type='Pertence' properties={}>\n",
            "Node c: <Node element_id='4:b53598fd-bb34-4ae1-b7e7-9aeddd5be881:1' labels=frozenset({'Continente'}) properties={'nome': 'Asia'}>\n",
            "Node p: <Node element_id='4:b53598fd-bb34-4ae1-b7e7-9aeddd5be881:16' labels=frozenset({'Selecao'}) properties={'cores': ['Verde', 'Amarelo'], 'nome': 'Brasil'}>\n",
            "Relationship r: <Relationship element_id='5:b53598fd-bb34-4ae1-b7e7-9aeddd5be881:1152922604118474768' nodes=(<Node element_id='4:b53598fd-bb34-4ae1-b7e7-9aeddd5be881:16' labels=frozenset({'Selecao'}) properties={'cores': ['Verde', 'Amarelo'], 'nome': 'Brasil'}>, <Node element_id='4:b53598fd-bb34-4ae1-b7e7-9aeddd5be881:29' labels=frozenset({'Continente'}) properties={'nome': 'America do Sul'}>) type='Pertence' properties={}>\n",
            "Node c: <Node element_id='4:b53598fd-bb34-4ae1-b7e7-9aeddd5be881:29' labels=frozenset({'Continente'}) properties={'nome': 'America do Sul'}>\n",
            "Node p: <Node element_id='4:b53598fd-bb34-4ae1-b7e7-9aeddd5be881:17' labels=frozenset({'Selecao'}) properties={'cores': ['Azul', 'Branco'], 'nome': 'Argentina'}>\n",
            "Relationship r: <Relationship element_id='5:b53598fd-bb34-4ae1-b7e7-9aeddd5be881:1152922604118474769' nodes=(<Node element_id='4:b53598fd-bb34-4ae1-b7e7-9aeddd5be881:17' labels=frozenset({'Selecao'}) properties={'cores': ['Azul', 'Branco'], 'nome': 'Argentina'}>, <Node element_id='4:b53598fd-bb34-4ae1-b7e7-9aeddd5be881:29' labels=frozenset({'Continente'}) properties={'nome': 'America do Sul'}>) type='Pertence' properties={}>\n",
            "Node c: <Node element_id='4:b53598fd-bb34-4ae1-b7e7-9aeddd5be881:29' labels=frozenset({'Continente'}) properties={'nome': 'America do Sul'}>\n",
            "Node p: <Node element_id='4:b53598fd-bb34-4ae1-b7e7-9aeddd5be881:18' labels=frozenset({'Selecao'}) properties={'cores': ['Azul', 'Branco'], 'nome': 'Uruguai'}>\n",
            "Relationship r: <Relationship element_id='5:b53598fd-bb34-4ae1-b7e7-9aeddd5be881:1152922604118474770' nodes=(<Node element_id='4:b53598fd-bb34-4ae1-b7e7-9aeddd5be881:18' labels=frozenset({'Selecao'}) properties={'cores': ['Azul', 'Branco'], 'nome': 'Uruguai'}>, <Node element_id='4:b53598fd-bb34-4ae1-b7e7-9aeddd5be881:29' labels=frozenset({'Continente'}) properties={'nome': 'America do Sul'}>) type='Pertence' properties={}>\n",
            "Node c: <Node element_id='4:b53598fd-bb34-4ae1-b7e7-9aeddd5be881:29' labels=frozenset({'Continente'}) properties={'nome': 'America do Sul'}>\n",
            "Node p: <Node element_id='4:b53598fd-bb34-4ae1-b7e7-9aeddd5be881:24' labels=frozenset({'Selecao'}) properties={'cores': ['Azul', 'Vermelho', 'Branco'], 'nome': 'Estados Unidos'}>\n",
            "Relationship r: <Relationship element_id='5:b53598fd-bb34-4ae1-b7e7-9aeddd5be881:1152922604118474776' nodes=(<Node element_id='4:b53598fd-bb34-4ae1-b7e7-9aeddd5be881:24' labels=frozenset({'Selecao'}) properties={'cores': ['Azul', 'Vermelho', 'Branco'], 'nome': 'Estados Unidos'}>, <Node element_id='4:b53598fd-bb34-4ae1-b7e7-9aeddd5be881:30' labels=frozenset({'Continente'}) properties={'nome': 'America do Norte'}>) type='Pertence' properties={}>\n",
            "Node c: <Node element_id='4:b53598fd-bb34-4ae1-b7e7-9aeddd5be881:30' labels=frozenset({'Continente'}) properties={'nome': 'America do Norte'}>\n",
            "Node p: <Node element_id='4:b53598fd-bb34-4ae1-b7e7-9aeddd5be881:27' labels=frozenset({'Selecao'}) properties={'cores': ['Vermelho', 'Branco'], 'nome': 'Canada'}>\n",
            "Relationship r: <Relationship element_id='5:b53598fd-bb34-4ae1-b7e7-9aeddd5be881:1152922604118474779' nodes=(<Node element_id='4:b53598fd-bb34-4ae1-b7e7-9aeddd5be881:27' labels=frozenset({'Selecao'}) properties={'cores': ['Vermelho', 'Branco'], 'nome': 'Canada'}>, <Node element_id='4:b53598fd-bb34-4ae1-b7e7-9aeddd5be881:30' labels=frozenset({'Continente'}) properties={'nome': 'America do Norte'}>) type='Pertence' properties={}>\n",
            "Node c: <Node element_id='4:b53598fd-bb34-4ae1-b7e7-9aeddd5be881:30' labels=frozenset({'Continente'}) properties={'nome': 'America do Norte'}>\n",
            "Node p: <Node element_id='4:b53598fd-bb34-4ae1-b7e7-9aeddd5be881:19' labels=frozenset({'Selecao'}) properties={'cores': ['Azul', 'Branco', 'Vermelho'], 'nome': 'Franca'}>\n",
            "Relationship r: <Relationship element_id='5:b53598fd-bb34-4ae1-b7e7-9aeddd5be881:1152922604118474771' nodes=(<Node element_id='4:b53598fd-bb34-4ae1-b7e7-9aeddd5be881:19' labels=frozenset({'Selecao'}) properties={'cores': ['Azul', 'Branco', 'Vermelho'], 'nome': 'Franca'}>, <Node element_id='4:b53598fd-bb34-4ae1-b7e7-9aeddd5be881:32' labels=frozenset({'Continente'}) properties={'nome': 'Europa'}>) type='Pertence' properties={}>\n",
            "Node c: <Node element_id='4:b53598fd-bb34-4ae1-b7e7-9aeddd5be881:32' labels=frozenset({'Continente'}) properties={'nome': 'Europa'}>\n",
            "Node p: <Node element_id='4:b53598fd-bb34-4ae1-b7e7-9aeddd5be881:20' labels=frozenset({'Selecao'}) properties={'cores': ['Amarelo', 'Vermelho'], 'nome': 'Espanha'}>\n",
            "Relationship r: <Relationship element_id='5:b53598fd-bb34-4ae1-b7e7-9aeddd5be881:1152922604118474772' nodes=(<Node element_id='4:b53598fd-bb34-4ae1-b7e7-9aeddd5be881:20' labels=frozenset({'Selecao'}) properties={'cores': ['Amarelo', 'Vermelho'], 'nome': 'Espanha'}>, <Node element_id='4:b53598fd-bb34-4ae1-b7e7-9aeddd5be881:32' labels=frozenset({'Continente'}) properties={'nome': 'Europa'}>) type='Pertence' properties={}>\n",
            "Node c: <Node element_id='4:b53598fd-bb34-4ae1-b7e7-9aeddd5be881:32' labels=frozenset({'Continente'}) properties={'nome': 'Europa'}>\n",
            "Node p: <Node element_id='4:b53598fd-bb34-4ae1-b7e7-9aeddd5be881:21' labels=frozenset({'Selecao'}) properties={'cores': ['Amarelo', 'Vermelho', 'Preto'], 'nome': 'Alemanha'}>\n",
            "Relationship r: <Relationship element_id='5:b53598fd-bb34-4ae1-b7e7-9aeddd5be881:1152922604118474773' nodes=(<Node element_id='4:b53598fd-bb34-4ae1-b7e7-9aeddd5be881:21' labels=frozenset({'Selecao'}) properties={'cores': ['Amarelo', 'Vermelho', 'Preto'], 'nome': 'Alemanha'}>, <Node element_id='4:b53598fd-bb34-4ae1-b7e7-9aeddd5be881:32' labels=frozenset({'Continente'}) properties={'nome': 'Europa'}>) type='Pertence' properties={}>\n",
            "Node c: <Node element_id='4:b53598fd-bb34-4ae1-b7e7-9aeddd5be881:32' labels=frozenset({'Continente'}) properties={'nome': 'Europa'}>\n",
            "Node p: <Node element_id='4:b53598fd-bb34-4ae1-b7e7-9aeddd5be881:22' labels=frozenset({'Selecao'}) properties={'cores': ['Vermelho', 'Branco'], 'nome': 'Inglaterra'}>\n",
            "Relationship r: <Relationship element_id='5:b53598fd-bb34-4ae1-b7e7-9aeddd5be881:1152922604118474774' nodes=(<Node element_id='4:b53598fd-bb34-4ae1-b7e7-9aeddd5be881:22' labels=frozenset({'Selecao'}) properties={'cores': ['Vermelho', 'Branco'], 'nome': 'Inglaterra'}>, <Node element_id='4:b53598fd-bb34-4ae1-b7e7-9aeddd5be881:32' labels=frozenset({'Continente'}) properties={'nome': 'Europa'}>) type='Pertence' properties={}>\n",
            "Node c: <Node element_id='4:b53598fd-bb34-4ae1-b7e7-9aeddd5be881:32' labels=frozenset({'Continente'}) properties={'nome': 'Europa'}>\n",
            "Node p: <Node element_id='4:b53598fd-bb34-4ae1-b7e7-9aeddd5be881:23' labels=frozenset({'Selecao'}) properties={'cores': ['Verde', 'Vermelho', 'Branco'], 'nome': 'Italia'}>\n",
            "Relationship r: <Relationship element_id='5:b53598fd-bb34-4ae1-b7e7-9aeddd5be881:1152922604118474775' nodes=(<Node element_id='4:b53598fd-bb34-4ae1-b7e7-9aeddd5be881:23' labels=frozenset({'Selecao'}) properties={'cores': ['Verde', 'Vermelho', 'Branco'], 'nome': 'Italia'}>, <Node element_id='4:b53598fd-bb34-4ae1-b7e7-9aeddd5be881:32' labels=frozenset({'Continente'}) properties={'nome': 'Europa'}>) type='Pertence' properties={}>\n",
            "Node c: <Node element_id='4:b53598fd-bb34-4ae1-b7e7-9aeddd5be881:32' labels=frozenset({'Continente'}) properties={'nome': 'Europa'}>\n",
            "Node p: <Node element_id='4:b53598fd-bb34-4ae1-b7e7-9aeddd5be881:26' labels=frozenset({'Selecao'}) properties={'cores': ['Verde', 'Branco'], 'nome': 'Nigeria'}>\n",
            "Relationship r: <Relationship element_id='5:b53598fd-bb34-4ae1-b7e7-9aeddd5be881:1152923703630102528' nodes=(<Node element_id='4:b53598fd-bb34-4ae1-b7e7-9aeddd5be881:0' labels=frozenset({'Continente'}) properties={'nome': 'Africa'}>, <Node element_id='4:b53598fd-bb34-4ae1-b7e7-9aeddd5be881:26' labels=frozenset({'Selecao'}) properties={'cores': ['Verde', 'Branco'], 'nome': 'Nigeria'}>) type='Contem' properties={}>\n",
            "Node c: <Node element_id='4:b53598fd-bb34-4ae1-b7e7-9aeddd5be881:0' labels=frozenset({'Continente'}) properties={'nome': 'Africa'}>\n",
            "Node p: <Node element_id='4:b53598fd-bb34-4ae1-b7e7-9aeddd5be881:25' labels=frozenset({'Selecao'}) properties={'cores': ['Vermelho', 'Branco'], 'nome': 'Japao'}>\n",
            "Relationship r: <Relationship element_id='5:b53598fd-bb34-4ae1-b7e7-9aeddd5be881:1152923703630102529' nodes=(<Node element_id='4:b53598fd-bb34-4ae1-b7e7-9aeddd5be881:1' labels=frozenset({'Continente'}) properties={'nome': 'Asia'}>, <Node element_id='4:b53598fd-bb34-4ae1-b7e7-9aeddd5be881:25' labels=frozenset({'Selecao'}) properties={'cores': ['Vermelho', 'Branco'], 'nome': 'Japao'}>) type='Contem' properties={}>\n",
            "Node c: <Node element_id='4:b53598fd-bb34-4ae1-b7e7-9aeddd5be881:1' labels=frozenset({'Continente'}) properties={'nome': 'Asia'}>\n",
            "Node p: <Node element_id='4:b53598fd-bb34-4ae1-b7e7-9aeddd5be881:16' labels=frozenset({'Selecao'}) properties={'cores': ['Verde', 'Amarelo'], 'nome': 'Brasil'}>\n",
            "Relationship r: <Relationship element_id='5:b53598fd-bb34-4ae1-b7e7-9aeddd5be881:1157427303257473053' nodes=(<Node element_id='4:b53598fd-bb34-4ae1-b7e7-9aeddd5be881:29' labels=frozenset({'Continente'}) properties={'nome': 'America do Sul'}>, <Node element_id='4:b53598fd-bb34-4ae1-b7e7-9aeddd5be881:16' labels=frozenset({'Selecao'}) properties={'cores': ['Verde', 'Amarelo'], 'nome': 'Brasil'}>) type='Contem' properties={}>\n",
            "Node c: <Node element_id='4:b53598fd-bb34-4ae1-b7e7-9aeddd5be881:29' labels=frozenset({'Continente'}) properties={'nome': 'America do Sul'}>\n",
            "Node p: <Node element_id='4:b53598fd-bb34-4ae1-b7e7-9aeddd5be881:17' labels=frozenset({'Selecao'}) properties={'cores': ['Azul', 'Branco'], 'nome': 'Argentina'}>\n",
            "Relationship r: <Relationship element_id='5:b53598fd-bb34-4ae1-b7e7-9aeddd5be881:1159679103071158301' nodes=(<Node element_id='4:b53598fd-bb34-4ae1-b7e7-9aeddd5be881:29' labels=frozenset({'Continente'}) properties={'nome': 'America do Sul'}>, <Node element_id='4:b53598fd-bb34-4ae1-b7e7-9aeddd5be881:17' labels=frozenset({'Selecao'}) properties={'cores': ['Azul', 'Branco'], 'nome': 'Argentina'}>) type='Contem' properties={}>\n",
            "Node c: <Node element_id='4:b53598fd-bb34-4ae1-b7e7-9aeddd5be881:29' labels=frozenset({'Continente'}) properties={'nome': 'America do Sul'}>\n",
            "Node p: <Node element_id='4:b53598fd-bb34-4ae1-b7e7-9aeddd5be881:18' labels=frozenset({'Selecao'}) properties={'cores': ['Azul', 'Branco'], 'nome': 'Uruguai'}>\n",
            "Relationship r: <Relationship element_id='5:b53598fd-bb34-4ae1-b7e7-9aeddd5be881:1161930902884843549' nodes=(<Node element_id='4:b53598fd-bb34-4ae1-b7e7-9aeddd5be881:29' labels=frozenset({'Continente'}) properties={'nome': 'America do Sul'}>, <Node element_id='4:b53598fd-bb34-4ae1-b7e7-9aeddd5be881:18' labels=frozenset({'Selecao'}) properties={'cores': ['Azul', 'Branco'], 'nome': 'Uruguai'}>) type='Contem' properties={}>\n",
            "Node c: <Node element_id='4:b53598fd-bb34-4ae1-b7e7-9aeddd5be881:29' labels=frozenset({'Continente'}) properties={'nome': 'America do Sul'}>\n",
            "Node p: <Node element_id='4:b53598fd-bb34-4ae1-b7e7-9aeddd5be881:24' labels=frozenset({'Selecao'}) properties={'cores': ['Azul', 'Vermelho', 'Branco'], 'nome': 'Estados Unidos'}>\n",
            "Relationship r: <Relationship element_id='5:b53598fd-bb34-4ae1-b7e7-9aeddd5be881:1152923703630102558' nodes=(<Node element_id='4:b53598fd-bb34-4ae1-b7e7-9aeddd5be881:30' labels=frozenset({'Continente'}) properties={'nome': 'America do Norte'}>, <Node element_id='4:b53598fd-bb34-4ae1-b7e7-9aeddd5be881:24' labels=frozenset({'Selecao'}) properties={'cores': ['Azul', 'Vermelho', 'Branco'], 'nome': 'Estados Unidos'}>) type='Contem' properties={}>\n",
            "Node c: <Node element_id='4:b53598fd-bb34-4ae1-b7e7-9aeddd5be881:30' labels=frozenset({'Continente'}) properties={'nome': 'America do Norte'}>\n",
            "Node p: <Node element_id='4:b53598fd-bb34-4ae1-b7e7-9aeddd5be881:27' labels=frozenset({'Selecao'}) properties={'cores': ['Vermelho', 'Branco'], 'nome': 'Canada'}>\n",
            "Relationship r: <Relationship element_id='5:b53598fd-bb34-4ae1-b7e7-9aeddd5be881:1155175503443787806' nodes=(<Node element_id='4:b53598fd-bb34-4ae1-b7e7-9aeddd5be881:30' labels=frozenset({'Continente'}) properties={'nome': 'America do Norte'}>, <Node element_id='4:b53598fd-bb34-4ae1-b7e7-9aeddd5be881:27' labels=frozenset({'Selecao'}) properties={'cores': ['Vermelho', 'Branco'], 'nome': 'Canada'}>) type='Contem' properties={}>\n",
            "Node c: <Node element_id='4:b53598fd-bb34-4ae1-b7e7-9aeddd5be881:30' labels=frozenset({'Continente'}) properties={'nome': 'America do Norte'}>\n",
            "Node p: <Node element_id='4:b53598fd-bb34-4ae1-b7e7-9aeddd5be881:19' labels=frozenset({'Selecao'}) properties={'cores': ['Azul', 'Branco', 'Vermelho'], 'nome': 'Franca'}>\n",
            "Relationship r: <Relationship element_id='5:b53598fd-bb34-4ae1-b7e7-9aeddd5be881:1152923703630102560' nodes=(<Node element_id='4:b53598fd-bb34-4ae1-b7e7-9aeddd5be881:32' labels=frozenset({'Continente'}) properties={'nome': 'Europa'}>, <Node element_id='4:b53598fd-bb34-4ae1-b7e7-9aeddd5be881:19' labels=frozenset({'Selecao'}) properties={'cores': ['Azul', 'Branco', 'Vermelho'], 'nome': 'Franca'}>) type='Contem' properties={}>\n",
            "Node c: <Node element_id='4:b53598fd-bb34-4ae1-b7e7-9aeddd5be881:32' labels=frozenset({'Continente'}) properties={'nome': 'Europa'}>\n",
            "Node p: <Node element_id='4:b53598fd-bb34-4ae1-b7e7-9aeddd5be881:20' labels=frozenset({'Selecao'}) properties={'cores': ['Amarelo', 'Vermelho'], 'nome': 'Espanha'}>\n",
            "Relationship r: <Relationship element_id='5:b53598fd-bb34-4ae1-b7e7-9aeddd5be881:1155175503443787808' nodes=(<Node element_id='4:b53598fd-bb34-4ae1-b7e7-9aeddd5be881:32' labels=frozenset({'Continente'}) properties={'nome': 'Europa'}>, <Node element_id='4:b53598fd-bb34-4ae1-b7e7-9aeddd5be881:20' labels=frozenset({'Selecao'}) properties={'cores': ['Amarelo', 'Vermelho'], 'nome': 'Espanha'}>) type='Contem' properties={}>\n",
            "Node c: <Node element_id='4:b53598fd-bb34-4ae1-b7e7-9aeddd5be881:32' labels=frozenset({'Continente'}) properties={'nome': 'Europa'}>\n",
            "Node p: <Node element_id='4:b53598fd-bb34-4ae1-b7e7-9aeddd5be881:21' labels=frozenset({'Selecao'}) properties={'cores': ['Amarelo', 'Vermelho', 'Preto'], 'nome': 'Alemanha'}>\n",
            "Relationship r: <Relationship element_id='5:b53598fd-bb34-4ae1-b7e7-9aeddd5be881:1157427303257473056' nodes=(<Node element_id='4:b53598fd-bb34-4ae1-b7e7-9aeddd5be881:32' labels=frozenset({'Continente'}) properties={'nome': 'Europa'}>, <Node element_id='4:b53598fd-bb34-4ae1-b7e7-9aeddd5be881:21' labels=frozenset({'Selecao'}) properties={'cores': ['Amarelo', 'Vermelho', 'Preto'], 'nome': 'Alemanha'}>) type='Contem' properties={}>\n",
            "Node c: <Node element_id='4:b53598fd-bb34-4ae1-b7e7-9aeddd5be881:32' labels=frozenset({'Continente'}) properties={'nome': 'Europa'}>\n",
            "Node p: <Node element_id='4:b53598fd-bb34-4ae1-b7e7-9aeddd5be881:22' labels=frozenset({'Selecao'}) properties={'cores': ['Vermelho', 'Branco'], 'nome': 'Inglaterra'}>\n",
            "Relationship r: <Relationship element_id='5:b53598fd-bb34-4ae1-b7e7-9aeddd5be881:1159679103071158304' nodes=(<Node element_id='4:b53598fd-bb34-4ae1-b7e7-9aeddd5be881:32' labels=frozenset({'Continente'}) properties={'nome': 'Europa'}>, <Node element_id='4:b53598fd-bb34-4ae1-b7e7-9aeddd5be881:22' labels=frozenset({'Selecao'}) properties={'cores': ['Vermelho', 'Branco'], 'nome': 'Inglaterra'}>) type='Contem' properties={}>\n",
            "Node c: <Node element_id='4:b53598fd-bb34-4ae1-b7e7-9aeddd5be881:32' labels=frozenset({'Continente'}) properties={'nome': 'Europa'}>\n",
            "Node p: <Node element_id='4:b53598fd-bb34-4ae1-b7e7-9aeddd5be881:23' labels=frozenset({'Selecao'}) properties={'cores': ['Verde', 'Vermelho', 'Branco'], 'nome': 'Italia'}>\n",
            "Relationship r: <Relationship element_id='5:b53598fd-bb34-4ae1-b7e7-9aeddd5be881:1161930902884843552' nodes=(<Node element_id='4:b53598fd-bb34-4ae1-b7e7-9aeddd5be881:32' labels=frozenset({'Continente'}) properties={'nome': 'Europa'}>, <Node element_id='4:b53598fd-bb34-4ae1-b7e7-9aeddd5be881:23' labels=frozenset({'Selecao'}) properties={'cores': ['Verde', 'Vermelho', 'Branco'], 'nome': 'Italia'}>) type='Contem' properties={}>\n",
            "Node c: <Node element_id='4:b53598fd-bb34-4ae1-b7e7-9aeddd5be881:32' labels=frozenset({'Continente'}) properties={'nome': 'Europa'}>\n"
          ]
        }
      ]
    },
    {
      "cell_type": "code",
      "source": [
        "q1 = \"MATCH (p:Selecao)-[r:Pertence]->(c:Continente) RETURN p, c, r UNION MATCH (c:Continente)-[r:Contem]->(p:Selecao) RETURN p, c, r\"\n",
        "\n",
        "# Abrir uma sessão e executar a consulta\n",
        "with driver.session() as session:\n",
        "    result = session.run(q1)\n",
        "\n",
        "    # Processar os resultados\n",
        "    count = 0\n",
        "    for record in result:\n",
        "        node_p = record[\"p\"]\n",
        "        node_c = record[\"c\"]\n",
        "        relationship_r = record[\"r\"]\n",
        "\n",
        "        count += 1\n",
        "\n",
        "    print(f\"Total de itens retornados: {count}\")\n"
      ],
      "metadata": {
        "colab": {
          "base_uri": "https://localhost:8080/"
        },
        "id": "QiBCSVBvHRso",
        "outputId": "e53ef33e-b5cf-49a5-df71-4ffc2b106955"
      },
      "execution_count": 713,
      "outputs": [
        {
          "output_type": "stream",
          "name": "stdout",
          "text": [
            "Total de itens retornados: 24\n"
          ]
        }
      ]
    },
    {
      "cell_type": "markdown",
      "source": [
        "- Precisamos criar as relação CONTEM e PERTENCE de Comlombia com Continente América do Sul"
      ],
      "metadata": {
        "id": "4OZFliWTWG2Y"
      }
    },
    {
      "cell_type": "code",
      "source": [
        "with driver.session() as session:\n",
        "    session.write_transaction(lambda tx: tx.run(\"MATCH (p: Selecao), (c:Continente) WHERE p.nome = 'Colombia' and c.nome = 'America do Sul' CREATE (p)-[r:Pertence]->(c) RETURN p,c,r\"))"
      ],
      "metadata": {
        "colab": {
          "base_uri": "https://localhost:8080/"
        },
        "id": "_b8e24MpWO9z",
        "outputId": "59ddecc8-e0eb-4135-f862-d6dc4bdad7f3"
      },
      "execution_count": 714,
      "outputs": [
        {
          "output_type": "stream",
          "name": "stderr",
          "text": [
            "<ipython-input-714-0847539955e0>:2: DeprecationWarning: write_transaction has been renamed to execute_write\n",
            "  session.write_transaction(lambda tx: tx.run(\"MATCH (p: Selecao), (c:Continente) WHERE p.nome = 'Colombia' and c.nome = 'America do Sul' CREATE (p)-[r:Pertence]->(c) RETURN p,c,r\"))\n"
          ]
        }
      ]
    },
    {
      "cell_type": "markdown",
      "source": [
        "- Agora do outro lado"
      ],
      "metadata": {
        "id": "JcCjDl9hWQwb"
      }
    },
    {
      "cell_type": "code",
      "source": [
        "with driver.session() as session:\n",
        "    session.write_transaction(lambda tx: tx.run(\"MATCH (p:Selecao), (c:Continente) WHERE p.nome = 'Colombia' AND c.nome = 'America do Sul' CREATE (p)<-[r:Contem]-(c) RETURN p, c, r\"))"
      ],
      "metadata": {
        "colab": {
          "base_uri": "https://localhost:8080/"
        },
        "id": "0roTeo2IWT2b",
        "outputId": "029dd8e9-530e-4ab4-d198-904fdfcd5eb7"
      },
      "execution_count": 715,
      "outputs": [
        {
          "output_type": "stream",
          "name": "stderr",
          "text": [
            "<ipython-input-715-54c1d6ff2e17>:2: DeprecationWarning: write_transaction has been renamed to execute_write\n",
            "  session.write_transaction(lambda tx: tx.run(\"MATCH (p:Selecao), (c:Continente) WHERE p.nome = 'Colombia' AND c.nome = 'America do Sul' CREATE (p)<-[r:Contem]-(c) RETURN p, c, r\"))\n"
          ]
        }
      ]
    },
    {
      "cell_type": "markdown",
      "source": [
        "- Vamos ver como ficou os nodes?"
      ],
      "metadata": {
        "id": "3wTRlsgXIMGI"
      }
    },
    {
      "cell_type": "code",
      "source": [
        "q1 = \"MATCH (x) RETURN x\"\n",
        "\n",
        "# Abrir uma sessão e executar a consulta\n",
        "with driver.session() as session:\n",
        "    result = session.run(q1)\n",
        "\n",
        "    # Processar os resultados\n",
        "    for record in result:\n",
        "        node = record[\"x\"]\n",
        "        print(node)"
      ],
      "metadata": {
        "colab": {
          "base_uri": "https://localhost:8080/"
        },
        "id": "CluNdCmFIN0N",
        "outputId": "d6097332-4375-4ca8-b10c-340f017d2880"
      },
      "execution_count": 716,
      "outputs": [
        {
          "output_type": "stream",
          "name": "stdout",
          "text": [
            "<Node element_id='4:b53598fd-bb34-4ae1-b7e7-9aeddd5be881:0' labels=frozenset({'Continente'}) properties={'nome': 'Africa'}>\n",
            "<Node element_id='4:b53598fd-bb34-4ae1-b7e7-9aeddd5be881:1' labels=frozenset({'Continente'}) properties={'nome': 'Asia'}>\n",
            "<Node element_id='4:b53598fd-bb34-4ae1-b7e7-9aeddd5be881:2' labels=frozenset({'Continente'}) properties={'nome': 'Oceania'}>\n",
            "<Node element_id='4:b53598fd-bb34-4ae1-b7e7-9aeddd5be881:3' labels=frozenset({'Continente'}) properties={'nome': 'Antartida'}>\n",
            "<Node element_id='4:b53598fd-bb34-4ae1-b7e7-9aeddd5be881:16' labels=frozenset({'Selecao'}) properties={'cores': ['Verde', 'Amarelo'], 'nome': 'Brasil'}>\n",
            "<Node element_id='4:b53598fd-bb34-4ae1-b7e7-9aeddd5be881:17' labels=frozenset({'Selecao'}) properties={'cores': ['Azul', 'Branco'], 'nome': 'Argentina'}>\n",
            "<Node element_id='4:b53598fd-bb34-4ae1-b7e7-9aeddd5be881:18' labels=frozenset({'Selecao'}) properties={'cores': ['Azul', 'Branco'], 'nome': 'Uruguai'}>\n",
            "<Node element_id='4:b53598fd-bb34-4ae1-b7e7-9aeddd5be881:19' labels=frozenset({'Selecao'}) properties={'cores': ['Azul', 'Branco', 'Vermelho'], 'nome': 'Franca'}>\n",
            "<Node element_id='4:b53598fd-bb34-4ae1-b7e7-9aeddd5be881:20' labels=frozenset({'Selecao'}) properties={'cores': ['Amarelo', 'Vermelho'], 'nome': 'Espanha'}>\n",
            "<Node element_id='4:b53598fd-bb34-4ae1-b7e7-9aeddd5be881:21' labels=frozenset({'Selecao'}) properties={'cores': ['Amarelo', 'Vermelho', 'Preto'], 'nome': 'Alemanha'}>\n",
            "<Node element_id='4:b53598fd-bb34-4ae1-b7e7-9aeddd5be881:22' labels=frozenset({'Selecao'}) properties={'cores': ['Vermelho', 'Branco'], 'nome': 'Inglaterra'}>\n",
            "<Node element_id='4:b53598fd-bb34-4ae1-b7e7-9aeddd5be881:23' labels=frozenset({'Selecao'}) properties={'cores': ['Verde', 'Vermelho', 'Branco'], 'nome': 'Italia'}>\n",
            "<Node element_id='4:b53598fd-bb34-4ae1-b7e7-9aeddd5be881:24' labels=frozenset({'Selecao'}) properties={'cores': ['Azul', 'Vermelho', 'Branco'], 'nome': 'Estados Unidos'}>\n",
            "<Node element_id='4:b53598fd-bb34-4ae1-b7e7-9aeddd5be881:25' labels=frozenset({'Selecao'}) properties={'cores': ['Vermelho', 'Branco'], 'nome': 'Japao'}>\n",
            "<Node element_id='4:b53598fd-bb34-4ae1-b7e7-9aeddd5be881:26' labels=frozenset({'Selecao'}) properties={'cores': ['Verde', 'Branco'], 'nome': 'Nigeria'}>\n",
            "<Node element_id='4:b53598fd-bb34-4ae1-b7e7-9aeddd5be881:27' labels=frozenset({'Selecao'}) properties={'cores': ['Vermelho', 'Branco'], 'nome': 'Canada'}>\n",
            "<Node element_id='4:b53598fd-bb34-4ae1-b7e7-9aeddd5be881:28' labels=frozenset({'Selecao'}) properties={'cores': ['Amarelo', 'Vermelho', 'Azul'], 'nome': 'Colombia'}>\n",
            "<Node element_id='4:b53598fd-bb34-4ae1-b7e7-9aeddd5be881:29' labels=frozenset({'Continente'}) properties={'nome': 'America do Sul'}>\n",
            "<Node element_id='4:b53598fd-bb34-4ae1-b7e7-9aeddd5be881:30' labels=frozenset({'Continente'}) properties={'nome': 'America do Norte'}>\n",
            "<Node element_id='4:b53598fd-bb34-4ae1-b7e7-9aeddd5be881:31' labels=frozenset({'Continente'}) properties={'nome': 'America Central'}>\n",
            "<Node element_id='4:b53598fd-bb34-4ae1-b7e7-9aeddd5be881:32' labels=frozenset({'Continente'}) properties={'nome': 'Europa'}>\n"
          ]
        }
      ]
    },
    {
      "cell_type": "markdown",
      "source": [
        "Vamos ver como ficou as relações?"
      ],
      "metadata": {
        "id": "Ft845gpwIVn9"
      }
    },
    {
      "cell_type": "code",
      "source": [
        "q1 = \"MATCH (p:Selecao)-[r:Pertence]->(c:Continente) RETURN p, c, r UNION MATCH (c:Continente)-[r:Contem]->(p:Selecao) RETURN p, c, r\"\n",
        "\n",
        "# Abrir uma sessão e executar a consulta\n",
        "with driver.session() as session:\n",
        "    result = session.run(q1)\n",
        "\n",
        "    # Processar os resultados\n",
        "    for record in result:\n",
        "        node_p = record[\"p\"]\n",
        "        node_c = record[\"c\"]\n",
        "        relationship_r = record[\"r\"]\n",
        "\n",
        "        # Imprimir cada nó e relacionamento\n",
        "        print(f\"Node p: {node_p}\")\n",
        "        print(f\"Relationship r: {relationship_r}\")\n",
        "        print(f\"Node c: {node_c}\")\n"
      ],
      "metadata": {
        "colab": {
          "base_uri": "https://localhost:8080/"
        },
        "id": "fK3xhFgZIYnV",
        "outputId": "bc8398c3-f3b5-449a-b948-22879295b319"
      },
      "execution_count": 717,
      "outputs": [
        {
          "output_type": "stream",
          "name": "stdout",
          "text": [
            "Node p: <Node element_id='4:b53598fd-bb34-4ae1-b7e7-9aeddd5be881:26' labels=frozenset({'Selecao'}) properties={'cores': ['Verde', 'Branco'], 'nome': 'Nigeria'}>\n",
            "Relationship r: <Relationship element_id='5:b53598fd-bb34-4ae1-b7e7-9aeddd5be881:1152922604118474778' nodes=(<Node element_id='4:b53598fd-bb34-4ae1-b7e7-9aeddd5be881:26' labels=frozenset({'Selecao'}) properties={'cores': ['Verde', 'Branco'], 'nome': 'Nigeria'}>, <Node element_id='4:b53598fd-bb34-4ae1-b7e7-9aeddd5be881:0' labels=frozenset({'Continente'}) properties={'nome': 'Africa'}>) type='Pertence' properties={}>\n",
            "Node c: <Node element_id='4:b53598fd-bb34-4ae1-b7e7-9aeddd5be881:0' labels=frozenset({'Continente'}) properties={'nome': 'Africa'}>\n",
            "Node p: <Node element_id='4:b53598fd-bb34-4ae1-b7e7-9aeddd5be881:25' labels=frozenset({'Selecao'}) properties={'cores': ['Vermelho', 'Branco'], 'nome': 'Japao'}>\n",
            "Relationship r: <Relationship element_id='5:b53598fd-bb34-4ae1-b7e7-9aeddd5be881:1152922604118474777' nodes=(<Node element_id='4:b53598fd-bb34-4ae1-b7e7-9aeddd5be881:25' labels=frozenset({'Selecao'}) properties={'cores': ['Vermelho', 'Branco'], 'nome': 'Japao'}>, <Node element_id='4:b53598fd-bb34-4ae1-b7e7-9aeddd5be881:1' labels=frozenset({'Continente'}) properties={'nome': 'Asia'}>) type='Pertence' properties={}>\n",
            "Node c: <Node element_id='4:b53598fd-bb34-4ae1-b7e7-9aeddd5be881:1' labels=frozenset({'Continente'}) properties={'nome': 'Asia'}>\n",
            "Node p: <Node element_id='4:b53598fd-bb34-4ae1-b7e7-9aeddd5be881:16' labels=frozenset({'Selecao'}) properties={'cores': ['Verde', 'Amarelo'], 'nome': 'Brasil'}>\n",
            "Relationship r: <Relationship element_id='5:b53598fd-bb34-4ae1-b7e7-9aeddd5be881:1152922604118474768' nodes=(<Node element_id='4:b53598fd-bb34-4ae1-b7e7-9aeddd5be881:16' labels=frozenset({'Selecao'}) properties={'cores': ['Verde', 'Amarelo'], 'nome': 'Brasil'}>, <Node element_id='4:b53598fd-bb34-4ae1-b7e7-9aeddd5be881:29' labels=frozenset({'Continente'}) properties={'nome': 'America do Sul'}>) type='Pertence' properties={}>\n",
            "Node c: <Node element_id='4:b53598fd-bb34-4ae1-b7e7-9aeddd5be881:29' labels=frozenset({'Continente'}) properties={'nome': 'America do Sul'}>\n",
            "Node p: <Node element_id='4:b53598fd-bb34-4ae1-b7e7-9aeddd5be881:17' labels=frozenset({'Selecao'}) properties={'cores': ['Azul', 'Branco'], 'nome': 'Argentina'}>\n",
            "Relationship r: <Relationship element_id='5:b53598fd-bb34-4ae1-b7e7-9aeddd5be881:1152922604118474769' nodes=(<Node element_id='4:b53598fd-bb34-4ae1-b7e7-9aeddd5be881:17' labels=frozenset({'Selecao'}) properties={'cores': ['Azul', 'Branco'], 'nome': 'Argentina'}>, <Node element_id='4:b53598fd-bb34-4ae1-b7e7-9aeddd5be881:29' labels=frozenset({'Continente'}) properties={'nome': 'America do Sul'}>) type='Pertence' properties={}>\n",
            "Node c: <Node element_id='4:b53598fd-bb34-4ae1-b7e7-9aeddd5be881:29' labels=frozenset({'Continente'}) properties={'nome': 'America do Sul'}>\n",
            "Node p: <Node element_id='4:b53598fd-bb34-4ae1-b7e7-9aeddd5be881:18' labels=frozenset({'Selecao'}) properties={'cores': ['Azul', 'Branco'], 'nome': 'Uruguai'}>\n",
            "Relationship r: <Relationship element_id='5:b53598fd-bb34-4ae1-b7e7-9aeddd5be881:1152922604118474770' nodes=(<Node element_id='4:b53598fd-bb34-4ae1-b7e7-9aeddd5be881:18' labels=frozenset({'Selecao'}) properties={'cores': ['Azul', 'Branco'], 'nome': 'Uruguai'}>, <Node element_id='4:b53598fd-bb34-4ae1-b7e7-9aeddd5be881:29' labels=frozenset({'Continente'}) properties={'nome': 'America do Sul'}>) type='Pertence' properties={}>\n",
            "Node c: <Node element_id='4:b53598fd-bb34-4ae1-b7e7-9aeddd5be881:29' labels=frozenset({'Continente'}) properties={'nome': 'America do Sul'}>\n",
            "Node p: <Node element_id='4:b53598fd-bb34-4ae1-b7e7-9aeddd5be881:28' labels=frozenset({'Selecao'}) properties={'cores': ['Amarelo', 'Vermelho', 'Azul'], 'nome': 'Colombia'}>\n",
            "Relationship r: <Relationship element_id='5:b53598fd-bb34-4ae1-b7e7-9aeddd5be881:1152922604118474780' nodes=(<Node element_id='4:b53598fd-bb34-4ae1-b7e7-9aeddd5be881:28' labels=frozenset({'Selecao'}) properties={'cores': ['Amarelo', 'Vermelho', 'Azul'], 'nome': 'Colombia'}>, <Node element_id='4:b53598fd-bb34-4ae1-b7e7-9aeddd5be881:29' labels=frozenset({'Continente'}) properties={'nome': 'America do Sul'}>) type='Pertence' properties={}>\n",
            "Node c: <Node element_id='4:b53598fd-bb34-4ae1-b7e7-9aeddd5be881:29' labels=frozenset({'Continente'}) properties={'nome': 'America do Sul'}>\n",
            "Node p: <Node element_id='4:b53598fd-bb34-4ae1-b7e7-9aeddd5be881:24' labels=frozenset({'Selecao'}) properties={'cores': ['Azul', 'Vermelho', 'Branco'], 'nome': 'Estados Unidos'}>\n",
            "Relationship r: <Relationship element_id='5:b53598fd-bb34-4ae1-b7e7-9aeddd5be881:1152922604118474776' nodes=(<Node element_id='4:b53598fd-bb34-4ae1-b7e7-9aeddd5be881:24' labels=frozenset({'Selecao'}) properties={'cores': ['Azul', 'Vermelho', 'Branco'], 'nome': 'Estados Unidos'}>, <Node element_id='4:b53598fd-bb34-4ae1-b7e7-9aeddd5be881:30' labels=frozenset({'Continente'}) properties={'nome': 'America do Norte'}>) type='Pertence' properties={}>\n",
            "Node c: <Node element_id='4:b53598fd-bb34-4ae1-b7e7-9aeddd5be881:30' labels=frozenset({'Continente'}) properties={'nome': 'America do Norte'}>\n",
            "Node p: <Node element_id='4:b53598fd-bb34-4ae1-b7e7-9aeddd5be881:27' labels=frozenset({'Selecao'}) properties={'cores': ['Vermelho', 'Branco'], 'nome': 'Canada'}>\n",
            "Relationship r: <Relationship element_id='5:b53598fd-bb34-4ae1-b7e7-9aeddd5be881:1152922604118474779' nodes=(<Node element_id='4:b53598fd-bb34-4ae1-b7e7-9aeddd5be881:27' labels=frozenset({'Selecao'}) properties={'cores': ['Vermelho', 'Branco'], 'nome': 'Canada'}>, <Node element_id='4:b53598fd-bb34-4ae1-b7e7-9aeddd5be881:30' labels=frozenset({'Continente'}) properties={'nome': 'America do Norte'}>) type='Pertence' properties={}>\n",
            "Node c: <Node element_id='4:b53598fd-bb34-4ae1-b7e7-9aeddd5be881:30' labels=frozenset({'Continente'}) properties={'nome': 'America do Norte'}>\n",
            "Node p: <Node element_id='4:b53598fd-bb34-4ae1-b7e7-9aeddd5be881:19' labels=frozenset({'Selecao'}) properties={'cores': ['Azul', 'Branco', 'Vermelho'], 'nome': 'Franca'}>\n",
            "Relationship r: <Relationship element_id='5:b53598fd-bb34-4ae1-b7e7-9aeddd5be881:1152922604118474771' nodes=(<Node element_id='4:b53598fd-bb34-4ae1-b7e7-9aeddd5be881:19' labels=frozenset({'Selecao'}) properties={'cores': ['Azul', 'Branco', 'Vermelho'], 'nome': 'Franca'}>, <Node element_id='4:b53598fd-bb34-4ae1-b7e7-9aeddd5be881:32' labels=frozenset({'Continente'}) properties={'nome': 'Europa'}>) type='Pertence' properties={}>\n",
            "Node c: <Node element_id='4:b53598fd-bb34-4ae1-b7e7-9aeddd5be881:32' labels=frozenset({'Continente'}) properties={'nome': 'Europa'}>\n",
            "Node p: <Node element_id='4:b53598fd-bb34-4ae1-b7e7-9aeddd5be881:20' labels=frozenset({'Selecao'}) properties={'cores': ['Amarelo', 'Vermelho'], 'nome': 'Espanha'}>\n",
            "Relationship r: <Relationship element_id='5:b53598fd-bb34-4ae1-b7e7-9aeddd5be881:1152922604118474772' nodes=(<Node element_id='4:b53598fd-bb34-4ae1-b7e7-9aeddd5be881:20' labels=frozenset({'Selecao'}) properties={'cores': ['Amarelo', 'Vermelho'], 'nome': 'Espanha'}>, <Node element_id='4:b53598fd-bb34-4ae1-b7e7-9aeddd5be881:32' labels=frozenset({'Continente'}) properties={'nome': 'Europa'}>) type='Pertence' properties={}>\n",
            "Node c: <Node element_id='4:b53598fd-bb34-4ae1-b7e7-9aeddd5be881:32' labels=frozenset({'Continente'}) properties={'nome': 'Europa'}>\n",
            "Node p: <Node element_id='4:b53598fd-bb34-4ae1-b7e7-9aeddd5be881:21' labels=frozenset({'Selecao'}) properties={'cores': ['Amarelo', 'Vermelho', 'Preto'], 'nome': 'Alemanha'}>\n",
            "Relationship r: <Relationship element_id='5:b53598fd-bb34-4ae1-b7e7-9aeddd5be881:1152922604118474773' nodes=(<Node element_id='4:b53598fd-bb34-4ae1-b7e7-9aeddd5be881:21' labels=frozenset({'Selecao'}) properties={'cores': ['Amarelo', 'Vermelho', 'Preto'], 'nome': 'Alemanha'}>, <Node element_id='4:b53598fd-bb34-4ae1-b7e7-9aeddd5be881:32' labels=frozenset({'Continente'}) properties={'nome': 'Europa'}>) type='Pertence' properties={}>\n",
            "Node c: <Node element_id='4:b53598fd-bb34-4ae1-b7e7-9aeddd5be881:32' labels=frozenset({'Continente'}) properties={'nome': 'Europa'}>\n",
            "Node p: <Node element_id='4:b53598fd-bb34-4ae1-b7e7-9aeddd5be881:22' labels=frozenset({'Selecao'}) properties={'cores': ['Vermelho', 'Branco'], 'nome': 'Inglaterra'}>\n",
            "Relationship r: <Relationship element_id='5:b53598fd-bb34-4ae1-b7e7-9aeddd5be881:1152922604118474774' nodes=(<Node element_id='4:b53598fd-bb34-4ae1-b7e7-9aeddd5be881:22' labels=frozenset({'Selecao'}) properties={'cores': ['Vermelho', 'Branco'], 'nome': 'Inglaterra'}>, <Node element_id='4:b53598fd-bb34-4ae1-b7e7-9aeddd5be881:32' labels=frozenset({'Continente'}) properties={'nome': 'Europa'}>) type='Pertence' properties={}>\n",
            "Node c: <Node element_id='4:b53598fd-bb34-4ae1-b7e7-9aeddd5be881:32' labels=frozenset({'Continente'}) properties={'nome': 'Europa'}>\n",
            "Node p: <Node element_id='4:b53598fd-bb34-4ae1-b7e7-9aeddd5be881:23' labels=frozenset({'Selecao'}) properties={'cores': ['Verde', 'Vermelho', 'Branco'], 'nome': 'Italia'}>\n",
            "Relationship r: <Relationship element_id='5:b53598fd-bb34-4ae1-b7e7-9aeddd5be881:1152922604118474775' nodes=(<Node element_id='4:b53598fd-bb34-4ae1-b7e7-9aeddd5be881:23' labels=frozenset({'Selecao'}) properties={'cores': ['Verde', 'Vermelho', 'Branco'], 'nome': 'Italia'}>, <Node element_id='4:b53598fd-bb34-4ae1-b7e7-9aeddd5be881:32' labels=frozenset({'Continente'}) properties={'nome': 'Europa'}>) type='Pertence' properties={}>\n",
            "Node c: <Node element_id='4:b53598fd-bb34-4ae1-b7e7-9aeddd5be881:32' labels=frozenset({'Continente'}) properties={'nome': 'Europa'}>\n",
            "Node p: <Node element_id='4:b53598fd-bb34-4ae1-b7e7-9aeddd5be881:26' labels=frozenset({'Selecao'}) properties={'cores': ['Verde', 'Branco'], 'nome': 'Nigeria'}>\n",
            "Relationship r: <Relationship element_id='5:b53598fd-bb34-4ae1-b7e7-9aeddd5be881:1152923703630102528' nodes=(<Node element_id='4:b53598fd-bb34-4ae1-b7e7-9aeddd5be881:0' labels=frozenset({'Continente'}) properties={'nome': 'Africa'}>, <Node element_id='4:b53598fd-bb34-4ae1-b7e7-9aeddd5be881:26' labels=frozenset({'Selecao'}) properties={'cores': ['Verde', 'Branco'], 'nome': 'Nigeria'}>) type='Contem' properties={}>\n",
            "Node c: <Node element_id='4:b53598fd-bb34-4ae1-b7e7-9aeddd5be881:0' labels=frozenset({'Continente'}) properties={'nome': 'Africa'}>\n",
            "Node p: <Node element_id='4:b53598fd-bb34-4ae1-b7e7-9aeddd5be881:25' labels=frozenset({'Selecao'}) properties={'cores': ['Vermelho', 'Branco'], 'nome': 'Japao'}>\n",
            "Relationship r: <Relationship element_id='5:b53598fd-bb34-4ae1-b7e7-9aeddd5be881:1152923703630102529' nodes=(<Node element_id='4:b53598fd-bb34-4ae1-b7e7-9aeddd5be881:1' labels=frozenset({'Continente'}) properties={'nome': 'Asia'}>, <Node element_id='4:b53598fd-bb34-4ae1-b7e7-9aeddd5be881:25' labels=frozenset({'Selecao'}) properties={'cores': ['Vermelho', 'Branco'], 'nome': 'Japao'}>) type='Contem' properties={}>\n",
            "Node c: <Node element_id='4:b53598fd-bb34-4ae1-b7e7-9aeddd5be881:1' labels=frozenset({'Continente'}) properties={'nome': 'Asia'}>\n",
            "Node p: <Node element_id='4:b53598fd-bb34-4ae1-b7e7-9aeddd5be881:16' labels=frozenset({'Selecao'}) properties={'cores': ['Verde', 'Amarelo'], 'nome': 'Brasil'}>\n",
            "Relationship r: <Relationship element_id='5:b53598fd-bb34-4ae1-b7e7-9aeddd5be881:1157427303257473053' nodes=(<Node element_id='4:b53598fd-bb34-4ae1-b7e7-9aeddd5be881:29' labels=frozenset({'Continente'}) properties={'nome': 'America do Sul'}>, <Node element_id='4:b53598fd-bb34-4ae1-b7e7-9aeddd5be881:16' labels=frozenset({'Selecao'}) properties={'cores': ['Verde', 'Amarelo'], 'nome': 'Brasil'}>) type='Contem' properties={}>\n",
            "Node c: <Node element_id='4:b53598fd-bb34-4ae1-b7e7-9aeddd5be881:29' labels=frozenset({'Continente'}) properties={'nome': 'America do Sul'}>\n",
            "Node p: <Node element_id='4:b53598fd-bb34-4ae1-b7e7-9aeddd5be881:17' labels=frozenset({'Selecao'}) properties={'cores': ['Azul', 'Branco'], 'nome': 'Argentina'}>\n",
            "Relationship r: <Relationship element_id='5:b53598fd-bb34-4ae1-b7e7-9aeddd5be881:1159679103071158301' nodes=(<Node element_id='4:b53598fd-bb34-4ae1-b7e7-9aeddd5be881:29' labels=frozenset({'Continente'}) properties={'nome': 'America do Sul'}>, <Node element_id='4:b53598fd-bb34-4ae1-b7e7-9aeddd5be881:17' labels=frozenset({'Selecao'}) properties={'cores': ['Azul', 'Branco'], 'nome': 'Argentina'}>) type='Contem' properties={}>\n",
            "Node c: <Node element_id='4:b53598fd-bb34-4ae1-b7e7-9aeddd5be881:29' labels=frozenset({'Continente'}) properties={'nome': 'America do Sul'}>\n",
            "Node p: <Node element_id='4:b53598fd-bb34-4ae1-b7e7-9aeddd5be881:18' labels=frozenset({'Selecao'}) properties={'cores': ['Azul', 'Branco'], 'nome': 'Uruguai'}>\n",
            "Relationship r: <Relationship element_id='5:b53598fd-bb34-4ae1-b7e7-9aeddd5be881:1161930902884843549' nodes=(<Node element_id='4:b53598fd-bb34-4ae1-b7e7-9aeddd5be881:29' labels=frozenset({'Continente'}) properties={'nome': 'America do Sul'}>, <Node element_id='4:b53598fd-bb34-4ae1-b7e7-9aeddd5be881:18' labels=frozenset({'Selecao'}) properties={'cores': ['Azul', 'Branco'], 'nome': 'Uruguai'}>) type='Contem' properties={}>\n",
            "Node c: <Node element_id='4:b53598fd-bb34-4ae1-b7e7-9aeddd5be881:29' labels=frozenset({'Continente'}) properties={'nome': 'America do Sul'}>\n",
            "Node p: <Node element_id='4:b53598fd-bb34-4ae1-b7e7-9aeddd5be881:28' labels=frozenset({'Selecao'}) properties={'cores': ['Amarelo', 'Vermelho', 'Azul'], 'nome': 'Colombia'}>\n",
            "Relationship r: <Relationship element_id='5:b53598fd-bb34-4ae1-b7e7-9aeddd5be881:1152923703630102557' nodes=(<Node element_id='4:b53598fd-bb34-4ae1-b7e7-9aeddd5be881:29' labels=frozenset({'Continente'}) properties={'nome': 'America do Sul'}>, <Node element_id='4:b53598fd-bb34-4ae1-b7e7-9aeddd5be881:28' labels=frozenset({'Selecao'}) properties={'cores': ['Amarelo', 'Vermelho', 'Azul'], 'nome': 'Colombia'}>) type='Contem' properties={}>\n",
            "Node c: <Node element_id='4:b53598fd-bb34-4ae1-b7e7-9aeddd5be881:29' labels=frozenset({'Continente'}) properties={'nome': 'America do Sul'}>\n",
            "Node p: <Node element_id='4:b53598fd-bb34-4ae1-b7e7-9aeddd5be881:24' labels=frozenset({'Selecao'}) properties={'cores': ['Azul', 'Vermelho', 'Branco'], 'nome': 'Estados Unidos'}>\n",
            "Relationship r: <Relationship element_id='5:b53598fd-bb34-4ae1-b7e7-9aeddd5be881:1152923703630102558' nodes=(<Node element_id='4:b53598fd-bb34-4ae1-b7e7-9aeddd5be881:30' labels=frozenset({'Continente'}) properties={'nome': 'America do Norte'}>, <Node element_id='4:b53598fd-bb34-4ae1-b7e7-9aeddd5be881:24' labels=frozenset({'Selecao'}) properties={'cores': ['Azul', 'Vermelho', 'Branco'], 'nome': 'Estados Unidos'}>) type='Contem' properties={}>\n",
            "Node c: <Node element_id='4:b53598fd-bb34-4ae1-b7e7-9aeddd5be881:30' labels=frozenset({'Continente'}) properties={'nome': 'America do Norte'}>\n",
            "Node p: <Node element_id='4:b53598fd-bb34-4ae1-b7e7-9aeddd5be881:27' labels=frozenset({'Selecao'}) properties={'cores': ['Vermelho', 'Branco'], 'nome': 'Canada'}>\n",
            "Relationship r: <Relationship element_id='5:b53598fd-bb34-4ae1-b7e7-9aeddd5be881:1155175503443787806' nodes=(<Node element_id='4:b53598fd-bb34-4ae1-b7e7-9aeddd5be881:30' labels=frozenset({'Continente'}) properties={'nome': 'America do Norte'}>, <Node element_id='4:b53598fd-bb34-4ae1-b7e7-9aeddd5be881:27' labels=frozenset({'Selecao'}) properties={'cores': ['Vermelho', 'Branco'], 'nome': 'Canada'}>) type='Contem' properties={}>\n",
            "Node c: <Node element_id='4:b53598fd-bb34-4ae1-b7e7-9aeddd5be881:30' labels=frozenset({'Continente'}) properties={'nome': 'America do Norte'}>\n",
            "Node p: <Node element_id='4:b53598fd-bb34-4ae1-b7e7-9aeddd5be881:19' labels=frozenset({'Selecao'}) properties={'cores': ['Azul', 'Branco', 'Vermelho'], 'nome': 'Franca'}>\n",
            "Relationship r: <Relationship element_id='5:b53598fd-bb34-4ae1-b7e7-9aeddd5be881:1152923703630102560' nodes=(<Node element_id='4:b53598fd-bb34-4ae1-b7e7-9aeddd5be881:32' labels=frozenset({'Continente'}) properties={'nome': 'Europa'}>, <Node element_id='4:b53598fd-bb34-4ae1-b7e7-9aeddd5be881:19' labels=frozenset({'Selecao'}) properties={'cores': ['Azul', 'Branco', 'Vermelho'], 'nome': 'Franca'}>) type='Contem' properties={}>\n",
            "Node c: <Node element_id='4:b53598fd-bb34-4ae1-b7e7-9aeddd5be881:32' labels=frozenset({'Continente'}) properties={'nome': 'Europa'}>\n",
            "Node p: <Node element_id='4:b53598fd-bb34-4ae1-b7e7-9aeddd5be881:20' labels=frozenset({'Selecao'}) properties={'cores': ['Amarelo', 'Vermelho'], 'nome': 'Espanha'}>\n",
            "Relationship r: <Relationship element_id='5:b53598fd-bb34-4ae1-b7e7-9aeddd5be881:1155175503443787808' nodes=(<Node element_id='4:b53598fd-bb34-4ae1-b7e7-9aeddd5be881:32' labels=frozenset({'Continente'}) properties={'nome': 'Europa'}>, <Node element_id='4:b53598fd-bb34-4ae1-b7e7-9aeddd5be881:20' labels=frozenset({'Selecao'}) properties={'cores': ['Amarelo', 'Vermelho'], 'nome': 'Espanha'}>) type='Contem' properties={}>\n",
            "Node c: <Node element_id='4:b53598fd-bb34-4ae1-b7e7-9aeddd5be881:32' labels=frozenset({'Continente'}) properties={'nome': 'Europa'}>\n",
            "Node p: <Node element_id='4:b53598fd-bb34-4ae1-b7e7-9aeddd5be881:21' labels=frozenset({'Selecao'}) properties={'cores': ['Amarelo', 'Vermelho', 'Preto'], 'nome': 'Alemanha'}>\n",
            "Relationship r: <Relationship element_id='5:b53598fd-bb34-4ae1-b7e7-9aeddd5be881:1157427303257473056' nodes=(<Node element_id='4:b53598fd-bb34-4ae1-b7e7-9aeddd5be881:32' labels=frozenset({'Continente'}) properties={'nome': 'Europa'}>, <Node element_id='4:b53598fd-bb34-4ae1-b7e7-9aeddd5be881:21' labels=frozenset({'Selecao'}) properties={'cores': ['Amarelo', 'Vermelho', 'Preto'], 'nome': 'Alemanha'}>) type='Contem' properties={}>\n",
            "Node c: <Node element_id='4:b53598fd-bb34-4ae1-b7e7-9aeddd5be881:32' labels=frozenset({'Continente'}) properties={'nome': 'Europa'}>\n",
            "Node p: <Node element_id='4:b53598fd-bb34-4ae1-b7e7-9aeddd5be881:22' labels=frozenset({'Selecao'}) properties={'cores': ['Vermelho', 'Branco'], 'nome': 'Inglaterra'}>\n",
            "Relationship r: <Relationship element_id='5:b53598fd-bb34-4ae1-b7e7-9aeddd5be881:1159679103071158304' nodes=(<Node element_id='4:b53598fd-bb34-4ae1-b7e7-9aeddd5be881:32' labels=frozenset({'Continente'}) properties={'nome': 'Europa'}>, <Node element_id='4:b53598fd-bb34-4ae1-b7e7-9aeddd5be881:22' labels=frozenset({'Selecao'}) properties={'cores': ['Vermelho', 'Branco'], 'nome': 'Inglaterra'}>) type='Contem' properties={}>\n",
            "Node c: <Node element_id='4:b53598fd-bb34-4ae1-b7e7-9aeddd5be881:32' labels=frozenset({'Continente'}) properties={'nome': 'Europa'}>\n",
            "Node p: <Node element_id='4:b53598fd-bb34-4ae1-b7e7-9aeddd5be881:23' labels=frozenset({'Selecao'}) properties={'cores': ['Verde', 'Vermelho', 'Branco'], 'nome': 'Italia'}>\n",
            "Relationship r: <Relationship element_id='5:b53598fd-bb34-4ae1-b7e7-9aeddd5be881:1161930902884843552' nodes=(<Node element_id='4:b53598fd-bb34-4ae1-b7e7-9aeddd5be881:32' labels=frozenset({'Continente'}) properties={'nome': 'Europa'}>, <Node element_id='4:b53598fd-bb34-4ae1-b7e7-9aeddd5be881:23' labels=frozenset({'Selecao'}) properties={'cores': ['Verde', 'Vermelho', 'Branco'], 'nome': 'Italia'}>) type='Contem' properties={}>\n",
            "Node c: <Node element_id='4:b53598fd-bb34-4ae1-b7e7-9aeddd5be881:32' labels=frozenset({'Continente'}) properties={'nome': 'Europa'}>\n"
          ]
        }
      ]
    },
    {
      "cell_type": "markdown",
      "source": [
        "- Existem nodes que não tiveram nenhum retorno ou nenhuma relação"
      ],
      "metadata": {
        "id": "peCiy9J8KZZ5"
      }
    },
    {
      "cell_type": "code",
      "source": [
        "q1 = \"MATCH (p:Selecao) OPTIONAL MATCH (p)-[r:Pertence]->(c:Continente) RETURN p, c, r UNION MATCH (c:Continente) OPTIONAL MATCH (c)-[r:Contem]->(p:Selecao) RETURN p, c, r\"\n",
        "\n",
        "# Abrir uma sessão e executar a consulta\n",
        "with driver.session() as session:\n",
        "    result = session.run(q1)\n",
        "\n",
        "    # Processar os resultados\n",
        "    for record in result:\n",
        "        node_p = record[\"p\"]\n",
        "        node_c = record[\"c\"]\n",
        "        relationship_r = record[\"r\"]\n",
        "\n",
        "        # Imprimir cada nó e relacionamento\n",
        "        print(f\"Node p: {node_p}\")\n",
        "        print(f\"Relationship r: {relationship_r}\")\n",
        "        print(f\"Node c: {node_c}\")\n"
      ],
      "metadata": {
        "colab": {
          "base_uri": "https://localhost:8080/"
        },
        "id": "_rcsCt5FKVA3",
        "outputId": "e0349537-8a81-45c7-fcd3-d189c157ae55"
      },
      "execution_count": 718,
      "outputs": [
        {
          "output_type": "stream",
          "name": "stdout",
          "text": [
            "Node p: <Node element_id='4:b53598fd-bb34-4ae1-b7e7-9aeddd5be881:16' labels=frozenset({'Selecao'}) properties={'cores': ['Verde', 'Amarelo'], 'nome': 'Brasil'}>\n",
            "Relationship r: <Relationship element_id='5:b53598fd-bb34-4ae1-b7e7-9aeddd5be881:1152922604118474768' nodes=(<Node element_id='4:b53598fd-bb34-4ae1-b7e7-9aeddd5be881:16' labels=frozenset({'Selecao'}) properties={'cores': ['Verde', 'Amarelo'], 'nome': 'Brasil'}>, <Node element_id='4:b53598fd-bb34-4ae1-b7e7-9aeddd5be881:29' labels=frozenset({'Continente'}) properties={'nome': 'America do Sul'}>) type='Pertence' properties={}>\n",
            "Node c: <Node element_id='4:b53598fd-bb34-4ae1-b7e7-9aeddd5be881:29' labels=frozenset({'Continente'}) properties={'nome': 'America do Sul'}>\n",
            "Node p: <Node element_id='4:b53598fd-bb34-4ae1-b7e7-9aeddd5be881:17' labels=frozenset({'Selecao'}) properties={'cores': ['Azul', 'Branco'], 'nome': 'Argentina'}>\n",
            "Relationship r: <Relationship element_id='5:b53598fd-bb34-4ae1-b7e7-9aeddd5be881:1152922604118474769' nodes=(<Node element_id='4:b53598fd-bb34-4ae1-b7e7-9aeddd5be881:17' labels=frozenset({'Selecao'}) properties={'cores': ['Azul', 'Branco'], 'nome': 'Argentina'}>, <Node element_id='4:b53598fd-bb34-4ae1-b7e7-9aeddd5be881:29' labels=frozenset({'Continente'}) properties={'nome': 'America do Sul'}>) type='Pertence' properties={}>\n",
            "Node c: <Node element_id='4:b53598fd-bb34-4ae1-b7e7-9aeddd5be881:29' labels=frozenset({'Continente'}) properties={'nome': 'America do Sul'}>\n",
            "Node p: <Node element_id='4:b53598fd-bb34-4ae1-b7e7-9aeddd5be881:18' labels=frozenset({'Selecao'}) properties={'cores': ['Azul', 'Branco'], 'nome': 'Uruguai'}>\n",
            "Relationship r: <Relationship element_id='5:b53598fd-bb34-4ae1-b7e7-9aeddd5be881:1152922604118474770' nodes=(<Node element_id='4:b53598fd-bb34-4ae1-b7e7-9aeddd5be881:18' labels=frozenset({'Selecao'}) properties={'cores': ['Azul', 'Branco'], 'nome': 'Uruguai'}>, <Node element_id='4:b53598fd-bb34-4ae1-b7e7-9aeddd5be881:29' labels=frozenset({'Continente'}) properties={'nome': 'America do Sul'}>) type='Pertence' properties={}>\n",
            "Node c: <Node element_id='4:b53598fd-bb34-4ae1-b7e7-9aeddd5be881:29' labels=frozenset({'Continente'}) properties={'nome': 'America do Sul'}>\n",
            "Node p: <Node element_id='4:b53598fd-bb34-4ae1-b7e7-9aeddd5be881:19' labels=frozenset({'Selecao'}) properties={'cores': ['Azul', 'Branco', 'Vermelho'], 'nome': 'Franca'}>\n",
            "Relationship r: <Relationship element_id='5:b53598fd-bb34-4ae1-b7e7-9aeddd5be881:1152922604118474771' nodes=(<Node element_id='4:b53598fd-bb34-4ae1-b7e7-9aeddd5be881:19' labels=frozenset({'Selecao'}) properties={'cores': ['Azul', 'Branco', 'Vermelho'], 'nome': 'Franca'}>, <Node element_id='4:b53598fd-bb34-4ae1-b7e7-9aeddd5be881:32' labels=frozenset({'Continente'}) properties={'nome': 'Europa'}>) type='Pertence' properties={}>\n",
            "Node c: <Node element_id='4:b53598fd-bb34-4ae1-b7e7-9aeddd5be881:32' labels=frozenset({'Continente'}) properties={'nome': 'Europa'}>\n",
            "Node p: <Node element_id='4:b53598fd-bb34-4ae1-b7e7-9aeddd5be881:20' labels=frozenset({'Selecao'}) properties={'cores': ['Amarelo', 'Vermelho'], 'nome': 'Espanha'}>\n",
            "Relationship r: <Relationship element_id='5:b53598fd-bb34-4ae1-b7e7-9aeddd5be881:1152922604118474772' nodes=(<Node element_id='4:b53598fd-bb34-4ae1-b7e7-9aeddd5be881:20' labels=frozenset({'Selecao'}) properties={'cores': ['Amarelo', 'Vermelho'], 'nome': 'Espanha'}>, <Node element_id='4:b53598fd-bb34-4ae1-b7e7-9aeddd5be881:32' labels=frozenset({'Continente'}) properties={'nome': 'Europa'}>) type='Pertence' properties={}>\n",
            "Node c: <Node element_id='4:b53598fd-bb34-4ae1-b7e7-9aeddd5be881:32' labels=frozenset({'Continente'}) properties={'nome': 'Europa'}>\n",
            "Node p: <Node element_id='4:b53598fd-bb34-4ae1-b7e7-9aeddd5be881:21' labels=frozenset({'Selecao'}) properties={'cores': ['Amarelo', 'Vermelho', 'Preto'], 'nome': 'Alemanha'}>\n",
            "Relationship r: <Relationship element_id='5:b53598fd-bb34-4ae1-b7e7-9aeddd5be881:1152922604118474773' nodes=(<Node element_id='4:b53598fd-bb34-4ae1-b7e7-9aeddd5be881:21' labels=frozenset({'Selecao'}) properties={'cores': ['Amarelo', 'Vermelho', 'Preto'], 'nome': 'Alemanha'}>, <Node element_id='4:b53598fd-bb34-4ae1-b7e7-9aeddd5be881:32' labels=frozenset({'Continente'}) properties={'nome': 'Europa'}>) type='Pertence' properties={}>\n",
            "Node c: <Node element_id='4:b53598fd-bb34-4ae1-b7e7-9aeddd5be881:32' labels=frozenset({'Continente'}) properties={'nome': 'Europa'}>\n",
            "Node p: <Node element_id='4:b53598fd-bb34-4ae1-b7e7-9aeddd5be881:22' labels=frozenset({'Selecao'}) properties={'cores': ['Vermelho', 'Branco'], 'nome': 'Inglaterra'}>\n",
            "Relationship r: <Relationship element_id='5:b53598fd-bb34-4ae1-b7e7-9aeddd5be881:1152922604118474774' nodes=(<Node element_id='4:b53598fd-bb34-4ae1-b7e7-9aeddd5be881:22' labels=frozenset({'Selecao'}) properties={'cores': ['Vermelho', 'Branco'], 'nome': 'Inglaterra'}>, <Node element_id='4:b53598fd-bb34-4ae1-b7e7-9aeddd5be881:32' labels=frozenset({'Continente'}) properties={'nome': 'Europa'}>) type='Pertence' properties={}>\n",
            "Node c: <Node element_id='4:b53598fd-bb34-4ae1-b7e7-9aeddd5be881:32' labels=frozenset({'Continente'}) properties={'nome': 'Europa'}>\n",
            "Node p: <Node element_id='4:b53598fd-bb34-4ae1-b7e7-9aeddd5be881:23' labels=frozenset({'Selecao'}) properties={'cores': ['Verde', 'Vermelho', 'Branco'], 'nome': 'Italia'}>\n",
            "Relationship r: <Relationship element_id='5:b53598fd-bb34-4ae1-b7e7-9aeddd5be881:1152922604118474775' nodes=(<Node element_id='4:b53598fd-bb34-4ae1-b7e7-9aeddd5be881:23' labels=frozenset({'Selecao'}) properties={'cores': ['Verde', 'Vermelho', 'Branco'], 'nome': 'Italia'}>, <Node element_id='4:b53598fd-bb34-4ae1-b7e7-9aeddd5be881:32' labels=frozenset({'Continente'}) properties={'nome': 'Europa'}>) type='Pertence' properties={}>\n",
            "Node c: <Node element_id='4:b53598fd-bb34-4ae1-b7e7-9aeddd5be881:32' labels=frozenset({'Continente'}) properties={'nome': 'Europa'}>\n",
            "Node p: <Node element_id='4:b53598fd-bb34-4ae1-b7e7-9aeddd5be881:24' labels=frozenset({'Selecao'}) properties={'cores': ['Azul', 'Vermelho', 'Branco'], 'nome': 'Estados Unidos'}>\n",
            "Relationship r: <Relationship element_id='5:b53598fd-bb34-4ae1-b7e7-9aeddd5be881:1152922604118474776' nodes=(<Node element_id='4:b53598fd-bb34-4ae1-b7e7-9aeddd5be881:24' labels=frozenset({'Selecao'}) properties={'cores': ['Azul', 'Vermelho', 'Branco'], 'nome': 'Estados Unidos'}>, <Node element_id='4:b53598fd-bb34-4ae1-b7e7-9aeddd5be881:30' labels=frozenset({'Continente'}) properties={'nome': 'America do Norte'}>) type='Pertence' properties={}>\n",
            "Node c: <Node element_id='4:b53598fd-bb34-4ae1-b7e7-9aeddd5be881:30' labels=frozenset({'Continente'}) properties={'nome': 'America do Norte'}>\n",
            "Node p: <Node element_id='4:b53598fd-bb34-4ae1-b7e7-9aeddd5be881:25' labels=frozenset({'Selecao'}) properties={'cores': ['Vermelho', 'Branco'], 'nome': 'Japao'}>\n",
            "Relationship r: <Relationship element_id='5:b53598fd-bb34-4ae1-b7e7-9aeddd5be881:1152922604118474777' nodes=(<Node element_id='4:b53598fd-bb34-4ae1-b7e7-9aeddd5be881:25' labels=frozenset({'Selecao'}) properties={'cores': ['Vermelho', 'Branco'], 'nome': 'Japao'}>, <Node element_id='4:b53598fd-bb34-4ae1-b7e7-9aeddd5be881:1' labels=frozenset({'Continente'}) properties={'nome': 'Asia'}>) type='Pertence' properties={}>\n",
            "Node c: <Node element_id='4:b53598fd-bb34-4ae1-b7e7-9aeddd5be881:1' labels=frozenset({'Continente'}) properties={'nome': 'Asia'}>\n",
            "Node p: <Node element_id='4:b53598fd-bb34-4ae1-b7e7-9aeddd5be881:26' labels=frozenset({'Selecao'}) properties={'cores': ['Verde', 'Branco'], 'nome': 'Nigeria'}>\n",
            "Relationship r: <Relationship element_id='5:b53598fd-bb34-4ae1-b7e7-9aeddd5be881:1152922604118474778' nodes=(<Node element_id='4:b53598fd-bb34-4ae1-b7e7-9aeddd5be881:26' labels=frozenset({'Selecao'}) properties={'cores': ['Verde', 'Branco'], 'nome': 'Nigeria'}>, <Node element_id='4:b53598fd-bb34-4ae1-b7e7-9aeddd5be881:0' labels=frozenset({'Continente'}) properties={'nome': 'Africa'}>) type='Pertence' properties={}>\n",
            "Node c: <Node element_id='4:b53598fd-bb34-4ae1-b7e7-9aeddd5be881:0' labels=frozenset({'Continente'}) properties={'nome': 'Africa'}>\n",
            "Node p: <Node element_id='4:b53598fd-bb34-4ae1-b7e7-9aeddd5be881:27' labels=frozenset({'Selecao'}) properties={'cores': ['Vermelho', 'Branco'], 'nome': 'Canada'}>\n",
            "Relationship r: <Relationship element_id='5:b53598fd-bb34-4ae1-b7e7-9aeddd5be881:1152922604118474779' nodes=(<Node element_id='4:b53598fd-bb34-4ae1-b7e7-9aeddd5be881:27' labels=frozenset({'Selecao'}) properties={'cores': ['Vermelho', 'Branco'], 'nome': 'Canada'}>, <Node element_id='4:b53598fd-bb34-4ae1-b7e7-9aeddd5be881:30' labels=frozenset({'Continente'}) properties={'nome': 'America do Norte'}>) type='Pertence' properties={}>\n",
            "Node c: <Node element_id='4:b53598fd-bb34-4ae1-b7e7-9aeddd5be881:30' labels=frozenset({'Continente'}) properties={'nome': 'America do Norte'}>\n",
            "Node p: <Node element_id='4:b53598fd-bb34-4ae1-b7e7-9aeddd5be881:28' labels=frozenset({'Selecao'}) properties={'cores': ['Amarelo', 'Vermelho', 'Azul'], 'nome': 'Colombia'}>\n",
            "Relationship r: <Relationship element_id='5:b53598fd-bb34-4ae1-b7e7-9aeddd5be881:1152922604118474780' nodes=(<Node element_id='4:b53598fd-bb34-4ae1-b7e7-9aeddd5be881:28' labels=frozenset({'Selecao'}) properties={'cores': ['Amarelo', 'Vermelho', 'Azul'], 'nome': 'Colombia'}>, <Node element_id='4:b53598fd-bb34-4ae1-b7e7-9aeddd5be881:29' labels=frozenset({'Continente'}) properties={'nome': 'America do Sul'}>) type='Pertence' properties={}>\n",
            "Node c: <Node element_id='4:b53598fd-bb34-4ae1-b7e7-9aeddd5be881:29' labels=frozenset({'Continente'}) properties={'nome': 'America do Sul'}>\n",
            "Node p: <Node element_id='4:b53598fd-bb34-4ae1-b7e7-9aeddd5be881:26' labels=frozenset({'Selecao'}) properties={'cores': ['Verde', 'Branco'], 'nome': 'Nigeria'}>\n",
            "Relationship r: <Relationship element_id='5:b53598fd-bb34-4ae1-b7e7-9aeddd5be881:1152923703630102528' nodes=(<Node element_id='4:b53598fd-bb34-4ae1-b7e7-9aeddd5be881:0' labels=frozenset({'Continente'}) properties={'nome': 'Africa'}>, <Node element_id='4:b53598fd-bb34-4ae1-b7e7-9aeddd5be881:26' labels=frozenset({'Selecao'}) properties={'cores': ['Verde', 'Branco'], 'nome': 'Nigeria'}>) type='Contem' properties={}>\n",
            "Node c: <Node element_id='4:b53598fd-bb34-4ae1-b7e7-9aeddd5be881:0' labels=frozenset({'Continente'}) properties={'nome': 'Africa'}>\n",
            "Node p: <Node element_id='4:b53598fd-bb34-4ae1-b7e7-9aeddd5be881:25' labels=frozenset({'Selecao'}) properties={'cores': ['Vermelho', 'Branco'], 'nome': 'Japao'}>\n",
            "Relationship r: <Relationship element_id='5:b53598fd-bb34-4ae1-b7e7-9aeddd5be881:1152923703630102529' nodes=(<Node element_id='4:b53598fd-bb34-4ae1-b7e7-9aeddd5be881:1' labels=frozenset({'Continente'}) properties={'nome': 'Asia'}>, <Node element_id='4:b53598fd-bb34-4ae1-b7e7-9aeddd5be881:25' labels=frozenset({'Selecao'}) properties={'cores': ['Vermelho', 'Branco'], 'nome': 'Japao'}>) type='Contem' properties={}>\n",
            "Node c: <Node element_id='4:b53598fd-bb34-4ae1-b7e7-9aeddd5be881:1' labels=frozenset({'Continente'}) properties={'nome': 'Asia'}>\n",
            "Node p: None\n",
            "Relationship r: None\n",
            "Node c: <Node element_id='4:b53598fd-bb34-4ae1-b7e7-9aeddd5be881:2' labels=frozenset({'Continente'}) properties={'nome': 'Oceania'}>\n",
            "Node p: None\n",
            "Relationship r: None\n",
            "Node c: <Node element_id='4:b53598fd-bb34-4ae1-b7e7-9aeddd5be881:3' labels=frozenset({'Continente'}) properties={'nome': 'Antartida'}>\n",
            "Node p: <Node element_id='4:b53598fd-bb34-4ae1-b7e7-9aeddd5be881:16' labels=frozenset({'Selecao'}) properties={'cores': ['Verde', 'Amarelo'], 'nome': 'Brasil'}>\n",
            "Relationship r: <Relationship element_id='5:b53598fd-bb34-4ae1-b7e7-9aeddd5be881:1157427303257473053' nodes=(<Node element_id='4:b53598fd-bb34-4ae1-b7e7-9aeddd5be881:29' labels=frozenset({'Continente'}) properties={'nome': 'America do Sul'}>, <Node element_id='4:b53598fd-bb34-4ae1-b7e7-9aeddd5be881:16' labels=frozenset({'Selecao'}) properties={'cores': ['Verde', 'Amarelo'], 'nome': 'Brasil'}>) type='Contem' properties={}>\n",
            "Node c: <Node element_id='4:b53598fd-bb34-4ae1-b7e7-9aeddd5be881:29' labels=frozenset({'Continente'}) properties={'nome': 'America do Sul'}>\n",
            "Node p: <Node element_id='4:b53598fd-bb34-4ae1-b7e7-9aeddd5be881:17' labels=frozenset({'Selecao'}) properties={'cores': ['Azul', 'Branco'], 'nome': 'Argentina'}>\n",
            "Relationship r: <Relationship element_id='5:b53598fd-bb34-4ae1-b7e7-9aeddd5be881:1159679103071158301' nodes=(<Node element_id='4:b53598fd-bb34-4ae1-b7e7-9aeddd5be881:29' labels=frozenset({'Continente'}) properties={'nome': 'America do Sul'}>, <Node element_id='4:b53598fd-bb34-4ae1-b7e7-9aeddd5be881:17' labels=frozenset({'Selecao'}) properties={'cores': ['Azul', 'Branco'], 'nome': 'Argentina'}>) type='Contem' properties={}>\n",
            "Node c: <Node element_id='4:b53598fd-bb34-4ae1-b7e7-9aeddd5be881:29' labels=frozenset({'Continente'}) properties={'nome': 'America do Sul'}>\n",
            "Node p: <Node element_id='4:b53598fd-bb34-4ae1-b7e7-9aeddd5be881:18' labels=frozenset({'Selecao'}) properties={'cores': ['Azul', 'Branco'], 'nome': 'Uruguai'}>\n",
            "Relationship r: <Relationship element_id='5:b53598fd-bb34-4ae1-b7e7-9aeddd5be881:1161930902884843549' nodes=(<Node element_id='4:b53598fd-bb34-4ae1-b7e7-9aeddd5be881:29' labels=frozenset({'Continente'}) properties={'nome': 'America do Sul'}>, <Node element_id='4:b53598fd-bb34-4ae1-b7e7-9aeddd5be881:18' labels=frozenset({'Selecao'}) properties={'cores': ['Azul', 'Branco'], 'nome': 'Uruguai'}>) type='Contem' properties={}>\n",
            "Node c: <Node element_id='4:b53598fd-bb34-4ae1-b7e7-9aeddd5be881:29' labels=frozenset({'Continente'}) properties={'nome': 'America do Sul'}>\n",
            "Node p: <Node element_id='4:b53598fd-bb34-4ae1-b7e7-9aeddd5be881:28' labels=frozenset({'Selecao'}) properties={'cores': ['Amarelo', 'Vermelho', 'Azul'], 'nome': 'Colombia'}>\n",
            "Relationship r: <Relationship element_id='5:b53598fd-bb34-4ae1-b7e7-9aeddd5be881:1152923703630102557' nodes=(<Node element_id='4:b53598fd-bb34-4ae1-b7e7-9aeddd5be881:29' labels=frozenset({'Continente'}) properties={'nome': 'America do Sul'}>, <Node element_id='4:b53598fd-bb34-4ae1-b7e7-9aeddd5be881:28' labels=frozenset({'Selecao'}) properties={'cores': ['Amarelo', 'Vermelho', 'Azul'], 'nome': 'Colombia'}>) type='Contem' properties={}>\n",
            "Node c: <Node element_id='4:b53598fd-bb34-4ae1-b7e7-9aeddd5be881:29' labels=frozenset({'Continente'}) properties={'nome': 'America do Sul'}>\n",
            "Node p: <Node element_id='4:b53598fd-bb34-4ae1-b7e7-9aeddd5be881:24' labels=frozenset({'Selecao'}) properties={'cores': ['Azul', 'Vermelho', 'Branco'], 'nome': 'Estados Unidos'}>\n",
            "Relationship r: <Relationship element_id='5:b53598fd-bb34-4ae1-b7e7-9aeddd5be881:1152923703630102558' nodes=(<Node element_id='4:b53598fd-bb34-4ae1-b7e7-9aeddd5be881:30' labels=frozenset({'Continente'}) properties={'nome': 'America do Norte'}>, <Node element_id='4:b53598fd-bb34-4ae1-b7e7-9aeddd5be881:24' labels=frozenset({'Selecao'}) properties={'cores': ['Azul', 'Vermelho', 'Branco'], 'nome': 'Estados Unidos'}>) type='Contem' properties={}>\n",
            "Node c: <Node element_id='4:b53598fd-bb34-4ae1-b7e7-9aeddd5be881:30' labels=frozenset({'Continente'}) properties={'nome': 'America do Norte'}>\n",
            "Node p: <Node element_id='4:b53598fd-bb34-4ae1-b7e7-9aeddd5be881:27' labels=frozenset({'Selecao'}) properties={'cores': ['Vermelho', 'Branco'], 'nome': 'Canada'}>\n",
            "Relationship r: <Relationship element_id='5:b53598fd-bb34-4ae1-b7e7-9aeddd5be881:1155175503443787806' nodes=(<Node element_id='4:b53598fd-bb34-4ae1-b7e7-9aeddd5be881:30' labels=frozenset({'Continente'}) properties={'nome': 'America do Norte'}>, <Node element_id='4:b53598fd-bb34-4ae1-b7e7-9aeddd5be881:27' labels=frozenset({'Selecao'}) properties={'cores': ['Vermelho', 'Branco'], 'nome': 'Canada'}>) type='Contem' properties={}>\n",
            "Node c: <Node element_id='4:b53598fd-bb34-4ae1-b7e7-9aeddd5be881:30' labels=frozenset({'Continente'}) properties={'nome': 'America do Norte'}>\n",
            "Node p: None\n",
            "Relationship r: None\n",
            "Node c: <Node element_id='4:b53598fd-bb34-4ae1-b7e7-9aeddd5be881:31' labels=frozenset({'Continente'}) properties={'nome': 'America Central'}>\n",
            "Node p: <Node element_id='4:b53598fd-bb34-4ae1-b7e7-9aeddd5be881:19' labels=frozenset({'Selecao'}) properties={'cores': ['Azul', 'Branco', 'Vermelho'], 'nome': 'Franca'}>\n",
            "Relationship r: <Relationship element_id='5:b53598fd-bb34-4ae1-b7e7-9aeddd5be881:1152923703630102560' nodes=(<Node element_id='4:b53598fd-bb34-4ae1-b7e7-9aeddd5be881:32' labels=frozenset({'Continente'}) properties={'nome': 'Europa'}>, <Node element_id='4:b53598fd-bb34-4ae1-b7e7-9aeddd5be881:19' labels=frozenset({'Selecao'}) properties={'cores': ['Azul', 'Branco', 'Vermelho'], 'nome': 'Franca'}>) type='Contem' properties={}>\n",
            "Node c: <Node element_id='4:b53598fd-bb34-4ae1-b7e7-9aeddd5be881:32' labels=frozenset({'Continente'}) properties={'nome': 'Europa'}>\n",
            "Node p: <Node element_id='4:b53598fd-bb34-4ae1-b7e7-9aeddd5be881:20' labels=frozenset({'Selecao'}) properties={'cores': ['Amarelo', 'Vermelho'], 'nome': 'Espanha'}>\n",
            "Relationship r: <Relationship element_id='5:b53598fd-bb34-4ae1-b7e7-9aeddd5be881:1155175503443787808' nodes=(<Node element_id='4:b53598fd-bb34-4ae1-b7e7-9aeddd5be881:32' labels=frozenset({'Continente'}) properties={'nome': 'Europa'}>, <Node element_id='4:b53598fd-bb34-4ae1-b7e7-9aeddd5be881:20' labels=frozenset({'Selecao'}) properties={'cores': ['Amarelo', 'Vermelho'], 'nome': 'Espanha'}>) type='Contem' properties={}>\n",
            "Node c: <Node element_id='4:b53598fd-bb34-4ae1-b7e7-9aeddd5be881:32' labels=frozenset({'Continente'}) properties={'nome': 'Europa'}>\n",
            "Node p: <Node element_id='4:b53598fd-bb34-4ae1-b7e7-9aeddd5be881:21' labels=frozenset({'Selecao'}) properties={'cores': ['Amarelo', 'Vermelho', 'Preto'], 'nome': 'Alemanha'}>\n",
            "Relationship r: <Relationship element_id='5:b53598fd-bb34-4ae1-b7e7-9aeddd5be881:1157427303257473056' nodes=(<Node element_id='4:b53598fd-bb34-4ae1-b7e7-9aeddd5be881:32' labels=frozenset({'Continente'}) properties={'nome': 'Europa'}>, <Node element_id='4:b53598fd-bb34-4ae1-b7e7-9aeddd5be881:21' labels=frozenset({'Selecao'}) properties={'cores': ['Amarelo', 'Vermelho', 'Preto'], 'nome': 'Alemanha'}>) type='Contem' properties={}>\n",
            "Node c: <Node element_id='4:b53598fd-bb34-4ae1-b7e7-9aeddd5be881:32' labels=frozenset({'Continente'}) properties={'nome': 'Europa'}>\n",
            "Node p: <Node element_id='4:b53598fd-bb34-4ae1-b7e7-9aeddd5be881:22' labels=frozenset({'Selecao'}) properties={'cores': ['Vermelho', 'Branco'], 'nome': 'Inglaterra'}>\n",
            "Relationship r: <Relationship element_id='5:b53598fd-bb34-4ae1-b7e7-9aeddd5be881:1159679103071158304' nodes=(<Node element_id='4:b53598fd-bb34-4ae1-b7e7-9aeddd5be881:32' labels=frozenset({'Continente'}) properties={'nome': 'Europa'}>, <Node element_id='4:b53598fd-bb34-4ae1-b7e7-9aeddd5be881:22' labels=frozenset({'Selecao'}) properties={'cores': ['Vermelho', 'Branco'], 'nome': 'Inglaterra'}>) type='Contem' properties={}>\n",
            "Node c: <Node element_id='4:b53598fd-bb34-4ae1-b7e7-9aeddd5be881:32' labels=frozenset({'Continente'}) properties={'nome': 'Europa'}>\n",
            "Node p: <Node element_id='4:b53598fd-bb34-4ae1-b7e7-9aeddd5be881:23' labels=frozenset({'Selecao'}) properties={'cores': ['Verde', 'Vermelho', 'Branco'], 'nome': 'Italia'}>\n",
            "Relationship r: <Relationship element_id='5:b53598fd-bb34-4ae1-b7e7-9aeddd5be881:1161930902884843552' nodes=(<Node element_id='4:b53598fd-bb34-4ae1-b7e7-9aeddd5be881:32' labels=frozenset({'Continente'}) properties={'nome': 'Europa'}>, <Node element_id='4:b53598fd-bb34-4ae1-b7e7-9aeddd5be881:23' labels=frozenset({'Selecao'}) properties={'cores': ['Verde', 'Vermelho', 'Branco'], 'nome': 'Italia'}>) type='Contem' properties={}>\n",
            "Node c: <Node element_id='4:b53598fd-bb34-4ae1-b7e7-9aeddd5be881:32' labels=frozenset({'Continente'}) properties={'nome': 'Europa'}>\n"
          ]
        }
      ]
    },
    {
      "cell_type": "markdown",
      "source": [
        "- Viu que América Central, Oceania e Antardida ficaram sozinhos? Então, bora limpar esses \"outliers\" ?\n",
        "\n",
        "- Vamos remover Antardida, America Central e Oceania:"
      ],
      "metadata": {
        "id": "sdqvMkMiKmYS"
      }
    },
    {
      "cell_type": "code",
      "source": [
        "with driver.session() as session:\n",
        "    session.write_transaction(lambda tx: tx.run(\"MATCH (c:Continente {nome: 'Antartida'}) DETACH DELETE c\"))"
      ],
      "metadata": {
        "colab": {
          "base_uri": "https://localhost:8080/"
        },
        "id": "AvBbrva7DHEH",
        "outputId": "ab969e76-0bd1-49d3-f946-54444b50caaa"
      },
      "execution_count": 719,
      "outputs": [
        {
          "output_type": "stream",
          "name": "stderr",
          "text": [
            "<ipython-input-719-1ef95f7b60fd>:2: DeprecationWarning: write_transaction has been renamed to execute_write\n",
            "  session.write_transaction(lambda tx: tx.run(\"MATCH (c:Continente {nome: 'Antartida'}) DETACH DELETE c\"))\n"
          ]
        }
      ]
    },
    {
      "cell_type": "code",
      "source": [
        "with driver.session() as session:\n",
        "    session.write_transaction(lambda tx: tx.run(\"MATCH (c:Continente {nome: 'America Central'}) DETACH DELETE c\"))"
      ],
      "metadata": {
        "colab": {
          "base_uri": "https://localhost:8080/"
        },
        "id": "3HVMX0yTDG4W",
        "outputId": "1202cc74-5ac6-48cb-9aac-b5e51811cc8b"
      },
      "execution_count": 720,
      "outputs": [
        {
          "output_type": "stream",
          "name": "stderr",
          "text": [
            "<ipython-input-720-6aaf3de12b74>:2: DeprecationWarning: write_transaction has been renamed to execute_write\n",
            "  session.write_transaction(lambda tx: tx.run(\"MATCH (c:Continente {nome: 'America Central'}) DETACH DELETE c\"))\n"
          ]
        }
      ]
    },
    {
      "cell_type": "code",
      "source": [
        "with driver.session() as session:\n",
        "    session.write_transaction(lambda tx: tx.run(\"MATCH (c:Continente {nome: 'Oceania'}) DETACH DELETE c\"))"
      ],
      "metadata": {
        "colab": {
          "base_uri": "https://localhost:8080/"
        },
        "id": "5oxUBXpwDGqv",
        "outputId": "df4296e1-390e-419a-b9ec-5386011d8e23"
      },
      "execution_count": 721,
      "outputs": [
        {
          "output_type": "stream",
          "name": "stderr",
          "text": [
            "<ipython-input-721-7d95bec45756>:2: DeprecationWarning: write_transaction has been renamed to execute_write\n",
            "  session.write_transaction(lambda tx: tx.run(\"MATCH (c:Continente {nome: 'Oceania'}) DETACH DELETE c\"))\n"
          ]
        }
      ]
    },
    {
      "cell_type": "markdown",
      "source": [
        "- Verificando se os nodes foram removidos:"
      ],
      "metadata": {
        "id": "R7ml7E95U9ed"
      }
    },
    {
      "cell_type": "code",
      "source": [
        "q1 = \"MATCH (x) RETURN x\"\n",
        "\n",
        "# Abrir uma sessão e executar a consulta\n",
        "with driver.session() as session:\n",
        "    result = session.run(q1)\n",
        "\n",
        "    # Processar os resultados\n",
        "    for record in result:\n",
        "        node = record[\"x\"]\n",
        "        print(node)"
      ],
      "metadata": {
        "colab": {
          "base_uri": "https://localhost:8080/"
        },
        "id": "xjldBHFsUxIH",
        "outputId": "5a55c08e-d9fd-400c-af67-7842479f0ea9"
      },
      "execution_count": 722,
      "outputs": [
        {
          "output_type": "stream",
          "name": "stdout",
          "text": [
            "<Node element_id='4:b53598fd-bb34-4ae1-b7e7-9aeddd5be881:0' labels=frozenset({'Continente'}) properties={'nome': 'Africa'}>\n",
            "<Node element_id='4:b53598fd-bb34-4ae1-b7e7-9aeddd5be881:1' labels=frozenset({'Continente'}) properties={'nome': 'Asia'}>\n",
            "<Node element_id='4:b53598fd-bb34-4ae1-b7e7-9aeddd5be881:16' labels=frozenset({'Selecao'}) properties={'cores': ['Verde', 'Amarelo'], 'nome': 'Brasil'}>\n",
            "<Node element_id='4:b53598fd-bb34-4ae1-b7e7-9aeddd5be881:17' labels=frozenset({'Selecao'}) properties={'cores': ['Azul', 'Branco'], 'nome': 'Argentina'}>\n",
            "<Node element_id='4:b53598fd-bb34-4ae1-b7e7-9aeddd5be881:18' labels=frozenset({'Selecao'}) properties={'cores': ['Azul', 'Branco'], 'nome': 'Uruguai'}>\n",
            "<Node element_id='4:b53598fd-bb34-4ae1-b7e7-9aeddd5be881:19' labels=frozenset({'Selecao'}) properties={'cores': ['Azul', 'Branco', 'Vermelho'], 'nome': 'Franca'}>\n",
            "<Node element_id='4:b53598fd-bb34-4ae1-b7e7-9aeddd5be881:20' labels=frozenset({'Selecao'}) properties={'cores': ['Amarelo', 'Vermelho'], 'nome': 'Espanha'}>\n",
            "<Node element_id='4:b53598fd-bb34-4ae1-b7e7-9aeddd5be881:21' labels=frozenset({'Selecao'}) properties={'cores': ['Amarelo', 'Vermelho', 'Preto'], 'nome': 'Alemanha'}>\n",
            "<Node element_id='4:b53598fd-bb34-4ae1-b7e7-9aeddd5be881:22' labels=frozenset({'Selecao'}) properties={'cores': ['Vermelho', 'Branco'], 'nome': 'Inglaterra'}>\n",
            "<Node element_id='4:b53598fd-bb34-4ae1-b7e7-9aeddd5be881:23' labels=frozenset({'Selecao'}) properties={'cores': ['Verde', 'Vermelho', 'Branco'], 'nome': 'Italia'}>\n",
            "<Node element_id='4:b53598fd-bb34-4ae1-b7e7-9aeddd5be881:24' labels=frozenset({'Selecao'}) properties={'cores': ['Azul', 'Vermelho', 'Branco'], 'nome': 'Estados Unidos'}>\n",
            "<Node element_id='4:b53598fd-bb34-4ae1-b7e7-9aeddd5be881:25' labels=frozenset({'Selecao'}) properties={'cores': ['Vermelho', 'Branco'], 'nome': 'Japao'}>\n",
            "<Node element_id='4:b53598fd-bb34-4ae1-b7e7-9aeddd5be881:26' labels=frozenset({'Selecao'}) properties={'cores': ['Verde', 'Branco'], 'nome': 'Nigeria'}>\n",
            "<Node element_id='4:b53598fd-bb34-4ae1-b7e7-9aeddd5be881:27' labels=frozenset({'Selecao'}) properties={'cores': ['Vermelho', 'Branco'], 'nome': 'Canada'}>\n",
            "<Node element_id='4:b53598fd-bb34-4ae1-b7e7-9aeddd5be881:28' labels=frozenset({'Selecao'}) properties={'cores': ['Amarelo', 'Vermelho', 'Azul'], 'nome': 'Colombia'}>\n",
            "<Node element_id='4:b53598fd-bb34-4ae1-b7e7-9aeddd5be881:29' labels=frozenset({'Continente'}) properties={'nome': 'America do Sul'}>\n",
            "<Node element_id='4:b53598fd-bb34-4ae1-b7e7-9aeddd5be881:30' labels=frozenset({'Continente'}) properties={'nome': 'America do Norte'}>\n",
            "<Node element_id='4:b53598fd-bb34-4ae1-b7e7-9aeddd5be881:32' labels=frozenset({'Continente'}) properties={'nome': 'Europa'}>\n"
          ]
        }
      ]
    },
    {
      "cell_type": "markdown",
      "source": [
        "- Vamos ver novamente como ficaram as relações?"
      ],
      "metadata": {
        "id": "wC2vsHA6Wls_"
      }
    },
    {
      "cell_type": "code",
      "source": [
        "q1 = \"MATCH (p:Selecao) OPTIONAL MATCH (p)-[r:Pertence]->(c:Continente) RETURN p, c, r UNION MATCH (c:Continente) OPTIONAL MATCH (c)-[r:Contem]->(p:Selecao) RETURN p, c, r\"\n",
        "\n",
        "# Abrir uma sessão e executar a consulta\n",
        "with driver.session() as session:\n",
        "    result = session.run(q1)\n",
        "\n",
        "    # Processar os resultados\n",
        "    for record in result:\n",
        "        node_p = record[\"p\"]\n",
        "        node_c = record[\"c\"]\n",
        "        relationship_r = record[\"r\"]\n",
        "\n",
        "        # Imprimir cada nó e relacionamento\n",
        "        print(f\"Node p: {node_p}\")\n",
        "        print(f\"Relationship r: {relationship_r}\")\n",
        "        print(f\"Node c: {node_c}\")\n"
      ],
      "metadata": {
        "colab": {
          "base_uri": "https://localhost:8080/"
        },
        "id": "pQx_Fw2qUpMV",
        "outputId": "81647cbe-0736-4a7e-fa53-a1b91ddbdcb1"
      },
      "execution_count": 723,
      "outputs": [
        {
          "output_type": "stream",
          "name": "stdout",
          "text": [
            "Node p: <Node element_id='4:b53598fd-bb34-4ae1-b7e7-9aeddd5be881:16' labels=frozenset({'Selecao'}) properties={'cores': ['Verde', 'Amarelo'], 'nome': 'Brasil'}>\n",
            "Relationship r: <Relationship element_id='5:b53598fd-bb34-4ae1-b7e7-9aeddd5be881:1152922604118474768' nodes=(<Node element_id='4:b53598fd-bb34-4ae1-b7e7-9aeddd5be881:16' labels=frozenset({'Selecao'}) properties={'cores': ['Verde', 'Amarelo'], 'nome': 'Brasil'}>, <Node element_id='4:b53598fd-bb34-4ae1-b7e7-9aeddd5be881:29' labels=frozenset({'Continente'}) properties={'nome': 'America do Sul'}>) type='Pertence' properties={}>\n",
            "Node c: <Node element_id='4:b53598fd-bb34-4ae1-b7e7-9aeddd5be881:29' labels=frozenset({'Continente'}) properties={'nome': 'America do Sul'}>\n",
            "Node p: <Node element_id='4:b53598fd-bb34-4ae1-b7e7-9aeddd5be881:17' labels=frozenset({'Selecao'}) properties={'cores': ['Azul', 'Branco'], 'nome': 'Argentina'}>\n",
            "Relationship r: <Relationship element_id='5:b53598fd-bb34-4ae1-b7e7-9aeddd5be881:1152922604118474769' nodes=(<Node element_id='4:b53598fd-bb34-4ae1-b7e7-9aeddd5be881:17' labels=frozenset({'Selecao'}) properties={'cores': ['Azul', 'Branco'], 'nome': 'Argentina'}>, <Node element_id='4:b53598fd-bb34-4ae1-b7e7-9aeddd5be881:29' labels=frozenset({'Continente'}) properties={'nome': 'America do Sul'}>) type='Pertence' properties={}>\n",
            "Node c: <Node element_id='4:b53598fd-bb34-4ae1-b7e7-9aeddd5be881:29' labels=frozenset({'Continente'}) properties={'nome': 'America do Sul'}>\n",
            "Node p: <Node element_id='4:b53598fd-bb34-4ae1-b7e7-9aeddd5be881:18' labels=frozenset({'Selecao'}) properties={'cores': ['Azul', 'Branco'], 'nome': 'Uruguai'}>\n",
            "Relationship r: <Relationship element_id='5:b53598fd-bb34-4ae1-b7e7-9aeddd5be881:1152922604118474770' nodes=(<Node element_id='4:b53598fd-bb34-4ae1-b7e7-9aeddd5be881:18' labels=frozenset({'Selecao'}) properties={'cores': ['Azul', 'Branco'], 'nome': 'Uruguai'}>, <Node element_id='4:b53598fd-bb34-4ae1-b7e7-9aeddd5be881:29' labels=frozenset({'Continente'}) properties={'nome': 'America do Sul'}>) type='Pertence' properties={}>\n",
            "Node c: <Node element_id='4:b53598fd-bb34-4ae1-b7e7-9aeddd5be881:29' labels=frozenset({'Continente'}) properties={'nome': 'America do Sul'}>\n",
            "Node p: <Node element_id='4:b53598fd-bb34-4ae1-b7e7-9aeddd5be881:19' labels=frozenset({'Selecao'}) properties={'cores': ['Azul', 'Branco', 'Vermelho'], 'nome': 'Franca'}>\n",
            "Relationship r: <Relationship element_id='5:b53598fd-bb34-4ae1-b7e7-9aeddd5be881:1152922604118474771' nodes=(<Node element_id='4:b53598fd-bb34-4ae1-b7e7-9aeddd5be881:19' labels=frozenset({'Selecao'}) properties={'cores': ['Azul', 'Branco', 'Vermelho'], 'nome': 'Franca'}>, <Node element_id='4:b53598fd-bb34-4ae1-b7e7-9aeddd5be881:32' labels=frozenset({'Continente'}) properties={'nome': 'Europa'}>) type='Pertence' properties={}>\n",
            "Node c: <Node element_id='4:b53598fd-bb34-4ae1-b7e7-9aeddd5be881:32' labels=frozenset({'Continente'}) properties={'nome': 'Europa'}>\n",
            "Node p: <Node element_id='4:b53598fd-bb34-4ae1-b7e7-9aeddd5be881:20' labels=frozenset({'Selecao'}) properties={'cores': ['Amarelo', 'Vermelho'], 'nome': 'Espanha'}>\n",
            "Relationship r: <Relationship element_id='5:b53598fd-bb34-4ae1-b7e7-9aeddd5be881:1152922604118474772' nodes=(<Node element_id='4:b53598fd-bb34-4ae1-b7e7-9aeddd5be881:20' labels=frozenset({'Selecao'}) properties={'cores': ['Amarelo', 'Vermelho'], 'nome': 'Espanha'}>, <Node element_id='4:b53598fd-bb34-4ae1-b7e7-9aeddd5be881:32' labels=frozenset({'Continente'}) properties={'nome': 'Europa'}>) type='Pertence' properties={}>\n",
            "Node c: <Node element_id='4:b53598fd-bb34-4ae1-b7e7-9aeddd5be881:32' labels=frozenset({'Continente'}) properties={'nome': 'Europa'}>\n",
            "Node p: <Node element_id='4:b53598fd-bb34-4ae1-b7e7-9aeddd5be881:21' labels=frozenset({'Selecao'}) properties={'cores': ['Amarelo', 'Vermelho', 'Preto'], 'nome': 'Alemanha'}>\n",
            "Relationship r: <Relationship element_id='5:b53598fd-bb34-4ae1-b7e7-9aeddd5be881:1152922604118474773' nodes=(<Node element_id='4:b53598fd-bb34-4ae1-b7e7-9aeddd5be881:21' labels=frozenset({'Selecao'}) properties={'cores': ['Amarelo', 'Vermelho', 'Preto'], 'nome': 'Alemanha'}>, <Node element_id='4:b53598fd-bb34-4ae1-b7e7-9aeddd5be881:32' labels=frozenset({'Continente'}) properties={'nome': 'Europa'}>) type='Pertence' properties={}>\n",
            "Node c: <Node element_id='4:b53598fd-bb34-4ae1-b7e7-9aeddd5be881:32' labels=frozenset({'Continente'}) properties={'nome': 'Europa'}>\n",
            "Node p: <Node element_id='4:b53598fd-bb34-4ae1-b7e7-9aeddd5be881:22' labels=frozenset({'Selecao'}) properties={'cores': ['Vermelho', 'Branco'], 'nome': 'Inglaterra'}>\n",
            "Relationship r: <Relationship element_id='5:b53598fd-bb34-4ae1-b7e7-9aeddd5be881:1152922604118474774' nodes=(<Node element_id='4:b53598fd-bb34-4ae1-b7e7-9aeddd5be881:22' labels=frozenset({'Selecao'}) properties={'cores': ['Vermelho', 'Branco'], 'nome': 'Inglaterra'}>, <Node element_id='4:b53598fd-bb34-4ae1-b7e7-9aeddd5be881:32' labels=frozenset({'Continente'}) properties={'nome': 'Europa'}>) type='Pertence' properties={}>\n",
            "Node c: <Node element_id='4:b53598fd-bb34-4ae1-b7e7-9aeddd5be881:32' labels=frozenset({'Continente'}) properties={'nome': 'Europa'}>\n",
            "Node p: <Node element_id='4:b53598fd-bb34-4ae1-b7e7-9aeddd5be881:23' labels=frozenset({'Selecao'}) properties={'cores': ['Verde', 'Vermelho', 'Branco'], 'nome': 'Italia'}>\n",
            "Relationship r: <Relationship element_id='5:b53598fd-bb34-4ae1-b7e7-9aeddd5be881:1152922604118474775' nodes=(<Node element_id='4:b53598fd-bb34-4ae1-b7e7-9aeddd5be881:23' labels=frozenset({'Selecao'}) properties={'cores': ['Verde', 'Vermelho', 'Branco'], 'nome': 'Italia'}>, <Node element_id='4:b53598fd-bb34-4ae1-b7e7-9aeddd5be881:32' labels=frozenset({'Continente'}) properties={'nome': 'Europa'}>) type='Pertence' properties={}>\n",
            "Node c: <Node element_id='4:b53598fd-bb34-4ae1-b7e7-9aeddd5be881:32' labels=frozenset({'Continente'}) properties={'nome': 'Europa'}>\n",
            "Node p: <Node element_id='4:b53598fd-bb34-4ae1-b7e7-9aeddd5be881:24' labels=frozenset({'Selecao'}) properties={'cores': ['Azul', 'Vermelho', 'Branco'], 'nome': 'Estados Unidos'}>\n",
            "Relationship r: <Relationship element_id='5:b53598fd-bb34-4ae1-b7e7-9aeddd5be881:1152922604118474776' nodes=(<Node element_id='4:b53598fd-bb34-4ae1-b7e7-9aeddd5be881:24' labels=frozenset({'Selecao'}) properties={'cores': ['Azul', 'Vermelho', 'Branco'], 'nome': 'Estados Unidos'}>, <Node element_id='4:b53598fd-bb34-4ae1-b7e7-9aeddd5be881:30' labels=frozenset({'Continente'}) properties={'nome': 'America do Norte'}>) type='Pertence' properties={}>\n",
            "Node c: <Node element_id='4:b53598fd-bb34-4ae1-b7e7-9aeddd5be881:30' labels=frozenset({'Continente'}) properties={'nome': 'America do Norte'}>\n",
            "Node p: <Node element_id='4:b53598fd-bb34-4ae1-b7e7-9aeddd5be881:25' labels=frozenset({'Selecao'}) properties={'cores': ['Vermelho', 'Branco'], 'nome': 'Japao'}>\n",
            "Relationship r: <Relationship element_id='5:b53598fd-bb34-4ae1-b7e7-9aeddd5be881:1152922604118474777' nodes=(<Node element_id='4:b53598fd-bb34-4ae1-b7e7-9aeddd5be881:25' labels=frozenset({'Selecao'}) properties={'cores': ['Vermelho', 'Branco'], 'nome': 'Japao'}>, <Node element_id='4:b53598fd-bb34-4ae1-b7e7-9aeddd5be881:1' labels=frozenset({'Continente'}) properties={'nome': 'Asia'}>) type='Pertence' properties={}>\n",
            "Node c: <Node element_id='4:b53598fd-bb34-4ae1-b7e7-9aeddd5be881:1' labels=frozenset({'Continente'}) properties={'nome': 'Asia'}>\n",
            "Node p: <Node element_id='4:b53598fd-bb34-4ae1-b7e7-9aeddd5be881:26' labels=frozenset({'Selecao'}) properties={'cores': ['Verde', 'Branco'], 'nome': 'Nigeria'}>\n",
            "Relationship r: <Relationship element_id='5:b53598fd-bb34-4ae1-b7e7-9aeddd5be881:1152922604118474778' nodes=(<Node element_id='4:b53598fd-bb34-4ae1-b7e7-9aeddd5be881:26' labels=frozenset({'Selecao'}) properties={'cores': ['Verde', 'Branco'], 'nome': 'Nigeria'}>, <Node element_id='4:b53598fd-bb34-4ae1-b7e7-9aeddd5be881:0' labels=frozenset({'Continente'}) properties={'nome': 'Africa'}>) type='Pertence' properties={}>\n",
            "Node c: <Node element_id='4:b53598fd-bb34-4ae1-b7e7-9aeddd5be881:0' labels=frozenset({'Continente'}) properties={'nome': 'Africa'}>\n",
            "Node p: <Node element_id='4:b53598fd-bb34-4ae1-b7e7-9aeddd5be881:27' labels=frozenset({'Selecao'}) properties={'cores': ['Vermelho', 'Branco'], 'nome': 'Canada'}>\n",
            "Relationship r: <Relationship element_id='5:b53598fd-bb34-4ae1-b7e7-9aeddd5be881:1152922604118474779' nodes=(<Node element_id='4:b53598fd-bb34-4ae1-b7e7-9aeddd5be881:27' labels=frozenset({'Selecao'}) properties={'cores': ['Vermelho', 'Branco'], 'nome': 'Canada'}>, <Node element_id='4:b53598fd-bb34-4ae1-b7e7-9aeddd5be881:30' labels=frozenset({'Continente'}) properties={'nome': 'America do Norte'}>) type='Pertence' properties={}>\n",
            "Node c: <Node element_id='4:b53598fd-bb34-4ae1-b7e7-9aeddd5be881:30' labels=frozenset({'Continente'}) properties={'nome': 'America do Norte'}>\n",
            "Node p: <Node element_id='4:b53598fd-bb34-4ae1-b7e7-9aeddd5be881:28' labels=frozenset({'Selecao'}) properties={'cores': ['Amarelo', 'Vermelho', 'Azul'], 'nome': 'Colombia'}>\n",
            "Relationship r: <Relationship element_id='5:b53598fd-bb34-4ae1-b7e7-9aeddd5be881:1152922604118474780' nodes=(<Node element_id='4:b53598fd-bb34-4ae1-b7e7-9aeddd5be881:28' labels=frozenset({'Selecao'}) properties={'cores': ['Amarelo', 'Vermelho', 'Azul'], 'nome': 'Colombia'}>, <Node element_id='4:b53598fd-bb34-4ae1-b7e7-9aeddd5be881:29' labels=frozenset({'Continente'}) properties={'nome': 'America do Sul'}>) type='Pertence' properties={}>\n",
            "Node c: <Node element_id='4:b53598fd-bb34-4ae1-b7e7-9aeddd5be881:29' labels=frozenset({'Continente'}) properties={'nome': 'America do Sul'}>\n",
            "Node p: <Node element_id='4:b53598fd-bb34-4ae1-b7e7-9aeddd5be881:26' labels=frozenset({'Selecao'}) properties={'cores': ['Verde', 'Branco'], 'nome': 'Nigeria'}>\n",
            "Relationship r: <Relationship element_id='5:b53598fd-bb34-4ae1-b7e7-9aeddd5be881:1152923703630102528' nodes=(<Node element_id='4:b53598fd-bb34-4ae1-b7e7-9aeddd5be881:0' labels=frozenset({'Continente'}) properties={'nome': 'Africa'}>, <Node element_id='4:b53598fd-bb34-4ae1-b7e7-9aeddd5be881:26' labels=frozenset({'Selecao'}) properties={'cores': ['Verde', 'Branco'], 'nome': 'Nigeria'}>) type='Contem' properties={}>\n",
            "Node c: <Node element_id='4:b53598fd-bb34-4ae1-b7e7-9aeddd5be881:0' labels=frozenset({'Continente'}) properties={'nome': 'Africa'}>\n",
            "Node p: <Node element_id='4:b53598fd-bb34-4ae1-b7e7-9aeddd5be881:25' labels=frozenset({'Selecao'}) properties={'cores': ['Vermelho', 'Branco'], 'nome': 'Japao'}>\n",
            "Relationship r: <Relationship element_id='5:b53598fd-bb34-4ae1-b7e7-9aeddd5be881:1152923703630102529' nodes=(<Node element_id='4:b53598fd-bb34-4ae1-b7e7-9aeddd5be881:1' labels=frozenset({'Continente'}) properties={'nome': 'Asia'}>, <Node element_id='4:b53598fd-bb34-4ae1-b7e7-9aeddd5be881:25' labels=frozenset({'Selecao'}) properties={'cores': ['Vermelho', 'Branco'], 'nome': 'Japao'}>) type='Contem' properties={}>\n",
            "Node c: <Node element_id='4:b53598fd-bb34-4ae1-b7e7-9aeddd5be881:1' labels=frozenset({'Continente'}) properties={'nome': 'Asia'}>\n",
            "Node p: <Node element_id='4:b53598fd-bb34-4ae1-b7e7-9aeddd5be881:16' labels=frozenset({'Selecao'}) properties={'cores': ['Verde', 'Amarelo'], 'nome': 'Brasil'}>\n",
            "Relationship r: <Relationship element_id='5:b53598fd-bb34-4ae1-b7e7-9aeddd5be881:1157427303257473053' nodes=(<Node element_id='4:b53598fd-bb34-4ae1-b7e7-9aeddd5be881:29' labels=frozenset({'Continente'}) properties={'nome': 'America do Sul'}>, <Node element_id='4:b53598fd-bb34-4ae1-b7e7-9aeddd5be881:16' labels=frozenset({'Selecao'}) properties={'cores': ['Verde', 'Amarelo'], 'nome': 'Brasil'}>) type='Contem' properties={}>\n",
            "Node c: <Node element_id='4:b53598fd-bb34-4ae1-b7e7-9aeddd5be881:29' labels=frozenset({'Continente'}) properties={'nome': 'America do Sul'}>\n",
            "Node p: <Node element_id='4:b53598fd-bb34-4ae1-b7e7-9aeddd5be881:17' labels=frozenset({'Selecao'}) properties={'cores': ['Azul', 'Branco'], 'nome': 'Argentina'}>\n",
            "Relationship r: <Relationship element_id='5:b53598fd-bb34-4ae1-b7e7-9aeddd5be881:1159679103071158301' nodes=(<Node element_id='4:b53598fd-bb34-4ae1-b7e7-9aeddd5be881:29' labels=frozenset({'Continente'}) properties={'nome': 'America do Sul'}>, <Node element_id='4:b53598fd-bb34-4ae1-b7e7-9aeddd5be881:17' labels=frozenset({'Selecao'}) properties={'cores': ['Azul', 'Branco'], 'nome': 'Argentina'}>) type='Contem' properties={}>\n",
            "Node c: <Node element_id='4:b53598fd-bb34-4ae1-b7e7-9aeddd5be881:29' labels=frozenset({'Continente'}) properties={'nome': 'America do Sul'}>\n",
            "Node p: <Node element_id='4:b53598fd-bb34-4ae1-b7e7-9aeddd5be881:18' labels=frozenset({'Selecao'}) properties={'cores': ['Azul', 'Branco'], 'nome': 'Uruguai'}>\n",
            "Relationship r: <Relationship element_id='5:b53598fd-bb34-4ae1-b7e7-9aeddd5be881:1161930902884843549' nodes=(<Node element_id='4:b53598fd-bb34-4ae1-b7e7-9aeddd5be881:29' labels=frozenset({'Continente'}) properties={'nome': 'America do Sul'}>, <Node element_id='4:b53598fd-bb34-4ae1-b7e7-9aeddd5be881:18' labels=frozenset({'Selecao'}) properties={'cores': ['Azul', 'Branco'], 'nome': 'Uruguai'}>) type='Contem' properties={}>\n",
            "Node c: <Node element_id='4:b53598fd-bb34-4ae1-b7e7-9aeddd5be881:29' labels=frozenset({'Continente'}) properties={'nome': 'America do Sul'}>\n",
            "Node p: <Node element_id='4:b53598fd-bb34-4ae1-b7e7-9aeddd5be881:28' labels=frozenset({'Selecao'}) properties={'cores': ['Amarelo', 'Vermelho', 'Azul'], 'nome': 'Colombia'}>\n",
            "Relationship r: <Relationship element_id='5:b53598fd-bb34-4ae1-b7e7-9aeddd5be881:1152923703630102557' nodes=(<Node element_id='4:b53598fd-bb34-4ae1-b7e7-9aeddd5be881:29' labels=frozenset({'Continente'}) properties={'nome': 'America do Sul'}>, <Node element_id='4:b53598fd-bb34-4ae1-b7e7-9aeddd5be881:28' labels=frozenset({'Selecao'}) properties={'cores': ['Amarelo', 'Vermelho', 'Azul'], 'nome': 'Colombia'}>) type='Contem' properties={}>\n",
            "Node c: <Node element_id='4:b53598fd-bb34-4ae1-b7e7-9aeddd5be881:29' labels=frozenset({'Continente'}) properties={'nome': 'America do Sul'}>\n",
            "Node p: <Node element_id='4:b53598fd-bb34-4ae1-b7e7-9aeddd5be881:24' labels=frozenset({'Selecao'}) properties={'cores': ['Azul', 'Vermelho', 'Branco'], 'nome': 'Estados Unidos'}>\n",
            "Relationship r: <Relationship element_id='5:b53598fd-bb34-4ae1-b7e7-9aeddd5be881:1152923703630102558' nodes=(<Node element_id='4:b53598fd-bb34-4ae1-b7e7-9aeddd5be881:30' labels=frozenset({'Continente'}) properties={'nome': 'America do Norte'}>, <Node element_id='4:b53598fd-bb34-4ae1-b7e7-9aeddd5be881:24' labels=frozenset({'Selecao'}) properties={'cores': ['Azul', 'Vermelho', 'Branco'], 'nome': 'Estados Unidos'}>) type='Contem' properties={}>\n",
            "Node c: <Node element_id='4:b53598fd-bb34-4ae1-b7e7-9aeddd5be881:30' labels=frozenset({'Continente'}) properties={'nome': 'America do Norte'}>\n",
            "Node p: <Node element_id='4:b53598fd-bb34-4ae1-b7e7-9aeddd5be881:27' labels=frozenset({'Selecao'}) properties={'cores': ['Vermelho', 'Branco'], 'nome': 'Canada'}>\n",
            "Relationship r: <Relationship element_id='5:b53598fd-bb34-4ae1-b7e7-9aeddd5be881:1155175503443787806' nodes=(<Node element_id='4:b53598fd-bb34-4ae1-b7e7-9aeddd5be881:30' labels=frozenset({'Continente'}) properties={'nome': 'America do Norte'}>, <Node element_id='4:b53598fd-bb34-4ae1-b7e7-9aeddd5be881:27' labels=frozenset({'Selecao'}) properties={'cores': ['Vermelho', 'Branco'], 'nome': 'Canada'}>) type='Contem' properties={}>\n",
            "Node c: <Node element_id='4:b53598fd-bb34-4ae1-b7e7-9aeddd5be881:30' labels=frozenset({'Continente'}) properties={'nome': 'America do Norte'}>\n",
            "Node p: <Node element_id='4:b53598fd-bb34-4ae1-b7e7-9aeddd5be881:19' labels=frozenset({'Selecao'}) properties={'cores': ['Azul', 'Branco', 'Vermelho'], 'nome': 'Franca'}>\n",
            "Relationship r: <Relationship element_id='5:b53598fd-bb34-4ae1-b7e7-9aeddd5be881:1152923703630102560' nodes=(<Node element_id='4:b53598fd-bb34-4ae1-b7e7-9aeddd5be881:32' labels=frozenset({'Continente'}) properties={'nome': 'Europa'}>, <Node element_id='4:b53598fd-bb34-4ae1-b7e7-9aeddd5be881:19' labels=frozenset({'Selecao'}) properties={'cores': ['Azul', 'Branco', 'Vermelho'], 'nome': 'Franca'}>) type='Contem' properties={}>\n",
            "Node c: <Node element_id='4:b53598fd-bb34-4ae1-b7e7-9aeddd5be881:32' labels=frozenset({'Continente'}) properties={'nome': 'Europa'}>\n",
            "Node p: <Node element_id='4:b53598fd-bb34-4ae1-b7e7-9aeddd5be881:20' labels=frozenset({'Selecao'}) properties={'cores': ['Amarelo', 'Vermelho'], 'nome': 'Espanha'}>\n",
            "Relationship r: <Relationship element_id='5:b53598fd-bb34-4ae1-b7e7-9aeddd5be881:1155175503443787808' nodes=(<Node element_id='4:b53598fd-bb34-4ae1-b7e7-9aeddd5be881:32' labels=frozenset({'Continente'}) properties={'nome': 'Europa'}>, <Node element_id='4:b53598fd-bb34-4ae1-b7e7-9aeddd5be881:20' labels=frozenset({'Selecao'}) properties={'cores': ['Amarelo', 'Vermelho'], 'nome': 'Espanha'}>) type='Contem' properties={}>\n",
            "Node c: <Node element_id='4:b53598fd-bb34-4ae1-b7e7-9aeddd5be881:32' labels=frozenset({'Continente'}) properties={'nome': 'Europa'}>\n",
            "Node p: <Node element_id='4:b53598fd-bb34-4ae1-b7e7-9aeddd5be881:21' labels=frozenset({'Selecao'}) properties={'cores': ['Amarelo', 'Vermelho', 'Preto'], 'nome': 'Alemanha'}>\n",
            "Relationship r: <Relationship element_id='5:b53598fd-bb34-4ae1-b7e7-9aeddd5be881:1157427303257473056' nodes=(<Node element_id='4:b53598fd-bb34-4ae1-b7e7-9aeddd5be881:32' labels=frozenset({'Continente'}) properties={'nome': 'Europa'}>, <Node element_id='4:b53598fd-bb34-4ae1-b7e7-9aeddd5be881:21' labels=frozenset({'Selecao'}) properties={'cores': ['Amarelo', 'Vermelho', 'Preto'], 'nome': 'Alemanha'}>) type='Contem' properties={}>\n",
            "Node c: <Node element_id='4:b53598fd-bb34-4ae1-b7e7-9aeddd5be881:32' labels=frozenset({'Continente'}) properties={'nome': 'Europa'}>\n",
            "Node p: <Node element_id='4:b53598fd-bb34-4ae1-b7e7-9aeddd5be881:22' labels=frozenset({'Selecao'}) properties={'cores': ['Vermelho', 'Branco'], 'nome': 'Inglaterra'}>\n",
            "Relationship r: <Relationship element_id='5:b53598fd-bb34-4ae1-b7e7-9aeddd5be881:1159679103071158304' nodes=(<Node element_id='4:b53598fd-bb34-4ae1-b7e7-9aeddd5be881:32' labels=frozenset({'Continente'}) properties={'nome': 'Europa'}>, <Node element_id='4:b53598fd-bb34-4ae1-b7e7-9aeddd5be881:22' labels=frozenset({'Selecao'}) properties={'cores': ['Vermelho', 'Branco'], 'nome': 'Inglaterra'}>) type='Contem' properties={}>\n",
            "Node c: <Node element_id='4:b53598fd-bb34-4ae1-b7e7-9aeddd5be881:32' labels=frozenset({'Continente'}) properties={'nome': 'Europa'}>\n",
            "Node p: <Node element_id='4:b53598fd-bb34-4ae1-b7e7-9aeddd5be881:23' labels=frozenset({'Selecao'}) properties={'cores': ['Verde', 'Vermelho', 'Branco'], 'nome': 'Italia'}>\n",
            "Relationship r: <Relationship element_id='5:b53598fd-bb34-4ae1-b7e7-9aeddd5be881:1161930902884843552' nodes=(<Node element_id='4:b53598fd-bb34-4ae1-b7e7-9aeddd5be881:32' labels=frozenset({'Continente'}) properties={'nome': 'Europa'}>, <Node element_id='4:b53598fd-bb34-4ae1-b7e7-9aeddd5be881:23' labels=frozenset({'Selecao'}) properties={'cores': ['Verde', 'Vermelho', 'Branco'], 'nome': 'Italia'}>) type='Contem' properties={}>\n",
            "Node c: <Node element_id='4:b53598fd-bb34-4ae1-b7e7-9aeddd5be881:32' labels=frozenset({'Continente'}) properties={'nome': 'Europa'}>\n"
          ]
        }
      ]
    },
    {
      "cell_type": "markdown",
      "source": [
        "- Vamos avançar mais um pouquinho\n",
        "\n",
        "Vamos criar outro node:"
      ],
      "metadata": {
        "id": "Dr2TqyTNA6fa"
      }
    },
    {
      "cell_type": "code",
      "source": [
        "with driver.session() as session:\n",
        "    session.write_transaction(lambda tx: tx.run(\"CREATE (:Selecao {nome: 'Portugal', cores: ['Verde, Vermelho', 'Amarelo', 'Branco', 'Azul']})\"))"
      ],
      "metadata": {
        "colab": {
          "base_uri": "https://localhost:8080/"
        },
        "id": "CpYL8w8bWwRa",
        "outputId": "3e64535f-a428-44be-c17c-76984c144f1d"
      },
      "execution_count": 724,
      "outputs": [
        {
          "output_type": "stream",
          "name": "stderr",
          "text": [
            "<ipython-input-724-a68b1bf48837>:2: DeprecationWarning: write_transaction has been renamed to execute_write\n",
            "  session.write_transaction(lambda tx: tx.run(\"CREATE (:Selecao {nome: 'Portugal', cores: ['Verde, Vermelho', 'Amarelo', 'Branco', 'Azul']})\"))\n"
          ]
        }
      ]
    },
    {
      "cell_type": "markdown",
      "source": [
        "- Vamos ver se entrou o novo node?"
      ],
      "metadata": {
        "id": "VMyCrfSRXDZP"
      }
    },
    {
      "cell_type": "code",
      "source": [
        "q1 = \"MATCH (x) RETURN x\"\n",
        "\n",
        "# Abrir uma sessão e executar a consulta\n",
        "with driver.session() as session:\n",
        "    result = session.run(q1)\n",
        "\n",
        "    # Processar os resultados\n",
        "    for record in result:\n",
        "        node = record[\"x\"]\n",
        "        print(node)"
      ],
      "metadata": {
        "colab": {
          "base_uri": "https://localhost:8080/"
        },
        "id": "nXGMZco1XFhf",
        "outputId": "d93be62c-fcf9-4ec2-894f-a876b1465ee5"
      },
      "execution_count": 725,
      "outputs": [
        {
          "output_type": "stream",
          "name": "stdout",
          "text": [
            "<Node element_id='4:b53598fd-bb34-4ae1-b7e7-9aeddd5be881:0' labels=frozenset({'Continente'}) properties={'nome': 'Africa'}>\n",
            "<Node element_id='4:b53598fd-bb34-4ae1-b7e7-9aeddd5be881:1' labels=frozenset({'Continente'}) properties={'nome': 'Asia'}>\n",
            "<Node element_id='4:b53598fd-bb34-4ae1-b7e7-9aeddd5be881:4' labels=frozenset({'Selecao'}) properties={'cores': ['Verde, Vermelho', 'Amarelo', 'Branco', 'Azul'], 'nome': 'Portugal'}>\n",
            "<Node element_id='4:b53598fd-bb34-4ae1-b7e7-9aeddd5be881:16' labels=frozenset({'Selecao'}) properties={'cores': ['Verde', 'Amarelo'], 'nome': 'Brasil'}>\n",
            "<Node element_id='4:b53598fd-bb34-4ae1-b7e7-9aeddd5be881:17' labels=frozenset({'Selecao'}) properties={'cores': ['Azul', 'Branco'], 'nome': 'Argentina'}>\n",
            "<Node element_id='4:b53598fd-bb34-4ae1-b7e7-9aeddd5be881:18' labels=frozenset({'Selecao'}) properties={'cores': ['Azul', 'Branco'], 'nome': 'Uruguai'}>\n",
            "<Node element_id='4:b53598fd-bb34-4ae1-b7e7-9aeddd5be881:19' labels=frozenset({'Selecao'}) properties={'cores': ['Azul', 'Branco', 'Vermelho'], 'nome': 'Franca'}>\n",
            "<Node element_id='4:b53598fd-bb34-4ae1-b7e7-9aeddd5be881:20' labels=frozenset({'Selecao'}) properties={'cores': ['Amarelo', 'Vermelho'], 'nome': 'Espanha'}>\n",
            "<Node element_id='4:b53598fd-bb34-4ae1-b7e7-9aeddd5be881:21' labels=frozenset({'Selecao'}) properties={'cores': ['Amarelo', 'Vermelho', 'Preto'], 'nome': 'Alemanha'}>\n",
            "<Node element_id='4:b53598fd-bb34-4ae1-b7e7-9aeddd5be881:22' labels=frozenset({'Selecao'}) properties={'cores': ['Vermelho', 'Branco'], 'nome': 'Inglaterra'}>\n",
            "<Node element_id='4:b53598fd-bb34-4ae1-b7e7-9aeddd5be881:23' labels=frozenset({'Selecao'}) properties={'cores': ['Verde', 'Vermelho', 'Branco'], 'nome': 'Italia'}>\n",
            "<Node element_id='4:b53598fd-bb34-4ae1-b7e7-9aeddd5be881:24' labels=frozenset({'Selecao'}) properties={'cores': ['Azul', 'Vermelho', 'Branco'], 'nome': 'Estados Unidos'}>\n",
            "<Node element_id='4:b53598fd-bb34-4ae1-b7e7-9aeddd5be881:25' labels=frozenset({'Selecao'}) properties={'cores': ['Vermelho', 'Branco'], 'nome': 'Japao'}>\n",
            "<Node element_id='4:b53598fd-bb34-4ae1-b7e7-9aeddd5be881:26' labels=frozenset({'Selecao'}) properties={'cores': ['Verde', 'Branco'], 'nome': 'Nigeria'}>\n",
            "<Node element_id='4:b53598fd-bb34-4ae1-b7e7-9aeddd5be881:27' labels=frozenset({'Selecao'}) properties={'cores': ['Vermelho', 'Branco'], 'nome': 'Canada'}>\n",
            "<Node element_id='4:b53598fd-bb34-4ae1-b7e7-9aeddd5be881:28' labels=frozenset({'Selecao'}) properties={'cores': ['Amarelo', 'Vermelho', 'Azul'], 'nome': 'Colombia'}>\n",
            "<Node element_id='4:b53598fd-bb34-4ae1-b7e7-9aeddd5be881:29' labels=frozenset({'Continente'}) properties={'nome': 'America do Sul'}>\n",
            "<Node element_id='4:b53598fd-bb34-4ae1-b7e7-9aeddd5be881:30' labels=frozenset({'Continente'}) properties={'nome': 'America do Norte'}>\n",
            "<Node element_id='4:b53598fd-bb34-4ae1-b7e7-9aeddd5be881:32' labels=frozenset({'Continente'}) properties={'nome': 'Europa'}>\n"
          ]
        }
      ]
    },
    {
      "cell_type": "markdown",
      "source": [
        "- Vamos criar um relacionamento"
      ],
      "metadata": {
        "id": "rFrppzOFXMjS"
      }
    },
    {
      "cell_type": "code",
      "source": [
        "with driver.session() as session:\n",
        "    session.write_transaction(lambda tx: tx.run(\"MATCH (p: Selecao), (c:Continente) WHERE p.nome = 'Portugal' and c.nome = 'Europa' CREATE (p)-[r:Pertence]->(c) RETURN p,c,r\"))"
      ],
      "metadata": {
        "colab": {
          "base_uri": "https://localhost:8080/"
        },
        "id": "5G3E9tMhXQAy",
        "outputId": "5dfb55af-6928-4676-90d7-3e6ab921f9c5"
      },
      "execution_count": 726,
      "outputs": [
        {
          "output_type": "stream",
          "name": "stderr",
          "text": [
            "<ipython-input-726-8d3a34829e7e>:2: DeprecationWarning: write_transaction has been renamed to execute_write\n",
            "  session.write_transaction(lambda tx: tx.run(\"MATCH (p: Selecao), (c:Continente) WHERE p.nome = 'Portugal' and c.nome = 'Europa' CREATE (p)-[r:Pertence]->(c) RETURN p,c,r\"))\n"
          ]
        }
      ]
    },
    {
      "cell_type": "markdown",
      "source": [
        "- Criando o relacionamento do outro lado"
      ],
      "metadata": {
        "id": "mkM-0m-LXskc"
      }
    },
    {
      "cell_type": "code",
      "source": [
        "with driver.session() as session:\n",
        "    session.write_transaction(lambda tx: tx.run(\"MATCH (p: Selecao), (c:Continente) WHERE p.nome = 'Portugal' and c.nome = 'Europa' CREATE (p)<-[r:Contem]-(c) RETURN p,c,r\"))"
      ],
      "metadata": {
        "colab": {
          "base_uri": "https://localhost:8080/"
        },
        "id": "vSFL6ut-Xu1s",
        "outputId": "4f324617-cc2b-4da9-e0f3-e06c938a3eff"
      },
      "execution_count": 727,
      "outputs": [
        {
          "output_type": "stream",
          "name": "stderr",
          "text": [
            "<ipython-input-727-2b5daf031732>:2: DeprecationWarning: write_transaction has been renamed to execute_write\n",
            "  session.write_transaction(lambda tx: tx.run(\"MATCH (p: Selecao), (c:Continente) WHERE p.nome = 'Portugal' and c.nome = 'Europa' CREATE (p)<-[r:Contem]-(c) RETURN p,c,r\"))\n"
          ]
        }
      ]
    },
    {
      "cell_type": "markdown",
      "source": [
        "- Vamos verificar os nodes novamente:"
      ],
      "metadata": {
        "id": "pJBW6kSEcIWV"
      }
    },
    {
      "cell_type": "code",
      "source": [
        "q1 = \"MATCH (x) RETURN x\"\n",
        "\n",
        "# Abrir uma sessão e executar a consulta\n",
        "with driver.session() as session:\n",
        "    result = session.run(q1)\n",
        "\n",
        "    # Processar os resultados\n",
        "    for record in result:\n",
        "        node = record[\"x\"]\n",
        "        print(node)"
      ],
      "metadata": {
        "colab": {
          "base_uri": "https://localhost:8080/"
        },
        "id": "43Tc2V6NcKOW",
        "outputId": "f14fb2fd-f785-4913-dfb8-28ce42723dc2"
      },
      "execution_count": 728,
      "outputs": [
        {
          "output_type": "stream",
          "name": "stdout",
          "text": [
            "<Node element_id='4:b53598fd-bb34-4ae1-b7e7-9aeddd5be881:0' labels=frozenset({'Continente'}) properties={'nome': 'Africa'}>\n",
            "<Node element_id='4:b53598fd-bb34-4ae1-b7e7-9aeddd5be881:1' labels=frozenset({'Continente'}) properties={'nome': 'Asia'}>\n",
            "<Node element_id='4:b53598fd-bb34-4ae1-b7e7-9aeddd5be881:4' labels=frozenset({'Selecao'}) properties={'cores': ['Verde, Vermelho', 'Amarelo', 'Branco', 'Azul'], 'nome': 'Portugal'}>\n",
            "<Node element_id='4:b53598fd-bb34-4ae1-b7e7-9aeddd5be881:16' labels=frozenset({'Selecao'}) properties={'cores': ['Verde', 'Amarelo'], 'nome': 'Brasil'}>\n",
            "<Node element_id='4:b53598fd-bb34-4ae1-b7e7-9aeddd5be881:17' labels=frozenset({'Selecao'}) properties={'cores': ['Azul', 'Branco'], 'nome': 'Argentina'}>\n",
            "<Node element_id='4:b53598fd-bb34-4ae1-b7e7-9aeddd5be881:18' labels=frozenset({'Selecao'}) properties={'cores': ['Azul', 'Branco'], 'nome': 'Uruguai'}>\n",
            "<Node element_id='4:b53598fd-bb34-4ae1-b7e7-9aeddd5be881:19' labels=frozenset({'Selecao'}) properties={'cores': ['Azul', 'Branco', 'Vermelho'], 'nome': 'Franca'}>\n",
            "<Node element_id='4:b53598fd-bb34-4ae1-b7e7-9aeddd5be881:20' labels=frozenset({'Selecao'}) properties={'cores': ['Amarelo', 'Vermelho'], 'nome': 'Espanha'}>\n",
            "<Node element_id='4:b53598fd-bb34-4ae1-b7e7-9aeddd5be881:21' labels=frozenset({'Selecao'}) properties={'cores': ['Amarelo', 'Vermelho', 'Preto'], 'nome': 'Alemanha'}>\n",
            "<Node element_id='4:b53598fd-bb34-4ae1-b7e7-9aeddd5be881:22' labels=frozenset({'Selecao'}) properties={'cores': ['Vermelho', 'Branco'], 'nome': 'Inglaterra'}>\n",
            "<Node element_id='4:b53598fd-bb34-4ae1-b7e7-9aeddd5be881:23' labels=frozenset({'Selecao'}) properties={'cores': ['Verde', 'Vermelho', 'Branco'], 'nome': 'Italia'}>\n",
            "<Node element_id='4:b53598fd-bb34-4ae1-b7e7-9aeddd5be881:24' labels=frozenset({'Selecao'}) properties={'cores': ['Azul', 'Vermelho', 'Branco'], 'nome': 'Estados Unidos'}>\n",
            "<Node element_id='4:b53598fd-bb34-4ae1-b7e7-9aeddd5be881:25' labels=frozenset({'Selecao'}) properties={'cores': ['Vermelho', 'Branco'], 'nome': 'Japao'}>\n",
            "<Node element_id='4:b53598fd-bb34-4ae1-b7e7-9aeddd5be881:26' labels=frozenset({'Selecao'}) properties={'cores': ['Verde', 'Branco'], 'nome': 'Nigeria'}>\n",
            "<Node element_id='4:b53598fd-bb34-4ae1-b7e7-9aeddd5be881:27' labels=frozenset({'Selecao'}) properties={'cores': ['Vermelho', 'Branco'], 'nome': 'Canada'}>\n",
            "<Node element_id='4:b53598fd-bb34-4ae1-b7e7-9aeddd5be881:28' labels=frozenset({'Selecao'}) properties={'cores': ['Amarelo', 'Vermelho', 'Azul'], 'nome': 'Colombia'}>\n",
            "<Node element_id='4:b53598fd-bb34-4ae1-b7e7-9aeddd5be881:29' labels=frozenset({'Continente'}) properties={'nome': 'America do Sul'}>\n",
            "<Node element_id='4:b53598fd-bb34-4ae1-b7e7-9aeddd5be881:30' labels=frozenset({'Continente'}) properties={'nome': 'America do Norte'}>\n",
            "<Node element_id='4:b53598fd-bb34-4ae1-b7e7-9aeddd5be881:32' labels=frozenset({'Continente'}) properties={'nome': 'Europa'}>\n"
          ]
        }
      ]
    },
    {
      "cell_type": "markdown",
      "source": [
        "- Vamos ver como ficaram os relacionamentos:"
      ],
      "metadata": {
        "id": "Mid283fNcNx6"
      }
    },
    {
      "cell_type": "code",
      "source": [
        "q1 = \"MATCH (p:Selecao) OPTIONAL MATCH (p)-[r:Pertence]->(c:Continente) RETURN p, c, r UNION MATCH (c:Continente) OPTIONAL MATCH (c)-[r:Contem]->(p:Selecao) RETURN p, c, r\"\n",
        "\n",
        "# Abrir uma sessão e executar a consulta\n",
        "with driver.session() as session:\n",
        "    result = session.run(q1)\n",
        "\n",
        "    # Processar os resultados\n",
        "    for record in result:\n",
        "        node_p = record[\"p\"]\n",
        "        node_c = record[\"c\"]\n",
        "        relationship_r = record[\"r\"]\n",
        "\n",
        "        # Imprimir cada nó e relacionamento\n",
        "        print(f\"Node p: {node_p}\")\n",
        "        print(f\"Relationship r: {relationship_r}\")\n",
        "        print(f\"Node c: {node_c}\")\n"
      ],
      "metadata": {
        "colab": {
          "base_uri": "https://localhost:8080/"
        },
        "id": "AEzRIFCUcRY-",
        "outputId": "d2b46a96-49b4-4ab3-bf8f-90798ac3eb5c"
      },
      "execution_count": 729,
      "outputs": [
        {
          "output_type": "stream",
          "name": "stdout",
          "text": [
            "Node p: <Node element_id='4:b53598fd-bb34-4ae1-b7e7-9aeddd5be881:4' labels=frozenset({'Selecao'}) properties={'cores': ['Verde, Vermelho', 'Amarelo', 'Branco', 'Azul'], 'nome': 'Portugal'}>\n",
            "Relationship r: <Relationship element_id='5:b53598fd-bb34-4ae1-b7e7-9aeddd5be881:1152922604118474756' nodes=(<Node element_id='4:b53598fd-bb34-4ae1-b7e7-9aeddd5be881:4' labels=frozenset({'Selecao'}) properties={'cores': ['Verde, Vermelho', 'Amarelo', 'Branco', 'Azul'], 'nome': 'Portugal'}>, <Node element_id='4:b53598fd-bb34-4ae1-b7e7-9aeddd5be881:32' labels=frozenset({'Continente'}) properties={'nome': 'Europa'}>) type='Pertence' properties={}>\n",
            "Node c: <Node element_id='4:b53598fd-bb34-4ae1-b7e7-9aeddd5be881:32' labels=frozenset({'Continente'}) properties={'nome': 'Europa'}>\n",
            "Node p: <Node element_id='4:b53598fd-bb34-4ae1-b7e7-9aeddd5be881:16' labels=frozenset({'Selecao'}) properties={'cores': ['Verde', 'Amarelo'], 'nome': 'Brasil'}>\n",
            "Relationship r: <Relationship element_id='5:b53598fd-bb34-4ae1-b7e7-9aeddd5be881:1152922604118474768' nodes=(<Node element_id='4:b53598fd-bb34-4ae1-b7e7-9aeddd5be881:16' labels=frozenset({'Selecao'}) properties={'cores': ['Verde', 'Amarelo'], 'nome': 'Brasil'}>, <Node element_id='4:b53598fd-bb34-4ae1-b7e7-9aeddd5be881:29' labels=frozenset({'Continente'}) properties={'nome': 'America do Sul'}>) type='Pertence' properties={}>\n",
            "Node c: <Node element_id='4:b53598fd-bb34-4ae1-b7e7-9aeddd5be881:29' labels=frozenset({'Continente'}) properties={'nome': 'America do Sul'}>\n",
            "Node p: <Node element_id='4:b53598fd-bb34-4ae1-b7e7-9aeddd5be881:17' labels=frozenset({'Selecao'}) properties={'cores': ['Azul', 'Branco'], 'nome': 'Argentina'}>\n",
            "Relationship r: <Relationship element_id='5:b53598fd-bb34-4ae1-b7e7-9aeddd5be881:1152922604118474769' nodes=(<Node element_id='4:b53598fd-bb34-4ae1-b7e7-9aeddd5be881:17' labels=frozenset({'Selecao'}) properties={'cores': ['Azul', 'Branco'], 'nome': 'Argentina'}>, <Node element_id='4:b53598fd-bb34-4ae1-b7e7-9aeddd5be881:29' labels=frozenset({'Continente'}) properties={'nome': 'America do Sul'}>) type='Pertence' properties={}>\n",
            "Node c: <Node element_id='4:b53598fd-bb34-4ae1-b7e7-9aeddd5be881:29' labels=frozenset({'Continente'}) properties={'nome': 'America do Sul'}>\n",
            "Node p: <Node element_id='4:b53598fd-bb34-4ae1-b7e7-9aeddd5be881:18' labels=frozenset({'Selecao'}) properties={'cores': ['Azul', 'Branco'], 'nome': 'Uruguai'}>\n",
            "Relationship r: <Relationship element_id='5:b53598fd-bb34-4ae1-b7e7-9aeddd5be881:1152922604118474770' nodes=(<Node element_id='4:b53598fd-bb34-4ae1-b7e7-9aeddd5be881:18' labels=frozenset({'Selecao'}) properties={'cores': ['Azul', 'Branco'], 'nome': 'Uruguai'}>, <Node element_id='4:b53598fd-bb34-4ae1-b7e7-9aeddd5be881:29' labels=frozenset({'Continente'}) properties={'nome': 'America do Sul'}>) type='Pertence' properties={}>\n",
            "Node c: <Node element_id='4:b53598fd-bb34-4ae1-b7e7-9aeddd5be881:29' labels=frozenset({'Continente'}) properties={'nome': 'America do Sul'}>\n",
            "Node p: <Node element_id='4:b53598fd-bb34-4ae1-b7e7-9aeddd5be881:19' labels=frozenset({'Selecao'}) properties={'cores': ['Azul', 'Branco', 'Vermelho'], 'nome': 'Franca'}>\n",
            "Relationship r: <Relationship element_id='5:b53598fd-bb34-4ae1-b7e7-9aeddd5be881:1152922604118474771' nodes=(<Node element_id='4:b53598fd-bb34-4ae1-b7e7-9aeddd5be881:19' labels=frozenset({'Selecao'}) properties={'cores': ['Azul', 'Branco', 'Vermelho'], 'nome': 'Franca'}>, <Node element_id='4:b53598fd-bb34-4ae1-b7e7-9aeddd5be881:32' labels=frozenset({'Continente'}) properties={'nome': 'Europa'}>) type='Pertence' properties={}>\n",
            "Node c: <Node element_id='4:b53598fd-bb34-4ae1-b7e7-9aeddd5be881:32' labels=frozenset({'Continente'}) properties={'nome': 'Europa'}>\n",
            "Node p: <Node element_id='4:b53598fd-bb34-4ae1-b7e7-9aeddd5be881:20' labels=frozenset({'Selecao'}) properties={'cores': ['Amarelo', 'Vermelho'], 'nome': 'Espanha'}>\n",
            "Relationship r: <Relationship element_id='5:b53598fd-bb34-4ae1-b7e7-9aeddd5be881:1152922604118474772' nodes=(<Node element_id='4:b53598fd-bb34-4ae1-b7e7-9aeddd5be881:20' labels=frozenset({'Selecao'}) properties={'cores': ['Amarelo', 'Vermelho'], 'nome': 'Espanha'}>, <Node element_id='4:b53598fd-bb34-4ae1-b7e7-9aeddd5be881:32' labels=frozenset({'Continente'}) properties={'nome': 'Europa'}>) type='Pertence' properties={}>\n",
            "Node c: <Node element_id='4:b53598fd-bb34-4ae1-b7e7-9aeddd5be881:32' labels=frozenset({'Continente'}) properties={'nome': 'Europa'}>\n",
            "Node p: <Node element_id='4:b53598fd-bb34-4ae1-b7e7-9aeddd5be881:21' labels=frozenset({'Selecao'}) properties={'cores': ['Amarelo', 'Vermelho', 'Preto'], 'nome': 'Alemanha'}>\n",
            "Relationship r: <Relationship element_id='5:b53598fd-bb34-4ae1-b7e7-9aeddd5be881:1152922604118474773' nodes=(<Node element_id='4:b53598fd-bb34-4ae1-b7e7-9aeddd5be881:21' labels=frozenset({'Selecao'}) properties={'cores': ['Amarelo', 'Vermelho', 'Preto'], 'nome': 'Alemanha'}>, <Node element_id='4:b53598fd-bb34-4ae1-b7e7-9aeddd5be881:32' labels=frozenset({'Continente'}) properties={'nome': 'Europa'}>) type='Pertence' properties={}>\n",
            "Node c: <Node element_id='4:b53598fd-bb34-4ae1-b7e7-9aeddd5be881:32' labels=frozenset({'Continente'}) properties={'nome': 'Europa'}>\n",
            "Node p: <Node element_id='4:b53598fd-bb34-4ae1-b7e7-9aeddd5be881:22' labels=frozenset({'Selecao'}) properties={'cores': ['Vermelho', 'Branco'], 'nome': 'Inglaterra'}>\n",
            "Relationship r: <Relationship element_id='5:b53598fd-bb34-4ae1-b7e7-9aeddd5be881:1152922604118474774' nodes=(<Node element_id='4:b53598fd-bb34-4ae1-b7e7-9aeddd5be881:22' labels=frozenset({'Selecao'}) properties={'cores': ['Vermelho', 'Branco'], 'nome': 'Inglaterra'}>, <Node element_id='4:b53598fd-bb34-4ae1-b7e7-9aeddd5be881:32' labels=frozenset({'Continente'}) properties={'nome': 'Europa'}>) type='Pertence' properties={}>\n",
            "Node c: <Node element_id='4:b53598fd-bb34-4ae1-b7e7-9aeddd5be881:32' labels=frozenset({'Continente'}) properties={'nome': 'Europa'}>\n",
            "Node p: <Node element_id='4:b53598fd-bb34-4ae1-b7e7-9aeddd5be881:23' labels=frozenset({'Selecao'}) properties={'cores': ['Verde', 'Vermelho', 'Branco'], 'nome': 'Italia'}>\n",
            "Relationship r: <Relationship element_id='5:b53598fd-bb34-4ae1-b7e7-9aeddd5be881:1152922604118474775' nodes=(<Node element_id='4:b53598fd-bb34-4ae1-b7e7-9aeddd5be881:23' labels=frozenset({'Selecao'}) properties={'cores': ['Verde', 'Vermelho', 'Branco'], 'nome': 'Italia'}>, <Node element_id='4:b53598fd-bb34-4ae1-b7e7-9aeddd5be881:32' labels=frozenset({'Continente'}) properties={'nome': 'Europa'}>) type='Pertence' properties={}>\n",
            "Node c: <Node element_id='4:b53598fd-bb34-4ae1-b7e7-9aeddd5be881:32' labels=frozenset({'Continente'}) properties={'nome': 'Europa'}>\n",
            "Node p: <Node element_id='4:b53598fd-bb34-4ae1-b7e7-9aeddd5be881:24' labels=frozenset({'Selecao'}) properties={'cores': ['Azul', 'Vermelho', 'Branco'], 'nome': 'Estados Unidos'}>\n",
            "Relationship r: <Relationship element_id='5:b53598fd-bb34-4ae1-b7e7-9aeddd5be881:1152922604118474776' nodes=(<Node element_id='4:b53598fd-bb34-4ae1-b7e7-9aeddd5be881:24' labels=frozenset({'Selecao'}) properties={'cores': ['Azul', 'Vermelho', 'Branco'], 'nome': 'Estados Unidos'}>, <Node element_id='4:b53598fd-bb34-4ae1-b7e7-9aeddd5be881:30' labels=frozenset({'Continente'}) properties={'nome': 'America do Norte'}>) type='Pertence' properties={}>\n",
            "Node c: <Node element_id='4:b53598fd-bb34-4ae1-b7e7-9aeddd5be881:30' labels=frozenset({'Continente'}) properties={'nome': 'America do Norte'}>\n",
            "Node p: <Node element_id='4:b53598fd-bb34-4ae1-b7e7-9aeddd5be881:25' labels=frozenset({'Selecao'}) properties={'cores': ['Vermelho', 'Branco'], 'nome': 'Japao'}>\n",
            "Relationship r: <Relationship element_id='5:b53598fd-bb34-4ae1-b7e7-9aeddd5be881:1152922604118474777' nodes=(<Node element_id='4:b53598fd-bb34-4ae1-b7e7-9aeddd5be881:25' labels=frozenset({'Selecao'}) properties={'cores': ['Vermelho', 'Branco'], 'nome': 'Japao'}>, <Node element_id='4:b53598fd-bb34-4ae1-b7e7-9aeddd5be881:1' labels=frozenset({'Continente'}) properties={'nome': 'Asia'}>) type='Pertence' properties={}>\n",
            "Node c: <Node element_id='4:b53598fd-bb34-4ae1-b7e7-9aeddd5be881:1' labels=frozenset({'Continente'}) properties={'nome': 'Asia'}>\n",
            "Node p: <Node element_id='4:b53598fd-bb34-4ae1-b7e7-9aeddd5be881:26' labels=frozenset({'Selecao'}) properties={'cores': ['Verde', 'Branco'], 'nome': 'Nigeria'}>\n",
            "Relationship r: <Relationship element_id='5:b53598fd-bb34-4ae1-b7e7-9aeddd5be881:1152922604118474778' nodes=(<Node element_id='4:b53598fd-bb34-4ae1-b7e7-9aeddd5be881:26' labels=frozenset({'Selecao'}) properties={'cores': ['Verde', 'Branco'], 'nome': 'Nigeria'}>, <Node element_id='4:b53598fd-bb34-4ae1-b7e7-9aeddd5be881:0' labels=frozenset({'Continente'}) properties={'nome': 'Africa'}>) type='Pertence' properties={}>\n",
            "Node c: <Node element_id='4:b53598fd-bb34-4ae1-b7e7-9aeddd5be881:0' labels=frozenset({'Continente'}) properties={'nome': 'Africa'}>\n",
            "Node p: <Node element_id='4:b53598fd-bb34-4ae1-b7e7-9aeddd5be881:27' labels=frozenset({'Selecao'}) properties={'cores': ['Vermelho', 'Branco'], 'nome': 'Canada'}>\n",
            "Relationship r: <Relationship element_id='5:b53598fd-bb34-4ae1-b7e7-9aeddd5be881:1152922604118474779' nodes=(<Node element_id='4:b53598fd-bb34-4ae1-b7e7-9aeddd5be881:27' labels=frozenset({'Selecao'}) properties={'cores': ['Vermelho', 'Branco'], 'nome': 'Canada'}>, <Node element_id='4:b53598fd-bb34-4ae1-b7e7-9aeddd5be881:30' labels=frozenset({'Continente'}) properties={'nome': 'America do Norte'}>) type='Pertence' properties={}>\n",
            "Node c: <Node element_id='4:b53598fd-bb34-4ae1-b7e7-9aeddd5be881:30' labels=frozenset({'Continente'}) properties={'nome': 'America do Norte'}>\n",
            "Node p: <Node element_id='4:b53598fd-bb34-4ae1-b7e7-9aeddd5be881:28' labels=frozenset({'Selecao'}) properties={'cores': ['Amarelo', 'Vermelho', 'Azul'], 'nome': 'Colombia'}>\n",
            "Relationship r: <Relationship element_id='5:b53598fd-bb34-4ae1-b7e7-9aeddd5be881:1152922604118474780' nodes=(<Node element_id='4:b53598fd-bb34-4ae1-b7e7-9aeddd5be881:28' labels=frozenset({'Selecao'}) properties={'cores': ['Amarelo', 'Vermelho', 'Azul'], 'nome': 'Colombia'}>, <Node element_id='4:b53598fd-bb34-4ae1-b7e7-9aeddd5be881:29' labels=frozenset({'Continente'}) properties={'nome': 'America do Sul'}>) type='Pertence' properties={}>\n",
            "Node c: <Node element_id='4:b53598fd-bb34-4ae1-b7e7-9aeddd5be881:29' labels=frozenset({'Continente'}) properties={'nome': 'America do Sul'}>\n",
            "Node p: <Node element_id='4:b53598fd-bb34-4ae1-b7e7-9aeddd5be881:26' labels=frozenset({'Selecao'}) properties={'cores': ['Verde', 'Branco'], 'nome': 'Nigeria'}>\n",
            "Relationship r: <Relationship element_id='5:b53598fd-bb34-4ae1-b7e7-9aeddd5be881:1152923703630102528' nodes=(<Node element_id='4:b53598fd-bb34-4ae1-b7e7-9aeddd5be881:0' labels=frozenset({'Continente'}) properties={'nome': 'Africa'}>, <Node element_id='4:b53598fd-bb34-4ae1-b7e7-9aeddd5be881:26' labels=frozenset({'Selecao'}) properties={'cores': ['Verde', 'Branco'], 'nome': 'Nigeria'}>) type='Contem' properties={}>\n",
            "Node c: <Node element_id='4:b53598fd-bb34-4ae1-b7e7-9aeddd5be881:0' labels=frozenset({'Continente'}) properties={'nome': 'Africa'}>\n",
            "Node p: <Node element_id='4:b53598fd-bb34-4ae1-b7e7-9aeddd5be881:25' labels=frozenset({'Selecao'}) properties={'cores': ['Vermelho', 'Branco'], 'nome': 'Japao'}>\n",
            "Relationship r: <Relationship element_id='5:b53598fd-bb34-4ae1-b7e7-9aeddd5be881:1152923703630102529' nodes=(<Node element_id='4:b53598fd-bb34-4ae1-b7e7-9aeddd5be881:1' labels=frozenset({'Continente'}) properties={'nome': 'Asia'}>, <Node element_id='4:b53598fd-bb34-4ae1-b7e7-9aeddd5be881:25' labels=frozenset({'Selecao'}) properties={'cores': ['Vermelho', 'Branco'], 'nome': 'Japao'}>) type='Contem' properties={}>\n",
            "Node c: <Node element_id='4:b53598fd-bb34-4ae1-b7e7-9aeddd5be881:1' labels=frozenset({'Continente'}) properties={'nome': 'Asia'}>\n",
            "Node p: <Node element_id='4:b53598fd-bb34-4ae1-b7e7-9aeddd5be881:16' labels=frozenset({'Selecao'}) properties={'cores': ['Verde', 'Amarelo'], 'nome': 'Brasil'}>\n",
            "Relationship r: <Relationship element_id='5:b53598fd-bb34-4ae1-b7e7-9aeddd5be881:1157427303257473053' nodes=(<Node element_id='4:b53598fd-bb34-4ae1-b7e7-9aeddd5be881:29' labels=frozenset({'Continente'}) properties={'nome': 'America do Sul'}>, <Node element_id='4:b53598fd-bb34-4ae1-b7e7-9aeddd5be881:16' labels=frozenset({'Selecao'}) properties={'cores': ['Verde', 'Amarelo'], 'nome': 'Brasil'}>) type='Contem' properties={}>\n",
            "Node c: <Node element_id='4:b53598fd-bb34-4ae1-b7e7-9aeddd5be881:29' labels=frozenset({'Continente'}) properties={'nome': 'America do Sul'}>\n",
            "Node p: <Node element_id='4:b53598fd-bb34-4ae1-b7e7-9aeddd5be881:17' labels=frozenset({'Selecao'}) properties={'cores': ['Azul', 'Branco'], 'nome': 'Argentina'}>\n",
            "Relationship r: <Relationship element_id='5:b53598fd-bb34-4ae1-b7e7-9aeddd5be881:1159679103071158301' nodes=(<Node element_id='4:b53598fd-bb34-4ae1-b7e7-9aeddd5be881:29' labels=frozenset({'Continente'}) properties={'nome': 'America do Sul'}>, <Node element_id='4:b53598fd-bb34-4ae1-b7e7-9aeddd5be881:17' labels=frozenset({'Selecao'}) properties={'cores': ['Azul', 'Branco'], 'nome': 'Argentina'}>) type='Contem' properties={}>\n",
            "Node c: <Node element_id='4:b53598fd-bb34-4ae1-b7e7-9aeddd5be881:29' labels=frozenset({'Continente'}) properties={'nome': 'America do Sul'}>\n",
            "Node p: <Node element_id='4:b53598fd-bb34-4ae1-b7e7-9aeddd5be881:18' labels=frozenset({'Selecao'}) properties={'cores': ['Azul', 'Branco'], 'nome': 'Uruguai'}>\n",
            "Relationship r: <Relationship element_id='5:b53598fd-bb34-4ae1-b7e7-9aeddd5be881:1161930902884843549' nodes=(<Node element_id='4:b53598fd-bb34-4ae1-b7e7-9aeddd5be881:29' labels=frozenset({'Continente'}) properties={'nome': 'America do Sul'}>, <Node element_id='4:b53598fd-bb34-4ae1-b7e7-9aeddd5be881:18' labels=frozenset({'Selecao'}) properties={'cores': ['Azul', 'Branco'], 'nome': 'Uruguai'}>) type='Contem' properties={}>\n",
            "Node c: <Node element_id='4:b53598fd-bb34-4ae1-b7e7-9aeddd5be881:29' labels=frozenset({'Continente'}) properties={'nome': 'America do Sul'}>\n",
            "Node p: <Node element_id='4:b53598fd-bb34-4ae1-b7e7-9aeddd5be881:28' labels=frozenset({'Selecao'}) properties={'cores': ['Amarelo', 'Vermelho', 'Azul'], 'nome': 'Colombia'}>\n",
            "Relationship r: <Relationship element_id='5:b53598fd-bb34-4ae1-b7e7-9aeddd5be881:1152923703630102557' nodes=(<Node element_id='4:b53598fd-bb34-4ae1-b7e7-9aeddd5be881:29' labels=frozenset({'Continente'}) properties={'nome': 'America do Sul'}>, <Node element_id='4:b53598fd-bb34-4ae1-b7e7-9aeddd5be881:28' labels=frozenset({'Selecao'}) properties={'cores': ['Amarelo', 'Vermelho', 'Azul'], 'nome': 'Colombia'}>) type='Contem' properties={}>\n",
            "Node c: <Node element_id='4:b53598fd-bb34-4ae1-b7e7-9aeddd5be881:29' labels=frozenset({'Continente'}) properties={'nome': 'America do Sul'}>\n",
            "Node p: <Node element_id='4:b53598fd-bb34-4ae1-b7e7-9aeddd5be881:24' labels=frozenset({'Selecao'}) properties={'cores': ['Azul', 'Vermelho', 'Branco'], 'nome': 'Estados Unidos'}>\n",
            "Relationship r: <Relationship element_id='5:b53598fd-bb34-4ae1-b7e7-9aeddd5be881:1152923703630102558' nodes=(<Node element_id='4:b53598fd-bb34-4ae1-b7e7-9aeddd5be881:30' labels=frozenset({'Continente'}) properties={'nome': 'America do Norte'}>, <Node element_id='4:b53598fd-bb34-4ae1-b7e7-9aeddd5be881:24' labels=frozenset({'Selecao'}) properties={'cores': ['Azul', 'Vermelho', 'Branco'], 'nome': 'Estados Unidos'}>) type='Contem' properties={}>\n",
            "Node c: <Node element_id='4:b53598fd-bb34-4ae1-b7e7-9aeddd5be881:30' labels=frozenset({'Continente'}) properties={'nome': 'America do Norte'}>\n",
            "Node p: <Node element_id='4:b53598fd-bb34-4ae1-b7e7-9aeddd5be881:27' labels=frozenset({'Selecao'}) properties={'cores': ['Vermelho', 'Branco'], 'nome': 'Canada'}>\n",
            "Relationship r: <Relationship element_id='5:b53598fd-bb34-4ae1-b7e7-9aeddd5be881:1155175503443787806' nodes=(<Node element_id='4:b53598fd-bb34-4ae1-b7e7-9aeddd5be881:30' labels=frozenset({'Continente'}) properties={'nome': 'America do Norte'}>, <Node element_id='4:b53598fd-bb34-4ae1-b7e7-9aeddd5be881:27' labels=frozenset({'Selecao'}) properties={'cores': ['Vermelho', 'Branco'], 'nome': 'Canada'}>) type='Contem' properties={}>\n",
            "Node c: <Node element_id='4:b53598fd-bb34-4ae1-b7e7-9aeddd5be881:30' labels=frozenset({'Continente'}) properties={'nome': 'America do Norte'}>\n",
            "Node p: <Node element_id='4:b53598fd-bb34-4ae1-b7e7-9aeddd5be881:4' labels=frozenset({'Selecao'}) properties={'cores': ['Verde, Vermelho', 'Amarelo', 'Branco', 'Azul'], 'nome': 'Portugal'}>\n",
            "Relationship r: <Relationship element_id='5:b53598fd-bb34-4ae1-b7e7-9aeddd5be881:1164182702698528800' nodes=(<Node element_id='4:b53598fd-bb34-4ae1-b7e7-9aeddd5be881:32' labels=frozenset({'Continente'}) properties={'nome': 'Europa'}>, <Node element_id='4:b53598fd-bb34-4ae1-b7e7-9aeddd5be881:4' labels=frozenset({'Selecao'}) properties={'cores': ['Verde, Vermelho', 'Amarelo', 'Branco', 'Azul'], 'nome': 'Portugal'}>) type='Contem' properties={}>\n",
            "Node c: <Node element_id='4:b53598fd-bb34-4ae1-b7e7-9aeddd5be881:32' labels=frozenset({'Continente'}) properties={'nome': 'Europa'}>\n",
            "Node p: <Node element_id='4:b53598fd-bb34-4ae1-b7e7-9aeddd5be881:19' labels=frozenset({'Selecao'}) properties={'cores': ['Azul', 'Branco', 'Vermelho'], 'nome': 'Franca'}>\n",
            "Relationship r: <Relationship element_id='5:b53598fd-bb34-4ae1-b7e7-9aeddd5be881:1152923703630102560' nodes=(<Node element_id='4:b53598fd-bb34-4ae1-b7e7-9aeddd5be881:32' labels=frozenset({'Continente'}) properties={'nome': 'Europa'}>, <Node element_id='4:b53598fd-bb34-4ae1-b7e7-9aeddd5be881:19' labels=frozenset({'Selecao'}) properties={'cores': ['Azul', 'Branco', 'Vermelho'], 'nome': 'Franca'}>) type='Contem' properties={}>\n",
            "Node c: <Node element_id='4:b53598fd-bb34-4ae1-b7e7-9aeddd5be881:32' labels=frozenset({'Continente'}) properties={'nome': 'Europa'}>\n",
            "Node p: <Node element_id='4:b53598fd-bb34-4ae1-b7e7-9aeddd5be881:20' labels=frozenset({'Selecao'}) properties={'cores': ['Amarelo', 'Vermelho'], 'nome': 'Espanha'}>\n",
            "Relationship r: <Relationship element_id='5:b53598fd-bb34-4ae1-b7e7-9aeddd5be881:1155175503443787808' nodes=(<Node element_id='4:b53598fd-bb34-4ae1-b7e7-9aeddd5be881:32' labels=frozenset({'Continente'}) properties={'nome': 'Europa'}>, <Node element_id='4:b53598fd-bb34-4ae1-b7e7-9aeddd5be881:20' labels=frozenset({'Selecao'}) properties={'cores': ['Amarelo', 'Vermelho'], 'nome': 'Espanha'}>) type='Contem' properties={}>\n",
            "Node c: <Node element_id='4:b53598fd-bb34-4ae1-b7e7-9aeddd5be881:32' labels=frozenset({'Continente'}) properties={'nome': 'Europa'}>\n",
            "Node p: <Node element_id='4:b53598fd-bb34-4ae1-b7e7-9aeddd5be881:21' labels=frozenset({'Selecao'}) properties={'cores': ['Amarelo', 'Vermelho', 'Preto'], 'nome': 'Alemanha'}>\n",
            "Relationship r: <Relationship element_id='5:b53598fd-bb34-4ae1-b7e7-9aeddd5be881:1157427303257473056' nodes=(<Node element_id='4:b53598fd-bb34-4ae1-b7e7-9aeddd5be881:32' labels=frozenset({'Continente'}) properties={'nome': 'Europa'}>, <Node element_id='4:b53598fd-bb34-4ae1-b7e7-9aeddd5be881:21' labels=frozenset({'Selecao'}) properties={'cores': ['Amarelo', 'Vermelho', 'Preto'], 'nome': 'Alemanha'}>) type='Contem' properties={}>\n",
            "Node c: <Node element_id='4:b53598fd-bb34-4ae1-b7e7-9aeddd5be881:32' labels=frozenset({'Continente'}) properties={'nome': 'Europa'}>\n",
            "Node p: <Node element_id='4:b53598fd-bb34-4ae1-b7e7-9aeddd5be881:22' labels=frozenset({'Selecao'}) properties={'cores': ['Vermelho', 'Branco'], 'nome': 'Inglaterra'}>\n",
            "Relationship r: <Relationship element_id='5:b53598fd-bb34-4ae1-b7e7-9aeddd5be881:1159679103071158304' nodes=(<Node element_id='4:b53598fd-bb34-4ae1-b7e7-9aeddd5be881:32' labels=frozenset({'Continente'}) properties={'nome': 'Europa'}>, <Node element_id='4:b53598fd-bb34-4ae1-b7e7-9aeddd5be881:22' labels=frozenset({'Selecao'}) properties={'cores': ['Vermelho', 'Branco'], 'nome': 'Inglaterra'}>) type='Contem' properties={}>\n",
            "Node c: <Node element_id='4:b53598fd-bb34-4ae1-b7e7-9aeddd5be881:32' labels=frozenset({'Continente'}) properties={'nome': 'Europa'}>\n",
            "Node p: <Node element_id='4:b53598fd-bb34-4ae1-b7e7-9aeddd5be881:23' labels=frozenset({'Selecao'}) properties={'cores': ['Verde', 'Vermelho', 'Branco'], 'nome': 'Italia'}>\n",
            "Relationship r: <Relationship element_id='5:b53598fd-bb34-4ae1-b7e7-9aeddd5be881:1161930902884843552' nodes=(<Node element_id='4:b53598fd-bb34-4ae1-b7e7-9aeddd5be881:32' labels=frozenset({'Continente'}) properties={'nome': 'Europa'}>, <Node element_id='4:b53598fd-bb34-4ae1-b7e7-9aeddd5be881:23' labels=frozenset({'Selecao'}) properties={'cores': ['Verde', 'Vermelho', 'Branco'], 'nome': 'Italia'}>) type='Contem' properties={}>\n",
            "Node c: <Node element_id='4:b53598fd-bb34-4ae1-b7e7-9aeddd5be881:32' labels=frozenset({'Continente'}) properties={'nome': 'Europa'}>\n"
          ]
        }
      ]
    },
    {
      "cell_type": "markdown",
      "source": [
        "#Vamos ver como ficou essa obra de arte?\n",
        "\n",
        "![image.png](data:image/png;base64,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)\n",
        "\n",
        "O que está faltando?"
      ],
      "metadata": {
        "id": "DK9DVG8b96qM"
      }
    },
    {
      "cell_type": "markdown",
      "source": [
        "Na minha opinião: Todos os continentes estão relacionados ao planeta terra, né? Bora criar esse node!"
      ],
      "metadata": {
        "id": "yaHCyaTX96kL"
      }
    },
    {
      "cell_type": "code",
      "source": [
        "with driver.session() as session:\n",
        "    session.write_transaction(lambda tx: tx.run(\"CREATE (:Terra {nome: 'Terra'})\"))"
      ],
      "metadata": {
        "colab": {
          "base_uri": "https://localhost:8080/"
        },
        "id": "DWwHZHd_c4IL",
        "outputId": "d3f00d32-475b-4006-b5d9-b8362c28342f"
      },
      "execution_count": 730,
      "outputs": [
        {
          "output_type": "stream",
          "name": "stderr",
          "text": [
            "<ipython-input-730-e9d3a8956f72>:2: DeprecationWarning: write_transaction has been renamed to execute_write\n",
            "  session.write_transaction(lambda tx: tx.run(\"CREATE (:Terra {nome: 'Terra'})\"))\n"
          ]
        }
      ]
    },
    {
      "cell_type": "markdown",
      "source": [
        "- Agora vamos relacionar todos os continentes ao planeta TERRA!"
      ],
      "metadata": {
        "id": "eK2Tg4qodgnH"
      }
    },
    {
      "cell_type": "code",
      "source": [
        "with driver.session() as session:\n",
        "    session.write_transaction(lambda tx: tx.run(\"MATCH (m:Terra), (c:Continente) WHERE c.nome <> 'Terra' CREATE (m)-[:CONTÉM]->(c)\"))"
      ],
      "metadata": {
        "colab": {
          "base_uri": "https://localhost:8080/"
        },
        "id": "pePXKMEAdQUq",
        "outputId": "f8758b33-24b6-459c-9c49-773f8b8aaa21"
      },
      "execution_count": 731,
      "outputs": [
        {
          "output_type": "stream",
          "name": "stderr",
          "text": [
            "<ipython-input-731-19afb8bdcb86>:2: DeprecationWarning: write_transaction has been renamed to execute_write\n",
            "  session.write_transaction(lambda tx: tx.run(\"MATCH (m:Terra), (c:Continente) WHERE c.nome <> 'Terra' CREATE (m)-[:CONTÉM]->(c)\"))\n"
          ]
        }
      ]
    },
    {
      "cell_type": "markdown",
      "source": [
        "- Vamos ver como tudo isso ficou?"
      ],
      "metadata": {
        "id": "yq3dcXUL96gJ"
      }
    },
    {
      "cell_type": "code",
      "source": [
        "q1 = \"MATCH (n)-[r]-(m) RETURN n, r, m\"\n",
        "\n",
        "# Abrir uma sessão e executar a consulta\n",
        "with driver.session() as session:\n",
        "    result = session.run(q1)\n",
        "\n",
        "    # Processar os resultados\n",
        "    for record in result:\n",
        "        node_n = record[\"n\"]\n",
        "        node_m = record[\"m\"]\n",
        "        relationship_r = record[\"r\"]\n",
        "\n",
        "        # Imprimir cada nó e relacionamento\n",
        "        print(f\"Node n: {node_n}\")\n",
        "        print(f\"Relationship r: {relationship_r}\")\n",
        "        print(f\"Node m: {node_m}\")\n"
      ],
      "metadata": {
        "colab": {
          "base_uri": "https://localhost:8080/"
        },
        "id": "tTX0NBe5dewK",
        "outputId": "f10f2af7-a18b-4432-c99a-d2bc2a6593d6"
      },
      "execution_count": 732,
      "outputs": [
        {
          "output_type": "stream",
          "name": "stdout",
          "text": [
            "Node n: <Node element_id='4:b53598fd-bb34-4ae1-b7e7-9aeddd5be881:0' labels=frozenset({'Continente'}) properties={'nome': 'Africa'}>\n",
            "Relationship r: <Relationship element_id='5:b53598fd-bb34-4ae1-b7e7-9aeddd5be881:1152923703630102528' nodes=(<Node element_id='4:b53598fd-bb34-4ae1-b7e7-9aeddd5be881:0' labels=frozenset({'Continente'}) properties={'nome': 'Africa'}>, <Node element_id='4:b53598fd-bb34-4ae1-b7e7-9aeddd5be881:26' labels=frozenset({'Selecao'}) properties={'cores': ['Verde', 'Branco'], 'nome': 'Nigeria'}>) type='Contem' properties={}>\n",
            "Node m: <Node element_id='4:b53598fd-bb34-4ae1-b7e7-9aeddd5be881:26' labels=frozenset({'Selecao'}) properties={'cores': ['Verde', 'Branco'], 'nome': 'Nigeria'}>\n",
            "Node n: <Node element_id='4:b53598fd-bb34-4ae1-b7e7-9aeddd5be881:26' labels=frozenset({'Selecao'}) properties={'cores': ['Verde', 'Branco'], 'nome': 'Nigeria'}>\n",
            "Relationship r: <Relationship element_id='5:b53598fd-bb34-4ae1-b7e7-9aeddd5be881:1152923703630102528' nodes=(<Node element_id='4:b53598fd-bb34-4ae1-b7e7-9aeddd5be881:0' labels=frozenset({'Continente'}) properties={'nome': 'Africa'}>, <Node element_id='4:b53598fd-bb34-4ae1-b7e7-9aeddd5be881:26' labels=frozenset({'Selecao'}) properties={'cores': ['Verde', 'Branco'], 'nome': 'Nigeria'}>) type='Contem' properties={}>\n",
            "Node m: <Node element_id='4:b53598fd-bb34-4ae1-b7e7-9aeddd5be881:0' labels=frozenset({'Continente'}) properties={'nome': 'Africa'}>\n",
            "Node n: <Node element_id='4:b53598fd-bb34-4ae1-b7e7-9aeddd5be881:1' labels=frozenset({'Continente'}) properties={'nome': 'Asia'}>\n",
            "Relationship r: <Relationship element_id='5:b53598fd-bb34-4ae1-b7e7-9aeddd5be881:1152923703630102529' nodes=(<Node element_id='4:b53598fd-bb34-4ae1-b7e7-9aeddd5be881:1' labels=frozenset({'Continente'}) properties={'nome': 'Asia'}>, <Node element_id='4:b53598fd-bb34-4ae1-b7e7-9aeddd5be881:25' labels=frozenset({'Selecao'}) properties={'cores': ['Vermelho', 'Branco'], 'nome': 'Japao'}>) type='Contem' properties={}>\n",
            "Node m: <Node element_id='4:b53598fd-bb34-4ae1-b7e7-9aeddd5be881:25' labels=frozenset({'Selecao'}) properties={'cores': ['Vermelho', 'Branco'], 'nome': 'Japao'}>\n",
            "Node n: <Node element_id='4:b53598fd-bb34-4ae1-b7e7-9aeddd5be881:25' labels=frozenset({'Selecao'}) properties={'cores': ['Vermelho', 'Branco'], 'nome': 'Japao'}>\n",
            "Relationship r: <Relationship element_id='5:b53598fd-bb34-4ae1-b7e7-9aeddd5be881:1152923703630102529' nodes=(<Node element_id='4:b53598fd-bb34-4ae1-b7e7-9aeddd5be881:1' labels=frozenset({'Continente'}) properties={'nome': 'Asia'}>, <Node element_id='4:b53598fd-bb34-4ae1-b7e7-9aeddd5be881:25' labels=frozenset({'Selecao'}) properties={'cores': ['Vermelho', 'Branco'], 'nome': 'Japao'}>) type='Contem' properties={}>\n",
            "Node m: <Node element_id='4:b53598fd-bb34-4ae1-b7e7-9aeddd5be881:1' labels=frozenset({'Continente'}) properties={'nome': 'Asia'}>\n",
            "Node n: <Node element_id='4:b53598fd-bb34-4ae1-b7e7-9aeddd5be881:4' labels=frozenset({'Selecao'}) properties={'cores': ['Verde, Vermelho', 'Amarelo', 'Branco', 'Azul'], 'nome': 'Portugal'}>\n",
            "Relationship r: <Relationship element_id='5:b53598fd-bb34-4ae1-b7e7-9aeddd5be881:1152922604118474756' nodes=(<Node element_id='4:b53598fd-bb34-4ae1-b7e7-9aeddd5be881:4' labels=frozenset({'Selecao'}) properties={'cores': ['Verde, Vermelho', 'Amarelo', 'Branco', 'Azul'], 'nome': 'Portugal'}>, <Node element_id='4:b53598fd-bb34-4ae1-b7e7-9aeddd5be881:32' labels=frozenset({'Continente'}) properties={'nome': 'Europa'}>) type='Pertence' properties={}>\n",
            "Node m: <Node element_id='4:b53598fd-bb34-4ae1-b7e7-9aeddd5be881:32' labels=frozenset({'Continente'}) properties={'nome': 'Europa'}>\n",
            "Node n: <Node element_id='4:b53598fd-bb34-4ae1-b7e7-9aeddd5be881:32' labels=frozenset({'Continente'}) properties={'nome': 'Europa'}>\n",
            "Relationship r: <Relationship element_id='5:b53598fd-bb34-4ae1-b7e7-9aeddd5be881:1152922604118474756' nodes=(<Node element_id='4:b53598fd-bb34-4ae1-b7e7-9aeddd5be881:4' labels=frozenset({'Selecao'}) properties={'cores': ['Verde, Vermelho', 'Amarelo', 'Branco', 'Azul'], 'nome': 'Portugal'}>, <Node element_id='4:b53598fd-bb34-4ae1-b7e7-9aeddd5be881:32' labels=frozenset({'Continente'}) properties={'nome': 'Europa'}>) type='Pertence' properties={}>\n",
            "Node m: <Node element_id='4:b53598fd-bb34-4ae1-b7e7-9aeddd5be881:4' labels=frozenset({'Selecao'}) properties={'cores': ['Verde, Vermelho', 'Amarelo', 'Branco', 'Azul'], 'nome': 'Portugal'}>\n",
            "Node n: <Node element_id='4:b53598fd-bb34-4ae1-b7e7-9aeddd5be881:5' labels=frozenset({'Terra'}) properties={'nome': 'Terra'}>\n",
            "Relationship r: <Relationship element_id='5:b53598fd-bb34-4ae1-b7e7-9aeddd5be881:1152924803141730309' nodes=(<Node element_id='4:b53598fd-bb34-4ae1-b7e7-9aeddd5be881:5' labels=frozenset({'Terra'}) properties={'nome': 'Terra'}>, <Node element_id='4:b53598fd-bb34-4ae1-b7e7-9aeddd5be881:0' labels=frozenset({'Continente'}) properties={'nome': 'Africa'}>) type='CONTÉM' properties={}>\n",
            "Node m: <Node element_id='4:b53598fd-bb34-4ae1-b7e7-9aeddd5be881:0' labels=frozenset({'Continente'}) properties={'nome': 'Africa'}>\n",
            "Node n: <Node element_id='4:b53598fd-bb34-4ae1-b7e7-9aeddd5be881:0' labels=frozenset({'Continente'}) properties={'nome': 'Africa'}>\n",
            "Relationship r: <Relationship element_id='5:b53598fd-bb34-4ae1-b7e7-9aeddd5be881:1152924803141730309' nodes=(<Node element_id='4:b53598fd-bb34-4ae1-b7e7-9aeddd5be881:5' labels=frozenset({'Terra'}) properties={'nome': 'Terra'}>, <Node element_id='4:b53598fd-bb34-4ae1-b7e7-9aeddd5be881:0' labels=frozenset({'Continente'}) properties={'nome': 'Africa'}>) type='CONTÉM' properties={}>\n",
            "Node m: <Node element_id='4:b53598fd-bb34-4ae1-b7e7-9aeddd5be881:5' labels=frozenset({'Terra'}) properties={'nome': 'Terra'}>\n",
            "Node n: <Node element_id='4:b53598fd-bb34-4ae1-b7e7-9aeddd5be881:5' labels=frozenset({'Terra'}) properties={'nome': 'Terra'}>\n",
            "Relationship r: <Relationship element_id='5:b53598fd-bb34-4ae1-b7e7-9aeddd5be881:1155176602955415557' nodes=(<Node element_id='4:b53598fd-bb34-4ae1-b7e7-9aeddd5be881:5' labels=frozenset({'Terra'}) properties={'nome': 'Terra'}>, <Node element_id='4:b53598fd-bb34-4ae1-b7e7-9aeddd5be881:1' labels=frozenset({'Continente'}) properties={'nome': 'Asia'}>) type='CONTÉM' properties={}>\n",
            "Node m: <Node element_id='4:b53598fd-bb34-4ae1-b7e7-9aeddd5be881:1' labels=frozenset({'Continente'}) properties={'nome': 'Asia'}>\n",
            "Node n: <Node element_id='4:b53598fd-bb34-4ae1-b7e7-9aeddd5be881:1' labels=frozenset({'Continente'}) properties={'nome': 'Asia'}>\n",
            "Relationship r: <Relationship element_id='5:b53598fd-bb34-4ae1-b7e7-9aeddd5be881:1155176602955415557' nodes=(<Node element_id='4:b53598fd-bb34-4ae1-b7e7-9aeddd5be881:5' labels=frozenset({'Terra'}) properties={'nome': 'Terra'}>, <Node element_id='4:b53598fd-bb34-4ae1-b7e7-9aeddd5be881:1' labels=frozenset({'Continente'}) properties={'nome': 'Asia'}>) type='CONTÉM' properties={}>\n",
            "Node m: <Node element_id='4:b53598fd-bb34-4ae1-b7e7-9aeddd5be881:5' labels=frozenset({'Terra'}) properties={'nome': 'Terra'}>\n",
            "Node n: <Node element_id='4:b53598fd-bb34-4ae1-b7e7-9aeddd5be881:5' labels=frozenset({'Terra'}) properties={'nome': 'Terra'}>\n",
            "Relationship r: <Relationship element_id='5:b53598fd-bb34-4ae1-b7e7-9aeddd5be881:1157428402769100805' nodes=(<Node element_id='4:b53598fd-bb34-4ae1-b7e7-9aeddd5be881:5' labels=frozenset({'Terra'}) properties={'nome': 'Terra'}>, <Node element_id='4:b53598fd-bb34-4ae1-b7e7-9aeddd5be881:29' labels=frozenset({'Continente'}) properties={'nome': 'America do Sul'}>) type='CONTÉM' properties={}>\n",
            "Node m: <Node element_id='4:b53598fd-bb34-4ae1-b7e7-9aeddd5be881:29' labels=frozenset({'Continente'}) properties={'nome': 'America do Sul'}>\n",
            "Node n: <Node element_id='4:b53598fd-bb34-4ae1-b7e7-9aeddd5be881:29' labels=frozenset({'Continente'}) properties={'nome': 'America do Sul'}>\n",
            "Relationship r: <Relationship element_id='5:b53598fd-bb34-4ae1-b7e7-9aeddd5be881:1157428402769100805' nodes=(<Node element_id='4:b53598fd-bb34-4ae1-b7e7-9aeddd5be881:5' labels=frozenset({'Terra'}) properties={'nome': 'Terra'}>, <Node element_id='4:b53598fd-bb34-4ae1-b7e7-9aeddd5be881:29' labels=frozenset({'Continente'}) properties={'nome': 'America do Sul'}>) type='CONTÉM' properties={}>\n",
            "Node m: <Node element_id='4:b53598fd-bb34-4ae1-b7e7-9aeddd5be881:5' labels=frozenset({'Terra'}) properties={'nome': 'Terra'}>\n",
            "Node n: <Node element_id='4:b53598fd-bb34-4ae1-b7e7-9aeddd5be881:5' labels=frozenset({'Terra'}) properties={'nome': 'Terra'}>\n",
            "Relationship r: <Relationship element_id='5:b53598fd-bb34-4ae1-b7e7-9aeddd5be881:1159680202582786053' nodes=(<Node element_id='4:b53598fd-bb34-4ae1-b7e7-9aeddd5be881:5' labels=frozenset({'Terra'}) properties={'nome': 'Terra'}>, <Node element_id='4:b53598fd-bb34-4ae1-b7e7-9aeddd5be881:30' labels=frozenset({'Continente'}) properties={'nome': 'America do Norte'}>) type='CONTÉM' properties={}>\n",
            "Node m: <Node element_id='4:b53598fd-bb34-4ae1-b7e7-9aeddd5be881:30' labels=frozenset({'Continente'}) properties={'nome': 'America do Norte'}>\n",
            "Node n: <Node element_id='4:b53598fd-bb34-4ae1-b7e7-9aeddd5be881:30' labels=frozenset({'Continente'}) properties={'nome': 'America do Norte'}>\n",
            "Relationship r: <Relationship element_id='5:b53598fd-bb34-4ae1-b7e7-9aeddd5be881:1159680202582786053' nodes=(<Node element_id='4:b53598fd-bb34-4ae1-b7e7-9aeddd5be881:5' labels=frozenset({'Terra'}) properties={'nome': 'Terra'}>, <Node element_id='4:b53598fd-bb34-4ae1-b7e7-9aeddd5be881:30' labels=frozenset({'Continente'}) properties={'nome': 'America do Norte'}>) type='CONTÉM' properties={}>\n",
            "Node m: <Node element_id='4:b53598fd-bb34-4ae1-b7e7-9aeddd5be881:5' labels=frozenset({'Terra'}) properties={'nome': 'Terra'}>\n",
            "Node n: <Node element_id='4:b53598fd-bb34-4ae1-b7e7-9aeddd5be881:5' labels=frozenset({'Terra'}) properties={'nome': 'Terra'}>\n",
            "Relationship r: <Relationship element_id='5:b53598fd-bb34-4ae1-b7e7-9aeddd5be881:1161932002396471301' nodes=(<Node element_id='4:b53598fd-bb34-4ae1-b7e7-9aeddd5be881:5' labels=frozenset({'Terra'}) properties={'nome': 'Terra'}>, <Node element_id='4:b53598fd-bb34-4ae1-b7e7-9aeddd5be881:32' labels=frozenset({'Continente'}) properties={'nome': 'Europa'}>) type='CONTÉM' properties={}>\n",
            "Node m: <Node element_id='4:b53598fd-bb34-4ae1-b7e7-9aeddd5be881:32' labels=frozenset({'Continente'}) properties={'nome': 'Europa'}>\n",
            "Node n: <Node element_id='4:b53598fd-bb34-4ae1-b7e7-9aeddd5be881:32' labels=frozenset({'Continente'}) properties={'nome': 'Europa'}>\n",
            "Relationship r: <Relationship element_id='5:b53598fd-bb34-4ae1-b7e7-9aeddd5be881:1161932002396471301' nodes=(<Node element_id='4:b53598fd-bb34-4ae1-b7e7-9aeddd5be881:5' labels=frozenset({'Terra'}) properties={'nome': 'Terra'}>, <Node element_id='4:b53598fd-bb34-4ae1-b7e7-9aeddd5be881:32' labels=frozenset({'Continente'}) properties={'nome': 'Europa'}>) type='CONTÉM' properties={}>\n",
            "Node m: <Node element_id='4:b53598fd-bb34-4ae1-b7e7-9aeddd5be881:5' labels=frozenset({'Terra'}) properties={'nome': 'Terra'}>\n",
            "Node n: <Node element_id='4:b53598fd-bb34-4ae1-b7e7-9aeddd5be881:16' labels=frozenset({'Selecao'}) properties={'cores': ['Verde', 'Amarelo'], 'nome': 'Brasil'}>\n",
            "Relationship r: <Relationship element_id='5:b53598fd-bb34-4ae1-b7e7-9aeddd5be881:1152922604118474768' nodes=(<Node element_id='4:b53598fd-bb34-4ae1-b7e7-9aeddd5be881:16' labels=frozenset({'Selecao'}) properties={'cores': ['Verde', 'Amarelo'], 'nome': 'Brasil'}>, <Node element_id='4:b53598fd-bb34-4ae1-b7e7-9aeddd5be881:29' labels=frozenset({'Continente'}) properties={'nome': 'America do Sul'}>) type='Pertence' properties={}>\n",
            "Node m: <Node element_id='4:b53598fd-bb34-4ae1-b7e7-9aeddd5be881:29' labels=frozenset({'Continente'}) properties={'nome': 'America do Sul'}>\n",
            "Node n: <Node element_id='4:b53598fd-bb34-4ae1-b7e7-9aeddd5be881:29' labels=frozenset({'Continente'}) properties={'nome': 'America do Sul'}>\n",
            "Relationship r: <Relationship element_id='5:b53598fd-bb34-4ae1-b7e7-9aeddd5be881:1152922604118474768' nodes=(<Node element_id='4:b53598fd-bb34-4ae1-b7e7-9aeddd5be881:16' labels=frozenset({'Selecao'}) properties={'cores': ['Verde', 'Amarelo'], 'nome': 'Brasil'}>, <Node element_id='4:b53598fd-bb34-4ae1-b7e7-9aeddd5be881:29' labels=frozenset({'Continente'}) properties={'nome': 'America do Sul'}>) type='Pertence' properties={}>\n",
            "Node m: <Node element_id='4:b53598fd-bb34-4ae1-b7e7-9aeddd5be881:16' labels=frozenset({'Selecao'}) properties={'cores': ['Verde', 'Amarelo'], 'nome': 'Brasil'}>\n",
            "Node n: <Node element_id='4:b53598fd-bb34-4ae1-b7e7-9aeddd5be881:17' labels=frozenset({'Selecao'}) properties={'cores': ['Azul', 'Branco'], 'nome': 'Argentina'}>\n",
            "Relationship r: <Relationship element_id='5:b53598fd-bb34-4ae1-b7e7-9aeddd5be881:1152922604118474769' nodes=(<Node element_id='4:b53598fd-bb34-4ae1-b7e7-9aeddd5be881:17' labels=frozenset({'Selecao'}) properties={'cores': ['Azul', 'Branco'], 'nome': 'Argentina'}>, <Node element_id='4:b53598fd-bb34-4ae1-b7e7-9aeddd5be881:29' labels=frozenset({'Continente'}) properties={'nome': 'America do Sul'}>) type='Pertence' properties={}>\n",
            "Node m: <Node element_id='4:b53598fd-bb34-4ae1-b7e7-9aeddd5be881:29' labels=frozenset({'Continente'}) properties={'nome': 'America do Sul'}>\n",
            "Node n: <Node element_id='4:b53598fd-bb34-4ae1-b7e7-9aeddd5be881:29' labels=frozenset({'Continente'}) properties={'nome': 'America do Sul'}>\n",
            "Relationship r: <Relationship element_id='5:b53598fd-bb34-4ae1-b7e7-9aeddd5be881:1152922604118474769' nodes=(<Node element_id='4:b53598fd-bb34-4ae1-b7e7-9aeddd5be881:17' labels=frozenset({'Selecao'}) properties={'cores': ['Azul', 'Branco'], 'nome': 'Argentina'}>, <Node element_id='4:b53598fd-bb34-4ae1-b7e7-9aeddd5be881:29' labels=frozenset({'Continente'}) properties={'nome': 'America do Sul'}>) type='Pertence' properties={}>\n",
            "Node m: <Node element_id='4:b53598fd-bb34-4ae1-b7e7-9aeddd5be881:17' labels=frozenset({'Selecao'}) properties={'cores': ['Azul', 'Branco'], 'nome': 'Argentina'}>\n",
            "Node n: <Node element_id='4:b53598fd-bb34-4ae1-b7e7-9aeddd5be881:18' labels=frozenset({'Selecao'}) properties={'cores': ['Azul', 'Branco'], 'nome': 'Uruguai'}>\n",
            "Relationship r: <Relationship element_id='5:b53598fd-bb34-4ae1-b7e7-9aeddd5be881:1152922604118474770' nodes=(<Node element_id='4:b53598fd-bb34-4ae1-b7e7-9aeddd5be881:18' labels=frozenset({'Selecao'}) properties={'cores': ['Azul', 'Branco'], 'nome': 'Uruguai'}>, <Node element_id='4:b53598fd-bb34-4ae1-b7e7-9aeddd5be881:29' labels=frozenset({'Continente'}) properties={'nome': 'America do Sul'}>) type='Pertence' properties={}>\n",
            "Node m: <Node element_id='4:b53598fd-bb34-4ae1-b7e7-9aeddd5be881:29' labels=frozenset({'Continente'}) properties={'nome': 'America do Sul'}>\n",
            "Node n: <Node element_id='4:b53598fd-bb34-4ae1-b7e7-9aeddd5be881:29' labels=frozenset({'Continente'}) properties={'nome': 'America do Sul'}>\n",
            "Relationship r: <Relationship element_id='5:b53598fd-bb34-4ae1-b7e7-9aeddd5be881:1152922604118474770' nodes=(<Node element_id='4:b53598fd-bb34-4ae1-b7e7-9aeddd5be881:18' labels=frozenset({'Selecao'}) properties={'cores': ['Azul', 'Branco'], 'nome': 'Uruguai'}>, <Node element_id='4:b53598fd-bb34-4ae1-b7e7-9aeddd5be881:29' labels=frozenset({'Continente'}) properties={'nome': 'America do Sul'}>) type='Pertence' properties={}>\n",
            "Node m: <Node element_id='4:b53598fd-bb34-4ae1-b7e7-9aeddd5be881:18' labels=frozenset({'Selecao'}) properties={'cores': ['Azul', 'Branco'], 'nome': 'Uruguai'}>\n",
            "Node n: <Node element_id='4:b53598fd-bb34-4ae1-b7e7-9aeddd5be881:19' labels=frozenset({'Selecao'}) properties={'cores': ['Azul', 'Branco', 'Vermelho'], 'nome': 'Franca'}>\n",
            "Relationship r: <Relationship element_id='5:b53598fd-bb34-4ae1-b7e7-9aeddd5be881:1152922604118474771' nodes=(<Node element_id='4:b53598fd-bb34-4ae1-b7e7-9aeddd5be881:19' labels=frozenset({'Selecao'}) properties={'cores': ['Azul', 'Branco', 'Vermelho'], 'nome': 'Franca'}>, <Node element_id='4:b53598fd-bb34-4ae1-b7e7-9aeddd5be881:32' labels=frozenset({'Continente'}) properties={'nome': 'Europa'}>) type='Pertence' properties={}>\n",
            "Node m: <Node element_id='4:b53598fd-bb34-4ae1-b7e7-9aeddd5be881:32' labels=frozenset({'Continente'}) properties={'nome': 'Europa'}>\n",
            "Node n: <Node element_id='4:b53598fd-bb34-4ae1-b7e7-9aeddd5be881:32' labels=frozenset({'Continente'}) properties={'nome': 'Europa'}>\n",
            "Relationship r: <Relationship element_id='5:b53598fd-bb34-4ae1-b7e7-9aeddd5be881:1152922604118474771' nodes=(<Node element_id='4:b53598fd-bb34-4ae1-b7e7-9aeddd5be881:19' labels=frozenset({'Selecao'}) properties={'cores': ['Azul', 'Branco', 'Vermelho'], 'nome': 'Franca'}>, <Node element_id='4:b53598fd-bb34-4ae1-b7e7-9aeddd5be881:32' labels=frozenset({'Continente'}) properties={'nome': 'Europa'}>) type='Pertence' properties={}>\n",
            "Node m: <Node element_id='4:b53598fd-bb34-4ae1-b7e7-9aeddd5be881:19' labels=frozenset({'Selecao'}) properties={'cores': ['Azul', 'Branco', 'Vermelho'], 'nome': 'Franca'}>\n",
            "Node n: <Node element_id='4:b53598fd-bb34-4ae1-b7e7-9aeddd5be881:20' labels=frozenset({'Selecao'}) properties={'cores': ['Amarelo', 'Vermelho'], 'nome': 'Espanha'}>\n",
            "Relationship r: <Relationship element_id='5:b53598fd-bb34-4ae1-b7e7-9aeddd5be881:1152922604118474772' nodes=(<Node element_id='4:b53598fd-bb34-4ae1-b7e7-9aeddd5be881:20' labels=frozenset({'Selecao'}) properties={'cores': ['Amarelo', 'Vermelho'], 'nome': 'Espanha'}>, <Node element_id='4:b53598fd-bb34-4ae1-b7e7-9aeddd5be881:32' labels=frozenset({'Continente'}) properties={'nome': 'Europa'}>) type='Pertence' properties={}>\n",
            "Node m: <Node element_id='4:b53598fd-bb34-4ae1-b7e7-9aeddd5be881:32' labels=frozenset({'Continente'}) properties={'nome': 'Europa'}>\n",
            "Node n: <Node element_id='4:b53598fd-bb34-4ae1-b7e7-9aeddd5be881:32' labels=frozenset({'Continente'}) properties={'nome': 'Europa'}>\n",
            "Relationship r: <Relationship element_id='5:b53598fd-bb34-4ae1-b7e7-9aeddd5be881:1152922604118474772' nodes=(<Node element_id='4:b53598fd-bb34-4ae1-b7e7-9aeddd5be881:20' labels=frozenset({'Selecao'}) properties={'cores': ['Amarelo', 'Vermelho'], 'nome': 'Espanha'}>, <Node element_id='4:b53598fd-bb34-4ae1-b7e7-9aeddd5be881:32' labels=frozenset({'Continente'}) properties={'nome': 'Europa'}>) type='Pertence' properties={}>\n",
            "Node m: <Node element_id='4:b53598fd-bb34-4ae1-b7e7-9aeddd5be881:20' labels=frozenset({'Selecao'}) properties={'cores': ['Amarelo', 'Vermelho'], 'nome': 'Espanha'}>\n",
            "Node n: <Node element_id='4:b53598fd-bb34-4ae1-b7e7-9aeddd5be881:21' labels=frozenset({'Selecao'}) properties={'cores': ['Amarelo', 'Vermelho', 'Preto'], 'nome': 'Alemanha'}>\n",
            "Relationship r: <Relationship element_id='5:b53598fd-bb34-4ae1-b7e7-9aeddd5be881:1152922604118474773' nodes=(<Node element_id='4:b53598fd-bb34-4ae1-b7e7-9aeddd5be881:21' labels=frozenset({'Selecao'}) properties={'cores': ['Amarelo', 'Vermelho', 'Preto'], 'nome': 'Alemanha'}>, <Node element_id='4:b53598fd-bb34-4ae1-b7e7-9aeddd5be881:32' labels=frozenset({'Continente'}) properties={'nome': 'Europa'}>) type='Pertence' properties={}>\n",
            "Node m: <Node element_id='4:b53598fd-bb34-4ae1-b7e7-9aeddd5be881:32' labels=frozenset({'Continente'}) properties={'nome': 'Europa'}>\n",
            "Node n: <Node element_id='4:b53598fd-bb34-4ae1-b7e7-9aeddd5be881:32' labels=frozenset({'Continente'}) properties={'nome': 'Europa'}>\n",
            "Relationship r: <Relationship element_id='5:b53598fd-bb34-4ae1-b7e7-9aeddd5be881:1152922604118474773' nodes=(<Node element_id='4:b53598fd-bb34-4ae1-b7e7-9aeddd5be881:21' labels=frozenset({'Selecao'}) properties={'cores': ['Amarelo', 'Vermelho', 'Preto'], 'nome': 'Alemanha'}>, <Node element_id='4:b53598fd-bb34-4ae1-b7e7-9aeddd5be881:32' labels=frozenset({'Continente'}) properties={'nome': 'Europa'}>) type='Pertence' properties={}>\n",
            "Node m: <Node element_id='4:b53598fd-bb34-4ae1-b7e7-9aeddd5be881:21' labels=frozenset({'Selecao'}) properties={'cores': ['Amarelo', 'Vermelho', 'Preto'], 'nome': 'Alemanha'}>\n",
            "Node n: <Node element_id='4:b53598fd-bb34-4ae1-b7e7-9aeddd5be881:22' labels=frozenset({'Selecao'}) properties={'cores': ['Vermelho', 'Branco'], 'nome': 'Inglaterra'}>\n",
            "Relationship r: <Relationship element_id='5:b53598fd-bb34-4ae1-b7e7-9aeddd5be881:1152922604118474774' nodes=(<Node element_id='4:b53598fd-bb34-4ae1-b7e7-9aeddd5be881:22' labels=frozenset({'Selecao'}) properties={'cores': ['Vermelho', 'Branco'], 'nome': 'Inglaterra'}>, <Node element_id='4:b53598fd-bb34-4ae1-b7e7-9aeddd5be881:32' labels=frozenset({'Continente'}) properties={'nome': 'Europa'}>) type='Pertence' properties={}>\n",
            "Node m: <Node element_id='4:b53598fd-bb34-4ae1-b7e7-9aeddd5be881:32' labels=frozenset({'Continente'}) properties={'nome': 'Europa'}>\n",
            "Node n: <Node element_id='4:b53598fd-bb34-4ae1-b7e7-9aeddd5be881:32' labels=frozenset({'Continente'}) properties={'nome': 'Europa'}>\n",
            "Relationship r: <Relationship element_id='5:b53598fd-bb34-4ae1-b7e7-9aeddd5be881:1152922604118474774' nodes=(<Node element_id='4:b53598fd-bb34-4ae1-b7e7-9aeddd5be881:22' labels=frozenset({'Selecao'}) properties={'cores': ['Vermelho', 'Branco'], 'nome': 'Inglaterra'}>, <Node element_id='4:b53598fd-bb34-4ae1-b7e7-9aeddd5be881:32' labels=frozenset({'Continente'}) properties={'nome': 'Europa'}>) type='Pertence' properties={}>\n",
            "Node m: <Node element_id='4:b53598fd-bb34-4ae1-b7e7-9aeddd5be881:22' labels=frozenset({'Selecao'}) properties={'cores': ['Vermelho', 'Branco'], 'nome': 'Inglaterra'}>\n",
            "Node n: <Node element_id='4:b53598fd-bb34-4ae1-b7e7-9aeddd5be881:23' labels=frozenset({'Selecao'}) properties={'cores': ['Verde', 'Vermelho', 'Branco'], 'nome': 'Italia'}>\n",
            "Relationship r: <Relationship element_id='5:b53598fd-bb34-4ae1-b7e7-9aeddd5be881:1152922604118474775' nodes=(<Node element_id='4:b53598fd-bb34-4ae1-b7e7-9aeddd5be881:23' labels=frozenset({'Selecao'}) properties={'cores': ['Verde', 'Vermelho', 'Branco'], 'nome': 'Italia'}>, <Node element_id='4:b53598fd-bb34-4ae1-b7e7-9aeddd5be881:32' labels=frozenset({'Continente'}) properties={'nome': 'Europa'}>) type='Pertence' properties={}>\n",
            "Node m: <Node element_id='4:b53598fd-bb34-4ae1-b7e7-9aeddd5be881:32' labels=frozenset({'Continente'}) properties={'nome': 'Europa'}>\n",
            "Node n: <Node element_id='4:b53598fd-bb34-4ae1-b7e7-9aeddd5be881:32' labels=frozenset({'Continente'}) properties={'nome': 'Europa'}>\n",
            "Relationship r: <Relationship element_id='5:b53598fd-bb34-4ae1-b7e7-9aeddd5be881:1152922604118474775' nodes=(<Node element_id='4:b53598fd-bb34-4ae1-b7e7-9aeddd5be881:23' labels=frozenset({'Selecao'}) properties={'cores': ['Verde', 'Vermelho', 'Branco'], 'nome': 'Italia'}>, <Node element_id='4:b53598fd-bb34-4ae1-b7e7-9aeddd5be881:32' labels=frozenset({'Continente'}) properties={'nome': 'Europa'}>) type='Pertence' properties={}>\n",
            "Node m: <Node element_id='4:b53598fd-bb34-4ae1-b7e7-9aeddd5be881:23' labels=frozenset({'Selecao'}) properties={'cores': ['Verde', 'Vermelho', 'Branco'], 'nome': 'Italia'}>\n",
            "Node n: <Node element_id='4:b53598fd-bb34-4ae1-b7e7-9aeddd5be881:24' labels=frozenset({'Selecao'}) properties={'cores': ['Azul', 'Vermelho', 'Branco'], 'nome': 'Estados Unidos'}>\n",
            "Relationship r: <Relationship element_id='5:b53598fd-bb34-4ae1-b7e7-9aeddd5be881:1152922604118474776' nodes=(<Node element_id='4:b53598fd-bb34-4ae1-b7e7-9aeddd5be881:24' labels=frozenset({'Selecao'}) properties={'cores': ['Azul', 'Vermelho', 'Branco'], 'nome': 'Estados Unidos'}>, <Node element_id='4:b53598fd-bb34-4ae1-b7e7-9aeddd5be881:30' labels=frozenset({'Continente'}) properties={'nome': 'America do Norte'}>) type='Pertence' properties={}>\n",
            "Node m: <Node element_id='4:b53598fd-bb34-4ae1-b7e7-9aeddd5be881:30' labels=frozenset({'Continente'}) properties={'nome': 'America do Norte'}>\n",
            "Node n: <Node element_id='4:b53598fd-bb34-4ae1-b7e7-9aeddd5be881:30' labels=frozenset({'Continente'}) properties={'nome': 'America do Norte'}>\n",
            "Relationship r: <Relationship element_id='5:b53598fd-bb34-4ae1-b7e7-9aeddd5be881:1152922604118474776' nodes=(<Node element_id='4:b53598fd-bb34-4ae1-b7e7-9aeddd5be881:24' labels=frozenset({'Selecao'}) properties={'cores': ['Azul', 'Vermelho', 'Branco'], 'nome': 'Estados Unidos'}>, <Node element_id='4:b53598fd-bb34-4ae1-b7e7-9aeddd5be881:30' labels=frozenset({'Continente'}) properties={'nome': 'America do Norte'}>) type='Pertence' properties={}>\n",
            "Node m: <Node element_id='4:b53598fd-bb34-4ae1-b7e7-9aeddd5be881:24' labels=frozenset({'Selecao'}) properties={'cores': ['Azul', 'Vermelho', 'Branco'], 'nome': 'Estados Unidos'}>\n",
            "Node n: <Node element_id='4:b53598fd-bb34-4ae1-b7e7-9aeddd5be881:25' labels=frozenset({'Selecao'}) properties={'cores': ['Vermelho', 'Branco'], 'nome': 'Japao'}>\n",
            "Relationship r: <Relationship element_id='5:b53598fd-bb34-4ae1-b7e7-9aeddd5be881:1152922604118474777' nodes=(<Node element_id='4:b53598fd-bb34-4ae1-b7e7-9aeddd5be881:25' labels=frozenset({'Selecao'}) properties={'cores': ['Vermelho', 'Branco'], 'nome': 'Japao'}>, <Node element_id='4:b53598fd-bb34-4ae1-b7e7-9aeddd5be881:1' labels=frozenset({'Continente'}) properties={'nome': 'Asia'}>) type='Pertence' properties={}>\n",
            "Node m: <Node element_id='4:b53598fd-bb34-4ae1-b7e7-9aeddd5be881:1' labels=frozenset({'Continente'}) properties={'nome': 'Asia'}>\n",
            "Node n: <Node element_id='4:b53598fd-bb34-4ae1-b7e7-9aeddd5be881:1' labels=frozenset({'Continente'}) properties={'nome': 'Asia'}>\n",
            "Relationship r: <Relationship element_id='5:b53598fd-bb34-4ae1-b7e7-9aeddd5be881:1152922604118474777' nodes=(<Node element_id='4:b53598fd-bb34-4ae1-b7e7-9aeddd5be881:25' labels=frozenset({'Selecao'}) properties={'cores': ['Vermelho', 'Branco'], 'nome': 'Japao'}>, <Node element_id='4:b53598fd-bb34-4ae1-b7e7-9aeddd5be881:1' labels=frozenset({'Continente'}) properties={'nome': 'Asia'}>) type='Pertence' properties={}>\n",
            "Node m: <Node element_id='4:b53598fd-bb34-4ae1-b7e7-9aeddd5be881:25' labels=frozenset({'Selecao'}) properties={'cores': ['Vermelho', 'Branco'], 'nome': 'Japao'}>\n",
            "Node n: <Node element_id='4:b53598fd-bb34-4ae1-b7e7-9aeddd5be881:26' labels=frozenset({'Selecao'}) properties={'cores': ['Verde', 'Branco'], 'nome': 'Nigeria'}>\n",
            "Relationship r: <Relationship element_id='5:b53598fd-bb34-4ae1-b7e7-9aeddd5be881:1152922604118474778' nodes=(<Node element_id='4:b53598fd-bb34-4ae1-b7e7-9aeddd5be881:26' labels=frozenset({'Selecao'}) properties={'cores': ['Verde', 'Branco'], 'nome': 'Nigeria'}>, <Node element_id='4:b53598fd-bb34-4ae1-b7e7-9aeddd5be881:0' labels=frozenset({'Continente'}) properties={'nome': 'Africa'}>) type='Pertence' properties={}>\n",
            "Node m: <Node element_id='4:b53598fd-bb34-4ae1-b7e7-9aeddd5be881:0' labels=frozenset({'Continente'}) properties={'nome': 'Africa'}>\n",
            "Node n: <Node element_id='4:b53598fd-bb34-4ae1-b7e7-9aeddd5be881:0' labels=frozenset({'Continente'}) properties={'nome': 'Africa'}>\n",
            "Relationship r: <Relationship element_id='5:b53598fd-bb34-4ae1-b7e7-9aeddd5be881:1152922604118474778' nodes=(<Node element_id='4:b53598fd-bb34-4ae1-b7e7-9aeddd5be881:26' labels=frozenset({'Selecao'}) properties={'cores': ['Verde', 'Branco'], 'nome': 'Nigeria'}>, <Node element_id='4:b53598fd-bb34-4ae1-b7e7-9aeddd5be881:0' labels=frozenset({'Continente'}) properties={'nome': 'Africa'}>) type='Pertence' properties={}>\n",
            "Node m: <Node element_id='4:b53598fd-bb34-4ae1-b7e7-9aeddd5be881:26' labels=frozenset({'Selecao'}) properties={'cores': ['Verde', 'Branco'], 'nome': 'Nigeria'}>\n",
            "Node n: <Node element_id='4:b53598fd-bb34-4ae1-b7e7-9aeddd5be881:27' labels=frozenset({'Selecao'}) properties={'cores': ['Vermelho', 'Branco'], 'nome': 'Canada'}>\n",
            "Relationship r: <Relationship element_id='5:b53598fd-bb34-4ae1-b7e7-9aeddd5be881:1152922604118474779' nodes=(<Node element_id='4:b53598fd-bb34-4ae1-b7e7-9aeddd5be881:27' labels=frozenset({'Selecao'}) properties={'cores': ['Vermelho', 'Branco'], 'nome': 'Canada'}>, <Node element_id='4:b53598fd-bb34-4ae1-b7e7-9aeddd5be881:30' labels=frozenset({'Continente'}) properties={'nome': 'America do Norte'}>) type='Pertence' properties={}>\n",
            "Node m: <Node element_id='4:b53598fd-bb34-4ae1-b7e7-9aeddd5be881:30' labels=frozenset({'Continente'}) properties={'nome': 'America do Norte'}>\n",
            "Node n: <Node element_id='4:b53598fd-bb34-4ae1-b7e7-9aeddd5be881:30' labels=frozenset({'Continente'}) properties={'nome': 'America do Norte'}>\n",
            "Relationship r: <Relationship element_id='5:b53598fd-bb34-4ae1-b7e7-9aeddd5be881:1152922604118474779' nodes=(<Node element_id='4:b53598fd-bb34-4ae1-b7e7-9aeddd5be881:27' labels=frozenset({'Selecao'}) properties={'cores': ['Vermelho', 'Branco'], 'nome': 'Canada'}>, <Node element_id='4:b53598fd-bb34-4ae1-b7e7-9aeddd5be881:30' labels=frozenset({'Continente'}) properties={'nome': 'America do Norte'}>) type='Pertence' properties={}>\n",
            "Node m: <Node element_id='4:b53598fd-bb34-4ae1-b7e7-9aeddd5be881:27' labels=frozenset({'Selecao'}) properties={'cores': ['Vermelho', 'Branco'], 'nome': 'Canada'}>\n",
            "Node n: <Node element_id='4:b53598fd-bb34-4ae1-b7e7-9aeddd5be881:28' labels=frozenset({'Selecao'}) properties={'cores': ['Amarelo', 'Vermelho', 'Azul'], 'nome': 'Colombia'}>\n",
            "Relationship r: <Relationship element_id='5:b53598fd-bb34-4ae1-b7e7-9aeddd5be881:1152922604118474780' nodes=(<Node element_id='4:b53598fd-bb34-4ae1-b7e7-9aeddd5be881:28' labels=frozenset({'Selecao'}) properties={'cores': ['Amarelo', 'Vermelho', 'Azul'], 'nome': 'Colombia'}>, <Node element_id='4:b53598fd-bb34-4ae1-b7e7-9aeddd5be881:29' labels=frozenset({'Continente'}) properties={'nome': 'America do Sul'}>) type='Pertence' properties={}>\n",
            "Node m: <Node element_id='4:b53598fd-bb34-4ae1-b7e7-9aeddd5be881:29' labels=frozenset({'Continente'}) properties={'nome': 'America do Sul'}>\n",
            "Node n: <Node element_id='4:b53598fd-bb34-4ae1-b7e7-9aeddd5be881:29' labels=frozenset({'Continente'}) properties={'nome': 'America do Sul'}>\n",
            "Relationship r: <Relationship element_id='5:b53598fd-bb34-4ae1-b7e7-9aeddd5be881:1152922604118474780' nodes=(<Node element_id='4:b53598fd-bb34-4ae1-b7e7-9aeddd5be881:28' labels=frozenset({'Selecao'}) properties={'cores': ['Amarelo', 'Vermelho', 'Azul'], 'nome': 'Colombia'}>, <Node element_id='4:b53598fd-bb34-4ae1-b7e7-9aeddd5be881:29' labels=frozenset({'Continente'}) properties={'nome': 'America do Sul'}>) type='Pertence' properties={}>\n",
            "Node m: <Node element_id='4:b53598fd-bb34-4ae1-b7e7-9aeddd5be881:28' labels=frozenset({'Selecao'}) properties={'cores': ['Amarelo', 'Vermelho', 'Azul'], 'nome': 'Colombia'}>\n",
            "Node n: <Node element_id='4:b53598fd-bb34-4ae1-b7e7-9aeddd5be881:29' labels=frozenset({'Continente'}) properties={'nome': 'America do Sul'}>\n",
            "Relationship r: <Relationship element_id='5:b53598fd-bb34-4ae1-b7e7-9aeddd5be881:1157427303257473053' nodes=(<Node element_id='4:b53598fd-bb34-4ae1-b7e7-9aeddd5be881:29' labels=frozenset({'Continente'}) properties={'nome': 'America do Sul'}>, <Node element_id='4:b53598fd-bb34-4ae1-b7e7-9aeddd5be881:16' labels=frozenset({'Selecao'}) properties={'cores': ['Verde', 'Amarelo'], 'nome': 'Brasil'}>) type='Contem' properties={}>\n",
            "Node m: <Node element_id='4:b53598fd-bb34-4ae1-b7e7-9aeddd5be881:16' labels=frozenset({'Selecao'}) properties={'cores': ['Verde', 'Amarelo'], 'nome': 'Brasil'}>\n",
            "Node n: <Node element_id='4:b53598fd-bb34-4ae1-b7e7-9aeddd5be881:16' labels=frozenset({'Selecao'}) properties={'cores': ['Verde', 'Amarelo'], 'nome': 'Brasil'}>\n",
            "Relationship r: <Relationship element_id='5:b53598fd-bb34-4ae1-b7e7-9aeddd5be881:1157427303257473053' nodes=(<Node element_id='4:b53598fd-bb34-4ae1-b7e7-9aeddd5be881:29' labels=frozenset({'Continente'}) properties={'nome': 'America do Sul'}>, <Node element_id='4:b53598fd-bb34-4ae1-b7e7-9aeddd5be881:16' labels=frozenset({'Selecao'}) properties={'cores': ['Verde', 'Amarelo'], 'nome': 'Brasil'}>) type='Contem' properties={}>\n",
            "Node m: <Node element_id='4:b53598fd-bb34-4ae1-b7e7-9aeddd5be881:29' labels=frozenset({'Continente'}) properties={'nome': 'America do Sul'}>\n",
            "Node n: <Node element_id='4:b53598fd-bb34-4ae1-b7e7-9aeddd5be881:29' labels=frozenset({'Continente'}) properties={'nome': 'America do Sul'}>\n",
            "Relationship r: <Relationship element_id='5:b53598fd-bb34-4ae1-b7e7-9aeddd5be881:1159679103071158301' nodes=(<Node element_id='4:b53598fd-bb34-4ae1-b7e7-9aeddd5be881:29' labels=frozenset({'Continente'}) properties={'nome': 'America do Sul'}>, <Node element_id='4:b53598fd-bb34-4ae1-b7e7-9aeddd5be881:17' labels=frozenset({'Selecao'}) properties={'cores': ['Azul', 'Branco'], 'nome': 'Argentina'}>) type='Contem' properties={}>\n",
            "Node m: <Node element_id='4:b53598fd-bb34-4ae1-b7e7-9aeddd5be881:17' labels=frozenset({'Selecao'}) properties={'cores': ['Azul', 'Branco'], 'nome': 'Argentina'}>\n",
            "Node n: <Node element_id='4:b53598fd-bb34-4ae1-b7e7-9aeddd5be881:17' labels=frozenset({'Selecao'}) properties={'cores': ['Azul', 'Branco'], 'nome': 'Argentina'}>\n",
            "Relationship r: <Relationship element_id='5:b53598fd-bb34-4ae1-b7e7-9aeddd5be881:1159679103071158301' nodes=(<Node element_id='4:b53598fd-bb34-4ae1-b7e7-9aeddd5be881:29' labels=frozenset({'Continente'}) properties={'nome': 'America do Sul'}>, <Node element_id='4:b53598fd-bb34-4ae1-b7e7-9aeddd5be881:17' labels=frozenset({'Selecao'}) properties={'cores': ['Azul', 'Branco'], 'nome': 'Argentina'}>) type='Contem' properties={}>\n",
            "Node m: <Node element_id='4:b53598fd-bb34-4ae1-b7e7-9aeddd5be881:29' labels=frozenset({'Continente'}) properties={'nome': 'America do Sul'}>\n",
            "Node n: <Node element_id='4:b53598fd-bb34-4ae1-b7e7-9aeddd5be881:29' labels=frozenset({'Continente'}) properties={'nome': 'America do Sul'}>\n",
            "Relationship r: <Relationship element_id='5:b53598fd-bb34-4ae1-b7e7-9aeddd5be881:1161930902884843549' nodes=(<Node element_id='4:b53598fd-bb34-4ae1-b7e7-9aeddd5be881:29' labels=frozenset({'Continente'}) properties={'nome': 'America do Sul'}>, <Node element_id='4:b53598fd-bb34-4ae1-b7e7-9aeddd5be881:18' labels=frozenset({'Selecao'}) properties={'cores': ['Azul', 'Branco'], 'nome': 'Uruguai'}>) type='Contem' properties={}>\n",
            "Node m: <Node element_id='4:b53598fd-bb34-4ae1-b7e7-9aeddd5be881:18' labels=frozenset({'Selecao'}) properties={'cores': ['Azul', 'Branco'], 'nome': 'Uruguai'}>\n",
            "Node n: <Node element_id='4:b53598fd-bb34-4ae1-b7e7-9aeddd5be881:18' labels=frozenset({'Selecao'}) properties={'cores': ['Azul', 'Branco'], 'nome': 'Uruguai'}>\n",
            "Relationship r: <Relationship element_id='5:b53598fd-bb34-4ae1-b7e7-9aeddd5be881:1161930902884843549' nodes=(<Node element_id='4:b53598fd-bb34-4ae1-b7e7-9aeddd5be881:29' labels=frozenset({'Continente'}) properties={'nome': 'America do Sul'}>, <Node element_id='4:b53598fd-bb34-4ae1-b7e7-9aeddd5be881:18' labels=frozenset({'Selecao'}) properties={'cores': ['Azul', 'Branco'], 'nome': 'Uruguai'}>) type='Contem' properties={}>\n",
            "Node m: <Node element_id='4:b53598fd-bb34-4ae1-b7e7-9aeddd5be881:29' labels=frozenset({'Continente'}) properties={'nome': 'America do Sul'}>\n",
            "Node n: <Node element_id='4:b53598fd-bb34-4ae1-b7e7-9aeddd5be881:29' labels=frozenset({'Continente'}) properties={'nome': 'America do Sul'}>\n",
            "Relationship r: <Relationship element_id='5:b53598fd-bb34-4ae1-b7e7-9aeddd5be881:1152923703630102557' nodes=(<Node element_id='4:b53598fd-bb34-4ae1-b7e7-9aeddd5be881:29' labels=frozenset({'Continente'}) properties={'nome': 'America do Sul'}>, <Node element_id='4:b53598fd-bb34-4ae1-b7e7-9aeddd5be881:28' labels=frozenset({'Selecao'}) properties={'cores': ['Amarelo', 'Vermelho', 'Azul'], 'nome': 'Colombia'}>) type='Contem' properties={}>\n",
            "Node m: <Node element_id='4:b53598fd-bb34-4ae1-b7e7-9aeddd5be881:28' labels=frozenset({'Selecao'}) properties={'cores': ['Amarelo', 'Vermelho', 'Azul'], 'nome': 'Colombia'}>\n",
            "Node n: <Node element_id='4:b53598fd-bb34-4ae1-b7e7-9aeddd5be881:28' labels=frozenset({'Selecao'}) properties={'cores': ['Amarelo', 'Vermelho', 'Azul'], 'nome': 'Colombia'}>\n",
            "Relationship r: <Relationship element_id='5:b53598fd-bb34-4ae1-b7e7-9aeddd5be881:1152923703630102557' nodes=(<Node element_id='4:b53598fd-bb34-4ae1-b7e7-9aeddd5be881:29' labels=frozenset({'Continente'}) properties={'nome': 'America do Sul'}>, <Node element_id='4:b53598fd-bb34-4ae1-b7e7-9aeddd5be881:28' labels=frozenset({'Selecao'}) properties={'cores': ['Amarelo', 'Vermelho', 'Azul'], 'nome': 'Colombia'}>) type='Contem' properties={}>\n",
            "Node m: <Node element_id='4:b53598fd-bb34-4ae1-b7e7-9aeddd5be881:29' labels=frozenset({'Continente'}) properties={'nome': 'America do Sul'}>\n",
            "Node n: <Node element_id='4:b53598fd-bb34-4ae1-b7e7-9aeddd5be881:30' labels=frozenset({'Continente'}) properties={'nome': 'America do Norte'}>\n",
            "Relationship r: <Relationship element_id='5:b53598fd-bb34-4ae1-b7e7-9aeddd5be881:1152923703630102558' nodes=(<Node element_id='4:b53598fd-bb34-4ae1-b7e7-9aeddd5be881:30' labels=frozenset({'Continente'}) properties={'nome': 'America do Norte'}>, <Node element_id='4:b53598fd-bb34-4ae1-b7e7-9aeddd5be881:24' labels=frozenset({'Selecao'}) properties={'cores': ['Azul', 'Vermelho', 'Branco'], 'nome': 'Estados Unidos'}>) type='Contem' properties={}>\n",
            "Node m: <Node element_id='4:b53598fd-bb34-4ae1-b7e7-9aeddd5be881:24' labels=frozenset({'Selecao'}) properties={'cores': ['Azul', 'Vermelho', 'Branco'], 'nome': 'Estados Unidos'}>\n",
            "Node n: <Node element_id='4:b53598fd-bb34-4ae1-b7e7-9aeddd5be881:24' labels=frozenset({'Selecao'}) properties={'cores': ['Azul', 'Vermelho', 'Branco'], 'nome': 'Estados Unidos'}>\n",
            "Relationship r: <Relationship element_id='5:b53598fd-bb34-4ae1-b7e7-9aeddd5be881:1152923703630102558' nodes=(<Node element_id='4:b53598fd-bb34-4ae1-b7e7-9aeddd5be881:30' labels=frozenset({'Continente'}) properties={'nome': 'America do Norte'}>, <Node element_id='4:b53598fd-bb34-4ae1-b7e7-9aeddd5be881:24' labels=frozenset({'Selecao'}) properties={'cores': ['Azul', 'Vermelho', 'Branco'], 'nome': 'Estados Unidos'}>) type='Contem' properties={}>\n",
            "Node m: <Node element_id='4:b53598fd-bb34-4ae1-b7e7-9aeddd5be881:30' labels=frozenset({'Continente'}) properties={'nome': 'America do Norte'}>\n",
            "Node n: <Node element_id='4:b53598fd-bb34-4ae1-b7e7-9aeddd5be881:30' labels=frozenset({'Continente'}) properties={'nome': 'America do Norte'}>\n",
            "Relationship r: <Relationship element_id='5:b53598fd-bb34-4ae1-b7e7-9aeddd5be881:1155175503443787806' nodes=(<Node element_id='4:b53598fd-bb34-4ae1-b7e7-9aeddd5be881:30' labels=frozenset({'Continente'}) properties={'nome': 'America do Norte'}>, <Node element_id='4:b53598fd-bb34-4ae1-b7e7-9aeddd5be881:27' labels=frozenset({'Selecao'}) properties={'cores': ['Vermelho', 'Branco'], 'nome': 'Canada'}>) type='Contem' properties={}>\n",
            "Node m: <Node element_id='4:b53598fd-bb34-4ae1-b7e7-9aeddd5be881:27' labels=frozenset({'Selecao'}) properties={'cores': ['Vermelho', 'Branco'], 'nome': 'Canada'}>\n",
            "Node n: <Node element_id='4:b53598fd-bb34-4ae1-b7e7-9aeddd5be881:27' labels=frozenset({'Selecao'}) properties={'cores': ['Vermelho', 'Branco'], 'nome': 'Canada'}>\n",
            "Relationship r: <Relationship element_id='5:b53598fd-bb34-4ae1-b7e7-9aeddd5be881:1155175503443787806' nodes=(<Node element_id='4:b53598fd-bb34-4ae1-b7e7-9aeddd5be881:30' labels=frozenset({'Continente'}) properties={'nome': 'America do Norte'}>, <Node element_id='4:b53598fd-bb34-4ae1-b7e7-9aeddd5be881:27' labels=frozenset({'Selecao'}) properties={'cores': ['Vermelho', 'Branco'], 'nome': 'Canada'}>) type='Contem' properties={}>\n",
            "Node m: <Node element_id='4:b53598fd-bb34-4ae1-b7e7-9aeddd5be881:30' labels=frozenset({'Continente'}) properties={'nome': 'America do Norte'}>\n",
            "Node n: <Node element_id='4:b53598fd-bb34-4ae1-b7e7-9aeddd5be881:32' labels=frozenset({'Continente'}) properties={'nome': 'Europa'}>\n",
            "Relationship r: <Relationship element_id='5:b53598fd-bb34-4ae1-b7e7-9aeddd5be881:1164182702698528800' nodes=(<Node element_id='4:b53598fd-bb34-4ae1-b7e7-9aeddd5be881:32' labels=frozenset({'Continente'}) properties={'nome': 'Europa'}>, <Node element_id='4:b53598fd-bb34-4ae1-b7e7-9aeddd5be881:4' labels=frozenset({'Selecao'}) properties={'cores': ['Verde, Vermelho', 'Amarelo', 'Branco', 'Azul'], 'nome': 'Portugal'}>) type='Contem' properties={}>\n",
            "Node m: <Node element_id='4:b53598fd-bb34-4ae1-b7e7-9aeddd5be881:4' labels=frozenset({'Selecao'}) properties={'cores': ['Verde, Vermelho', 'Amarelo', 'Branco', 'Azul'], 'nome': 'Portugal'}>\n",
            "Node n: <Node element_id='4:b53598fd-bb34-4ae1-b7e7-9aeddd5be881:4' labels=frozenset({'Selecao'}) properties={'cores': ['Verde, Vermelho', 'Amarelo', 'Branco', 'Azul'], 'nome': 'Portugal'}>\n",
            "Relationship r: <Relationship element_id='5:b53598fd-bb34-4ae1-b7e7-9aeddd5be881:1164182702698528800' nodes=(<Node element_id='4:b53598fd-bb34-4ae1-b7e7-9aeddd5be881:32' labels=frozenset({'Continente'}) properties={'nome': 'Europa'}>, <Node element_id='4:b53598fd-bb34-4ae1-b7e7-9aeddd5be881:4' labels=frozenset({'Selecao'}) properties={'cores': ['Verde, Vermelho', 'Amarelo', 'Branco', 'Azul'], 'nome': 'Portugal'}>) type='Contem' properties={}>\n",
            "Node m: <Node element_id='4:b53598fd-bb34-4ae1-b7e7-9aeddd5be881:32' labels=frozenset({'Continente'}) properties={'nome': 'Europa'}>\n",
            "Node n: <Node element_id='4:b53598fd-bb34-4ae1-b7e7-9aeddd5be881:32' labels=frozenset({'Continente'}) properties={'nome': 'Europa'}>\n",
            "Relationship r: <Relationship element_id='5:b53598fd-bb34-4ae1-b7e7-9aeddd5be881:1152923703630102560' nodes=(<Node element_id='4:b53598fd-bb34-4ae1-b7e7-9aeddd5be881:32' labels=frozenset({'Continente'}) properties={'nome': 'Europa'}>, <Node element_id='4:b53598fd-bb34-4ae1-b7e7-9aeddd5be881:19' labels=frozenset({'Selecao'}) properties={'cores': ['Azul', 'Branco', 'Vermelho'], 'nome': 'Franca'}>) type='Contem' properties={}>\n",
            "Node m: <Node element_id='4:b53598fd-bb34-4ae1-b7e7-9aeddd5be881:19' labels=frozenset({'Selecao'}) properties={'cores': ['Azul', 'Branco', 'Vermelho'], 'nome': 'Franca'}>\n",
            "Node n: <Node element_id='4:b53598fd-bb34-4ae1-b7e7-9aeddd5be881:19' labels=frozenset({'Selecao'}) properties={'cores': ['Azul', 'Branco', 'Vermelho'], 'nome': 'Franca'}>\n",
            "Relationship r: <Relationship element_id='5:b53598fd-bb34-4ae1-b7e7-9aeddd5be881:1152923703630102560' nodes=(<Node element_id='4:b53598fd-bb34-4ae1-b7e7-9aeddd5be881:32' labels=frozenset({'Continente'}) properties={'nome': 'Europa'}>, <Node element_id='4:b53598fd-bb34-4ae1-b7e7-9aeddd5be881:19' labels=frozenset({'Selecao'}) properties={'cores': ['Azul', 'Branco', 'Vermelho'], 'nome': 'Franca'}>) type='Contem' properties={}>\n",
            "Node m: <Node element_id='4:b53598fd-bb34-4ae1-b7e7-9aeddd5be881:32' labels=frozenset({'Continente'}) properties={'nome': 'Europa'}>\n",
            "Node n: <Node element_id='4:b53598fd-bb34-4ae1-b7e7-9aeddd5be881:32' labels=frozenset({'Continente'}) properties={'nome': 'Europa'}>\n",
            "Relationship r: <Relationship element_id='5:b53598fd-bb34-4ae1-b7e7-9aeddd5be881:1155175503443787808' nodes=(<Node element_id='4:b53598fd-bb34-4ae1-b7e7-9aeddd5be881:32' labels=frozenset({'Continente'}) properties={'nome': 'Europa'}>, <Node element_id='4:b53598fd-bb34-4ae1-b7e7-9aeddd5be881:20' labels=frozenset({'Selecao'}) properties={'cores': ['Amarelo', 'Vermelho'], 'nome': 'Espanha'}>) type='Contem' properties={}>\n",
            "Node m: <Node element_id='4:b53598fd-bb34-4ae1-b7e7-9aeddd5be881:20' labels=frozenset({'Selecao'}) properties={'cores': ['Amarelo', 'Vermelho'], 'nome': 'Espanha'}>\n",
            "Node n: <Node element_id='4:b53598fd-bb34-4ae1-b7e7-9aeddd5be881:20' labels=frozenset({'Selecao'}) properties={'cores': ['Amarelo', 'Vermelho'], 'nome': 'Espanha'}>\n",
            "Relationship r: <Relationship element_id='5:b53598fd-bb34-4ae1-b7e7-9aeddd5be881:1155175503443787808' nodes=(<Node element_id='4:b53598fd-bb34-4ae1-b7e7-9aeddd5be881:32' labels=frozenset({'Continente'}) properties={'nome': 'Europa'}>, <Node element_id='4:b53598fd-bb34-4ae1-b7e7-9aeddd5be881:20' labels=frozenset({'Selecao'}) properties={'cores': ['Amarelo', 'Vermelho'], 'nome': 'Espanha'}>) type='Contem' properties={}>\n",
            "Node m: <Node element_id='4:b53598fd-bb34-4ae1-b7e7-9aeddd5be881:32' labels=frozenset({'Continente'}) properties={'nome': 'Europa'}>\n",
            "Node n: <Node element_id='4:b53598fd-bb34-4ae1-b7e7-9aeddd5be881:32' labels=frozenset({'Continente'}) properties={'nome': 'Europa'}>\n",
            "Relationship r: <Relationship element_id='5:b53598fd-bb34-4ae1-b7e7-9aeddd5be881:1157427303257473056' nodes=(<Node element_id='4:b53598fd-bb34-4ae1-b7e7-9aeddd5be881:32' labels=frozenset({'Continente'}) properties={'nome': 'Europa'}>, <Node element_id='4:b53598fd-bb34-4ae1-b7e7-9aeddd5be881:21' labels=frozenset({'Selecao'}) properties={'cores': ['Amarelo', 'Vermelho', 'Preto'], 'nome': 'Alemanha'}>) type='Contem' properties={}>\n",
            "Node m: <Node element_id='4:b53598fd-bb34-4ae1-b7e7-9aeddd5be881:21' labels=frozenset({'Selecao'}) properties={'cores': ['Amarelo', 'Vermelho', 'Preto'], 'nome': 'Alemanha'}>\n",
            "Node n: <Node element_id='4:b53598fd-bb34-4ae1-b7e7-9aeddd5be881:21' labels=frozenset({'Selecao'}) properties={'cores': ['Amarelo', 'Vermelho', 'Preto'], 'nome': 'Alemanha'}>\n",
            "Relationship r: <Relationship element_id='5:b53598fd-bb34-4ae1-b7e7-9aeddd5be881:1157427303257473056' nodes=(<Node element_id='4:b53598fd-bb34-4ae1-b7e7-9aeddd5be881:32' labels=frozenset({'Continente'}) properties={'nome': 'Europa'}>, <Node element_id='4:b53598fd-bb34-4ae1-b7e7-9aeddd5be881:21' labels=frozenset({'Selecao'}) properties={'cores': ['Amarelo', 'Vermelho', 'Preto'], 'nome': 'Alemanha'}>) type='Contem' properties={}>\n",
            "Node m: <Node element_id='4:b53598fd-bb34-4ae1-b7e7-9aeddd5be881:32' labels=frozenset({'Continente'}) properties={'nome': 'Europa'}>\n",
            "Node n: <Node element_id='4:b53598fd-bb34-4ae1-b7e7-9aeddd5be881:32' labels=frozenset({'Continente'}) properties={'nome': 'Europa'}>\n",
            "Relationship r: <Relationship element_id='5:b53598fd-bb34-4ae1-b7e7-9aeddd5be881:1159679103071158304' nodes=(<Node element_id='4:b53598fd-bb34-4ae1-b7e7-9aeddd5be881:32' labels=frozenset({'Continente'}) properties={'nome': 'Europa'}>, <Node element_id='4:b53598fd-bb34-4ae1-b7e7-9aeddd5be881:22' labels=frozenset({'Selecao'}) properties={'cores': ['Vermelho', 'Branco'], 'nome': 'Inglaterra'}>) type='Contem' properties={}>\n",
            "Node m: <Node element_id='4:b53598fd-bb34-4ae1-b7e7-9aeddd5be881:22' labels=frozenset({'Selecao'}) properties={'cores': ['Vermelho', 'Branco'], 'nome': 'Inglaterra'}>\n",
            "Node n: <Node element_id='4:b53598fd-bb34-4ae1-b7e7-9aeddd5be881:22' labels=frozenset({'Selecao'}) properties={'cores': ['Vermelho', 'Branco'], 'nome': 'Inglaterra'}>\n",
            "Relationship r: <Relationship element_id='5:b53598fd-bb34-4ae1-b7e7-9aeddd5be881:1159679103071158304' nodes=(<Node element_id='4:b53598fd-bb34-4ae1-b7e7-9aeddd5be881:32' labels=frozenset({'Continente'}) properties={'nome': 'Europa'}>, <Node element_id='4:b53598fd-bb34-4ae1-b7e7-9aeddd5be881:22' labels=frozenset({'Selecao'}) properties={'cores': ['Vermelho', 'Branco'], 'nome': 'Inglaterra'}>) type='Contem' properties={}>\n",
            "Node m: <Node element_id='4:b53598fd-bb34-4ae1-b7e7-9aeddd5be881:32' labels=frozenset({'Continente'}) properties={'nome': 'Europa'}>\n",
            "Node n: <Node element_id='4:b53598fd-bb34-4ae1-b7e7-9aeddd5be881:32' labels=frozenset({'Continente'}) properties={'nome': 'Europa'}>\n",
            "Relationship r: <Relationship element_id='5:b53598fd-bb34-4ae1-b7e7-9aeddd5be881:1161930902884843552' nodes=(<Node element_id='4:b53598fd-bb34-4ae1-b7e7-9aeddd5be881:32' labels=frozenset({'Continente'}) properties={'nome': 'Europa'}>, <Node element_id='4:b53598fd-bb34-4ae1-b7e7-9aeddd5be881:23' labels=frozenset({'Selecao'}) properties={'cores': ['Verde', 'Vermelho', 'Branco'], 'nome': 'Italia'}>) type='Contem' properties={}>\n",
            "Node m: <Node element_id='4:b53598fd-bb34-4ae1-b7e7-9aeddd5be881:23' labels=frozenset({'Selecao'}) properties={'cores': ['Verde', 'Vermelho', 'Branco'], 'nome': 'Italia'}>\n",
            "Node n: <Node element_id='4:b53598fd-bb34-4ae1-b7e7-9aeddd5be881:23' labels=frozenset({'Selecao'}) properties={'cores': ['Verde', 'Vermelho', 'Branco'], 'nome': 'Italia'}>\n",
            "Relationship r: <Relationship element_id='5:b53598fd-bb34-4ae1-b7e7-9aeddd5be881:1161930902884843552' nodes=(<Node element_id='4:b53598fd-bb34-4ae1-b7e7-9aeddd5be881:32' labels=frozenset({'Continente'}) properties={'nome': 'Europa'}>, <Node element_id='4:b53598fd-bb34-4ae1-b7e7-9aeddd5be881:23' labels=frozenset({'Selecao'}) properties={'cores': ['Verde', 'Vermelho', 'Branco'], 'nome': 'Italia'}>) type='Contem' properties={}>\n",
            "Node m: <Node element_id='4:b53598fd-bb34-4ae1-b7e7-9aeddd5be881:32' labels=frozenset({'Continente'}) properties={'nome': 'Europa'}>\n"
          ]
        }
      ]
    },
    {
      "cell_type": "markdown",
      "source": [
        "Verificando os nodes:"
      ],
      "metadata": {
        "id": "TPxPuepq96Yi"
      }
    },
    {
      "cell_type": "code",
      "source": [
        "q1 = \"MATCH (x) RETURN x\"\n",
        "\n",
        "# Abrir uma sessão e executar a consulta\n",
        "with driver.session() as session:\n",
        "    result = session.run(q1)\n",
        "\n",
        "    # Processar os resultados\n",
        "    for record in result:\n",
        "        node = record[\"x\"]\n",
        "        print(node)"
      ],
      "metadata": {
        "colab": {
          "base_uri": "https://localhost:8080/"
        },
        "id": "cQyOR1k0e4rW",
        "outputId": "dbb058b6-c790-49cc-aa30-edd313c9777a"
      },
      "execution_count": 733,
      "outputs": [
        {
          "output_type": "stream",
          "name": "stdout",
          "text": [
            "<Node element_id='4:b53598fd-bb34-4ae1-b7e7-9aeddd5be881:0' labels=frozenset({'Continente'}) properties={'nome': 'Africa'}>\n",
            "<Node element_id='4:b53598fd-bb34-4ae1-b7e7-9aeddd5be881:1' labels=frozenset({'Continente'}) properties={'nome': 'Asia'}>\n",
            "<Node element_id='4:b53598fd-bb34-4ae1-b7e7-9aeddd5be881:4' labels=frozenset({'Selecao'}) properties={'cores': ['Verde, Vermelho', 'Amarelo', 'Branco', 'Azul'], 'nome': 'Portugal'}>\n",
            "<Node element_id='4:b53598fd-bb34-4ae1-b7e7-9aeddd5be881:5' labels=frozenset({'Terra'}) properties={'nome': 'Terra'}>\n",
            "<Node element_id='4:b53598fd-bb34-4ae1-b7e7-9aeddd5be881:16' labels=frozenset({'Selecao'}) properties={'cores': ['Verde', 'Amarelo'], 'nome': 'Brasil'}>\n",
            "<Node element_id='4:b53598fd-bb34-4ae1-b7e7-9aeddd5be881:17' labels=frozenset({'Selecao'}) properties={'cores': ['Azul', 'Branco'], 'nome': 'Argentina'}>\n",
            "<Node element_id='4:b53598fd-bb34-4ae1-b7e7-9aeddd5be881:18' labels=frozenset({'Selecao'}) properties={'cores': ['Azul', 'Branco'], 'nome': 'Uruguai'}>\n",
            "<Node element_id='4:b53598fd-bb34-4ae1-b7e7-9aeddd5be881:19' labels=frozenset({'Selecao'}) properties={'cores': ['Azul', 'Branco', 'Vermelho'], 'nome': 'Franca'}>\n",
            "<Node element_id='4:b53598fd-bb34-4ae1-b7e7-9aeddd5be881:20' labels=frozenset({'Selecao'}) properties={'cores': ['Amarelo', 'Vermelho'], 'nome': 'Espanha'}>\n",
            "<Node element_id='4:b53598fd-bb34-4ae1-b7e7-9aeddd5be881:21' labels=frozenset({'Selecao'}) properties={'cores': ['Amarelo', 'Vermelho', 'Preto'], 'nome': 'Alemanha'}>\n",
            "<Node element_id='4:b53598fd-bb34-4ae1-b7e7-9aeddd5be881:22' labels=frozenset({'Selecao'}) properties={'cores': ['Vermelho', 'Branco'], 'nome': 'Inglaterra'}>\n",
            "<Node element_id='4:b53598fd-bb34-4ae1-b7e7-9aeddd5be881:23' labels=frozenset({'Selecao'}) properties={'cores': ['Verde', 'Vermelho', 'Branco'], 'nome': 'Italia'}>\n",
            "<Node element_id='4:b53598fd-bb34-4ae1-b7e7-9aeddd5be881:24' labels=frozenset({'Selecao'}) properties={'cores': ['Azul', 'Vermelho', 'Branco'], 'nome': 'Estados Unidos'}>\n",
            "<Node element_id='4:b53598fd-bb34-4ae1-b7e7-9aeddd5be881:25' labels=frozenset({'Selecao'}) properties={'cores': ['Vermelho', 'Branco'], 'nome': 'Japao'}>\n",
            "<Node element_id='4:b53598fd-bb34-4ae1-b7e7-9aeddd5be881:26' labels=frozenset({'Selecao'}) properties={'cores': ['Verde', 'Branco'], 'nome': 'Nigeria'}>\n",
            "<Node element_id='4:b53598fd-bb34-4ae1-b7e7-9aeddd5be881:27' labels=frozenset({'Selecao'}) properties={'cores': ['Vermelho', 'Branco'], 'nome': 'Canada'}>\n",
            "<Node element_id='4:b53598fd-bb34-4ae1-b7e7-9aeddd5be881:28' labels=frozenset({'Selecao'}) properties={'cores': ['Amarelo', 'Vermelho', 'Azul'], 'nome': 'Colombia'}>\n",
            "<Node element_id='4:b53598fd-bb34-4ae1-b7e7-9aeddd5be881:29' labels=frozenset({'Continente'}) properties={'nome': 'America do Sul'}>\n",
            "<Node element_id='4:b53598fd-bb34-4ae1-b7e7-9aeddd5be881:30' labels=frozenset({'Continente'}) properties={'nome': 'America do Norte'}>\n",
            "<Node element_id='4:b53598fd-bb34-4ae1-b7e7-9aeddd5be881:32' labels=frozenset({'Continente'}) properties={'nome': 'Europa'}>\n"
          ]
        }
      ]
    },
    {
      "cell_type": "markdown",
      "source": [
        "- Deletando uma relação"
      ],
      "metadata": {
        "id": "MF8i7ybLe7Fr"
      }
    },
    {
      "cell_type": "code",
      "source": [
        "#with driver.session() as session:\n",
        "    #session.write_transaction(lambda tx: tx.run(\"MATCH (:Terra)-[r]-() DELETE r\"))"
      ],
      "metadata": {
        "id": "JSBq9U4sOYZl"
      },
      "execution_count": 734,
      "outputs": []
    },
    {
      "cell_type": "markdown",
      "source": [
        "- Deletando o node \"Terra\""
      ],
      "metadata": {
        "id": "Wm06V1nWfLvk"
      }
    },
    {
      "cell_type": "code",
      "source": [
        "#with driver.session() as session:\n",
        "    #session.write_transaction(lambda tx: tx.run(\"MATCH (m:Terra) DELETE m\"))"
      ],
      "metadata": {
        "id": "JcfYZ72ufKPR"
      },
      "execution_count": 735,
      "outputs": []
    },
    {
      "cell_type": "markdown",
      "source": [
        "- Verificando os nodes:"
      ],
      "metadata": {
        "id": "1pMyj6tZfUjP"
      }
    },
    {
      "cell_type": "code",
      "source": [
        "q1 = \"MATCH (x) RETURN x\"\n",
        "\n",
        "# Abrir uma sessão e executar a consulta\n",
        "with driver.session() as session:\n",
        "    result = session.run(q1)\n",
        "\n",
        "    # Processar os resultados\n",
        "    for record in result:\n",
        "        node = record[\"x\"]\n",
        "        print(node)"
      ],
      "metadata": {
        "colab": {
          "base_uri": "https://localhost:8080/"
        },
        "id": "oVMQPNCEOjnS",
        "outputId": "a68ac44c-a1d9-472d-ec19-dc70f4d1155d"
      },
      "execution_count": 736,
      "outputs": [
        {
          "output_type": "stream",
          "name": "stdout",
          "text": [
            "<Node element_id='4:b53598fd-bb34-4ae1-b7e7-9aeddd5be881:0' labels=frozenset({'Continente'}) properties={'nome': 'Africa'}>\n",
            "<Node element_id='4:b53598fd-bb34-4ae1-b7e7-9aeddd5be881:1' labels=frozenset({'Continente'}) properties={'nome': 'Asia'}>\n",
            "<Node element_id='4:b53598fd-bb34-4ae1-b7e7-9aeddd5be881:4' labels=frozenset({'Selecao'}) properties={'cores': ['Verde, Vermelho', 'Amarelo', 'Branco', 'Azul'], 'nome': 'Portugal'}>\n",
            "<Node element_id='4:b53598fd-bb34-4ae1-b7e7-9aeddd5be881:5' labels=frozenset({'Terra'}) properties={'nome': 'Terra'}>\n",
            "<Node element_id='4:b53598fd-bb34-4ae1-b7e7-9aeddd5be881:16' labels=frozenset({'Selecao'}) properties={'cores': ['Verde', 'Amarelo'], 'nome': 'Brasil'}>\n",
            "<Node element_id='4:b53598fd-bb34-4ae1-b7e7-9aeddd5be881:17' labels=frozenset({'Selecao'}) properties={'cores': ['Azul', 'Branco'], 'nome': 'Argentina'}>\n",
            "<Node element_id='4:b53598fd-bb34-4ae1-b7e7-9aeddd5be881:18' labels=frozenset({'Selecao'}) properties={'cores': ['Azul', 'Branco'], 'nome': 'Uruguai'}>\n",
            "<Node element_id='4:b53598fd-bb34-4ae1-b7e7-9aeddd5be881:19' labels=frozenset({'Selecao'}) properties={'cores': ['Azul', 'Branco', 'Vermelho'], 'nome': 'Franca'}>\n",
            "<Node element_id='4:b53598fd-bb34-4ae1-b7e7-9aeddd5be881:20' labels=frozenset({'Selecao'}) properties={'cores': ['Amarelo', 'Vermelho'], 'nome': 'Espanha'}>\n",
            "<Node element_id='4:b53598fd-bb34-4ae1-b7e7-9aeddd5be881:21' labels=frozenset({'Selecao'}) properties={'cores': ['Amarelo', 'Vermelho', 'Preto'], 'nome': 'Alemanha'}>\n",
            "<Node element_id='4:b53598fd-bb34-4ae1-b7e7-9aeddd5be881:22' labels=frozenset({'Selecao'}) properties={'cores': ['Vermelho', 'Branco'], 'nome': 'Inglaterra'}>\n",
            "<Node element_id='4:b53598fd-bb34-4ae1-b7e7-9aeddd5be881:23' labels=frozenset({'Selecao'}) properties={'cores': ['Verde', 'Vermelho', 'Branco'], 'nome': 'Italia'}>\n",
            "<Node element_id='4:b53598fd-bb34-4ae1-b7e7-9aeddd5be881:24' labels=frozenset({'Selecao'}) properties={'cores': ['Azul', 'Vermelho', 'Branco'], 'nome': 'Estados Unidos'}>\n",
            "<Node element_id='4:b53598fd-bb34-4ae1-b7e7-9aeddd5be881:25' labels=frozenset({'Selecao'}) properties={'cores': ['Vermelho', 'Branco'], 'nome': 'Japao'}>\n",
            "<Node element_id='4:b53598fd-bb34-4ae1-b7e7-9aeddd5be881:26' labels=frozenset({'Selecao'}) properties={'cores': ['Verde', 'Branco'], 'nome': 'Nigeria'}>\n",
            "<Node element_id='4:b53598fd-bb34-4ae1-b7e7-9aeddd5be881:27' labels=frozenset({'Selecao'}) properties={'cores': ['Vermelho', 'Branco'], 'nome': 'Canada'}>\n",
            "<Node element_id='4:b53598fd-bb34-4ae1-b7e7-9aeddd5be881:28' labels=frozenset({'Selecao'}) properties={'cores': ['Amarelo', 'Vermelho', 'Azul'], 'nome': 'Colombia'}>\n",
            "<Node element_id='4:b53598fd-bb34-4ae1-b7e7-9aeddd5be881:29' labels=frozenset({'Continente'}) properties={'nome': 'America do Sul'}>\n",
            "<Node element_id='4:b53598fd-bb34-4ae1-b7e7-9aeddd5be881:30' labels=frozenset({'Continente'}) properties={'nome': 'America do Norte'}>\n",
            "<Node element_id='4:b53598fd-bb34-4ae1-b7e7-9aeddd5be881:32' labels=frozenset({'Continente'}) properties={'nome': 'Europa'}>\n"
          ]
        }
      ]
    },
    {
      "cell_type": "markdown",
      "source": [
        "- Crie novamente o node Terra se for o caso e teste novamente!"
      ],
      "metadata": {
        "id": "lBZKCVIffYd-"
      }
    },
    {
      "cell_type": "markdown",
      "source": [
        "- Veja como ficou lindo:\n",
        "\n",
        "![image.png](data:image/png;base64,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)"
      ],
      "metadata": {
        "id": "lsjhj-EPf5ei"
      }
    },
    {
      "cell_type": "markdown",
      "source": [
        "![image.png](data:image/png;base64,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)"
      ],
      "metadata": {
        "id": "tAQFwZYBgHYP"
      }
    },
    {
      "cell_type": "markdown",
      "source": [
        "Por fim, feche a conexão com o Neo4J"
      ],
      "metadata": {
        "id": "77ECLWqI8rOZ"
      }
    },
    {
      "cell_type": "code",
      "source": [
        "driver.close()\n"
      ],
      "metadata": {
        "id": "64D1I5MkI3Vz"
      },
      "execution_count": 737,
      "outputs": []
    }
  ]
}